{
 "cells": [
  {
   "cell_type": "code",
   "execution_count": 3,
   "metadata": {},
   "outputs": [],
   "source": [
    "#import statements\n",
    "import pandas as pd"
   ]
  },
  {
   "cell_type": "markdown",
   "metadata": {},
   "source": [
    "### Data Loading"
   ]
  },
  {
   "cell_type": "markdown",
   "metadata": {},
   "source": [
    "Data sourced from https://www.kaggle.com/datasets/nikdavis/steam-store-games?select=steamspy_tag_data.csv\n",
    "\n",
    "The author of the dataset documented their process of using Steam APIs here:\n",
    "https://nik-davis.github.io/posts/2019/steam-data-collection/"
   ]
  },
  {
   "cell_type": "markdown",
   "metadata": {},
   "source": [
    "The dataset is stored under a data folder in my local repository. \n",
    "\n",
    "The filepath is ./data/Steam_store_data\n",
    "\n",
    "There are 6 CSV files in the dataset."
   ]
  },
  {
   "cell_type": "code",
   "execution_count": 1,
   "metadata": {},
   "outputs": [
    {
     "name": "stdout",
     "output_type": "stream",
     "text": [
      "README.md\n",
      "data\n",
      "notebook.ipynb\n",
      "scratch_notebook.ipynb\n"
     ]
    }
   ],
   "source": [
    "!ls"
   ]
  },
  {
   "cell_type": "code",
   "execution_count": 4,
   "metadata": {},
   "outputs": [],
   "source": [
    "steam_df = pd.read_csv('./data/Steam_store_data/steam.csv')"
   ]
  },
  {
   "cell_type": "code",
   "execution_count": 5,
   "metadata": {},
   "outputs": [
    {
     "name": "stdout",
     "output_type": "stream",
     "text": [
      "<class 'pandas.core.frame.DataFrame'>\n",
      "RangeIndex: 27075 entries, 0 to 27074\n",
      "Data columns (total 18 columns):\n",
      " #   Column            Non-Null Count  Dtype  \n",
      "---  ------            --------------  -----  \n",
      " 0   appid             27075 non-null  int64  \n",
      " 1   name              27075 non-null  object \n",
      " 2   release_date      27075 non-null  object \n",
      " 3   english           27075 non-null  int64  \n",
      " 4   developer         27075 non-null  object \n",
      " 5   publisher         27075 non-null  object \n",
      " 6   platforms         27075 non-null  object \n",
      " 7   required_age      27075 non-null  int64  \n",
      " 8   categories        27075 non-null  object \n",
      " 9   genres            27075 non-null  object \n",
      " 10  steamspy_tags     27075 non-null  object \n",
      " 11  achievements      27075 non-null  int64  \n",
      " 12  positive_ratings  27075 non-null  int64  \n",
      " 13  negative_ratings  27075 non-null  int64  \n",
      " 14  average_playtime  27075 non-null  int64  \n",
      " 15  median_playtime   27075 non-null  int64  \n",
      " 16  owners            27075 non-null  object \n",
      " 17  price             27075 non-null  float64\n",
      "dtypes: float64(1), int64(8), object(9)\n",
      "memory usage: 3.7+ MB\n"
     ]
    }
   ],
   "source": [
    "steam_df.info()"
   ]
  },
  {
   "cell_type": "markdown",
   "metadata": {},
   "source": [
    "### Exploring the data"
   ]
  },
  {
   "cell_type": "code",
   "execution_count": 23,
   "metadata": {},
   "outputs": [
    {
     "data": {
      "text/plain": [
       "(27075, 18)"
      ]
     },
     "execution_count": 23,
     "metadata": {},
     "output_type": "execute_result"
    }
   ],
   "source": [
    "steam_df.shape"
   ]
  },
  {
   "cell_type": "markdown",
   "metadata": {},
   "source": [
    "There are 27,705 rows - each representing a game in Steam's store - and 18 columns."
   ]
  },
  {
   "cell_type": "markdown",
   "metadata": {},
   "source": [
    "Let's go through each column one-by-one:"
   ]
  },
  {
   "cell_type": "code",
   "execution_count": 9,
   "metadata": {},
   "outputs": [
    {
     "data": {
      "text/plain": [
       "0             10\n",
       "1             20\n",
       "2             30\n",
       "3             40\n",
       "4             50\n",
       "          ...   \n",
       "27070    1065230\n",
       "27071    1065570\n",
       "27072    1065650\n",
       "27073    1066700\n",
       "27074    1069460\n",
       "Name: appid, Length: 27075, dtype: int64"
      ]
     },
     "execution_count": 9,
     "metadata": {},
     "output_type": "execute_result"
    }
   ],
   "source": [
    "#unique id value identifier for game\n",
    "steam_df['appid']"
   ]
  },
  {
   "cell_type": "code",
   "execution_count": 10,
   "metadata": {},
   "outputs": [
    {
     "data": {
      "text/plain": [
       "0                    Counter-Strike\n",
       "1             Team Fortress Classic\n",
       "2                     Day of Defeat\n",
       "3                Deathmatch Classic\n",
       "4         Half-Life: Opposing Force\n",
       "                    ...            \n",
       "27070               Room of Pandora\n",
       "27071                     Cyber Gun\n",
       "27072              Super Star Blast\n",
       "27073    New Yankee 7: Deer Hunters\n",
       "27074                     Rune Lord\n",
       "Name: name, Length: 27075, dtype: object"
      ]
     },
     "execution_count": 10,
     "metadata": {},
     "output_type": "execute_result"
    }
   ],
   "source": [
    "#name of game\n",
    "team_df['name']"
   ]
  },
  {
   "cell_type": "code",
   "execution_count": 11,
   "metadata": {},
   "outputs": [
    {
     "data": {
      "text/plain": [
       "0        2000-11-01\n",
       "1        1999-04-01\n",
       "2        2003-05-01\n",
       "3        2001-06-01\n",
       "4        1999-11-01\n",
       "            ...    \n",
       "27070    2019-04-24\n",
       "27071    2019-04-23\n",
       "27072    2019-04-24\n",
       "27073    2019-04-17\n",
       "27074    2019-04-24\n",
       "Name: release_date, Length: 27075, dtype: object"
      ]
     },
     "execution_count": 11,
     "metadata": {},
     "output_type": "execute_result"
    }
   ],
   "source": [
    "#date of release (YY-MM-DD)\n",
    "steam_df['release_date']"
   ]
  },
  {
   "cell_type": "code",
   "execution_count": 12,
   "metadata": {},
   "outputs": [
    {
     "data": {
      "text/plain": [
       "str"
      ]
     },
     "execution_count": 12,
     "metadata": {},
     "output_type": "execute_result"
    }
   ],
   "source": [
    "#release_date is stored as a string\n",
    "type(steam_df['release_date'][0])"
   ]
  },
  {
   "cell_type": "code",
   "execution_count": 13,
   "metadata": {},
   "outputs": [
    {
     "data": {
      "text/plain": [
       "0        1\n",
       "1        1\n",
       "2        1\n",
       "3        1\n",
       "4        1\n",
       "        ..\n",
       "27070    1\n",
       "27071    1\n",
       "27072    1\n",
       "27073    1\n",
       "27074    1\n",
       "Name: english, Length: 27075, dtype: int64"
      ]
     },
     "execution_count": 13,
     "metadata": {},
     "output_type": "execute_result"
    }
   ],
   "source": [
    "steam_df['english']"
   ]
  },
  {
   "cell_type": "code",
   "execution_count": 14,
   "metadata": {},
   "outputs": [
    {
     "data": {
      "text/plain": [
       "1    26564\n",
       "0      511\n",
       "Name: english, dtype: int64"
      ]
     },
     "execution_count": 14,
     "metadata": {},
     "output_type": "execute_result"
    }
   ],
   "source": [
    "steam_df['english'].value_counts()"
   ]
  },
  {
   "cell_type": "markdown",
   "metadata": {},
   "source": [
    "There are 26,564 English games and 511 non-English games."
   ]
  },
  {
   "cell_type": "code",
   "execution_count": 16,
   "metadata": {},
   "outputs": [
    {
     "data": {
      "text/plain": [
       "0                     Valve\n",
       "1                     Valve\n",
       "2                     Valve\n",
       "3                     Valve\n",
       "4          Gearbox Software\n",
       "                ...        \n",
       "27070           SHEN JIAWEI\n",
       "27071        Semyon Maximov\n",
       "27072           EntwicklerX\n",
       "27073    Yustas Game Studio\n",
       "27074      Adept Studios GD\n",
       "Name: developer, Length: 27075, dtype: object"
      ]
     },
     "execution_count": 16,
     "metadata": {},
     "output_type": "execute_result"
    }
   ],
   "source": [
    "#name of game's developer\n",
    "steam_df['developer']"
   ]
  },
  {
   "cell_type": "code",
   "execution_count": 17,
   "metadata": {},
   "outputs": [
    {
     "data": {
      "text/plain": [
       "0                       Valve\n",
       "1                       Valve\n",
       "2                       Valve\n",
       "3                       Valve\n",
       "4                       Valve\n",
       "                 ...         \n",
       "27070             SHEN JIAWEI\n",
       "27071        BekkerDev Studio\n",
       "27072             EntwicklerX\n",
       "27073    Alawar Entertainment\n",
       "27074    Alawar Entertainment\n",
       "Name: publisher, Length: 27075, dtype: object"
      ]
     },
     "execution_count": 17,
     "metadata": {},
     "output_type": "execute_result"
    }
   ],
   "source": [
    "#name of game's publisher\n",
    "steam_df['publisher']"
   ]
  },
  {
   "cell_type": "code",
   "execution_count": 18,
   "metadata": {},
   "outputs": [
    {
     "data": {
      "text/plain": [
       "0        windows;mac;linux\n",
       "1        windows;mac;linux\n",
       "2        windows;mac;linux\n",
       "3        windows;mac;linux\n",
       "4        windows;mac;linux\n",
       "               ...        \n",
       "27070              windows\n",
       "27071              windows\n",
       "27072              windows\n",
       "27073          windows;mac\n",
       "27074          windows;mac\n",
       "Name: platforms, Length: 27075, dtype: object"
      ]
     },
     "execution_count": 18,
     "metadata": {},
     "output_type": "execute_result"
    }
   ],
   "source": [
    "#platform availability for game\n",
    "steam_df['platforms']"
   ]
  },
  {
   "cell_type": "code",
   "execution_count": 19,
   "metadata": {},
   "outputs": [
    {
     "data": {
      "text/plain": [
       "windows              18398\n",
       "windows;mac;linux     4623\n",
       "windows;mac           3439\n",
       "windows;linux          610\n",
       "mac                      3\n",
       "mac;linux                1\n",
       "linux                    1\n",
       "Name: platforms, dtype: int64"
      ]
     },
     "execution_count": 19,
     "metadata": {},
     "output_type": "execute_result"
    }
   ],
   "source": [
    "steam_df['platforms'].value_counts()"
   ]
  },
  {
   "cell_type": "code",
   "execution_count": 20,
   "metadata": {},
   "outputs": [
    {
     "data": {
      "text/html": [
       "<div>\n",
       "<style scoped>\n",
       "    .dataframe tbody tr th:only-of-type {\n",
       "        vertical-align: middle;\n",
       "    }\n",
       "\n",
       "    .dataframe tbody tr th {\n",
       "        vertical-align: top;\n",
       "    }\n",
       "\n",
       "    .dataframe thead th {\n",
       "        text-align: right;\n",
       "    }\n",
       "</style>\n",
       "<table border=\"1\" class=\"dataframe\">\n",
       "  <thead>\n",
       "    <tr style=\"text-align: right;\">\n",
       "      <th></th>\n",
       "      <th>appid</th>\n",
       "      <th>name</th>\n",
       "      <th>release_date</th>\n",
       "      <th>english</th>\n",
       "      <th>developer</th>\n",
       "      <th>publisher</th>\n",
       "      <th>platforms</th>\n",
       "      <th>required_age</th>\n",
       "      <th>categories</th>\n",
       "      <th>genres</th>\n",
       "      <th>steamspy_tags</th>\n",
       "      <th>achievements</th>\n",
       "      <th>positive_ratings</th>\n",
       "      <th>negative_ratings</th>\n",
       "      <th>average_playtime</th>\n",
       "      <th>median_playtime</th>\n",
       "      <th>owners</th>\n",
       "      <th>price</th>\n",
       "    </tr>\n",
       "  </thead>\n",
       "  <tbody>\n",
       "    <tr>\n",
       "      <th>1413</th>\n",
       "      <td>214630</td>\n",
       "      <td>Call of Duty: Black Ops - Mac Edition</td>\n",
       "      <td>2012-09-27</td>\n",
       "      <td>1</td>\n",
       "      <td>Aspyr</td>\n",
       "      <td>Aspyr</td>\n",
       "      <td>mac</td>\n",
       "      <td>18</td>\n",
       "      <td>Single-player;Multi-player;Co-op;Steam Achieve...</td>\n",
       "      <td>Action</td>\n",
       "      <td>Action;Zombies;Multiplayer</td>\n",
       "      <td>68</td>\n",
       "      <td>168</td>\n",
       "      <td>105</td>\n",
       "      <td>0</td>\n",
       "      <td>0</td>\n",
       "      <td>50000-100000</td>\n",
       "      <td>15.49</td>\n",
       "    </tr>\n",
       "    <tr>\n",
       "      <th>12479</th>\n",
       "      <td>569050</td>\n",
       "      <td>Paul Pixel - The Awakening</td>\n",
       "      <td>2017-01-09</td>\n",
       "      <td>1</td>\n",
       "      <td>Xoron GmbH</td>\n",
       "      <td>Xoron GmbH</td>\n",
       "      <td>mac</td>\n",
       "      <td>0</td>\n",
       "      <td>Single-player</td>\n",
       "      <td>Adventure;Indie</td>\n",
       "      <td>Adventure;Indie;Point &amp; Click</td>\n",
       "      <td>0</td>\n",
       "      <td>5</td>\n",
       "      <td>0</td>\n",
       "      <td>0</td>\n",
       "      <td>0</td>\n",
       "      <td>0-20000</td>\n",
       "      <td>2.89</td>\n",
       "    </tr>\n",
       "    <tr>\n",
       "      <th>16662</th>\n",
       "      <td>694180</td>\n",
       "      <td>MobileZombie</td>\n",
       "      <td>2017-10-13</td>\n",
       "      <td>1</td>\n",
       "      <td>YIMING ZHANG</td>\n",
       "      <td>YIMING ZHANG</td>\n",
       "      <td>mac</td>\n",
       "      <td>0</td>\n",
       "      <td>Single-player;Partial Controller Support</td>\n",
       "      <td>Adventure;Casual;Free to Play;Indie</td>\n",
       "      <td>Free to Play;Adventure;Indie</td>\n",
       "      <td>0</td>\n",
       "      <td>14</td>\n",
       "      <td>11</td>\n",
       "      <td>0</td>\n",
       "      <td>0</td>\n",
       "      <td>0-20000</td>\n",
       "      <td>0.00</td>\n",
       "    </tr>\n",
       "  </tbody>\n",
       "</table>\n",
       "</div>"
      ],
      "text/plain": [
       "        appid                                   name release_date  english  \\\n",
       "1413   214630  Call of Duty: Black Ops - Mac Edition   2012-09-27        1   \n",
       "12479  569050             Paul Pixel - The Awakening   2017-01-09        1   \n",
       "16662  694180                           MobileZombie   2017-10-13        1   \n",
       "\n",
       "          developer     publisher platforms  required_age  \\\n",
       "1413          Aspyr        Aspyr        mac            18   \n",
       "12479    Xoron GmbH    Xoron GmbH       mac             0   \n",
       "16662  YIMING ZHANG  YIMING ZHANG       mac             0   \n",
       "\n",
       "                                              categories  \\\n",
       "1413   Single-player;Multi-player;Co-op;Steam Achieve...   \n",
       "12479                                      Single-player   \n",
       "16662           Single-player;Partial Controller Support   \n",
       "\n",
       "                                    genres                  steamspy_tags  \\\n",
       "1413                                Action     Action;Zombies;Multiplayer   \n",
       "12479                      Adventure;Indie  Adventure;Indie;Point & Click   \n",
       "16662  Adventure;Casual;Free to Play;Indie   Free to Play;Adventure;Indie   \n",
       "\n",
       "       achievements  positive_ratings  negative_ratings  average_playtime  \\\n",
       "1413             68               168               105                 0   \n",
       "12479             0                 5                 0                 0   \n",
       "16662             0                14                11                 0   \n",
       "\n",
       "       median_playtime        owners  price  \n",
       "1413                 0  50000-100000  15.49  \n",
       "12479                0       0-20000   2.89  \n",
       "16662                0       0-20000   0.00  "
      ]
     },
     "execution_count": 20,
     "metadata": {},
     "output_type": "execute_result"
    }
   ],
   "source": [
    "steam_df[steam_df['platforms'] == 'mac']"
   ]
  },
  {
   "cell_type": "code",
   "execution_count": 21,
   "metadata": {},
   "outputs": [
    {
     "data": {
      "text/plain": [
       "0        0\n",
       "1        0\n",
       "2        0\n",
       "3        0\n",
       "4        0\n",
       "        ..\n",
       "27070    0\n",
       "27071    0\n",
       "27072    0\n",
       "27073    0\n",
       "27074    0\n",
       "Name: required_age, Length: 27075, dtype: int64"
      ]
     },
     "execution_count": 21,
     "metadata": {},
     "output_type": "execute_result"
    }
   ],
   "source": [
    "#age-requirement for game\n",
    "steam_df['required_age']"
   ]
  },
  {
   "cell_type": "code",
   "execution_count": 22,
   "metadata": {},
   "outputs": [
    {
     "data": {
      "text/plain": [
       "0     26479\n",
       "18      308\n",
       "16      192\n",
       "12       73\n",
       "7        12\n",
       "3        11\n",
       "Name: required_age, dtype: int64"
      ]
     },
     "execution_count": 22,
     "metadata": {},
     "output_type": "execute_result"
    }
   ],
   "source": [
    "steam_df['required_age'].value_counts()"
   ]
  },
  {
   "cell_type": "code",
   "execution_count": 24,
   "metadata": {},
   "outputs": [
    {
     "data": {
      "text/plain": [
       "0        Multi-player;Online Multi-Player;Local Multi-P...\n",
       "1        Multi-player;Online Multi-Player;Local Multi-P...\n",
       "2                    Multi-player;Valve Anti-Cheat enabled\n",
       "3        Multi-player;Online Multi-Player;Local Multi-P...\n",
       "4        Single-player;Multi-player;Valve Anti-Cheat en...\n",
       "                               ...                        \n",
       "27070                     Single-player;Steam Achievements\n",
       "27071                                        Single-player\n",
       "27072    Single-player;Multi-player;Co-op;Shared/Split ...\n",
       "27073                            Single-player;Steam Cloud\n",
       "27074                            Single-player;Steam Cloud\n",
       "Name: categories, Length: 27075, dtype: object"
      ]
     },
     "execution_count": 24,
     "metadata": {},
     "output_type": "execute_result"
    }
   ],
   "source": [
    "steam_df['categories']"
   ]
  },
  {
   "cell_type": "code",
   "execution_count": 25,
   "metadata": {},
   "outputs": [
    {
     "data": {
      "text/plain": [
       "Single-player                                                                                                                                                            6110\n",
       "Single-player;Steam Achievements                                                                                                                                         2334\n",
       "Single-player;Steam Achievements;Steam Trading Cards                                                                                                                      848\n",
       "Single-player;Partial Controller Support                                                                                                                                  804\n",
       "Single-player;Steam Trading Cards                                                                                                                                         792\n",
       "                                                                                                                                                                         ... \n",
       "Single-player;Multi-player;Online Multi-Player;Local Multi-Player;Shared/Split Screen;Steam Achievements;Full controller support;In-App Purchases;Steam Cloud               1\n",
       "Single-player;Online Multi-Player;Steam Achievements;Steam Trading Cards;Steam Workshop;Partial Controller Support;Includes level editor                                    1\n",
       "Single-player;Multi-player;Online Multi-Player;Cross-Platform Multiplayer;Steam Achievements;Full controller support;Steam Workshop;Steam Cloud;Includes level editor       1\n",
       "Full controller support;Steam Trading Cards;Steam Cloud                                                                                                                     1\n",
       "Single-player;Co-op;Local Co-op;Partial Controller Support                                                                                                                  1\n",
       "Name: categories, Length: 3333, dtype: int64"
      ]
     },
     "execution_count": 25,
     "metadata": {},
     "output_type": "execute_result"
    }
   ],
   "source": [
    "#there are a lot of combinations for categories\n",
    "#might have to clean this up separately to see pull out the most meaningful categories\n",
    "steam_df['categories'].value_counts()"
   ]
  },
  {
   "cell_type": "code",
   "execution_count": 6,
   "metadata": {},
   "outputs": [
    {
     "data": {
      "text/plain": [
       "Action;Indie                                           1852\n",
       "Casual;Indie                                           1482\n",
       "Action;Adventure;Indie                                 1229\n",
       "Adventure;Indie                                        1170\n",
       "Action;Casual;Indie                                    1004\n",
       "                                                       ... \n",
       "Violent;Action;Casual;Indie;Simulation;Early Access       1\n",
       "Casual;Racing;Early Access                                1\n",
       "Adventure;Indie;Simulation;Sports                         1\n",
       "Massively Multiplayer;Early Access                        1\n",
       "Utilities;Web Publishing                                  1\n",
       "Name: genres, Length: 1552, dtype: int64"
      ]
     },
     "execution_count": 6,
     "metadata": {},
     "output_type": "execute_result"
    }
   ],
   "source": [
    "steam_df['genres'].value_counts()"
   ]
  },
  {
   "cell_type": "markdown",
   "metadata": {},
   "source": [
    "Some of these items aren't games; some are developer tools or asset packs. I'll remove those items from the dataset to focuse solely on games."
   ]
  },
  {
   "cell_type": "code",
   "execution_count": 26,
   "metadata": {},
   "outputs": [
    {
     "data": {
      "text/plain": [
       "0              Action;FPS;Multiplayer\n",
       "1              Action;FPS;Multiplayer\n",
       "2        FPS;World War II;Multiplayer\n",
       "3              Action;FPS;Multiplayer\n",
       "4                   FPS;Action;Sci-fi\n",
       "                     ...             \n",
       "27070          Adventure;Indie;Casual\n",
       "27071          Action;Indie;Adventure\n",
       "27072             Action;Indie;Casual\n",
       "27073          Indie;Casual;Adventure\n",
       "27074          Indie;Casual;Adventure\n",
       "Name: steamspy_tags, Length: 27075, dtype: object"
      ]
     },
     "execution_count": 26,
     "metadata": {},
     "output_type": "execute_result"
    }
   ],
   "source": [
    "#content genres pulled using SteamSpy API\n",
    "steam_df['steamspy_tags']"
   ]
  },
  {
   "cell_type": "code",
   "execution_count": 27,
   "metadata": {},
   "outputs": [
    {
     "data": {
      "text/plain": [
       "Action;Indie;Casual                     845\n",
       "Action;Adventure;Indie                  714\n",
       "Early Access;Action;Indie               507\n",
       "Adventure;Indie;Casual                  442\n",
       "Indie;Casual                            378\n",
       "                                       ... \n",
       "Action;Sports;Hunting                     1\n",
       "Stealth;Female Protagonist;Cyberpunk      1\n",
       "Casual;Space                              1\n",
       "Horses;Casual;Family Friendly             1\n",
       "Simulation;Realistic;Naval                1\n",
       "Name: steamspy_tags, Length: 6423, dtype: int64"
      ]
     },
     "execution_count": 27,
     "metadata": {},
     "output_type": "execute_result"
    }
   ],
   "source": [
    "#content genres\n",
    "steam_df['steamspy_tags'].value_counts()"
   ]
  },
  {
   "cell_type": "code",
   "execution_count": 28,
   "metadata": {},
   "outputs": [
    {
     "data": {
      "text/plain": [
       "0         0\n",
       "1         0\n",
       "2         0\n",
       "3         0\n",
       "4         0\n",
       "         ..\n",
       "27070     7\n",
       "27071     0\n",
       "27072    24\n",
       "27073     0\n",
       "27074     0\n",
       "Name: achievements, Length: 27075, dtype: int64"
      ]
     },
     "execution_count": 28,
     "metadata": {},
     "output_type": "execute_result"
    }
   ],
   "source": [
    "#number of achievements available\n",
    "steam_df['achievements']"
   ]
  },
  {
   "cell_type": "code",
   "execution_count": 29,
   "metadata": {},
   "outputs": [
    {
     "data": {
      "text/plain": [
       "0       11864\n",
       "10        679\n",
       "12        618\n",
       "20        574\n",
       "15        490\n",
       "        ...  \n",
       "184         1\n",
       "168         1\n",
       "1487        1\n",
       "319         1\n",
       "4094        1\n",
       "Name: achievements, Length: 410, dtype: int64"
      ]
     },
     "execution_count": 29,
     "metadata": {},
     "output_type": "execute_result"
    }
   ],
   "source": [
    "steam_df['achievements'].value_counts()"
   ]
  },
  {
   "cell_type": "code",
   "execution_count": 30,
   "metadata": {},
   "outputs": [
    {
     "data": {
      "text/html": [
       "<div>\n",
       "<style scoped>\n",
       "    .dataframe tbody tr th:only-of-type {\n",
       "        vertical-align: middle;\n",
       "    }\n",
       "\n",
       "    .dataframe tbody tr th {\n",
       "        vertical-align: top;\n",
       "    }\n",
       "\n",
       "    .dataframe thead th {\n",
       "        text-align: right;\n",
       "    }\n",
       "</style>\n",
       "<table border=\"1\" class=\"dataframe\">\n",
       "  <thead>\n",
       "    <tr style=\"text-align: right;\">\n",
       "      <th></th>\n",
       "      <th>appid</th>\n",
       "      <th>name</th>\n",
       "      <th>release_date</th>\n",
       "      <th>english</th>\n",
       "      <th>developer</th>\n",
       "      <th>publisher</th>\n",
       "      <th>platforms</th>\n",
       "      <th>required_age</th>\n",
       "      <th>categories</th>\n",
       "      <th>genres</th>\n",
       "      <th>steamspy_tags</th>\n",
       "      <th>achievements</th>\n",
       "      <th>positive_ratings</th>\n",
       "      <th>negative_ratings</th>\n",
       "      <th>average_playtime</th>\n",
       "      <th>median_playtime</th>\n",
       "      <th>owners</th>\n",
       "      <th>price</th>\n",
       "    </tr>\n",
       "  </thead>\n",
       "  <tbody>\n",
       "    <tr>\n",
       "      <th>13740</th>\n",
       "      <td>604490</td>\n",
       "      <td>Running Through Russia</td>\n",
       "      <td>2017-05-21</td>\n",
       "      <td>1</td>\n",
       "      <td>Spell Helix</td>\n",
       "      <td>Spell Helix</td>\n",
       "      <td>windows;mac;linux</td>\n",
       "      <td>0</td>\n",
       "      <td>Single-player;Steam Achievements</td>\n",
       "      <td>Adventure;Casual;Indie;Early Access</td>\n",
       "      <td>Early Access;Indie;Casual</td>\n",
       "      <td>4094</td>\n",
       "      <td>751</td>\n",
       "      <td>335</td>\n",
       "      <td>22</td>\n",
       "      <td>22</td>\n",
       "      <td>50000-100000</td>\n",
       "      <td>0.79</td>\n",
       "    </tr>\n",
       "  </tbody>\n",
       "</table>\n",
       "</div>"
      ],
      "text/plain": [
       "        appid                    name release_date  english    developer  \\\n",
       "13740  604490  Running Through Russia   2017-05-21        1  Spell Helix   \n",
       "\n",
       "         publisher          platforms  required_age  \\\n",
       "13740  Spell Helix  windows;mac;linux             0   \n",
       "\n",
       "                             categories                               genres  \\\n",
       "13740  Single-player;Steam Achievements  Adventure;Casual;Indie;Early Access   \n",
       "\n",
       "                   steamspy_tags  achievements  positive_ratings  \\\n",
       "13740  Early Access;Indie;Casual          4094               751   \n",
       "\n",
       "       negative_ratings  average_playtime  median_playtime        owners  \\\n",
       "13740               335                22               22  50000-100000   \n",
       "\n",
       "       price  \n",
       "13740   0.79  "
      ]
     },
     "execution_count": 30,
     "metadata": {},
     "output_type": "execute_result"
    }
   ],
   "source": [
    "#is achievements a meaningful consideration for buyers?\n",
    "steam_df[steam_df['achievements']==4094]"
   ]
  },
  {
   "cell_type": "code",
   "execution_count": 31,
   "metadata": {},
   "outputs": [
    {
     "data": {
      "text/plain": [
       "0        124534\n",
       "1          3318\n",
       "2          3416\n",
       "3          1273\n",
       "4          5250\n",
       "          ...  \n",
       "27070         3\n",
       "27071         8\n",
       "27072         0\n",
       "27073         2\n",
       "27074         4\n",
       "Name: positive_ratings, Length: 27075, dtype: int64"
      ]
     },
     "execution_count": 31,
     "metadata": {},
     "output_type": "execute_result"
    }
   ],
   "source": [
    "steam_df['positive_ratings']"
   ]
  },
  {
   "cell_type": "code",
   "execution_count": 32,
   "metadata": {},
   "outputs": [
    {
     "data": {
      "text/plain": [
       "0        3339\n",
       "1         633\n",
       "2         398\n",
       "3         267\n",
       "4         288\n",
       "         ... \n",
       "27070       0\n",
       "27071       1\n",
       "27072       1\n",
       "27073       0\n",
       "27074       0\n",
       "Name: negative_ratings, Length: 27075, dtype: int64"
      ]
     },
     "execution_count": 32,
     "metadata": {},
     "output_type": "execute_result"
    }
   ],
   "source": [
    "steam_df['negative_ratings']"
   ]
  },
  {
   "cell_type": "code",
   "execution_count": 39,
   "metadata": {},
   "outputs": [
    {
     "data": {
      "text/html": [
       "<div>\n",
       "<style scoped>\n",
       "    .dataframe tbody tr th:only-of-type {\n",
       "        vertical-align: middle;\n",
       "    }\n",
       "\n",
       "    .dataframe tbody tr th {\n",
       "        vertical-align: top;\n",
       "    }\n",
       "\n",
       "    .dataframe thead th {\n",
       "        text-align: right;\n",
       "    }\n",
       "</style>\n",
       "<table border=\"1\" class=\"dataframe\">\n",
       "  <thead>\n",
       "    <tr style=\"text-align: right;\">\n",
       "      <th></th>\n",
       "      <th>appid</th>\n",
       "      <th>name</th>\n",
       "      <th>release_date</th>\n",
       "      <th>english</th>\n",
       "      <th>developer</th>\n",
       "      <th>publisher</th>\n",
       "      <th>platforms</th>\n",
       "      <th>required_age</th>\n",
       "      <th>categories</th>\n",
       "      <th>genres</th>\n",
       "      <th>steamspy_tags</th>\n",
       "      <th>achievements</th>\n",
       "      <th>positive_ratings</th>\n",
       "      <th>negative_ratings</th>\n",
       "      <th>average_playtime</th>\n",
       "      <th>median_playtime</th>\n",
       "      <th>owners</th>\n",
       "      <th>price</th>\n",
       "    </tr>\n",
       "  </thead>\n",
       "  <tbody>\n",
       "  </tbody>\n",
       "</table>\n",
       "</div>"
      ],
      "text/plain": [
       "Empty DataFrame\n",
       "Columns: [appid, name, release_date, english, developer, publisher, platforms, required_age, categories, genres, steamspy_tags, achievements, positive_ratings, negative_ratings, average_playtime, median_playtime, owners, price]\n",
       "Index: []"
      ]
     },
     "execution_count": 39,
     "metadata": {},
     "output_type": "execute_result"
    }
   ],
   "source": [
    "no_ratings = steam_df[ (steam_df['positive_ratings'] == 0) &  (steam_df['negative_ratings'] == 0) ]\n",
    "no_ratings\n",
    "#every game in this dataset has at least 1 rating\n",
    "#there shouldn't be any divide-by-0 errors if I create a % positive/% negative ratings feature"
   ]
  },
  {
   "cell_type": "code",
   "execution_count": 40,
   "metadata": {},
   "outputs": [
    {
     "data": {
      "text/plain": [
       "0        17612\n",
       "1          277\n",
       "2          187\n",
       "3          258\n",
       "4          624\n",
       "         ...  \n",
       "27070        0\n",
       "27071        0\n",
       "27072        0\n",
       "27073        0\n",
       "27074        0\n",
       "Name: average_playtime, Length: 27075, dtype: int64"
      ]
     },
     "execution_count": 40,
     "metadata": {},
     "output_type": "execute_result"
    }
   ],
   "source": [
    "#average user playtime (minutes)\n",
    "steam_df['average_playtime']"
   ]
  },
  {
   "cell_type": "code",
   "execution_count": 41,
   "metadata": {},
   "outputs": [
    {
     "data": {
      "text/html": [
       "<div>\n",
       "<style scoped>\n",
       "    .dataframe tbody tr th:only-of-type {\n",
       "        vertical-align: middle;\n",
       "    }\n",
       "\n",
       "    .dataframe tbody tr th {\n",
       "        vertical-align: top;\n",
       "    }\n",
       "\n",
       "    .dataframe thead th {\n",
       "        text-align: right;\n",
       "    }\n",
       "</style>\n",
       "<table border=\"1\" class=\"dataframe\">\n",
       "  <thead>\n",
       "    <tr style=\"text-align: right;\">\n",
       "      <th></th>\n",
       "      <th>appid</th>\n",
       "      <th>name</th>\n",
       "      <th>release_date</th>\n",
       "      <th>english</th>\n",
       "      <th>developer</th>\n",
       "      <th>publisher</th>\n",
       "      <th>platforms</th>\n",
       "      <th>required_age</th>\n",
       "      <th>categories</th>\n",
       "      <th>genres</th>\n",
       "      <th>steamspy_tags</th>\n",
       "      <th>achievements</th>\n",
       "      <th>positive_ratings</th>\n",
       "      <th>negative_ratings</th>\n",
       "      <th>average_playtime</th>\n",
       "      <th>median_playtime</th>\n",
       "      <th>owners</th>\n",
       "      <th>price</th>\n",
       "    </tr>\n",
       "  </thead>\n",
       "  <tbody>\n",
       "    <tr>\n",
       "      <th>26</th>\n",
       "      <td>1002</td>\n",
       "      <td>Rag Doll Kung Fu</td>\n",
       "      <td>2005-10-12</td>\n",
       "      <td>1</td>\n",
       "      <td>Mark Healey</td>\n",
       "      <td>Mark Healey</td>\n",
       "      <td>windows</td>\n",
       "      <td>0</td>\n",
       "      <td>Single-player;Multi-player</td>\n",
       "      <td>Indie</td>\n",
       "      <td>Indie;Fighting;Multiplayer</td>\n",
       "      <td>0</td>\n",
       "      <td>40</td>\n",
       "      <td>17</td>\n",
       "      <td>0</td>\n",
       "      <td>0</td>\n",
       "      <td>20000-50000</td>\n",
       "      <td>5.99</td>\n",
       "    </tr>\n",
       "    <tr>\n",
       "      <th>29</th>\n",
       "      <td>1300</td>\n",
       "      <td>SiN Episodes: Emergence</td>\n",
       "      <td>2006-05-10</td>\n",
       "      <td>1</td>\n",
       "      <td>Ritual Entertainment</td>\n",
       "      <td>Ritual Entertainment</td>\n",
       "      <td>windows</td>\n",
       "      <td>0</td>\n",
       "      <td>Single-player;Stats</td>\n",
       "      <td>Action</td>\n",
       "      <td>Action;FPS;Cyberpunk</td>\n",
       "      <td>0</td>\n",
       "      <td>468</td>\n",
       "      <td>61</td>\n",
       "      <td>0</td>\n",
       "      <td>0</td>\n",
       "      <td>100000-200000</td>\n",
       "      <td>7.19</td>\n",
       "    </tr>\n",
       "    <tr>\n",
       "      <th>34</th>\n",
       "      <td>1600</td>\n",
       "      <td>Dangerous Waters</td>\n",
       "      <td>2006-02-07</td>\n",
       "      <td>1</td>\n",
       "      <td>Sonalysts</td>\n",
       "      <td>Strategy First</td>\n",
       "      <td>windows</td>\n",
       "      <td>0</td>\n",
       "      <td>Single-player;Multi-player</td>\n",
       "      <td>Strategy</td>\n",
       "      <td>Strategy;Simulation;Naval</td>\n",
       "      <td>0</td>\n",
       "      <td>140</td>\n",
       "      <td>44</td>\n",
       "      <td>0</td>\n",
       "      <td>0</td>\n",
       "      <td>50000-100000</td>\n",
       "      <td>22.99</td>\n",
       "    </tr>\n",
       "    <tr>\n",
       "      <th>35</th>\n",
       "      <td>1610</td>\n",
       "      <td>Space Empires IV Deluxe</td>\n",
       "      <td>2006-02-07</td>\n",
       "      <td>1</td>\n",
       "      <td>Malfador Machinations</td>\n",
       "      <td>Strategy First</td>\n",
       "      <td>windows</td>\n",
       "      <td>0</td>\n",
       "      <td>Single-player;Multi-player</td>\n",
       "      <td>Strategy</td>\n",
       "      <td>Strategy;4X;Sci-fi</td>\n",
       "      <td>0</td>\n",
       "      <td>112</td>\n",
       "      <td>26</td>\n",
       "      <td>0</td>\n",
       "      <td>0</td>\n",
       "      <td>50000-100000</td>\n",
       "      <td>6.99</td>\n",
       "    </tr>\n",
       "    <tr>\n",
       "      <th>36</th>\n",
       "      <td>1630</td>\n",
       "      <td>Disciples II: Rise of the Elves</td>\n",
       "      <td>2006-07-06</td>\n",
       "      <td>1</td>\n",
       "      <td>Strategy First</td>\n",
       "      <td>Strategy First</td>\n",
       "      <td>windows</td>\n",
       "      <td>0</td>\n",
       "      <td>Single-player;Multi-player;Co-op</td>\n",
       "      <td>Strategy</td>\n",
       "      <td>Strategy;Turn-Based Strategy;Fantasy</td>\n",
       "      <td>0</td>\n",
       "      <td>451</td>\n",
       "      <td>108</td>\n",
       "      <td>0</td>\n",
       "      <td>0</td>\n",
       "      <td>100000-200000</td>\n",
       "      <td>4.99</td>\n",
       "    </tr>\n",
       "    <tr>\n",
       "      <th>...</th>\n",
       "      <td>...</td>\n",
       "      <td>...</td>\n",
       "      <td>...</td>\n",
       "      <td>...</td>\n",
       "      <td>...</td>\n",
       "      <td>...</td>\n",
       "      <td>...</td>\n",
       "      <td>...</td>\n",
       "      <td>...</td>\n",
       "      <td>...</td>\n",
       "      <td>...</td>\n",
       "      <td>...</td>\n",
       "      <td>...</td>\n",
       "      <td>...</td>\n",
       "      <td>...</td>\n",
       "      <td>...</td>\n",
       "      <td>...</td>\n",
       "      <td>...</td>\n",
       "    </tr>\n",
       "    <tr>\n",
       "      <th>27070</th>\n",
       "      <td>1065230</td>\n",
       "      <td>Room of Pandora</td>\n",
       "      <td>2019-04-24</td>\n",
       "      <td>1</td>\n",
       "      <td>SHEN JIAWEI</td>\n",
       "      <td>SHEN JIAWEI</td>\n",
       "      <td>windows</td>\n",
       "      <td>0</td>\n",
       "      <td>Single-player;Steam Achievements</td>\n",
       "      <td>Adventure;Casual;Indie</td>\n",
       "      <td>Adventure;Indie;Casual</td>\n",
       "      <td>7</td>\n",
       "      <td>3</td>\n",
       "      <td>0</td>\n",
       "      <td>0</td>\n",
       "      <td>0</td>\n",
       "      <td>0-20000</td>\n",
       "      <td>2.09</td>\n",
       "    </tr>\n",
       "    <tr>\n",
       "      <th>27071</th>\n",
       "      <td>1065570</td>\n",
       "      <td>Cyber Gun</td>\n",
       "      <td>2019-04-23</td>\n",
       "      <td>1</td>\n",
       "      <td>Semyon Maximov</td>\n",
       "      <td>BekkerDev Studio</td>\n",
       "      <td>windows</td>\n",
       "      <td>0</td>\n",
       "      <td>Single-player</td>\n",
       "      <td>Action;Adventure;Indie</td>\n",
       "      <td>Action;Indie;Adventure</td>\n",
       "      <td>0</td>\n",
       "      <td>8</td>\n",
       "      <td>1</td>\n",
       "      <td>0</td>\n",
       "      <td>0</td>\n",
       "      <td>0-20000</td>\n",
       "      <td>1.69</td>\n",
       "    </tr>\n",
       "    <tr>\n",
       "      <th>27072</th>\n",
       "      <td>1065650</td>\n",
       "      <td>Super Star Blast</td>\n",
       "      <td>2019-04-24</td>\n",
       "      <td>1</td>\n",
       "      <td>EntwicklerX</td>\n",
       "      <td>EntwicklerX</td>\n",
       "      <td>windows</td>\n",
       "      <td>0</td>\n",
       "      <td>Single-player;Multi-player;Co-op;Shared/Split ...</td>\n",
       "      <td>Action;Casual;Indie</td>\n",
       "      <td>Action;Indie;Casual</td>\n",
       "      <td>24</td>\n",
       "      <td>0</td>\n",
       "      <td>1</td>\n",
       "      <td>0</td>\n",
       "      <td>0</td>\n",
       "      <td>0-20000</td>\n",
       "      <td>3.99</td>\n",
       "    </tr>\n",
       "    <tr>\n",
       "      <th>27073</th>\n",
       "      <td>1066700</td>\n",
       "      <td>New Yankee 7: Deer Hunters</td>\n",
       "      <td>2019-04-17</td>\n",
       "      <td>1</td>\n",
       "      <td>Yustas Game Studio</td>\n",
       "      <td>Alawar Entertainment</td>\n",
       "      <td>windows;mac</td>\n",
       "      <td>0</td>\n",
       "      <td>Single-player;Steam Cloud</td>\n",
       "      <td>Adventure;Casual;Indie</td>\n",
       "      <td>Indie;Casual;Adventure</td>\n",
       "      <td>0</td>\n",
       "      <td>2</td>\n",
       "      <td>0</td>\n",
       "      <td>0</td>\n",
       "      <td>0</td>\n",
       "      <td>0-20000</td>\n",
       "      <td>5.19</td>\n",
       "    </tr>\n",
       "    <tr>\n",
       "      <th>27074</th>\n",
       "      <td>1069460</td>\n",
       "      <td>Rune Lord</td>\n",
       "      <td>2019-04-24</td>\n",
       "      <td>1</td>\n",
       "      <td>Adept Studios GD</td>\n",
       "      <td>Alawar Entertainment</td>\n",
       "      <td>windows;mac</td>\n",
       "      <td>0</td>\n",
       "      <td>Single-player;Steam Cloud</td>\n",
       "      <td>Adventure;Casual;Indie</td>\n",
       "      <td>Indie;Casual;Adventure</td>\n",
       "      <td>0</td>\n",
       "      <td>4</td>\n",
       "      <td>0</td>\n",
       "      <td>0</td>\n",
       "      <td>0</td>\n",
       "      <td>0-20000</td>\n",
       "      <td>5.19</td>\n",
       "    </tr>\n",
       "  </tbody>\n",
       "</table>\n",
       "<p>20905 rows × 18 columns</p>\n",
       "</div>"
      ],
      "text/plain": [
       "         appid                              name release_date  english  \\\n",
       "26        1002                  Rag Doll Kung Fu   2005-10-12        1   \n",
       "29        1300           SiN Episodes: Emergence   2006-05-10        1   \n",
       "34        1600                  Dangerous Waters   2006-02-07        1   \n",
       "35        1610           Space Empires IV Deluxe   2006-02-07        1   \n",
       "36        1630  Disciples II: Rise of the Elves    2006-07-06        1   \n",
       "...        ...                               ...          ...      ...   \n",
       "27070  1065230                   Room of Pandora   2019-04-24        1   \n",
       "27071  1065570                         Cyber Gun   2019-04-23        1   \n",
       "27072  1065650                  Super Star Blast   2019-04-24        1   \n",
       "27073  1066700        New Yankee 7: Deer Hunters   2019-04-17        1   \n",
       "27074  1069460                         Rune Lord   2019-04-24        1   \n",
       "\n",
       "                   developer             publisher    platforms  required_age  \\\n",
       "26               Mark Healey           Mark Healey      windows             0   \n",
       "29      Ritual Entertainment  Ritual Entertainment      windows             0   \n",
       "34                 Sonalysts        Strategy First      windows             0   \n",
       "35     Malfador Machinations        Strategy First      windows             0   \n",
       "36            Strategy First        Strategy First      windows             0   \n",
       "...                      ...                   ...          ...           ...   \n",
       "27070            SHEN JIAWEI           SHEN JIAWEI      windows             0   \n",
       "27071         Semyon Maximov      BekkerDev Studio      windows             0   \n",
       "27072            EntwicklerX           EntwicklerX      windows             0   \n",
       "27073     Yustas Game Studio  Alawar Entertainment  windows;mac             0   \n",
       "27074       Adept Studios GD  Alawar Entertainment  windows;mac             0   \n",
       "\n",
       "                                              categories  \\\n",
       "26                            Single-player;Multi-player   \n",
       "29                                   Single-player;Stats   \n",
       "34                            Single-player;Multi-player   \n",
       "35                            Single-player;Multi-player   \n",
       "36                      Single-player;Multi-player;Co-op   \n",
       "...                                                  ...   \n",
       "27070                   Single-player;Steam Achievements   \n",
       "27071                                      Single-player   \n",
       "27072  Single-player;Multi-player;Co-op;Shared/Split ...   \n",
       "27073                          Single-player;Steam Cloud   \n",
       "27074                          Single-player;Steam Cloud   \n",
       "\n",
       "                       genres                         steamspy_tags  \\\n",
       "26                      Indie            Indie;Fighting;Multiplayer   \n",
       "29                     Action                  Action;FPS;Cyberpunk   \n",
       "34                   Strategy             Strategy;Simulation;Naval   \n",
       "35                   Strategy                    Strategy;4X;Sci-fi   \n",
       "36                   Strategy  Strategy;Turn-Based Strategy;Fantasy   \n",
       "...                       ...                                   ...   \n",
       "27070  Adventure;Casual;Indie                Adventure;Indie;Casual   \n",
       "27071  Action;Adventure;Indie                Action;Indie;Adventure   \n",
       "27072     Action;Casual;Indie                   Action;Indie;Casual   \n",
       "27073  Adventure;Casual;Indie                Indie;Casual;Adventure   \n",
       "27074  Adventure;Casual;Indie                Indie;Casual;Adventure   \n",
       "\n",
       "       achievements  positive_ratings  negative_ratings  average_playtime  \\\n",
       "26                0                40                17                 0   \n",
       "29                0               468                61                 0   \n",
       "34                0               140                44                 0   \n",
       "35                0               112                26                 0   \n",
       "36                0               451               108                 0   \n",
       "...             ...               ...               ...               ...   \n",
       "27070             7                 3                 0                 0   \n",
       "27071             0                 8                 1                 0   \n",
       "27072            24                 0                 1                 0   \n",
       "27073             0                 2                 0                 0   \n",
       "27074             0                 4                 0                 0   \n",
       "\n",
       "       median_playtime         owners  price  \n",
       "26                   0    20000-50000   5.99  \n",
       "29                   0  100000-200000   7.19  \n",
       "34                   0   50000-100000  22.99  \n",
       "35                   0   50000-100000   6.99  \n",
       "36                   0  100000-200000   4.99  \n",
       "...                ...            ...    ...  \n",
       "27070                0        0-20000   2.09  \n",
       "27071                0        0-20000   1.69  \n",
       "27072                0        0-20000   3.99  \n",
       "27073                0        0-20000   5.19  \n",
       "27074                0        0-20000   5.19  \n",
       "\n",
       "[20905 rows x 18 columns]"
      ]
     },
     "execution_count": 41,
     "metadata": {},
     "output_type": "execute_result"
    }
   ],
   "source": [
    "steam_df[steam_df['average_playtime'] == 0]"
   ]
  },
  {
   "cell_type": "code",
   "execution_count": 51,
   "metadata": {},
   "outputs": [
    {
     "data": {
      "text/plain": [
       "(20905, 18)"
      ]
     },
     "execution_count": 51,
     "metadata": {},
     "output_type": "execute_result"
    }
   ],
   "source": [
    "no_playtime = steam_df[steam_df['average_playtime'] == 0]\n",
    "no_playtime.sort_values(by=['owners'], ascending=False)\n",
    "no_playtime.shape"
   ]
  },
  {
   "cell_type": "code",
   "execution_count": 7,
   "metadata": {},
   "outputs": [
    {
     "data": {
      "text/plain": [
       "0       20905\n",
       "1         155\n",
       "3          72\n",
       "2          52\n",
       "9          48\n",
       "        ...  \n",
       "636         1\n",
       "684         1\n",
       "4164        1\n",
       "748         1\n",
       "6061        1\n",
       "Name: median_playtime, Length: 1312, dtype: int64"
      ]
     },
     "execution_count": 7,
     "metadata": {},
     "output_type": "execute_result"
    }
   ],
   "source": [
    "steam_df['median_playtime'].value_counts()"
   ]
  },
  {
   "cell_type": "code",
   "execution_count": 8,
   "metadata": {},
   "outputs": [
    {
     "data": {
      "text/plain": [
       "0        10000000-20000000\n",
       "1         5000000-10000000\n",
       "2         5000000-10000000\n",
       "3         5000000-10000000\n",
       "4         5000000-10000000\n",
       "               ...        \n",
       "27070              0-20000\n",
       "27071              0-20000\n",
       "27072              0-20000\n",
       "27073              0-20000\n",
       "27074              0-20000\n",
       "Name: owners, Length: 27075, dtype: object"
      ]
     },
     "execution_count": 8,
     "metadata": {},
     "output_type": "execute_result"
    }
   ],
   "source": [
    "#number of users who own this game, given as a range\n",
    "steam_df['owners']"
   ]
  },
  {
   "cell_type": "code",
   "execution_count": 59,
   "metadata": {},
   "outputs": [
    {
     "data": {
      "text/plain": [
       "0        7.19\n",
       "1        3.99\n",
       "2        3.99\n",
       "3        3.99\n",
       "4        3.99\n",
       "         ... \n",
       "27070    2.09\n",
       "27071    1.69\n",
       "27072    3.99\n",
       "27073    5.19\n",
       "27074    5.19\n",
       "Name: price, Length: 27075, dtype: float64"
      ]
     },
     "execution_count": 59,
     "metadata": {},
     "output_type": "execute_result"
    }
   ],
   "source": [
    "#price of game in USD\n",
    "steam_df['price']"
   ]
  },
  {
   "cell_type": "code",
   "execution_count": 60,
   "metadata": {},
   "outputs": [
    {
     "data": {
      "text/plain": [
       "3.99     3211\n",
       "0.79     2892\n",
       "0.00     2560\n",
       "6.99     2050\n",
       "7.19     1304\n",
       "         ... \n",
       "7.42        1\n",
       "3.03        1\n",
       "6.10        1\n",
       "11.75       1\n",
       "4.70        1\n",
       "Name: price, Length: 282, dtype: int64"
      ]
     },
     "execution_count": 60,
     "metadata": {},
     "output_type": "execute_result"
    }
   ],
   "source": [
    "steam_df['price'].value_counts()"
   ]
  },
  {
   "cell_type": "code",
   "execution_count": 63,
   "metadata": {},
   "outputs": [
    {
     "data": {
      "text/plain": [
       "appid                                                              10\n",
       "name                                                   Counter-Strike\n",
       "release_date                                               2000-11-01\n",
       "english                                                             1\n",
       "developer                                                       Valve\n",
       "publisher                                                       Valve\n",
       "platforms                                           windows;mac;linux\n",
       "required_age                                                        0\n",
       "categories          Multi-player;Online Multi-Player;Local Multi-P...\n",
       "genres                                                         Action\n",
       "steamspy_tags                                  Action;FPS;Multiplayer\n",
       "achievements                                                        0\n",
       "positive_ratings                                               124534\n",
       "negative_ratings                                                 3339\n",
       "average_playtime                                                17612\n",
       "median_playtime                                                   317\n",
       "owners                                              10000000-20000000\n",
       "price                                                            7.19\n",
       "Name: 0, dtype: object"
      ]
     },
     "execution_count": 63,
     "metadata": {},
     "output_type": "execute_result"
    }
   ],
   "source": [
    "steam_df.iloc[0]"
   ]
  },
  {
   "cell_type": "code",
   "execution_count": null,
   "metadata": {},
   "outputs": [],
   "source": []
  }
 ],
 "metadata": {
  "kernelspec": {
   "display_name": "Python (learn-env)",
   "language": "python",
   "name": "learn-env"
  },
  "language_info": {
   "codemirror_mode": {
    "name": "ipython",
    "version": 3
   },
   "file_extension": ".py",
   "mimetype": "text/x-python",
   "name": "python",
   "nbconvert_exporter": "python",
   "pygments_lexer": "ipython3",
   "version": "3.8.5"
  }
 },
 "nbformat": 4,
 "nbformat_minor": 4
}
