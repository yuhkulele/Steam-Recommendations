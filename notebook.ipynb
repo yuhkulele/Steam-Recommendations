{
 "cells": [
  {
   "cell_type": "markdown",
   "metadata": {},
   "source": [
    "# PC Game Recommendations - a Content Based and Collaborative Recommender for Steam"
   ]
  },
  {
   "cell_type": "markdown",
   "metadata": {},
   "source": [
    "## Overview"
   ]
  },
  {
   "cell_type": "markdown",
   "metadata": {},
   "source": [
    "## Business Understanding"
   ]
  },
  {
   "cell_type": "markdown",
   "metadata": {},
   "source": [
    "Steam is the most popular digital distribution service and store for PC games. While physical discs were once the norm for PC game sales, digital downloads have become the standard. Steam offers a platform for users to manage their library of game with access to services such as cloud saves and community features. In 2021, Steam averaged around 69 million daily active players. \n",
    "\n",
    "Recommender systems are important to online stores to engage consumers with products that would interest them and have the highest likelihood of being purchased. Steam has various recommender systems in their store. There are content based systems (based on what the user has played) as well as collaborative systems (based on similar users or friends of the user have played). \n",
    "\n",
    "My goal with this project was to leverage data from Steam in order to build recommender models. "
   ]
  },
  {
   "cell_type": "markdown",
   "metadata": {},
   "source": [
    "## Data Understanding"
   ]
  },
  {
   "cell_type": "markdown",
   "metadata": {},
   "source": [
    "I used two different datasets to build my recommendation models. The content based recommender uses a dataset from Kaggle, while the collaborative recommender uses data I collected from Steam's Web API."
   ]
  },
  {
   "cell_type": "markdown",
   "metadata": {},
   "source": [
    "### Steam Store Games  - Kaggle Dataset"
   ]
  },
  {
   "cell_type": "markdown",
   "metadata": {},
   "source": [
    "I used a dataset from Kaggle containing information on video game categories and genres. The dataset can be found [here](https://www.kaggle.com/datasets/nikdavis/steam-store-games?select=steamspy_tag_data.csv).\n",
    "\n",
    "The author documented their process of data collection via Steam Web API calls and SteamSpy API calls. This [link](https://nik-davis.github.io/posts/2019/steam-data-collection/) goes into how the author collected and cleaned the dataset.\n",
    "\n",
    "The dataset can be found in this repository in the data folder within the Steam_store_data subfolder."
   ]
  },
  {
   "cell_type": "code",
   "execution_count": 3,
   "metadata": {},
   "outputs": [],
   "source": [
    "#import statements\n",
    "import numpy as np\n",
    "import pandas as pd\n",
    "import json\n",
    "import requests\n",
    "\n",
    "from sklearn.compose import ColumnTransformer\n",
    "from sklearn.metrics.pairwise import cosine_similarity\n",
    "from sklearn.preprocessing import OneHotEncoder, MultiLabelBinarizer"
   ]
  },
  {
   "cell_type": "code",
   "execution_count": 4,
   "metadata": {},
   "outputs": [],
   "source": [
    "steam_df = pd.read_csv('./data/Steam_store_data/steam.csv')"
   ]
  },
  {
   "cell_type": "code",
   "execution_count": 5,
   "metadata": {},
   "outputs": [
    {
     "name": "stdout",
     "output_type": "stream",
     "text": [
      "<class 'pandas.core.frame.DataFrame'>\n",
      "RangeIndex: 27075 entries, 0 to 27074\n",
      "Data columns (total 18 columns):\n",
      " #   Column            Non-Null Count  Dtype  \n",
      "---  ------            --------------  -----  \n",
      " 0   appid             27075 non-null  int64  \n",
      " 1   name              27075 non-null  object \n",
      " 2   release_date      27075 non-null  object \n",
      " 3   english           27075 non-null  int64  \n",
      " 4   developer         27075 non-null  object \n",
      " 5   publisher         27075 non-null  object \n",
      " 6   platforms         27075 non-null  object \n",
      " 7   required_age      27075 non-null  int64  \n",
      " 8   categories        27075 non-null  object \n",
      " 9   genres            27075 non-null  object \n",
      " 10  steamspy_tags     27075 non-null  object \n",
      " 11  achievements      27075 non-null  int64  \n",
      " 12  positive_ratings  27075 non-null  int64  \n",
      " 13  negative_ratings  27075 non-null  int64  \n",
      " 14  average_playtime  27075 non-null  int64  \n",
      " 15  median_playtime   27075 non-null  int64  \n",
      " 16  owners            27075 non-null  object \n",
      " 17  price             27075 non-null  float64\n",
      "dtypes: float64(1), int64(8), object(9)\n",
      "memory usage: 3.7+ MB\n"
     ]
    }
   ],
   "source": [
    "steam_df.info()"
   ]
  },
  {
   "cell_type": "markdown",
   "metadata": {},
   "source": [
    "Here are brief descriptions for each column:\n",
    "* appid : Unique identifier for each game on Steam\n",
    "* name : title of app(game)\n",
    "* release_date : release date in YYYY-MM-DD formate\n",
    "* english : 1 if game is in English, otherwise 0\n",
    "* developer : name(s) of developer(s), delimited by semicolon if multiple devs\n",
    "* publisher : name(s) of publisher(s), delimited by semicolon if multiple publishers\n",
    "* platforms : supported platforms (includes Windows, Mac, and Linux), delimited by semicolon\n",
    "* required_age : minimum required age based on PEGI UK ratings, 0 denotes unrated or unsupplied\n",
    "* categories : game categories, delimited by semicolon\n",
    "* genres: game genres, delimited by semicolon\n",
    "* steamspy_tags: community voted tags, delimited by semicolon\n",
    "* achievements : number of in-game achievements\n",
    "* positive_ratings : number of positive ratings (from SteamSpy)\n",
    "* negative_ratings : number of negative ratings (from SteamSpy)\n",
    "* average_playtime : average user playtime in minutes (from SteamSpy)\n",
    "* median_playtime : median user playtime in minutes (from SteamSpy)\n",
    "* owners: estimated number of owners given as a range\n",
    "* price : full price of title in GBP"
   ]
  },
  {
   "cell_type": "markdown",
   "metadata": {},
   "source": [
    "There was some overlap between categories, genres, and steamspy_tags. For example, 'Action' showed up in both genre and as a tag while 'Multi-player' showed up with different spelling in categories and tags."
   ]
  },
  {
   "cell_type": "markdown",
   "metadata": {},
   "source": [
    "### Exploring the Data"
   ]
  },
  {
   "cell_type": "code",
   "execution_count": 6,
   "metadata": {},
   "outputs": [
    {
     "data": {
      "text/plain": [
       "(27075, 18)"
      ]
     },
     "execution_count": 6,
     "metadata": {},
     "output_type": "execute_result"
    }
   ],
   "source": [
    "steam_df.shape"
   ]
  },
  {
   "cell_type": "markdown",
   "metadata": {},
   "source": [
    "There are 27,705 rows - each representing a game or app in Steam's store - and 18 columns."
   ]
  },
  {
   "cell_type": "markdown",
   "metadata": {},
   "source": [
    "Let's go through each column one-by-one:"
   ]
  },
  {
   "cell_type": "code",
   "execution_count": 8,
   "metadata": {},
   "outputs": [
    {
     "data": {
      "text/plain": [
       "0             10\n",
       "1             20\n",
       "2             30\n",
       "3             40\n",
       "4             50\n",
       "          ...   \n",
       "27070    1065230\n",
       "27071    1065570\n",
       "27072    1065650\n",
       "27073    1066700\n",
       "27074    1069460\n",
       "Name: appid, Length: 27075, dtype: int64"
      ]
     },
     "execution_count": 8,
     "metadata": {},
     "output_type": "execute_result"
    }
   ],
   "source": [
    "#unique id for each game\n",
    "steam_df['appid']"
   ]
  },
  {
   "cell_type": "code",
   "execution_count": 26,
   "metadata": {},
   "outputs": [
    {
     "data": {
      "text/plain": [
       "397310    1\n",
       "272270    1\n",
       "710480    1\n",
       "640850    1\n",
       "431960    1\n",
       "         ..\n",
       "875710    1\n",
       "563810    1\n",
       "244930    1\n",
       "298180    1\n",
       "655360    1\n",
       "Name: appid, Length: 27075, dtype: int64"
      ]
     },
     "execution_count": 26,
     "metadata": {},
     "output_type": "execute_result"
    }
   ],
   "source": [
    "steam_df['appid'].value_counts()"
   ]
  },
  {
   "cell_type": "markdown",
   "metadata": {},
   "source": [
    "'appid' is a unique identifier of a game in the dataset. No two games will have the same 'appid'."
   ]
  },
  {
   "cell_type": "code",
   "execution_count": 9,
   "metadata": {},
   "outputs": [
    {
     "data": {
      "text/plain": [
       "0                    Counter-Strike\n",
       "1             Team Fortress Classic\n",
       "2                     Day of Defeat\n",
       "3                Deathmatch Classic\n",
       "4         Half-Life: Opposing Force\n",
       "                    ...            \n",
       "27070               Room of Pandora\n",
       "27071                     Cyber Gun\n",
       "27072              Super Star Blast\n",
       "27073    New Yankee 7: Deer Hunters\n",
       "27074                     Rune Lord\n",
       "Name: name, Length: 27075, dtype: object"
      ]
     },
     "execution_count": 9,
     "metadata": {},
     "output_type": "execute_result"
    }
   ],
   "source": [
    "#name of app/game\n",
    "steam_df['name']"
   ]
  },
  {
   "cell_type": "code",
   "execution_count": 10,
   "metadata": {},
   "outputs": [
    {
     "data": {
      "text/plain": [
       "Dark Matter                 3\n",
       "Beyond the Wall             2\n",
       "Escape Room                 2\n",
       "Bounce                      2\n",
       "Surge                       2\n",
       "                           ..\n",
       "Rocket Riot                 1\n",
       "Gravity Wars: Black Hole    1\n",
       "BellyBots                   1\n",
       "3SwitcheD                   1\n",
       "Snake Party                 1\n",
       "Name: name, Length: 27033, dtype: int64"
      ]
     },
     "execution_count": 10,
     "metadata": {},
     "output_type": "execute_result"
    }
   ],
   "source": [
    "steam_df['name'].value_counts()"
   ]
  },
  {
   "cell_type": "markdown",
   "metadata": {},
   "source": [
    "'name' is not a unique identifier for games. There are a few games with the same name. "
   ]
  },
  {
   "cell_type": "code",
   "execution_count": 13,
   "metadata": {},
   "outputs": [
    {
     "data": {
      "text/html": [
       "<div>\n",
       "<style scoped>\n",
       "    .dataframe tbody tr th:only-of-type {\n",
       "        vertical-align: middle;\n",
       "    }\n",
       "\n",
       "    .dataframe tbody tr th {\n",
       "        vertical-align: top;\n",
       "    }\n",
       "\n",
       "    .dataframe thead th {\n",
       "        text-align: right;\n",
       "    }\n",
       "</style>\n",
       "<table border=\"1\" class=\"dataframe\">\n",
       "  <thead>\n",
       "    <tr style=\"text-align: right;\">\n",
       "      <th></th>\n",
       "      <th>appid</th>\n",
       "      <th>name</th>\n",
       "      <th>release_date</th>\n",
       "      <th>english</th>\n",
       "      <th>developer</th>\n",
       "      <th>publisher</th>\n",
       "      <th>platforms</th>\n",
       "      <th>required_age</th>\n",
       "      <th>categories</th>\n",
       "      <th>genres</th>\n",
       "      <th>steamspy_tags</th>\n",
       "      <th>achievements</th>\n",
       "      <th>positive_ratings</th>\n",
       "      <th>negative_ratings</th>\n",
       "      <th>average_playtime</th>\n",
       "      <th>median_playtime</th>\n",
       "      <th>owners</th>\n",
       "      <th>price</th>\n",
       "    </tr>\n",
       "  </thead>\n",
       "  <tbody>\n",
       "    <tr>\n",
       "      <th>1975</th>\n",
       "      <td>251410</td>\n",
       "      <td>Dark Matter</td>\n",
       "      <td>2013-10-17</td>\n",
       "      <td>1</td>\n",
       "      <td>InterWave Studios</td>\n",
       "      <td>Iceberg Interactive</td>\n",
       "      <td>windows;mac;linux</td>\n",
       "      <td>0</td>\n",
       "      <td>Single-player;Steam Achievements;Full controll...</td>\n",
       "      <td>Action;Indie</td>\n",
       "      <td>Action;Indie;Side Scroller</td>\n",
       "      <td>17</td>\n",
       "      <td>78</td>\n",
       "      <td>107</td>\n",
       "      <td>0</td>\n",
       "      <td>0</td>\n",
       "      <td>0-20000</td>\n",
       "      <td>6.99</td>\n",
       "    </tr>\n",
       "    <tr>\n",
       "      <th>4673</th>\n",
       "      <td>345130</td>\n",
       "      <td>Dark Matter</td>\n",
       "      <td>2015-02-27</td>\n",
       "      <td>1</td>\n",
       "      <td>Meridian4</td>\n",
       "      <td>Meridian4</td>\n",
       "      <td>windows</td>\n",
       "      <td>0</td>\n",
       "      <td>Single-player;Partial Controller Support</td>\n",
       "      <td>Action;Casual;Indie</td>\n",
       "      <td>Action;Casual;Indie</td>\n",
       "      <td>0</td>\n",
       "      <td>75</td>\n",
       "      <td>50</td>\n",
       "      <td>0</td>\n",
       "      <td>0</td>\n",
       "      <td>100000-200000</td>\n",
       "      <td>3.99</td>\n",
       "    </tr>\n",
       "    <tr>\n",
       "      <th>21986</th>\n",
       "      <td>850250</td>\n",
       "      <td>Dark Matter</td>\n",
       "      <td>2018-05-04</td>\n",
       "      <td>1</td>\n",
       "      <td>Barty Games</td>\n",
       "      <td>Barty Games</td>\n",
       "      <td>windows</td>\n",
       "      <td>0</td>\n",
       "      <td>Single-player;Steam Achievements</td>\n",
       "      <td>Action;Indie</td>\n",
       "      <td>Action;Indie</td>\n",
       "      <td>3</td>\n",
       "      <td>3</td>\n",
       "      <td>3</td>\n",
       "      <td>0</td>\n",
       "      <td>0</td>\n",
       "      <td>0-20000</td>\n",
       "      <td>0.79</td>\n",
       "    </tr>\n",
       "  </tbody>\n",
       "</table>\n",
       "</div>"
      ],
      "text/plain": [
       "        appid         name release_date  english          developer  \\\n",
       "1975   251410  Dark Matter   2013-10-17        1  InterWave Studios   \n",
       "4673   345130  Dark Matter   2015-02-27        1          Meridian4   \n",
       "21986  850250  Dark Matter   2018-05-04        1        Barty Games   \n",
       "\n",
       "                 publisher          platforms  required_age  \\\n",
       "1975   Iceberg Interactive  windows;mac;linux             0   \n",
       "4673             Meridian4            windows             0   \n",
       "21986          Barty Games            windows             0   \n",
       "\n",
       "                                              categories               genres  \\\n",
       "1975   Single-player;Steam Achievements;Full controll...         Action;Indie   \n",
       "4673            Single-player;Partial Controller Support  Action;Casual;Indie   \n",
       "21986                   Single-player;Steam Achievements         Action;Indie   \n",
       "\n",
       "                    steamspy_tags  achievements  positive_ratings  \\\n",
       "1975   Action;Indie;Side Scroller            17                78   \n",
       "4673          Action;Casual;Indie             0                75   \n",
       "21986                Action;Indie             3                 3   \n",
       "\n",
       "       negative_ratings  average_playtime  median_playtime         owners  \\\n",
       "1975                107                 0                0        0-20000   \n",
       "4673                 50                 0                0  100000-200000   \n",
       "21986                 3                 0                0        0-20000   \n",
       "\n",
       "       price  \n",
       "1975    6.99  \n",
       "4673    3.99  \n",
       "21986   0.79  "
      ]
     },
     "execution_count": 13,
     "metadata": {},
     "output_type": "execute_result"
    }
   ],
   "source": [
    "steam_df[steam_df['name'] == 'Dark Matter']"
   ]
  },
  {
   "cell_type": "code",
   "execution_count": 12,
   "metadata": {},
   "outputs": [
    {
     "data": {
      "text/plain": [
       "Int64Index([1975, 4673, 21986], dtype='int64')"
      ]
     },
     "execution_count": 12,
     "metadata": {},
     "output_type": "execute_result"
    }
   ],
   "source": [
    "steam_df[steam_df['name'] == 'Dark Matter'].index"
   ]
  },
  {
   "cell_type": "markdown",
   "metadata": {},
   "source": [
    "The dataset included some downloadable content ('DLC') listed as a separate product. Since DLC content is typically an add-on to the original game, the similarity between DLC and base game is likely very high. However, the recommender should not include DLC. Steam's platform already shows users what DLC is available for games in their library. Additionally, DLC is not usable unless you own the base game. "
   ]
  },
  {
   "cell_type": "code",
   "execution_count": 57,
   "metadata": {},
   "outputs": [
    {
     "data": {
      "text/html": [
       "<div>\n",
       "<style scoped>\n",
       "    .dataframe tbody tr th:only-of-type {\n",
       "        vertical-align: middle;\n",
       "    }\n",
       "\n",
       "    .dataframe tbody tr th {\n",
       "        vertical-align: top;\n",
       "    }\n",
       "\n",
       "    .dataframe thead th {\n",
       "        text-align: right;\n",
       "    }\n",
       "</style>\n",
       "<table border=\"1\" class=\"dataframe\">\n",
       "  <thead>\n",
       "    <tr style=\"text-align: right;\">\n",
       "      <th></th>\n",
       "      <th>appid</th>\n",
       "      <th>name</th>\n",
       "      <th>release_date</th>\n",
       "      <th>english</th>\n",
       "      <th>developer</th>\n",
       "      <th>publisher</th>\n",
       "      <th>platforms</th>\n",
       "      <th>required_age</th>\n",
       "      <th>categories</th>\n",
       "      <th>genres</th>\n",
       "      <th>steamspy_tags</th>\n",
       "      <th>achievements</th>\n",
       "      <th>positive_ratings</th>\n",
       "      <th>negative_ratings</th>\n",
       "      <th>average_playtime</th>\n",
       "      <th>median_playtime</th>\n",
       "      <th>owners</th>\n",
       "      <th>price</th>\n",
       "    </tr>\n",
       "  </thead>\n",
       "  <tbody>\n",
       "    <tr>\n",
       "      <th>53</th>\n",
       "      <td>2330</td>\n",
       "      <td>QUAKE II Mission Pack: The Reckoning</td>\n",
       "      <td>2007-08-03</td>\n",
       "      <td>1</td>\n",
       "      <td>Xatrix Entertainment</td>\n",
       "      <td>id Software</td>\n",
       "      <td>windows</td>\n",
       "      <td>0</td>\n",
       "      <td>Single-player;Multi-player;Steam Cloud</td>\n",
       "      <td>Action</td>\n",
       "      <td>Action;FPS;Classic</td>\n",
       "      <td>0</td>\n",
       "      <td>65</td>\n",
       "      <td>12</td>\n",
       "      <td>32</td>\n",
       "      <td>32</td>\n",
       "      <td>200000-500000</td>\n",
       "      <td>2.49</td>\n",
       "    </tr>\n",
       "    <tr>\n",
       "      <th>54</th>\n",
       "      <td>2340</td>\n",
       "      <td>QUAKE II Mission Pack: Ground Zero</td>\n",
       "      <td>2007-08-03</td>\n",
       "      <td>1</td>\n",
       "      <td>Rogue Entertainment</td>\n",
       "      <td>id Software</td>\n",
       "      <td>windows</td>\n",
       "      <td>0</td>\n",
       "      <td>Single-player;Multi-player;Steam Cloud</td>\n",
       "      <td>Action</td>\n",
       "      <td>Action;FPS;Shooter</td>\n",
       "      <td>0</td>\n",
       "      <td>54</td>\n",
       "      <td>33</td>\n",
       "      <td>1</td>\n",
       "      <td>1</td>\n",
       "      <td>200000-500000</td>\n",
       "      <td>2.49</td>\n",
       "    </tr>\n",
       "    <tr>\n",
       "      <th>226</th>\n",
       "      <td>9030</td>\n",
       "      <td>QUAKE Mission Pack 2: Dissolution of Eternity</td>\n",
       "      <td>2007-08-03</td>\n",
       "      <td>1</td>\n",
       "      <td>Rogue Entertainment</td>\n",
       "      <td>id Software</td>\n",
       "      <td>windows</td>\n",
       "      <td>0</td>\n",
       "      <td>Single-player;Multi-player;Steam Cloud</td>\n",
       "      <td>Action</td>\n",
       "      <td>Action;FPS;Shooter</td>\n",
       "      <td>0</td>\n",
       "      <td>143</td>\n",
       "      <td>15</td>\n",
       "      <td>88</td>\n",
       "      <td>91</td>\n",
       "      <td>200000-500000</td>\n",
       "      <td>2.49</td>\n",
       "    </tr>\n",
       "    <tr>\n",
       "      <th>227</th>\n",
       "      <td>9040</td>\n",
       "      <td>QUAKE Mission Pack 1: Scourge of Armagon</td>\n",
       "      <td>2007-08-03</td>\n",
       "      <td>1</td>\n",
       "      <td>Ritual Entertainment</td>\n",
       "      <td>id Software</td>\n",
       "      <td>windows</td>\n",
       "      <td>0</td>\n",
       "      <td>Single-player;Multi-player;Steam Cloud</td>\n",
       "      <td>Action</td>\n",
       "      <td>Action;FPS;Shooter</td>\n",
       "      <td>0</td>\n",
       "      <td>205</td>\n",
       "      <td>13</td>\n",
       "      <td>129</td>\n",
       "      <td>152</td>\n",
       "      <td>200000-500000</td>\n",
       "      <td>2.49</td>\n",
       "    </tr>\n",
       "    <tr>\n",
       "      <th>406</th>\n",
       "      <td>17440</td>\n",
       "      <td>SPORE™ Creepy &amp; Cute Parts Pack</td>\n",
       "      <td>2008-12-19</td>\n",
       "      <td>1</td>\n",
       "      <td>Maxis™</td>\n",
       "      <td>Electronic Arts</td>\n",
       "      <td>windows</td>\n",
       "      <td>0</td>\n",
       "      <td>Single-player</td>\n",
       "      <td>Simulation</td>\n",
       "      <td>Simulation;Adventure;Open World</td>\n",
       "      <td>0</td>\n",
       "      <td>481</td>\n",
       "      <td>100</td>\n",
       "      <td>171</td>\n",
       "      <td>240</td>\n",
       "      <td>500000-1000000</td>\n",
       "      <td>9.99</td>\n",
       "    </tr>\n",
       "    <tr>\n",
       "      <th>599</th>\n",
       "      <td>32470</td>\n",
       "      <td>STAR WARS™ Empire at War - Gold Pack</td>\n",
       "      <td>2010-05-25</td>\n",
       "      <td>1</td>\n",
       "      <td>Petroglyph</td>\n",
       "      <td>LucasArts;Lucasfilm;Disney Interactive</td>\n",
       "      <td>windows</td>\n",
       "      <td>0</td>\n",
       "      <td>Single-player;Multi-player;Online Multi-Player...</td>\n",
       "      <td>Strategy</td>\n",
       "      <td>Strategy;Star Wars;RTS</td>\n",
       "      <td>0</td>\n",
       "      <td>6526</td>\n",
       "      <td>396</td>\n",
       "      <td>395</td>\n",
       "      <td>219</td>\n",
       "      <td>1000000-2000000</td>\n",
       "      <td>15.49</td>\n",
       "    </tr>\n",
       "    <tr>\n",
       "      <th>676</th>\n",
       "      <td>36130</td>\n",
       "      <td>Tradewinds Caravans + Odyssey Pack</td>\n",
       "      <td>2009-07-17</td>\n",
       "      <td>1</td>\n",
       "      <td>Sandlot Games</td>\n",
       "      <td>Sandlot Games</td>\n",
       "      <td>windows</td>\n",
       "      <td>0</td>\n",
       "      <td>Single-player</td>\n",
       "      <td>Casual</td>\n",
       "      <td>Casual</td>\n",
       "      <td>0</td>\n",
       "      <td>4</td>\n",
       "      <td>1</td>\n",
       "      <td>0</td>\n",
       "      <td>0</td>\n",
       "      <td>0-20000</td>\n",
       "      <td>10.99</td>\n",
       "    </tr>\n",
       "    <tr>\n",
       "      <th>704</th>\n",
       "      <td>37400</td>\n",
       "      <td>Time Gentlemen, Please! and Ben There, Dan Tha...</td>\n",
       "      <td>2009-08-25</td>\n",
       "      <td>1</td>\n",
       "      <td>Size Five Games</td>\n",
       "      <td>Size Five Games</td>\n",
       "      <td>windows</td>\n",
       "      <td>0</td>\n",
       "      <td>Single-player</td>\n",
       "      <td>Adventure;Indie</td>\n",
       "      <td>Point &amp; Click;Adventure;Indie</td>\n",
       "      <td>0</td>\n",
       "      <td>494</td>\n",
       "      <td>118</td>\n",
       "      <td>10</td>\n",
       "      <td>10</td>\n",
       "      <td>200000-500000</td>\n",
       "      <td>2.99</td>\n",
       "    </tr>\n",
       "    <tr>\n",
       "      <th>709</th>\n",
       "      <td>37960</td>\n",
       "      <td>Jewel Quest Pack</td>\n",
       "      <td>2009-08-24</td>\n",
       "      <td>1</td>\n",
       "      <td>iWin</td>\n",
       "      <td>iWin</td>\n",
       "      <td>windows</td>\n",
       "      <td>0</td>\n",
       "      <td>Single-player</td>\n",
       "      <td>Casual</td>\n",
       "      <td>Casual;Puzzle;Match 3</td>\n",
       "      <td>0</td>\n",
       "      <td>19</td>\n",
       "      <td>3</td>\n",
       "      <td>0</td>\n",
       "      <td>0</td>\n",
       "      <td>0-20000</td>\n",
       "      <td>14.99</td>\n",
       "    </tr>\n",
       "    <tr>\n",
       "      <th>1299</th>\n",
       "      <td>207400</td>\n",
       "      <td>eXceed 3rd - Jade Penetrate Black Package</td>\n",
       "      <td>2012-08-02</td>\n",
       "      <td>1</td>\n",
       "      <td>Tennen-sozai</td>\n",
       "      <td>Nyu Media</td>\n",
       "      <td>windows</td>\n",
       "      <td>0</td>\n",
       "      <td>Single-player;Steam Trading Cards</td>\n",
       "      <td>Action</td>\n",
       "      <td>Bullet Hell;Anime;Shoot 'Em Up</td>\n",
       "      <td>0</td>\n",
       "      <td>489</td>\n",
       "      <td>41</td>\n",
       "      <td>127</td>\n",
       "      <td>141</td>\n",
       "      <td>50000-100000</td>\n",
       "      <td>4.79</td>\n",
       "    </tr>\n",
       "    <tr>\n",
       "      <th>1756</th>\n",
       "      <td>238050</td>\n",
       "      <td>The Apogee Throwback Pack</td>\n",
       "      <td>2013-07-01</td>\n",
       "      <td>1</td>\n",
       "      <td>Interceptor Entertainment</td>\n",
       "      <td>Apogee Software</td>\n",
       "      <td>windows;mac</td>\n",
       "      <td>16</td>\n",
       "      <td>Single-player</td>\n",
       "      <td>Action</td>\n",
       "      <td>Action;FPS;Classic</td>\n",
       "      <td>0</td>\n",
       "      <td>198</td>\n",
       "      <td>20</td>\n",
       "      <td>37</td>\n",
       "      <td>37</td>\n",
       "      <td>100000-200000</td>\n",
       "      <td>6.99</td>\n",
       "    </tr>\n",
       "    <tr>\n",
       "      <th>2281</th>\n",
       "      <td>263940</td>\n",
       "      <td>Red Baron Pack</td>\n",
       "      <td>2016-01-07</td>\n",
       "      <td>1</td>\n",
       "      <td>Mad Otter Games</td>\n",
       "      <td>Mad Otter Games</td>\n",
       "      <td>windows</td>\n",
       "      <td>0</td>\n",
       "      <td>Single-player;Multi-player;Partial Controller ...</td>\n",
       "      <td>Simulation</td>\n",
       "      <td>Simulation;World War I;Flight</td>\n",
       "      <td>0</td>\n",
       "      <td>37</td>\n",
       "      <td>14</td>\n",
       "      <td>0</td>\n",
       "      <td>0</td>\n",
       "      <td>0-20000</td>\n",
       "      <td>6.99</td>\n",
       "    </tr>\n",
       "    <tr>\n",
       "      <th>2685</th>\n",
       "      <td>282010</td>\n",
       "      <td>Carmageddon Max Pack</td>\n",
       "      <td>1997-06-30</td>\n",
       "      <td>1</td>\n",
       "      <td>Stainless Games Ltd</td>\n",
       "      <td>THQ Nordic</td>\n",
       "      <td>windows</td>\n",
       "      <td>0</td>\n",
       "      <td>Single-player;Multi-player;Steam Trading Cards</td>\n",
       "      <td>Action;Indie;Racing</td>\n",
       "      <td>Racing;Action;Classic</td>\n",
       "      <td>0</td>\n",
       "      <td>352</td>\n",
       "      <td>35</td>\n",
       "      <td>13</td>\n",
       "      <td>13</td>\n",
       "      <td>50000-100000</td>\n",
       "      <td>5.99</td>\n",
       "    </tr>\n",
       "    <tr>\n",
       "      <th>2777</th>\n",
       "      <td>285330</td>\n",
       "      <td>RollerCoaster Tycoon® 2: Triple Thrill Pack</td>\n",
       "      <td>2014-05-21</td>\n",
       "      <td>1</td>\n",
       "      <td>Chris Sawyer Productions</td>\n",
       "      <td>Atari</td>\n",
       "      <td>windows</td>\n",
       "      <td>0</td>\n",
       "      <td>Single-player</td>\n",
       "      <td>Simulation;Strategy</td>\n",
       "      <td>Simulation;Management;Classic</td>\n",
       "      <td>0</td>\n",
       "      <td>2086</td>\n",
       "      <td>336</td>\n",
       "      <td>200</td>\n",
       "      <td>262</td>\n",
       "      <td>500000-1000000</td>\n",
       "      <td>6.99</td>\n",
       "    </tr>\n",
       "    <tr>\n",
       "      <th>3059</th>\n",
       "      <td>294720</td>\n",
       "      <td>Putt-Putt® and Fatty Bear's Activity Pack</td>\n",
       "      <td>2014-05-15</td>\n",
       "      <td>1</td>\n",
       "      <td>Humongous Entertainment</td>\n",
       "      <td>Humongous Entertainment;Nightdive Studios</td>\n",
       "      <td>windows;mac;linux</td>\n",
       "      <td>0</td>\n",
       "      <td>Single-player;Steam Cloud</td>\n",
       "      <td>Casual</td>\n",
       "      <td>Casual;Family Friendly;Point &amp; Click</td>\n",
       "      <td>0</td>\n",
       "      <td>46</td>\n",
       "      <td>9</td>\n",
       "      <td>0</td>\n",
       "      <td>0</td>\n",
       "      <td>20000-50000</td>\n",
       "      <td>3.99</td>\n",
       "    </tr>\n",
       "    <tr>\n",
       "      <th>4145</th>\n",
       "      <td>331670</td>\n",
       "      <td>The Jackbox Party Pack</td>\n",
       "      <td>2014-11-26</td>\n",
       "      <td>1</td>\n",
       "      <td>Jackbox Games, Inc.</td>\n",
       "      <td>Jackbox Games, Inc.</td>\n",
       "      <td>windows;mac;linux</td>\n",
       "      <td>0</td>\n",
       "      <td>Single-player;Local Multi-Player;Local Co-op;S...</td>\n",
       "      <td>Casual;Indie;Strategy</td>\n",
       "      <td>Casual;Local Multiplayer;Funny</td>\n",
       "      <td>20</td>\n",
       "      <td>774</td>\n",
       "      <td>72</td>\n",
       "      <td>30</td>\n",
       "      <td>30</td>\n",
       "      <td>200000-500000</td>\n",
       "      <td>18.99</td>\n",
       "    </tr>\n",
       "    <tr>\n",
       "      <th>4839</th>\n",
       "      <td>349060</td>\n",
       "      <td>Fruits Inc. Deluxe Pack</td>\n",
       "      <td>2015-02-19</td>\n",
       "      <td>1</td>\n",
       "      <td>Manifesto Game Studio</td>\n",
       "      <td>Strategy First</td>\n",
       "      <td>windows</td>\n",
       "      <td>0</td>\n",
       "      <td>Single-player</td>\n",
       "      <td>Casual;Indie</td>\n",
       "      <td>Indie;Casual</td>\n",
       "      <td>0</td>\n",
       "      <td>9</td>\n",
       "      <td>11</td>\n",
       "      <td>0</td>\n",
       "      <td>0</td>\n",
       "      <td>0-20000</td>\n",
       "      <td>5.59</td>\n",
       "    </tr>\n",
       "    <tr>\n",
       "      <th>5693</th>\n",
       "      <td>370970</td>\n",
       "      <td>Unlimited Escape 3 &amp; 4 Double Pack</td>\n",
       "      <td>2015-05-21</td>\n",
       "      <td>1</td>\n",
       "      <td>Carlo D'Apostoli Projects</td>\n",
       "      <td>Strategy First</td>\n",
       "      <td>windows</td>\n",
       "      <td>0</td>\n",
       "      <td>Single-player</td>\n",
       "      <td>Action;Casual;Indie</td>\n",
       "      <td>Action;Indie;Casual</td>\n",
       "      <td>0</td>\n",
       "      <td>1</td>\n",
       "      <td>2</td>\n",
       "      <td>0</td>\n",
       "      <td>0</td>\n",
       "      <td>0-20000</td>\n",
       "      <td>4.99</td>\n",
       "    </tr>\n",
       "    <tr>\n",
       "      <th>6637</th>\n",
       "      <td>397460</td>\n",
       "      <td>The Jackbox Party Pack 2</td>\n",
       "      <td>2015-10-13</td>\n",
       "      <td>1</td>\n",
       "      <td>Jackbox Games, Inc.</td>\n",
       "      <td>Jackbox Games, Inc.</td>\n",
       "      <td>windows;mac;linux</td>\n",
       "      <td>0</td>\n",
       "      <td>Single-player;Local Multi-Player;Local Co-op;S...</td>\n",
       "      <td>Casual;Indie;Strategy</td>\n",
       "      <td>Local Multiplayer;Casual;Indie</td>\n",
       "      <td>20</td>\n",
       "      <td>533</td>\n",
       "      <td>32</td>\n",
       "      <td>264</td>\n",
       "      <td>264</td>\n",
       "      <td>200000-500000</td>\n",
       "      <td>18.99</td>\n",
       "    </tr>\n",
       "    <tr>\n",
       "      <th>7220</th>\n",
       "      <td>414810</td>\n",
       "      <td>Observatory: A VR Variety Pack</td>\n",
       "      <td>2016-05-12</td>\n",
       "      <td>1</td>\n",
       "      <td>2DArray</td>\n",
       "      <td>2DArray</td>\n",
       "      <td>windows;mac</td>\n",
       "      <td>0</td>\n",
       "      <td>Single-player;Full controller support;VR Suppo...</td>\n",
       "      <td>Adventure;Indie;Racing;Early Access</td>\n",
       "      <td>Early Access;Racing;Indie</td>\n",
       "      <td>0</td>\n",
       "      <td>8</td>\n",
       "      <td>1</td>\n",
       "      <td>0</td>\n",
       "      <td>0</td>\n",
       "      <td>0-20000</td>\n",
       "      <td>6.99</td>\n",
       "    </tr>\n",
       "    <tr>\n",
       "      <th>7825</th>\n",
       "      <td>434170</td>\n",
       "      <td>The Jackbox Party Pack 3</td>\n",
       "      <td>2016-10-17</td>\n",
       "      <td>1</td>\n",
       "      <td>Jackbox Games, Inc.</td>\n",
       "      <td>Jackbox Games, Inc.</td>\n",
       "      <td>windows;mac;linux</td>\n",
       "      <td>0</td>\n",
       "      <td>Single-player;Local Multi-Player;Local Co-op;S...</td>\n",
       "      <td>Casual;Indie;Strategy</td>\n",
       "      <td>Local Multiplayer;Casual;Multiplayer</td>\n",
       "      <td>20</td>\n",
       "      <td>831</td>\n",
       "      <td>44</td>\n",
       "      <td>302</td>\n",
       "      <td>302</td>\n",
       "      <td>200000-500000</td>\n",
       "      <td>18.99</td>\n",
       "    </tr>\n",
       "    <tr>\n",
       "      <th>9055</th>\n",
       "      <td>467470</td>\n",
       "      <td>Shoot Shoot Mega Pack</td>\n",
       "      <td>2017-04-28</td>\n",
       "      <td>1</td>\n",
       "      <td>Actual Humans</td>\n",
       "      <td>Actual Humans</td>\n",
       "      <td>windows;mac</td>\n",
       "      <td>0</td>\n",
       "      <td>Local Multi-Player;Shared/Split Screen;Steam A...</td>\n",
       "      <td>Action;Casual;Indie</td>\n",
       "      <td>Action;Indie;Casual</td>\n",
       "      <td>12</td>\n",
       "      <td>15</td>\n",
       "      <td>0</td>\n",
       "      <td>0</td>\n",
       "      <td>0</td>\n",
       "      <td>0-20000</td>\n",
       "      <td>11.39</td>\n",
       "    </tr>\n",
       "    <tr>\n",
       "      <th>12309</th>\n",
       "      <td>564340</td>\n",
       "      <td>5-in-1 Pack - Monument Builders: Destination USA</td>\n",
       "      <td>2016-12-20</td>\n",
       "      <td>1</td>\n",
       "      <td>Little World Studio</td>\n",
       "      <td>Games for All</td>\n",
       "      <td>windows</td>\n",
       "      <td>0</td>\n",
       "      <td>Single-player</td>\n",
       "      <td>Casual</td>\n",
       "      <td>Casual</td>\n",
       "      <td>0</td>\n",
       "      <td>0</td>\n",
       "      <td>1</td>\n",
       "      <td>0</td>\n",
       "      <td>0</td>\n",
       "      <td>0-20000</td>\n",
       "      <td>6.99</td>\n",
       "    </tr>\n",
       "    <tr>\n",
       "      <th>13880</th>\n",
       "      <td>610180</td>\n",
       "      <td>The Jackbox Party Pack 4</td>\n",
       "      <td>2017-10-18</td>\n",
       "      <td>1</td>\n",
       "      <td>Jackbox Games, Inc.</td>\n",
       "      <td>Jackbox Games, Inc.</td>\n",
       "      <td>windows;mac;linux</td>\n",
       "      <td>0</td>\n",
       "      <td>Local Multi-Player;Local Co-op;Steam Achieveme...</td>\n",
       "      <td>Casual;Indie;Strategy</td>\n",
       "      <td>Casual;Indie;Local Multiplayer</td>\n",
       "      <td>20</td>\n",
       "      <td>284</td>\n",
       "      <td>54</td>\n",
       "      <td>50</td>\n",
       "      <td>50</td>\n",
       "      <td>100000-200000</td>\n",
       "      <td>18.99</td>\n",
       "    </tr>\n",
       "    <tr>\n",
       "      <th>16967</th>\n",
       "      <td>703310</td>\n",
       "      <td>Hidden &amp; Dangerous: Action Pack</td>\n",
       "      <td>2017-12-20</td>\n",
       "      <td>1</td>\n",
       "      <td>Illusion Softworks</td>\n",
       "      <td>2K</td>\n",
       "      <td>windows</td>\n",
       "      <td>0</td>\n",
       "      <td>Single-player</td>\n",
       "      <td>Violent;Action;Strategy</td>\n",
       "      <td>Action;Violent;Strategy</td>\n",
       "      <td>0</td>\n",
       "      <td>19</td>\n",
       "      <td>8</td>\n",
       "      <td>0</td>\n",
       "      <td>0</td>\n",
       "      <td>0-20000</td>\n",
       "      <td>4.69</td>\n",
       "    </tr>\n",
       "    <tr>\n",
       "      <th>18234</th>\n",
       "      <td>740220</td>\n",
       "      <td>PeoplePackages</td>\n",
       "      <td>2017-11-07</td>\n",
       "      <td>1</td>\n",
       "      <td>StalkerAlex</td>\n",
       "      <td>StalkerAlex.</td>\n",
       "      <td>windows</td>\n",
       "      <td>0</td>\n",
       "      <td>Single-player</td>\n",
       "      <td>Casual;Indie;Simulation</td>\n",
       "      <td>Indie;Casual;Simulation</td>\n",
       "      <td>0</td>\n",
       "      <td>2</td>\n",
       "      <td>2</td>\n",
       "      <td>0</td>\n",
       "      <td>0</td>\n",
       "      <td>0-20000</td>\n",
       "      <td>0.79</td>\n",
       "    </tr>\n",
       "    <tr>\n",
       "      <th>19282</th>\n",
       "      <td>770320</td>\n",
       "      <td>Zazmo Arcade Pack</td>\n",
       "      <td>2018-08-02</td>\n",
       "      <td>1</td>\n",
       "      <td>Donley Time Foundation</td>\n",
       "      <td>Donley Time Foundation</td>\n",
       "      <td>windows</td>\n",
       "      <td>0</td>\n",
       "      <td>Single-player;Multi-player;Local Multi-Player;...</td>\n",
       "      <td>Action;Adventure;Casual;Indie</td>\n",
       "      <td>Action;Indie;Adventure</td>\n",
       "      <td>26</td>\n",
       "      <td>3</td>\n",
       "      <td>1</td>\n",
       "      <td>0</td>\n",
       "      <td>0</td>\n",
       "      <td>0-20000</td>\n",
       "      <td>7.19</td>\n",
       "    </tr>\n",
       "    <tr>\n",
       "      <th>19438</th>\n",
       "      <td>774461</td>\n",
       "      <td>The Jackbox Party Pack 5</td>\n",
       "      <td>2018-10-17</td>\n",
       "      <td>1</td>\n",
       "      <td>Jackbox Games, Inc.</td>\n",
       "      <td>Jackbox Games, Inc.</td>\n",
       "      <td>windows;mac;linux</td>\n",
       "      <td>0</td>\n",
       "      <td>Single-player;Local Multi-Player;Local Co-op;S...</td>\n",
       "      <td>Casual</td>\n",
       "      <td>Casual;Local Multiplayer;Comedy</td>\n",
       "      <td>20</td>\n",
       "      <td>242</td>\n",
       "      <td>63</td>\n",
       "      <td>108</td>\n",
       "      <td>156</td>\n",
       "      <td>50000-100000</td>\n",
       "      <td>23.79</td>\n",
       "    </tr>\n",
       "    <tr>\n",
       "      <th>21090</th>\n",
       "      <td>821400</td>\n",
       "      <td>Packed Train</td>\n",
       "      <td>2018-07-26</td>\n",
       "      <td>1</td>\n",
       "      <td>Ice Code Games</td>\n",
       "      <td>GrabTheGames</td>\n",
       "      <td>windows;mac;linux</td>\n",
       "      <td>0</td>\n",
       "      <td>Single-player;Steam Achievements;Steam Leaderb...</td>\n",
       "      <td>Casual;Indie</td>\n",
       "      <td>Casual;Indie;Puzzle</td>\n",
       "      <td>16</td>\n",
       "      <td>6</td>\n",
       "      <td>0</td>\n",
       "      <td>0</td>\n",
       "      <td>0</td>\n",
       "      <td>0-20000</td>\n",
       "      <td>1.69</td>\n",
       "    </tr>\n",
       "    <tr>\n",
       "      <th>23600</th>\n",
       "      <td>898250</td>\n",
       "      <td>PackageRun</td>\n",
       "      <td>2018-08-03</td>\n",
       "      <td>1</td>\n",
       "      <td>Pavel Black</td>\n",
       "      <td>Pavel Black</td>\n",
       "      <td>windows</td>\n",
       "      <td>0</td>\n",
       "      <td>Single-player</td>\n",
       "      <td>Adventure;Casual;Indie</td>\n",
       "      <td>Indie;Casual;Adventure</td>\n",
       "      <td>0</td>\n",
       "      <td>1</td>\n",
       "      <td>1</td>\n",
       "      <td>0</td>\n",
       "      <td>0</td>\n",
       "      <td>0-20000</td>\n",
       "      <td>3.99</td>\n",
       "    </tr>\n",
       "    <tr>\n",
       "      <th>24582</th>\n",
       "      <td>936950</td>\n",
       "      <td>BR Logic Pack</td>\n",
       "      <td>2018-09-29</td>\n",
       "      <td>1</td>\n",
       "      <td>Benarom Games</td>\n",
       "      <td>Benarom Games</td>\n",
       "      <td>windows</td>\n",
       "      <td>0</td>\n",
       "      <td>Single-player;Shared/Split Screen;Steam Cloud</td>\n",
       "      <td>Action;Casual;Indie;Strategy</td>\n",
       "      <td>Casual;Indie;Action</td>\n",
       "      <td>0</td>\n",
       "      <td>1</td>\n",
       "      <td>3</td>\n",
       "      <td>0</td>\n",
       "      <td>0</td>\n",
       "      <td>0-20000</td>\n",
       "      <td>0.79</td>\n",
       "    </tr>\n",
       "    <tr>\n",
       "      <th>26292</th>\n",
       "      <td>1011470</td>\n",
       "      <td>PacketStorm</td>\n",
       "      <td>2019-02-28</td>\n",
       "      <td>1</td>\n",
       "      <td>ProjectorGames</td>\n",
       "      <td>ProjectorGames</td>\n",
       "      <td>windows</td>\n",
       "      <td>0</td>\n",
       "      <td>Single-player</td>\n",
       "      <td>Casual;Indie;Simulation;Strategy</td>\n",
       "      <td>Casual;Strategy;Indie</td>\n",
       "      <td>0</td>\n",
       "      <td>4</td>\n",
       "      <td>1</td>\n",
       "      <td>0</td>\n",
       "      <td>0</td>\n",
       "      <td>0-20000</td>\n",
       "      <td>5.00</td>\n",
       "    </tr>\n",
       "  </tbody>\n",
       "</table>\n",
       "</div>"
      ],
      "text/plain": [
       "         appid                                               name  \\\n",
       "53        2330               QUAKE II Mission Pack: The Reckoning   \n",
       "54        2340                 QUAKE II Mission Pack: Ground Zero   \n",
       "226       9030      QUAKE Mission Pack 2: Dissolution of Eternity   \n",
       "227       9040           QUAKE Mission Pack 1: Scourge of Armagon   \n",
       "406      17440                    SPORE™ Creepy & Cute Parts Pack   \n",
       "599      32470               STAR WARS™ Empire at War - Gold Pack   \n",
       "676      36130                 Tradewinds Caravans + Odyssey Pack   \n",
       "704      37400  Time Gentlemen, Please! and Ben There, Dan Tha...   \n",
       "709      37960                                   Jewel Quest Pack   \n",
       "1299    207400          eXceed 3rd - Jade Penetrate Black Package   \n",
       "1756    238050                          The Apogee Throwback Pack   \n",
       "2281    263940                                     Red Baron Pack   \n",
       "2685    282010                               Carmageddon Max Pack   \n",
       "2777    285330        RollerCoaster Tycoon® 2: Triple Thrill Pack   \n",
       "3059    294720          Putt-Putt® and Fatty Bear's Activity Pack   \n",
       "4145    331670                             The Jackbox Party Pack   \n",
       "4839    349060                            Fruits Inc. Deluxe Pack   \n",
       "5693    370970                 Unlimited Escape 3 & 4 Double Pack   \n",
       "6637    397460                           The Jackbox Party Pack 2   \n",
       "7220    414810                     Observatory: A VR Variety Pack   \n",
       "7825    434170                           The Jackbox Party Pack 3   \n",
       "9055    467470                              Shoot Shoot Mega Pack   \n",
       "12309   564340   5-in-1 Pack - Monument Builders: Destination USA   \n",
       "13880   610180                           The Jackbox Party Pack 4   \n",
       "16967   703310                    Hidden & Dangerous: Action Pack   \n",
       "18234   740220                                     PeoplePackages   \n",
       "19282   770320                                  Zazmo Arcade Pack   \n",
       "19438   774461                           The Jackbox Party Pack 5   \n",
       "21090   821400                                       Packed Train   \n",
       "23600   898250                                         PackageRun   \n",
       "24582   936950                                      BR Logic Pack   \n",
       "26292  1011470                                        PacketStorm   \n",
       "\n",
       "      release_date  english                  developer  \\\n",
       "53      2007-08-03        1       Xatrix Entertainment   \n",
       "54      2007-08-03        1        Rogue Entertainment   \n",
       "226     2007-08-03        1        Rogue Entertainment   \n",
       "227     2007-08-03        1       Ritual Entertainment   \n",
       "406     2008-12-19        1                     Maxis™   \n",
       "599     2010-05-25        1                 Petroglyph   \n",
       "676     2009-07-17        1              Sandlot Games   \n",
       "704     2009-08-25        1            Size Five Games   \n",
       "709     2009-08-24        1                       iWin   \n",
       "1299    2012-08-02        1               Tennen-sozai   \n",
       "1756    2013-07-01        1  Interceptor Entertainment   \n",
       "2281    2016-01-07        1            Mad Otter Games   \n",
       "2685    1997-06-30        1        Stainless Games Ltd   \n",
       "2777    2014-05-21        1   Chris Sawyer Productions   \n",
       "3059    2014-05-15        1    Humongous Entertainment   \n",
       "4145    2014-11-26        1        Jackbox Games, Inc.   \n",
       "4839    2015-02-19        1      Manifesto Game Studio   \n",
       "5693    2015-05-21        1  Carlo D'Apostoli Projects   \n",
       "6637    2015-10-13        1        Jackbox Games, Inc.   \n",
       "7220    2016-05-12        1                    2DArray   \n",
       "7825    2016-10-17        1        Jackbox Games, Inc.   \n",
       "9055    2017-04-28        1              Actual Humans   \n",
       "12309   2016-12-20        1        Little World Studio   \n",
       "13880   2017-10-18        1        Jackbox Games, Inc.   \n",
       "16967   2017-12-20        1         Illusion Softworks   \n",
       "18234   2017-11-07        1                StalkerAlex   \n",
       "19282   2018-08-02        1     Donley Time Foundation   \n",
       "19438   2018-10-17        1        Jackbox Games, Inc.   \n",
       "21090   2018-07-26        1             Ice Code Games   \n",
       "23600   2018-08-03        1                Pavel Black   \n",
       "24582   2018-09-29        1              Benarom Games   \n",
       "26292   2019-02-28        1             ProjectorGames   \n",
       "\n",
       "                                       publisher          platforms  \\\n",
       "53                                   id Software            windows   \n",
       "54                                   id Software            windows   \n",
       "226                                  id Software            windows   \n",
       "227                                  id Software            windows   \n",
       "406                              Electronic Arts            windows   \n",
       "599       LucasArts;Lucasfilm;Disney Interactive            windows   \n",
       "676                                Sandlot Games            windows   \n",
       "704                              Size Five Games            windows   \n",
       "709                                         iWin            windows   \n",
       "1299                                   Nyu Media            windows   \n",
       "1756                             Apogee Software        windows;mac   \n",
       "2281                             Mad Otter Games            windows   \n",
       "2685                                  THQ Nordic            windows   \n",
       "2777                                       Atari            windows   \n",
       "3059   Humongous Entertainment;Nightdive Studios  windows;mac;linux   \n",
       "4145                         Jackbox Games, Inc.  windows;mac;linux   \n",
       "4839                              Strategy First            windows   \n",
       "5693                              Strategy First            windows   \n",
       "6637                         Jackbox Games, Inc.  windows;mac;linux   \n",
       "7220                                     2DArray        windows;mac   \n",
       "7825                         Jackbox Games, Inc.  windows;mac;linux   \n",
       "9055                               Actual Humans        windows;mac   \n",
       "12309                              Games for All            windows   \n",
       "13880                        Jackbox Games, Inc.  windows;mac;linux   \n",
       "16967                                         2K            windows   \n",
       "18234                               StalkerAlex.            windows   \n",
       "19282                     Donley Time Foundation            windows   \n",
       "19438                        Jackbox Games, Inc.  windows;mac;linux   \n",
       "21090                               GrabTheGames  windows;mac;linux   \n",
       "23600                                Pavel Black            windows   \n",
       "24582                              Benarom Games            windows   \n",
       "26292                             ProjectorGames            windows   \n",
       "\n",
       "       required_age                                         categories  \\\n",
       "53                0             Single-player;Multi-player;Steam Cloud   \n",
       "54                0             Single-player;Multi-player;Steam Cloud   \n",
       "226               0             Single-player;Multi-player;Steam Cloud   \n",
       "227               0             Single-player;Multi-player;Steam Cloud   \n",
       "406               0                                      Single-player   \n",
       "599               0  Single-player;Multi-player;Online Multi-Player...   \n",
       "676               0                                      Single-player   \n",
       "704               0                                      Single-player   \n",
       "709               0                                      Single-player   \n",
       "1299              0                  Single-player;Steam Trading Cards   \n",
       "1756             16                                      Single-player   \n",
       "2281              0  Single-player;Multi-player;Partial Controller ...   \n",
       "2685              0     Single-player;Multi-player;Steam Trading Cards   \n",
       "2777              0                                      Single-player   \n",
       "3059              0                          Single-player;Steam Cloud   \n",
       "4145              0  Single-player;Local Multi-Player;Local Co-op;S...   \n",
       "4839              0                                      Single-player   \n",
       "5693              0                                      Single-player   \n",
       "6637              0  Single-player;Local Multi-Player;Local Co-op;S...   \n",
       "7220              0  Single-player;Full controller support;VR Suppo...   \n",
       "7825              0  Single-player;Local Multi-Player;Local Co-op;S...   \n",
       "9055              0  Local Multi-Player;Shared/Split Screen;Steam A...   \n",
       "12309             0                                      Single-player   \n",
       "13880             0  Local Multi-Player;Local Co-op;Steam Achieveme...   \n",
       "16967             0                                      Single-player   \n",
       "18234             0                                      Single-player   \n",
       "19282             0  Single-player;Multi-player;Local Multi-Player;...   \n",
       "19438             0  Single-player;Local Multi-Player;Local Co-op;S...   \n",
       "21090             0  Single-player;Steam Achievements;Steam Leaderb...   \n",
       "23600             0                                      Single-player   \n",
       "24582             0      Single-player;Shared/Split Screen;Steam Cloud   \n",
       "26292             0                                      Single-player   \n",
       "\n",
       "                                    genres  \\\n",
       "53                                  Action   \n",
       "54                                  Action   \n",
       "226                                 Action   \n",
       "227                                 Action   \n",
       "406                             Simulation   \n",
       "599                               Strategy   \n",
       "676                                 Casual   \n",
       "704                        Adventure;Indie   \n",
       "709                                 Casual   \n",
       "1299                                Action   \n",
       "1756                                Action   \n",
       "2281                            Simulation   \n",
       "2685                   Action;Indie;Racing   \n",
       "2777                   Simulation;Strategy   \n",
       "3059                                Casual   \n",
       "4145                 Casual;Indie;Strategy   \n",
       "4839                          Casual;Indie   \n",
       "5693                   Action;Casual;Indie   \n",
       "6637                 Casual;Indie;Strategy   \n",
       "7220   Adventure;Indie;Racing;Early Access   \n",
       "7825                 Casual;Indie;Strategy   \n",
       "9055                   Action;Casual;Indie   \n",
       "12309                               Casual   \n",
       "13880                Casual;Indie;Strategy   \n",
       "16967              Violent;Action;Strategy   \n",
       "18234              Casual;Indie;Simulation   \n",
       "19282        Action;Adventure;Casual;Indie   \n",
       "19438                               Casual   \n",
       "21090                         Casual;Indie   \n",
       "23600               Adventure;Casual;Indie   \n",
       "24582         Action;Casual;Indie;Strategy   \n",
       "26292     Casual;Indie;Simulation;Strategy   \n",
       "\n",
       "                              steamspy_tags  achievements  positive_ratings  \\\n",
       "53                       Action;FPS;Classic             0                65   \n",
       "54                       Action;FPS;Shooter             0                54   \n",
       "226                      Action;FPS;Shooter             0               143   \n",
       "227                      Action;FPS;Shooter             0               205   \n",
       "406         Simulation;Adventure;Open World             0               481   \n",
       "599                  Strategy;Star Wars;RTS             0              6526   \n",
       "676                                  Casual             0                 4   \n",
       "704           Point & Click;Adventure;Indie             0               494   \n",
       "709                   Casual;Puzzle;Match 3             0                19   \n",
       "1299         Bullet Hell;Anime;Shoot 'Em Up             0               489   \n",
       "1756                     Action;FPS;Classic             0               198   \n",
       "2281          Simulation;World War I;Flight             0                37   \n",
       "2685                  Racing;Action;Classic             0               352   \n",
       "2777          Simulation;Management;Classic             0              2086   \n",
       "3059   Casual;Family Friendly;Point & Click             0                46   \n",
       "4145         Casual;Local Multiplayer;Funny            20               774   \n",
       "4839                           Indie;Casual             0                 9   \n",
       "5693                    Action;Indie;Casual             0                 1   \n",
       "6637         Local Multiplayer;Casual;Indie            20               533   \n",
       "7220              Early Access;Racing;Indie             0                 8   \n",
       "7825   Local Multiplayer;Casual;Multiplayer            20               831   \n",
       "9055                    Action;Indie;Casual            12                15   \n",
       "12309                                Casual             0                 0   \n",
       "13880        Casual;Indie;Local Multiplayer            20               284   \n",
       "16967               Action;Violent;Strategy             0                19   \n",
       "18234               Indie;Casual;Simulation             0                 2   \n",
       "19282                Action;Indie;Adventure            26                 3   \n",
       "19438       Casual;Local Multiplayer;Comedy            20               242   \n",
       "21090                   Casual;Indie;Puzzle            16                 6   \n",
       "23600                Indie;Casual;Adventure             0                 1   \n",
       "24582                   Casual;Indie;Action             0                 1   \n",
       "26292                 Casual;Strategy;Indie             0                 4   \n",
       "\n",
       "       negative_ratings  average_playtime  median_playtime           owners  \\\n",
       "53                   12                32               32    200000-500000   \n",
       "54                   33                 1                1    200000-500000   \n",
       "226                  15                88               91    200000-500000   \n",
       "227                  13               129              152    200000-500000   \n",
       "406                 100               171              240   500000-1000000   \n",
       "599                 396               395              219  1000000-2000000   \n",
       "676                   1                 0                0          0-20000   \n",
       "704                 118                10               10    200000-500000   \n",
       "709                   3                 0                0          0-20000   \n",
       "1299                 41               127              141     50000-100000   \n",
       "1756                 20                37               37    100000-200000   \n",
       "2281                 14                 0                0          0-20000   \n",
       "2685                 35                13               13     50000-100000   \n",
       "2777                336               200              262   500000-1000000   \n",
       "3059                  9                 0                0      20000-50000   \n",
       "4145                 72                30               30    200000-500000   \n",
       "4839                 11                 0                0          0-20000   \n",
       "5693                  2                 0                0          0-20000   \n",
       "6637                 32               264              264    200000-500000   \n",
       "7220                  1                 0                0          0-20000   \n",
       "7825                 44               302              302    200000-500000   \n",
       "9055                  0                 0                0          0-20000   \n",
       "12309                 1                 0                0          0-20000   \n",
       "13880                54                50               50    100000-200000   \n",
       "16967                 8                 0                0          0-20000   \n",
       "18234                 2                 0                0          0-20000   \n",
       "19282                 1                 0                0          0-20000   \n",
       "19438                63               108              156     50000-100000   \n",
       "21090                 0                 0                0          0-20000   \n",
       "23600                 1                 0                0          0-20000   \n",
       "24582                 3                 0                0          0-20000   \n",
       "26292                 1                 0                0          0-20000   \n",
       "\n",
       "       price  \n",
       "53      2.49  \n",
       "54      2.49  \n",
       "226     2.49  \n",
       "227     2.49  \n",
       "406     9.99  \n",
       "599    15.49  \n",
       "676    10.99  \n",
       "704     2.99  \n",
       "709    14.99  \n",
       "1299    4.79  \n",
       "1756    6.99  \n",
       "2281    6.99  \n",
       "2685    5.99  \n",
       "2777    6.99  \n",
       "3059    3.99  \n",
       "4145   18.99  \n",
       "4839    5.59  \n",
       "5693    4.99  \n",
       "6637   18.99  \n",
       "7220    6.99  \n",
       "7825   18.99  \n",
       "9055   11.39  \n",
       "12309   6.99  \n",
       "13880  18.99  \n",
       "16967   4.69  \n",
       "18234   0.79  \n",
       "19282   7.19  \n",
       "19438  23.79  \n",
       "21090   1.69  \n",
       "23600   3.99  \n",
       "24582   0.79  \n",
       "26292   5.00  "
      ]
     },
     "execution_count": 57,
     "metadata": {},
     "output_type": "execute_result"
    }
   ],
   "source": [
    "pack = steam_df[steam_df['name'].str.contains('Pack')]\n",
    "pack"
   ]
  },
  {
   "cell_type": "code",
   "execution_count": 51,
   "metadata": {},
   "outputs": [
    {
     "data": {
      "text/plain": [
       "(32, 18)"
      ]
     },
     "execution_count": 51,
     "metadata": {},
     "output_type": "execute_result"
    }
   ],
   "source": [
    "pack.shape"
   ]
  },
  {
   "cell_type": "code",
   "execution_count": 52,
   "metadata": {},
   "outputs": [
    {
     "data": {
      "text/plain": [
       "53                    QUAKE II Mission Pack: The Reckoning\n",
       "54                      QUAKE II Mission Pack: Ground Zero\n",
       "226          QUAKE Mission Pack 2: Dissolution of Eternity\n",
       "227               QUAKE Mission Pack 1: Scourge of Armagon\n",
       "406                        SPORE™ Creepy & Cute Parts Pack\n",
       "599                   STAR WARS™ Empire at War - Gold Pack\n",
       "676                     Tradewinds Caravans + Odyssey Pack\n",
       "704      Time Gentlemen, Please! and Ben There, Dan Tha...\n",
       "709                                       Jewel Quest Pack\n",
       "1299             eXceed 3rd - Jade Penetrate Black Package\n",
       "1756                             The Apogee Throwback Pack\n",
       "2281                                        Red Baron Pack\n",
       "2685                                  Carmageddon Max Pack\n",
       "2777           RollerCoaster Tycoon® 2: Triple Thrill Pack\n",
       "3059             Putt-Putt® and Fatty Bear's Activity Pack\n",
       "4145                                The Jackbox Party Pack\n",
       "4839                               Fruits Inc. Deluxe Pack\n",
       "5693                    Unlimited Escape 3 & 4 Double Pack\n",
       "6637                              The Jackbox Party Pack 2\n",
       "7220                        Observatory: A VR Variety Pack\n",
       "7825                              The Jackbox Party Pack 3\n",
       "9055                                 Shoot Shoot Mega Pack\n",
       "12309     5-in-1 Pack - Monument Builders: Destination USA\n",
       "13880                             The Jackbox Party Pack 4\n",
       "16967                      Hidden & Dangerous: Action Pack\n",
       "18234                                       PeoplePackages\n",
       "19282                                    Zazmo Arcade Pack\n",
       "19438                             The Jackbox Party Pack 5\n",
       "21090                                         Packed Train\n",
       "23600                                           PackageRun\n",
       "24582                                        BR Logic Pack\n",
       "26292                                          PacketStorm\n",
       "Name: name, dtype: object"
      ]
     },
     "execution_count": 52,
     "metadata": {},
     "output_type": "execute_result"
    }
   ],
   "source": [
    "pack['name']"
   ]
  },
  {
   "cell_type": "markdown",
   "metadata": {},
   "source": [
    "I extracted a list of possible DLC's By searching for the word 'pack' within the app name. Since there were only 32 instances, I manually went through Steam's store to determine what was considered a game and was was considered DLC."
   ]
  },
  {
   "cell_type": "code",
   "execution_count": null,
   "metadata": {},
   "outputs": [],
   "source": [
    "#date of release (YY-MM-DD)\n",
    "steam_df['release_date']"
   ]
  },
  {
   "cell_type": "markdown",
   "metadata": {},
   "source": [
    "'release_date' is stored as a string."
   ]
  },
  {
   "cell_type": "code",
   "execution_count": 14,
   "metadata": {},
   "outputs": [
    {
     "data": {
      "text/plain": [
       "str"
      ]
     },
     "execution_count": 14,
     "metadata": {},
     "output_type": "execute_result"
    }
   ],
   "source": [
    "#release_date is stored as a string\n",
    "type(steam_df['release_date'][0])"
   ]
  },
  {
   "cell_type": "code",
   "execution_count": 17,
   "metadata": {},
   "outputs": [],
   "source": [
    "steam_df['release_date'] = pd.to_datetime(steam_df['release_date'])"
   ]
  },
  {
   "cell_type": "code",
   "execution_count": 19,
   "metadata": {},
   "outputs": [
    {
     "data": {
      "text/plain": [
       "count                            27075\n",
       "mean     2016-12-31 14:21:17.252077568\n",
       "min                1997-06-30 00:00:00\n",
       "25%                2016-04-04 00:00:00\n",
       "50%                2017-08-08 00:00:00\n",
       "75%                2018-06-06 12:00:00\n",
       "max                2019-05-01 00:00:00\n",
       "Name: release_date, dtype: object"
      ]
     },
     "execution_count": 19,
     "metadata": {},
     "output_type": "execute_result"
    }
   ],
   "source": [
    "steam_df['release_date'].describe(datetime_is_numeric = True)"
   ]
  },
  {
   "cell_type": "markdown",
   "metadata": {},
   "source": [
    "The dataset contains games released between June 30, 1997 and May 01, 2019."
   ]
  },
  {
   "cell_type": "code",
   "execution_count": 20,
   "metadata": {},
   "outputs": [
    {
     "data": {
      "text/plain": [
       "0        1\n",
       "1        1\n",
       "2        1\n",
       "3        1\n",
       "4        1\n",
       "        ..\n",
       "27070    1\n",
       "27071    1\n",
       "27072    1\n",
       "27073    1\n",
       "27074    1\n",
       "Name: english, Length: 27075, dtype: int64"
      ]
     },
     "execution_count": 20,
     "metadata": {},
     "output_type": "execute_result"
    }
   ],
   "source": [
    "#0 if non-english, 1 if english\n",
    "steam_df['english']"
   ]
  },
  {
   "cell_type": "code",
   "execution_count": 21,
   "metadata": {
    "scrolled": true
   },
   "outputs": [
    {
     "data": {
      "text/plain": [
       "1    26564\n",
       "0      511\n",
       "Name: english, dtype: int64"
      ]
     },
     "execution_count": 21,
     "metadata": {},
     "output_type": "execute_result"
    }
   ],
   "source": [
    "steam_df['english'].value_counts()"
   ]
  },
  {
   "cell_type": "markdown",
   "metadata": {},
   "source": [
    "There are 26,564 English games and 511 non-English games."
   ]
  },
  {
   "cell_type": "code",
   "execution_count": 22,
   "metadata": {},
   "outputs": [
    {
     "data": {
      "text/plain": [
       "0                     Valve\n",
       "1                     Valve\n",
       "2                     Valve\n",
       "3                     Valve\n",
       "4          Gearbox Software\n",
       "                ...        \n",
       "27070           SHEN JIAWEI\n",
       "27071        Semyon Maximov\n",
       "27072           EntwicklerX\n",
       "27073    Yustas Game Studio\n",
       "27074      Adept Studios GD\n",
       "Name: developer, Length: 27075, dtype: object"
      ]
     },
     "execution_count": 22,
     "metadata": {},
     "output_type": "execute_result"
    }
   ],
   "source": [
    "#name of game's developer\n",
    "steam_df['developer']"
   ]
  },
  {
   "cell_type": "code",
   "execution_count": 23,
   "metadata": {},
   "outputs": [
    {
     "data": {
      "text/plain": [
       "Choice of Games               94\n",
       "KOEI TECMO GAMES CO., LTD.    72\n",
       "Ripknot Systems               62\n",
       "Laush Dmitriy Sergeevich      51\n",
       "Nikita \"Ghost_RUS\"            50\n",
       "                              ..\n",
       "Myoubouh Corp                  1\n",
       "AndAll Interactive             1\n",
       "RESPECT TEAM STUDIO            1\n",
       "First Game Studio              1\n",
       "Permadeath                     1\n",
       "Name: developer, Length: 17113, dtype: int64"
      ]
     },
     "execution_count": 23,
     "metadata": {},
     "output_type": "execute_result"
    }
   ],
   "source": [
    "steam_df['developer'].value_counts()"
   ]
  },
  {
   "cell_type": "code",
   "execution_count": 25,
   "metadata": {
    "scrolled": true
   },
   "outputs": [
    {
     "data": {
      "text/plain": [
       "KOEI TECMO GAMES CO., LTD.    38\n",
       "ARTDINK                        5\n",
       "凝冰剑斩                           5\n",
       "上海アリス幻樂団                       4\n",
       "あみそ組                           3\n",
       "                              ..\n",
       "豆干叠叠木                          1\n",
       "Jiruo Software                 1\n",
       "Atansoft                       1\n",
       "LiveActive                     1\n",
       "Neosia Entertainment           1\n",
       "Name: developer, Length: 415, dtype: int64"
      ]
     },
     "execution_count": 25,
     "metadata": {},
     "output_type": "execute_result"
    }
   ],
   "source": [
    "#looking at the developers who made games not in English\n",
    "non_english_devs = steam_df[steam_df['english'] == 0]['developer'].value_counts()\n",
    "non_english_devs"
   ]
  },
  {
   "cell_type": "markdown",
   "metadata": {},
   "source": [
    "Our dataset contains some special characters. In this subset consisting of non-english games, I saw some Chinese and Japanese text."
   ]
  },
  {
   "cell_type": "code",
   "execution_count": 27,
   "metadata": {},
   "outputs": [
    {
     "data": {
      "text/plain": [
       "0                       Valve\n",
       "1                       Valve\n",
       "2                       Valve\n",
       "3                       Valve\n",
       "4                       Valve\n",
       "                 ...         \n",
       "27070             SHEN JIAWEI\n",
       "27071        BekkerDev Studio\n",
       "27072             EntwicklerX\n",
       "27073    Alawar Entertainment\n",
       "27074    Alawar Entertainment\n",
       "Name: publisher, Length: 27075, dtype: object"
      ]
     },
     "execution_count": 27,
     "metadata": {},
     "output_type": "execute_result"
    }
   ],
   "source": [
    "#name of game's publisher\n",
    "steam_df['publisher']"
   ]
  },
  {
   "cell_type": "code",
   "execution_count": 28,
   "metadata": {},
   "outputs": [
    {
     "data": {
      "text/plain": [
       "Big Fish Games                        212\n",
       "Strategy First                        136\n",
       "Ubisoft                               111\n",
       "THQ Nordic                             98\n",
       "Square Enix                            97\n",
       "                                     ... \n",
       "crowgames UG (haftungsbeschränkt)       1\n",
       "The Station                             1\n",
       "Vikong                                  1\n",
       "Teleporter Realities, Inc.              1\n",
       "Permadeath                              1\n",
       "Name: publisher, Length: 14354, dtype: int64"
      ]
     },
     "execution_count": 28,
     "metadata": {},
     "output_type": "execute_result"
    }
   ],
   "source": [
    "steam_df['publisher'].value_counts()"
   ]
  },
  {
   "cell_type": "code",
   "execution_count": 35,
   "metadata": {},
   "outputs": [
    {
     "data": {
      "text/html": [
       "<div>\n",
       "<style scoped>\n",
       "    .dataframe tbody tr th:only-of-type {\n",
       "        vertical-align: middle;\n",
       "    }\n",
       "\n",
       "    .dataframe tbody tr th {\n",
       "        vertical-align: top;\n",
       "    }\n",
       "\n",
       "    .dataframe thead th {\n",
       "        text-align: right;\n",
       "    }\n",
       "</style>\n",
       "<table border=\"1\" class=\"dataframe\">\n",
       "  <thead>\n",
       "    <tr style=\"text-align: right;\">\n",
       "      <th></th>\n",
       "      <th>appid</th>\n",
       "      <th>name</th>\n",
       "      <th>release_date</th>\n",
       "      <th>english</th>\n",
       "      <th>developer</th>\n",
       "      <th>publisher</th>\n",
       "      <th>platforms</th>\n",
       "      <th>required_age</th>\n",
       "      <th>categories</th>\n",
       "      <th>genres</th>\n",
       "      <th>steamspy_tags</th>\n",
       "      <th>achievements</th>\n",
       "      <th>positive_ratings</th>\n",
       "      <th>negative_ratings</th>\n",
       "      <th>average_playtime</th>\n",
       "      <th>median_playtime</th>\n",
       "      <th>owners</th>\n",
       "      <th>price</th>\n",
       "    </tr>\n",
       "  </thead>\n",
       "  <tbody>\n",
       "    <tr>\n",
       "      <th>0</th>\n",
       "      <td>10</td>\n",
       "      <td>Counter-Strike</td>\n",
       "      <td>2000-11-01</td>\n",
       "      <td>1</td>\n",
       "      <td>Valve</td>\n",
       "      <td>Valve</td>\n",
       "      <td>windows;mac;linux</td>\n",
       "      <td>0</td>\n",
       "      <td>Multi-player;Online Multi-Player;Local Multi-P...</td>\n",
       "      <td>Action</td>\n",
       "      <td>Action;FPS;Multiplayer</td>\n",
       "      <td>0</td>\n",
       "      <td>124534</td>\n",
       "      <td>3339</td>\n",
       "      <td>17612</td>\n",
       "      <td>317</td>\n",
       "      <td>10000000-20000000</td>\n",
       "      <td>7.19</td>\n",
       "    </tr>\n",
       "    <tr>\n",
       "      <th>1</th>\n",
       "      <td>20</td>\n",
       "      <td>Team Fortress Classic</td>\n",
       "      <td>1999-04-01</td>\n",
       "      <td>1</td>\n",
       "      <td>Valve</td>\n",
       "      <td>Valve</td>\n",
       "      <td>windows;mac;linux</td>\n",
       "      <td>0</td>\n",
       "      <td>Multi-player;Online Multi-Player;Local Multi-P...</td>\n",
       "      <td>Action</td>\n",
       "      <td>Action;FPS;Multiplayer</td>\n",
       "      <td>0</td>\n",
       "      <td>3318</td>\n",
       "      <td>633</td>\n",
       "      <td>277</td>\n",
       "      <td>62</td>\n",
       "      <td>5000000-10000000</td>\n",
       "      <td>3.99</td>\n",
       "    </tr>\n",
       "    <tr>\n",
       "      <th>2</th>\n",
       "      <td>30</td>\n",
       "      <td>Day of Defeat</td>\n",
       "      <td>2003-05-01</td>\n",
       "      <td>1</td>\n",
       "      <td>Valve</td>\n",
       "      <td>Valve</td>\n",
       "      <td>windows;mac;linux</td>\n",
       "      <td>0</td>\n",
       "      <td>Multi-player;Valve Anti-Cheat enabled</td>\n",
       "      <td>Action</td>\n",
       "      <td>FPS;World War II;Multiplayer</td>\n",
       "      <td>0</td>\n",
       "      <td>3416</td>\n",
       "      <td>398</td>\n",
       "      <td>187</td>\n",
       "      <td>34</td>\n",
       "      <td>5000000-10000000</td>\n",
       "      <td>3.99</td>\n",
       "    </tr>\n",
       "    <tr>\n",
       "      <th>3</th>\n",
       "      <td>40</td>\n",
       "      <td>Deathmatch Classic</td>\n",
       "      <td>2001-06-01</td>\n",
       "      <td>1</td>\n",
       "      <td>Valve</td>\n",
       "      <td>Valve</td>\n",
       "      <td>windows;mac;linux</td>\n",
       "      <td>0</td>\n",
       "      <td>Multi-player;Online Multi-Player;Local Multi-P...</td>\n",
       "      <td>Action</td>\n",
       "      <td>Action;FPS;Multiplayer</td>\n",
       "      <td>0</td>\n",
       "      <td>1273</td>\n",
       "      <td>267</td>\n",
       "      <td>258</td>\n",
       "      <td>184</td>\n",
       "      <td>5000000-10000000</td>\n",
       "      <td>3.99</td>\n",
       "    </tr>\n",
       "    <tr>\n",
       "      <th>5</th>\n",
       "      <td>60</td>\n",
       "      <td>Ricochet</td>\n",
       "      <td>2000-11-01</td>\n",
       "      <td>1</td>\n",
       "      <td>Valve</td>\n",
       "      <td>Valve</td>\n",
       "      <td>windows;mac;linux</td>\n",
       "      <td>0</td>\n",
       "      <td>Multi-player;Online Multi-Player;Valve Anti-Ch...</td>\n",
       "      <td>Action</td>\n",
       "      <td>Action;FPS;Multiplayer</td>\n",
       "      <td>0</td>\n",
       "      <td>2758</td>\n",
       "      <td>684</td>\n",
       "      <td>175</td>\n",
       "      <td>10</td>\n",
       "      <td>5000000-10000000</td>\n",
       "      <td>3.99</td>\n",
       "    </tr>\n",
       "  </tbody>\n",
       "</table>\n",
       "</div>"
      ],
      "text/plain": [
       "   appid                   name release_date  english developer publisher  \\\n",
       "0     10         Counter-Strike   2000-11-01        1     Valve     Valve   \n",
       "1     20  Team Fortress Classic   1999-04-01        1     Valve     Valve   \n",
       "2     30          Day of Defeat   2003-05-01        1     Valve     Valve   \n",
       "3     40     Deathmatch Classic   2001-06-01        1     Valve     Valve   \n",
       "5     60               Ricochet   2000-11-01        1     Valve     Valve   \n",
       "\n",
       "           platforms  required_age  \\\n",
       "0  windows;mac;linux             0   \n",
       "1  windows;mac;linux             0   \n",
       "2  windows;mac;linux             0   \n",
       "3  windows;mac;linux             0   \n",
       "5  windows;mac;linux             0   \n",
       "\n",
       "                                          categories  genres  \\\n",
       "0  Multi-player;Online Multi-Player;Local Multi-P...  Action   \n",
       "1  Multi-player;Online Multi-Player;Local Multi-P...  Action   \n",
       "2              Multi-player;Valve Anti-Cheat enabled  Action   \n",
       "3  Multi-player;Online Multi-Player;Local Multi-P...  Action   \n",
       "5  Multi-player;Online Multi-Player;Valve Anti-Ch...  Action   \n",
       "\n",
       "                  steamspy_tags  achievements  positive_ratings  \\\n",
       "0        Action;FPS;Multiplayer             0            124534   \n",
       "1        Action;FPS;Multiplayer             0              3318   \n",
       "2  FPS;World War II;Multiplayer             0              3416   \n",
       "3        Action;FPS;Multiplayer             0              1273   \n",
       "5        Action;FPS;Multiplayer             0              2758   \n",
       "\n",
       "   negative_ratings  average_playtime  median_playtime             owners  \\\n",
       "0              3339             17612              317  10000000-20000000   \n",
       "1               633               277               62   5000000-10000000   \n",
       "2               398               187               34   5000000-10000000   \n",
       "3               267               258              184   5000000-10000000   \n",
       "5               684               175               10   5000000-10000000   \n",
       "\n",
       "   price  \n",
       "0   7.19  \n",
       "1   3.99  \n",
       "2   3.99  \n",
       "3   3.99  \n",
       "5   3.99  "
      ]
     },
     "execution_count": 35,
     "metadata": {},
     "output_type": "execute_result"
    }
   ],
   "source": [
    "same_dev_pub = steam_df[steam_df['publisher'] == steam_df['developer']]\n",
    "same_dev_pub.head()"
   ]
  },
  {
   "cell_type": "code",
   "execution_count": 39,
   "metadata": {},
   "outputs": [
    {
     "data": {
      "text/plain": [
       "(17592, 18)"
      ]
     },
     "execution_count": 39,
     "metadata": {},
     "output_type": "execute_result"
    }
   ],
   "source": [
    "same_dev_pub.shape"
   ]
  },
  {
   "cell_type": "code",
   "execution_count": 36,
   "metadata": {},
   "outputs": [
    {
     "data": {
      "text/plain": [
       "Choice of Games               94\n",
       "KOEI TECMO GAMES CO., LTD.    69\n",
       "Ripknot Systems               62\n",
       "Dexion Games                  45\n",
       "RewindApp                     43\n",
       "                              ..\n",
       "Neople                         1\n",
       "sniperoncall                   1\n",
       "Nikku Nomura                   1\n",
       "VRChat Inc.                    1\n",
       "Pavel Black                    1\n",
       "Name: developer, Length: 11408, dtype: int64"
      ]
     },
     "execution_count": 36,
     "metadata": {},
     "output_type": "execute_result"
    }
   ],
   "source": [
    "same_dev_pub['developer'].value_counts()"
   ]
  },
  {
   "cell_type": "markdown",
   "metadata": {},
   "source": [
    "17,592 games in the dataset have a developer who is also the publisher. This could be important to consider when thinking about sequels or games within the same series."
   ]
  },
  {
   "cell_type": "code",
   "execution_count": 40,
   "metadata": {},
   "outputs": [
    {
     "data": {
      "text/plain": [
       "0        windows;mac;linux\n",
       "1        windows;mac;linux\n",
       "2        windows;mac;linux\n",
       "3        windows;mac;linux\n",
       "4        windows;mac;linux\n",
       "               ...        \n",
       "27070              windows\n",
       "27071              windows\n",
       "27072              windows\n",
       "27073          windows;mac\n",
       "27074          windows;mac\n",
       "Name: platforms, Length: 27075, dtype: object"
      ]
     },
     "execution_count": 40,
     "metadata": {},
     "output_type": "execute_result"
    }
   ],
   "source": [
    "#platform availability for game\n",
    "steam_df['platforms']"
   ]
  },
  {
   "cell_type": "code",
   "execution_count": 41,
   "metadata": {},
   "outputs": [
    {
     "data": {
      "text/plain": [
       "windows              18398\n",
       "windows;mac;linux     4623\n",
       "windows;mac           3439\n",
       "windows;linux          610\n",
       "mac                      3\n",
       "mac;linux                1\n",
       "linux                    1\n",
       "Name: platforms, dtype: int64"
      ]
     },
     "execution_count": 41,
     "metadata": {},
     "output_type": "execute_result"
    }
   ],
   "source": [
    "steam_df['platforms'].value_counts()"
   ]
  },
  {
   "cell_type": "markdown",
   "metadata": {},
   "source": [
    "Windows-only was the most frequent platform for games in the dataset. There were only 5 games here that are not available on Windows."
   ]
  },
  {
   "cell_type": "code",
   "execution_count": 42,
   "metadata": {},
   "outputs": [
    {
     "data": {
      "text/html": [
       "<div>\n",
       "<style scoped>\n",
       "    .dataframe tbody tr th:only-of-type {\n",
       "        vertical-align: middle;\n",
       "    }\n",
       "\n",
       "    .dataframe tbody tr th {\n",
       "        vertical-align: top;\n",
       "    }\n",
       "\n",
       "    .dataframe thead th {\n",
       "        text-align: right;\n",
       "    }\n",
       "</style>\n",
       "<table border=\"1\" class=\"dataframe\">\n",
       "  <thead>\n",
       "    <tr style=\"text-align: right;\">\n",
       "      <th></th>\n",
       "      <th>appid</th>\n",
       "      <th>name</th>\n",
       "      <th>release_date</th>\n",
       "      <th>english</th>\n",
       "      <th>developer</th>\n",
       "      <th>publisher</th>\n",
       "      <th>platforms</th>\n",
       "      <th>required_age</th>\n",
       "      <th>categories</th>\n",
       "      <th>genres</th>\n",
       "      <th>steamspy_tags</th>\n",
       "      <th>achievements</th>\n",
       "      <th>positive_ratings</th>\n",
       "      <th>negative_ratings</th>\n",
       "      <th>average_playtime</th>\n",
       "      <th>median_playtime</th>\n",
       "      <th>owners</th>\n",
       "      <th>price</th>\n",
       "    </tr>\n",
       "  </thead>\n",
       "  <tbody>\n",
       "    <tr>\n",
       "      <th>1413</th>\n",
       "      <td>214630</td>\n",
       "      <td>Call of Duty: Black Ops - Mac Edition</td>\n",
       "      <td>2012-09-27</td>\n",
       "      <td>1</td>\n",
       "      <td>Aspyr</td>\n",
       "      <td>Aspyr</td>\n",
       "      <td>mac</td>\n",
       "      <td>18</td>\n",
       "      <td>Single-player;Multi-player;Co-op;Steam Achieve...</td>\n",
       "      <td>Action</td>\n",
       "      <td>Action;Zombies;Multiplayer</td>\n",
       "      <td>68</td>\n",
       "      <td>168</td>\n",
       "      <td>105</td>\n",
       "      <td>0</td>\n",
       "      <td>0</td>\n",
       "      <td>50000-100000</td>\n",
       "      <td>15.49</td>\n",
       "    </tr>\n",
       "    <tr>\n",
       "      <th>12479</th>\n",
       "      <td>569050</td>\n",
       "      <td>Paul Pixel - The Awakening</td>\n",
       "      <td>2017-01-09</td>\n",
       "      <td>1</td>\n",
       "      <td>Xoron GmbH</td>\n",
       "      <td>Xoron GmbH</td>\n",
       "      <td>mac</td>\n",
       "      <td>0</td>\n",
       "      <td>Single-player</td>\n",
       "      <td>Adventure;Indie</td>\n",
       "      <td>Adventure;Indie;Point &amp; Click</td>\n",
       "      <td>0</td>\n",
       "      <td>5</td>\n",
       "      <td>0</td>\n",
       "      <td>0</td>\n",
       "      <td>0</td>\n",
       "      <td>0-20000</td>\n",
       "      <td>2.89</td>\n",
       "    </tr>\n",
       "    <tr>\n",
       "      <th>16662</th>\n",
       "      <td>694180</td>\n",
       "      <td>MobileZombie</td>\n",
       "      <td>2017-10-13</td>\n",
       "      <td>1</td>\n",
       "      <td>YIMING ZHANG</td>\n",
       "      <td>YIMING ZHANG</td>\n",
       "      <td>mac</td>\n",
       "      <td>0</td>\n",
       "      <td>Single-player;Partial Controller Support</td>\n",
       "      <td>Adventure;Casual;Free to Play;Indie</td>\n",
       "      <td>Free to Play;Adventure;Indie</td>\n",
       "      <td>0</td>\n",
       "      <td>14</td>\n",
       "      <td>11</td>\n",
       "      <td>0</td>\n",
       "      <td>0</td>\n",
       "      <td>0-20000</td>\n",
       "      <td>0.00</td>\n",
       "    </tr>\n",
       "  </tbody>\n",
       "</table>\n",
       "</div>"
      ],
      "text/plain": [
       "        appid                                   name release_date  english  \\\n",
       "1413   214630  Call of Duty: Black Ops - Mac Edition   2012-09-27        1   \n",
       "12479  569050             Paul Pixel - The Awakening   2017-01-09        1   \n",
       "16662  694180                           MobileZombie   2017-10-13        1   \n",
       "\n",
       "          developer     publisher platforms  required_age  \\\n",
       "1413          Aspyr        Aspyr        mac            18   \n",
       "12479    Xoron GmbH    Xoron GmbH       mac             0   \n",
       "16662  YIMING ZHANG  YIMING ZHANG       mac             0   \n",
       "\n",
       "                                              categories  \\\n",
       "1413   Single-player;Multi-player;Co-op;Steam Achieve...   \n",
       "12479                                      Single-player   \n",
       "16662           Single-player;Partial Controller Support   \n",
       "\n",
       "                                    genres                  steamspy_tags  \\\n",
       "1413                                Action     Action;Zombies;Multiplayer   \n",
       "12479                      Adventure;Indie  Adventure;Indie;Point & Click   \n",
       "16662  Adventure;Casual;Free to Play;Indie   Free to Play;Adventure;Indie   \n",
       "\n",
       "       achievements  positive_ratings  negative_ratings  average_playtime  \\\n",
       "1413             68               168               105                 0   \n",
       "12479             0                 5                 0                 0   \n",
       "16662             0                14                11                 0   \n",
       "\n",
       "       median_playtime        owners  price  \n",
       "1413                 0  50000-100000  15.49  \n",
       "12479                0       0-20000   2.89  \n",
       "16662                0       0-20000   0.00  "
      ]
     },
     "execution_count": 42,
     "metadata": {},
     "output_type": "execute_result"
    }
   ],
   "source": [
    "steam_df[steam_df['platforms'] == 'mac']"
   ]
  },
  {
   "cell_type": "markdown",
   "metadata": {},
   "source": [
    "The presence of a Mac Edition of a game informed me that there are ports in the dataset. Ports are versions of a game that have been adapted specifically for a new platform but are almost identical to the original."
   ]
  },
  {
   "cell_type": "code",
   "execution_count": 58,
   "metadata": {},
   "outputs": [
    {
     "data": {
      "text/plain": [
       "0        0\n",
       "1        0\n",
       "2        0\n",
       "3        0\n",
       "4        0\n",
       "        ..\n",
       "27070    0\n",
       "27071    0\n",
       "27072    0\n",
       "27073    0\n",
       "27074    0\n",
       "Name: required_age, Length: 27075, dtype: int64"
      ]
     },
     "execution_count": 58,
     "metadata": {},
     "output_type": "execute_result"
    }
   ],
   "source": [
    "#age-requirement for game\n",
    "steam_df['required_age']"
   ]
  },
  {
   "cell_type": "code",
   "execution_count": 60,
   "metadata": {},
   "outputs": [
    {
     "data": {
      "text/plain": [
       "0     26479\n",
       "18      308\n",
       "16      192\n",
       "12       73\n",
       "7        12\n",
       "3        11\n",
       "Name: required_age, dtype: int64"
      ]
     },
     "execution_count": 60,
     "metadata": {},
     "output_type": "execute_result"
    }
   ],
   "source": [
    "steam_df['required_age'].value_counts()"
   ]
  },
  {
   "cell_type": "markdown",
   "metadata": {},
   "source": [
    "Within this notebook, I'll use the term **labels** to collectively refer to categories, genres, and tags. Each of these three types of labels contains information on the content of a game which could be information on how the game is played (i.e. single-player), what features the game supports (i.e. controller support), or what the game is about (i.e. sci-fi).\n",
    "\n",
    "Some labels are more descriptive in terms of game content while others are more functional and may not have broad appeal to Steam users. For example, I thought it is unlikely that a user would make a purchase decision based on the presence of 'Valve Anti-Cheat'. The content recommender section goes into detail how I approached these labels."
   ]
  },
  {
   "cell_type": "code",
   "execution_count": 61,
   "metadata": {},
   "outputs": [
    {
     "data": {
      "text/plain": [
       "0        Multi-player;Online Multi-Player;Local Multi-P...\n",
       "1        Multi-player;Online Multi-Player;Local Multi-P...\n",
       "2                    Multi-player;Valve Anti-Cheat enabled\n",
       "3        Multi-player;Online Multi-Player;Local Multi-P...\n",
       "4        Single-player;Multi-player;Valve Anti-Cheat en...\n",
       "                               ...                        \n",
       "27070                     Single-player;Steam Achievements\n",
       "27071                                        Single-player\n",
       "27072    Single-player;Multi-player;Co-op;Shared/Split ...\n",
       "27073                            Single-player;Steam Cloud\n",
       "27074                            Single-player;Steam Cloud\n",
       "Name: categories, Length: 27075, dtype: object"
      ]
     },
     "execution_count": 61,
     "metadata": {},
     "output_type": "execute_result"
    }
   ],
   "source": [
    "steam_df['categories']"
   ]
  },
  {
   "cell_type": "code",
   "execution_count": 62,
   "metadata": {},
   "outputs": [
    {
     "data": {
      "text/plain": [
       "Single-player                                                                                                                                                                         6110\n",
       "Single-player;Steam Achievements                                                                                                                                                      2334\n",
       "Single-player;Steam Achievements;Steam Trading Cards                                                                                                                                   848\n",
       "Single-player;Partial Controller Support                                                                                                                                               804\n",
       "Single-player;Steam Trading Cards                                                                                                                                                      792\n",
       "                                                                                                                                                                                      ... \n",
       "Single-player;Online Multi-Player;Shared/Split Screen;Cross-Platform Multiplayer;Steam Achievements;Steam Cloud;Steam Leaderboards                                                       1\n",
       "Single-player;Co-op;Cross-Platform Multiplayer;Steam Achievements;Steam Trading Cards;VR Support;Steam Cloud                                                                             1\n",
       "Single-player;Steam Achievements;Steam Trading Cards;Captions available;Steam Workshop;Partial Controller Support;Steam Cloud                                                            1\n",
       "Single-player;Multi-player;Online Multi-Player;Shared/Split Screen;Steam Achievements;Steam Trading Cards;Partial Controller Support                                                     1\n",
       "Single-player;Online Multi-Player;Local Multi-Player;Local Co-op;Shared/Split Screen;Steam Achievements;Full controller support;Steam Trading Cards;Steam Cloud;Steam Leaderboards       1\n",
       "Name: categories, Length: 3333, dtype: int64"
      ]
     },
     "execution_count": 62,
     "metadata": {},
     "output_type": "execute_result"
    }
   ],
   "source": [
    "steam_df['categories'].value_counts()"
   ]
  },
  {
   "cell_type": "markdown",
   "metadata": {},
   "source": [
    "### Steam User Libraries - Steam Web API"
   ]
  },
  {
   "cell_type": "markdown",
   "metadata": {},
   "source": [
    "I used Steam's Web API service to collect information on users and their personal libraries of games. You need to have a Steam Account in order to request a Web API key. "
   ]
  },
  {
   "cell_type": "markdown",
   "metadata": {},
   "source": [
    "[Here](https://steamcommunity.com/dev) is a general overview of how to access Steam's Web API. This [link](https://developer.valvesoftware.com/wiki/Steam_Web_API) has more documentation on different types of API calls and what kinds of information is available."
   ]
  },
  {
   "cell_type": "markdown",
   "metadata": {},
   "source": [
    "I saved my API key in a text file in my local repository."
   ]
  },
  {
   "cell_type": "markdown",
   "metadata": {},
   "source": [
    "## Modeling"
   ]
  },
  {
   "cell_type": "markdown",
   "metadata": {},
   "source": [
    "I made a content-based recommendation system using categories, genres, and tags as the main indicators of game content."
   ]
  },
  {
   "cell_type": "markdown",
   "metadata": {},
   "source": [
    "In this notebook, I'll use the term 'label' as a collective term for category, genre, and tag. "
   ]
  },
  {
   "cell_type": "markdown",
   "metadata": {},
   "source": [
    "I assigned each game a value of 0 or 1 for each label: 0 if that label was not present for that game, and 1 if that label was present. This created a matrix containing encoded features for each game based on their content labels. "
   ]
  },
  {
   "cell_type": "markdown",
   "metadata": {},
   "source": [
    "### Simple Content-based Recommender"
   ]
  },
  {
   "cell_type": "code",
   "execution_count": 1,
   "metadata": {},
   "outputs": [],
   "source": [
    "def simple_recommender(game, content_matrix, df, n):\n",
    "    '''\n",
    "    Returns a dataframe containing n content-based recommendations for a specified game\n",
    "    \n",
    "    Arguments: \n",
    "    game: name of the game to get recommendations for\n",
    "    content_matrix: MLB encoded matrix describing game content with 0's and 1's\n",
    "    df: dataframe of game info, function will return a subset of this dataframe\n",
    "    n: number of recommendations to return\n",
    "    '''\n",
    "    #get the index of the game from the games info dataframe\n",
    "    game_idx = df[df['name'] == game].index\n",
    "    #get the features for the game from the content matrix\n",
    "    game_features = content_matrix.loc[game_idx]\n",
    "    #drop the game from the content matrix\n",
    "    other_games_df = content_matrix.drop(game_idx, axis=0)\n",
    "    #compute cosine similarity with sklearn\n",
    "    cos_sim = cosine_similarity(game_features, other_games_df)\n",
    "    #transform array of cos_sims into dataframe\n",
    "    cos_sim_df = pd.DataFrame(cos_sim, index=game_idx, \n",
    "                              columns=other_games_df.index).T\n",
    "    cos_sim_df.sort_values(by=[game_idx[0]], ascending=False, inplace=True)\n",
    "    top_matches = cos_sim_df.iloc[:n]\n",
    "    print(top_matches)\n",
    "    #get the index for each recommended game\n",
    "    top_idx = top_matches.index\n",
    "    #refer to full games info matrix to return info for recommended games\n",
    "    rec_df = df.loc[top_idx]\n",
    "    return rec_df"
   ]
  },
  {
   "cell_type": "code",
   "execution_count": null,
   "metadata": {},
   "outputs": [],
   "source": [
    "#give 10 recommendations for the game 'Warframe'"
   ]
  },
  {
   "cell_type": "markdown",
   "metadata": {},
   "source": [
    "My next steps for this content-based recommender were to:\n",
    "\n",
    "* Prompt the user for input (e.g. game name, number of recommendations, any filters)\n",
    "* Organize the output and return key information in a user-friendly format"
   ]
  },
  {
   "cell_type": "markdown",
   "metadata": {},
   "source": [
    "### Content-based Recommender with User Input"
   ]
  },
  {
   "cell_type": "code",
   "execution_count": 9,
   "metadata": {},
   "outputs": [],
   "source": [
    "def game_input(df):\n",
    "    game = input('Please type the name of the game you would like recommendations for: ')\n",
    "    if type(game) is str:\n",
    "        game_idx = df[df['name'] == game].index\n",
    "    if len(game_idx) == 0:\n",
    "        return('Sorry, recommendations are not available for this game!')\n",
    "    game_name = df.loc[game_idx]['name'].values[0]\n",
    "    game_id = df.loc[game_idx]['appid'].values[0]\n",
    "    print(f'Looking for recommendations for {game_name} (app id {game_id}):')\n",
    "    return game_idx"
   ]
  },
  {
   "cell_type": "code",
   "execution_count": null,
   "metadata": {},
   "outputs": [],
   "source": [
    "def content_recommender(game, content_matrix, df):\n",
    "    '''\n",
    "    '''\n",
    "    #get the index of the game from the games info dataframe\n",
    "    game_idx = df[df['name'] == game].index\n",
    "    #get the features for the game from the content matrix\n",
    "    game_features = content_matrix.loc[game_idx]\n",
    "    #drop the game from the content matrix\n",
    "    other_games_df = content_matrix.drop(game_idx, axis=0)\n",
    "    #compute cosine similarity with sklearn\n",
    "    cos_sim = cosine_similarity(game_features, other_games_df)\n",
    "    #transform array of cos_sims into dataframe\n",
    "    cos_sim_df = pd.DataFrame(cos_sim, index=game_idx, \n",
    "                              columns=other_games_df.index).T\n",
    "    cos_sim_df.sort_values(by=[game_idx[0]], ascending=False, inplace=True)\n",
    "    top_matches = cos_sim_df.iloc[:n]\n",
    "    print(top_matches)\n",
    "    #get the index for each recommended game\n",
    "    top_idx = top_matches.index\n",
    "    #refer to full games info matrix to return info for recommended games\n",
    "    rec_df = df.loc[top_idx]\n",
    "    return rec_df"
   ]
  },
  {
   "cell_type": "markdown",
   "metadata": {},
   "source": [
    "## Results"
   ]
  },
  {
   "cell_type": "markdown",
   "metadata": {},
   "source": [
    "## Conclusions"
   ]
  },
  {
   "cell_type": "code",
   "execution_count": null,
   "metadata": {},
   "outputs": [],
   "source": []
  }
 ],
 "metadata": {
  "kernelspec": {
   "display_name": "Python (learn-env)",
   "language": "python",
   "name": "learn-env"
  },
  "language_info": {
   "codemirror_mode": {
    "name": "ipython",
    "version": 3
   },
   "file_extension": ".py",
   "mimetype": "text/x-python",
   "name": "python",
   "nbconvert_exporter": "python",
   "pygments_lexer": "ipython3",
   "version": "3.8.5"
  }
 },
 "nbformat": 4,
 "nbformat_minor": 4
}
