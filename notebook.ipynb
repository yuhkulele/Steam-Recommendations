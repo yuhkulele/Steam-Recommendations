{
 "cells": [
  {
   "cell_type": "markdown",
   "metadata": {},
   "source": [
    "# PC Game Recommendations -  Content-Based and Collaborative Filtering Recommenders for Steam"
   ]
  },
  {
   "cell_type": "markdown",
   "metadata": {},
   "source": [
    "Author: Yuhkai Lin"
   ]
  },
  {
   "cell_type": "markdown",
   "metadata": {},
   "source": [
    "# Overview"
   ]
  },
  {
   "cell_type": "markdown",
   "metadata": {},
   "source": [
    "My goal with this project was to leverage data from Steam in order to tackle two approaches to provide PC game recommendations for Steam users. I used content labels - categories, genres, and tags - to provide content based recommendations. For a collaborative recommender, I utilized playtime as an implicit rating of a user's engagement with a game. I compared user profiles based on their game playtimes to come up with a collaborative recommender that predicts how much time a player might spend on a game. "
   ]
  },
  {
   "cell_type": "markdown",
   "metadata": {},
   "source": [
    "# Business Understanding"
   ]
  },
  {
   "cell_type": "markdown",
   "metadata": {},
   "source": [
    "Steam is the most popular digital distribution service and store for PC games. While physical discs were once the norm for PC game sales, digital downloads have become the standard means of owning and accessing PC games. Steam offers a platform for users to manage their library of games with access to services such as cloud saves and community features. In 2021, Steam averaged around [69 million daily active players](https://store.steampowered.com/news/group/4145017/view/3133946090937137590). Steam saw a 27% increase in user spending and a 21% increase in playtime from 2020 to 2021. \n",
    "\n",
    "Recommender systems are important to online stores to engage consumers with relevant products that have the highest likelihood of being purchased. Steam already uses various recommender systems in their store. There are content based systems (comparing games to games) as well as collaborative systems (comparing user or friend profiles). By using systems that produce favorable recommendations, Steam can maintain customer satisfaction and encourage users to stick with Steam's platform. Users can benefit from good recommendation systems that offer compelling suggestions so that their time is not spent on playing disagreeable games.\n",
    "\n",
    "Since users have to go through Steam's client to access their games, Steam easily collects vast amounts of user data on game playtimes. Player data, along with community features such as friends lists, are used to fuel Steam's collaborative recommendation systems. Additionally, Steam's shop listings utilizes user-voted labels to help compare game content and provide strong content-based recommendations."
   ]
  },
  {
   "cell_type": "markdown",
   "metadata": {},
   "source": [
    "# Data Understanding"
   ]
  },
  {
   "cell_type": "markdown",
   "metadata": {},
   "source": [
    "I used two different datasets to build my recommendation models. The content based recommender uses a dataset from Kaggle, while the collaborative recommender uses data I collected from Steam's Web API.\n",
    "\n",
    "The Kaggle dataset contains information about ~27,000 Steam apps/games that were available on Steam's store when the data was collected in 2019. The key information from this dataset is categories, genres, and tags - a collection of labels that describe a game's content. Additional information such as the game's price or the name of the developer is also present in the dataset.\n",
    "\n",
    "The second dataset consists of Steam users and their playtimes for games in their Steam library. I collected this data in August 2022 through Steam's Web API. The data is stored in a JSON format that connects Steam users, identified by their unique Steam Account ID, to information about which games they own and how much time they've spent playing each one."
   ]
  },
  {
   "cell_type": "code",
   "execution_count": 1,
   "metadata": {},
   "outputs": [],
   "source": [
    "#import statements\n",
    "import numpy as np\n",
    "import pandas as pd\n",
    "import json\n",
    "import requests\n",
    "import operator\n",
    "import pickle\n",
    "\n",
    "import matplotlib\n",
    "import matplotlib.pyplot as plt\n",
    "import seaborn as sns\n",
    "\n",
    "from sklearn.metrics.pairwise import cosine_similarity\n",
    "from sklearn.preprocessing import MultiLabelBinarizer\n",
    "\n",
    "from surprise import accuracy, BaselineOnly, Dataset, KNNBasic, Reader, SVD, SVDpp, NormalPredictor\n",
    "from surprise.model_selection import cross_validate, train_test_split, GridSearchCV"
   ]
  },
  {
   "cell_type": "markdown",
   "metadata": {},
   "source": [
    "# Content-Based Recommender"
   ]
  },
  {
   "cell_type": "markdown",
   "metadata": {},
   "source": [
    "## Steam Store Games Dataset - Kaggle"
   ]
  },
  {
   "cell_type": "markdown",
   "metadata": {},
   "source": [
    "For my content-based recommender, I used a dataset from Kaggle containing information on video game categories and genres. The dataset can be found [here](https://www.kaggle.com/datasets/nikdavis/steam-store-games?select=steamspy_tag_data.csv).\n",
    "\n",
    "The author documented their process of data collection via Steam Web API calls and SteamSpy API calls. This [link](https://nik-davis.github.io/posts/2019/steam-data-collection/) goes into how the author collected and cleaned the dataset.\n",
    "\n",
    "The dataset can be found in this repository in the data folder within the Steam_store_data subfolder."
   ]
  },
  {
   "cell_type": "code",
   "execution_count": 2,
   "metadata": {},
   "outputs": [],
   "source": [
    "steam_df = pd.read_csv('./data/Steam_store_data/steam.csv')"
   ]
  },
  {
   "cell_type": "code",
   "execution_count": 3,
   "metadata": {},
   "outputs": [
    {
     "name": "stdout",
     "output_type": "stream",
     "text": [
      "<class 'pandas.core.frame.DataFrame'>\n",
      "RangeIndex: 27075 entries, 0 to 27074\n",
      "Data columns (total 18 columns):\n",
      " #   Column            Non-Null Count  Dtype  \n",
      "---  ------            --------------  -----  \n",
      " 0   appid             27075 non-null  int64  \n",
      " 1   name              27075 non-null  object \n",
      " 2   release_date      27075 non-null  object \n",
      " 3   english           27075 non-null  int64  \n",
      " 4   developer         27075 non-null  object \n",
      " 5   publisher         27075 non-null  object \n",
      " 6   platforms         27075 non-null  object \n",
      " 7   required_age      27075 non-null  int64  \n",
      " 8   categories        27075 non-null  object \n",
      " 9   genres            27075 non-null  object \n",
      " 10  steamspy_tags     27075 non-null  object \n",
      " 11  achievements      27075 non-null  int64  \n",
      " 12  positive_ratings  27075 non-null  int64  \n",
      " 13  negative_ratings  27075 non-null  int64  \n",
      " 14  average_playtime  27075 non-null  int64  \n",
      " 15  median_playtime   27075 non-null  int64  \n",
      " 16  owners            27075 non-null  object \n",
      " 17  price             27075 non-null  float64\n",
      "dtypes: float64(1), int64(8), object(9)\n",
      "memory usage: 3.7+ MB\n"
     ]
    }
   ],
   "source": [
    "steam_df.info()"
   ]
  },
  {
   "cell_type": "markdown",
   "metadata": {},
   "source": [
    "Here are brief descriptions for each column:\n",
    "* appid : Unique identifier for each game on Steam\n",
    "* name : title of app(game)\n",
    "* release_date : release date in YYYY-MM-DD formate\n",
    "* english : 1 if game is in English, otherwise 0\n",
    "* developer : name(s) of developer(s), delimited by semicolon if multiple devs\n",
    "* publisher : name(s) of publisher(s), delimited by semicolon if multiple publishers\n",
    "* platforms : supported platforms (includes Windows, Mac, and Linux), delimited by semicolon\n",
    "* required_age : minimum required age based on PEGI UK ratings, 0 denotes unrated or unsupplied\n",
    "* categories : game categories, delimited by semicolon\n",
    "* genres: game genres, delimited by semicolon\n",
    "* steamspy_tags: community voted tags, delimited by semicolon\n",
    "* achievements : number of in-game achievements\n",
    "* positive_ratings : number of positive ratings (from SteamSpy)\n",
    "* negative_ratings : number of negative ratings (from SteamSpy)\n",
    "* average_playtime : average user playtime in minutes (from SteamSpy)\n",
    "* median_playtime : median user playtime in minutes (from SteamSpy)\n",
    "* owners: estimated number of owners given as a range\n",
    "* price : full price of title in GBP"
   ]
  },
  {
   "cell_type": "markdown",
   "metadata": {},
   "source": [
    "### Data Exploration"
   ]
  },
  {
   "cell_type": "code",
   "execution_count": 4,
   "metadata": {},
   "outputs": [
    {
     "data": {
      "text/html": [
       "<div>\n",
       "<style scoped>\n",
       "    .dataframe tbody tr th:only-of-type {\n",
       "        vertical-align: middle;\n",
       "    }\n",
       "\n",
       "    .dataframe tbody tr th {\n",
       "        vertical-align: top;\n",
       "    }\n",
       "\n",
       "    .dataframe thead th {\n",
       "        text-align: right;\n",
       "    }\n",
       "</style>\n",
       "<table border=\"1\" class=\"dataframe\">\n",
       "  <thead>\n",
       "    <tr style=\"text-align: right;\">\n",
       "      <th></th>\n",
       "      <th>appid</th>\n",
       "      <th>name</th>\n",
       "      <th>release_date</th>\n",
       "      <th>english</th>\n",
       "      <th>developer</th>\n",
       "      <th>publisher</th>\n",
       "      <th>platforms</th>\n",
       "      <th>required_age</th>\n",
       "      <th>categories</th>\n",
       "      <th>genres</th>\n",
       "      <th>steamspy_tags</th>\n",
       "      <th>achievements</th>\n",
       "      <th>positive_ratings</th>\n",
       "      <th>negative_ratings</th>\n",
       "      <th>average_playtime</th>\n",
       "      <th>median_playtime</th>\n",
       "      <th>owners</th>\n",
       "      <th>price</th>\n",
       "    </tr>\n",
       "  </thead>\n",
       "  <tbody>\n",
       "    <tr>\n",
       "      <th>0</th>\n",
       "      <td>10</td>\n",
       "      <td>Counter-Strike</td>\n",
       "      <td>2000-11-01</td>\n",
       "      <td>1</td>\n",
       "      <td>Valve</td>\n",
       "      <td>Valve</td>\n",
       "      <td>windows;mac;linux</td>\n",
       "      <td>0</td>\n",
       "      <td>Multi-player;Online Multi-Player;Local Multi-P...</td>\n",
       "      <td>Action</td>\n",
       "      <td>Action;FPS;Multiplayer</td>\n",
       "      <td>0</td>\n",
       "      <td>124534</td>\n",
       "      <td>3339</td>\n",
       "      <td>17612</td>\n",
       "      <td>317</td>\n",
       "      <td>10000000-20000000</td>\n",
       "      <td>7.19</td>\n",
       "    </tr>\n",
       "    <tr>\n",
       "      <th>1</th>\n",
       "      <td>20</td>\n",
       "      <td>Team Fortress Classic</td>\n",
       "      <td>1999-04-01</td>\n",
       "      <td>1</td>\n",
       "      <td>Valve</td>\n",
       "      <td>Valve</td>\n",
       "      <td>windows;mac;linux</td>\n",
       "      <td>0</td>\n",
       "      <td>Multi-player;Online Multi-Player;Local Multi-P...</td>\n",
       "      <td>Action</td>\n",
       "      <td>Action;FPS;Multiplayer</td>\n",
       "      <td>0</td>\n",
       "      <td>3318</td>\n",
       "      <td>633</td>\n",
       "      <td>277</td>\n",
       "      <td>62</td>\n",
       "      <td>5000000-10000000</td>\n",
       "      <td>3.99</td>\n",
       "    </tr>\n",
       "    <tr>\n",
       "      <th>2</th>\n",
       "      <td>30</td>\n",
       "      <td>Day of Defeat</td>\n",
       "      <td>2003-05-01</td>\n",
       "      <td>1</td>\n",
       "      <td>Valve</td>\n",
       "      <td>Valve</td>\n",
       "      <td>windows;mac;linux</td>\n",
       "      <td>0</td>\n",
       "      <td>Multi-player;Valve Anti-Cheat enabled</td>\n",
       "      <td>Action</td>\n",
       "      <td>FPS;World War II;Multiplayer</td>\n",
       "      <td>0</td>\n",
       "      <td>3416</td>\n",
       "      <td>398</td>\n",
       "      <td>187</td>\n",
       "      <td>34</td>\n",
       "      <td>5000000-10000000</td>\n",
       "      <td>3.99</td>\n",
       "    </tr>\n",
       "    <tr>\n",
       "      <th>3</th>\n",
       "      <td>40</td>\n",
       "      <td>Deathmatch Classic</td>\n",
       "      <td>2001-06-01</td>\n",
       "      <td>1</td>\n",
       "      <td>Valve</td>\n",
       "      <td>Valve</td>\n",
       "      <td>windows;mac;linux</td>\n",
       "      <td>0</td>\n",
       "      <td>Multi-player;Online Multi-Player;Local Multi-P...</td>\n",
       "      <td>Action</td>\n",
       "      <td>Action;FPS;Multiplayer</td>\n",
       "      <td>0</td>\n",
       "      <td>1273</td>\n",
       "      <td>267</td>\n",
       "      <td>258</td>\n",
       "      <td>184</td>\n",
       "      <td>5000000-10000000</td>\n",
       "      <td>3.99</td>\n",
       "    </tr>\n",
       "    <tr>\n",
       "      <th>4</th>\n",
       "      <td>50</td>\n",
       "      <td>Half-Life: Opposing Force</td>\n",
       "      <td>1999-11-01</td>\n",
       "      <td>1</td>\n",
       "      <td>Gearbox Software</td>\n",
       "      <td>Valve</td>\n",
       "      <td>windows;mac;linux</td>\n",
       "      <td>0</td>\n",
       "      <td>Single-player;Multi-player;Valve Anti-Cheat en...</td>\n",
       "      <td>Action</td>\n",
       "      <td>FPS;Action;Sci-fi</td>\n",
       "      <td>0</td>\n",
       "      <td>5250</td>\n",
       "      <td>288</td>\n",
       "      <td>624</td>\n",
       "      <td>415</td>\n",
       "      <td>5000000-10000000</td>\n",
       "      <td>3.99</td>\n",
       "    </tr>\n",
       "    <tr>\n",
       "      <th>5</th>\n",
       "      <td>60</td>\n",
       "      <td>Ricochet</td>\n",
       "      <td>2000-11-01</td>\n",
       "      <td>1</td>\n",
       "      <td>Valve</td>\n",
       "      <td>Valve</td>\n",
       "      <td>windows;mac;linux</td>\n",
       "      <td>0</td>\n",
       "      <td>Multi-player;Online Multi-Player;Valve Anti-Ch...</td>\n",
       "      <td>Action</td>\n",
       "      <td>Action;FPS;Multiplayer</td>\n",
       "      <td>0</td>\n",
       "      <td>2758</td>\n",
       "      <td>684</td>\n",
       "      <td>175</td>\n",
       "      <td>10</td>\n",
       "      <td>5000000-10000000</td>\n",
       "      <td>3.99</td>\n",
       "    </tr>\n",
       "    <tr>\n",
       "      <th>6</th>\n",
       "      <td>70</td>\n",
       "      <td>Half-Life</td>\n",
       "      <td>1998-11-08</td>\n",
       "      <td>1</td>\n",
       "      <td>Valve</td>\n",
       "      <td>Valve</td>\n",
       "      <td>windows;mac;linux</td>\n",
       "      <td>0</td>\n",
       "      <td>Single-player;Multi-player;Online Multi-Player...</td>\n",
       "      <td>Action</td>\n",
       "      <td>FPS;Classic;Action</td>\n",
       "      <td>0</td>\n",
       "      <td>27755</td>\n",
       "      <td>1100</td>\n",
       "      <td>1300</td>\n",
       "      <td>83</td>\n",
       "      <td>5000000-10000000</td>\n",
       "      <td>7.19</td>\n",
       "    </tr>\n",
       "    <tr>\n",
       "      <th>7</th>\n",
       "      <td>80</td>\n",
       "      <td>Counter-Strike: Condition Zero</td>\n",
       "      <td>2004-03-01</td>\n",
       "      <td>1</td>\n",
       "      <td>Valve</td>\n",
       "      <td>Valve</td>\n",
       "      <td>windows;mac;linux</td>\n",
       "      <td>0</td>\n",
       "      <td>Single-player;Multi-player;Valve Anti-Cheat en...</td>\n",
       "      <td>Action</td>\n",
       "      <td>Action;FPS;Multiplayer</td>\n",
       "      <td>0</td>\n",
       "      <td>12120</td>\n",
       "      <td>1439</td>\n",
       "      <td>427</td>\n",
       "      <td>43</td>\n",
       "      <td>10000000-20000000</td>\n",
       "      <td>7.19</td>\n",
       "    </tr>\n",
       "    <tr>\n",
       "      <th>8</th>\n",
       "      <td>130</td>\n",
       "      <td>Half-Life: Blue Shift</td>\n",
       "      <td>2001-06-01</td>\n",
       "      <td>1</td>\n",
       "      <td>Gearbox Software</td>\n",
       "      <td>Valve</td>\n",
       "      <td>windows;mac;linux</td>\n",
       "      <td>0</td>\n",
       "      <td>Single-player</td>\n",
       "      <td>Action</td>\n",
       "      <td>FPS;Action;Sci-fi</td>\n",
       "      <td>0</td>\n",
       "      <td>3822</td>\n",
       "      <td>420</td>\n",
       "      <td>361</td>\n",
       "      <td>205</td>\n",
       "      <td>5000000-10000000</td>\n",
       "      <td>3.99</td>\n",
       "    </tr>\n",
       "    <tr>\n",
       "      <th>9</th>\n",
       "      <td>220</td>\n",
       "      <td>Half-Life 2</td>\n",
       "      <td>2004-11-16</td>\n",
       "      <td>1</td>\n",
       "      <td>Valve</td>\n",
       "      <td>Valve</td>\n",
       "      <td>windows;mac;linux</td>\n",
       "      <td>0</td>\n",
       "      <td>Single-player;Steam Achievements;Steam Trading...</td>\n",
       "      <td>Action</td>\n",
       "      <td>FPS;Action;Sci-fi</td>\n",
       "      <td>33</td>\n",
       "      <td>67902</td>\n",
       "      <td>2419</td>\n",
       "      <td>691</td>\n",
       "      <td>402</td>\n",
       "      <td>10000000-20000000</td>\n",
       "      <td>7.19</td>\n",
       "    </tr>\n",
       "  </tbody>\n",
       "</table>\n",
       "</div>"
      ],
      "text/plain": [
       "   appid                            name release_date  english  \\\n",
       "0     10                  Counter-Strike   2000-11-01        1   \n",
       "1     20           Team Fortress Classic   1999-04-01        1   \n",
       "2     30                   Day of Defeat   2003-05-01        1   \n",
       "3     40              Deathmatch Classic   2001-06-01        1   \n",
       "4     50       Half-Life: Opposing Force   1999-11-01        1   \n",
       "5     60                        Ricochet   2000-11-01        1   \n",
       "6     70                       Half-Life   1998-11-08        1   \n",
       "7     80  Counter-Strike: Condition Zero   2004-03-01        1   \n",
       "8    130           Half-Life: Blue Shift   2001-06-01        1   \n",
       "9    220                     Half-Life 2   2004-11-16        1   \n",
       "\n",
       "          developer publisher          platforms  required_age  \\\n",
       "0             Valve     Valve  windows;mac;linux             0   \n",
       "1             Valve     Valve  windows;mac;linux             0   \n",
       "2             Valve     Valve  windows;mac;linux             0   \n",
       "3             Valve     Valve  windows;mac;linux             0   \n",
       "4  Gearbox Software     Valve  windows;mac;linux             0   \n",
       "5             Valve     Valve  windows;mac;linux             0   \n",
       "6             Valve     Valve  windows;mac;linux             0   \n",
       "7             Valve     Valve  windows;mac;linux             0   \n",
       "8  Gearbox Software     Valve  windows;mac;linux             0   \n",
       "9             Valve     Valve  windows;mac;linux             0   \n",
       "\n",
       "                                          categories  genres  \\\n",
       "0  Multi-player;Online Multi-Player;Local Multi-P...  Action   \n",
       "1  Multi-player;Online Multi-Player;Local Multi-P...  Action   \n",
       "2              Multi-player;Valve Anti-Cheat enabled  Action   \n",
       "3  Multi-player;Online Multi-Player;Local Multi-P...  Action   \n",
       "4  Single-player;Multi-player;Valve Anti-Cheat en...  Action   \n",
       "5  Multi-player;Online Multi-Player;Valve Anti-Ch...  Action   \n",
       "6  Single-player;Multi-player;Online Multi-Player...  Action   \n",
       "7  Single-player;Multi-player;Valve Anti-Cheat en...  Action   \n",
       "8                                      Single-player  Action   \n",
       "9  Single-player;Steam Achievements;Steam Trading...  Action   \n",
       "\n",
       "                  steamspy_tags  achievements  positive_ratings  \\\n",
       "0        Action;FPS;Multiplayer             0            124534   \n",
       "1        Action;FPS;Multiplayer             0              3318   \n",
       "2  FPS;World War II;Multiplayer             0              3416   \n",
       "3        Action;FPS;Multiplayer             0              1273   \n",
       "4             FPS;Action;Sci-fi             0              5250   \n",
       "5        Action;FPS;Multiplayer             0              2758   \n",
       "6            FPS;Classic;Action             0             27755   \n",
       "7        Action;FPS;Multiplayer             0             12120   \n",
       "8             FPS;Action;Sci-fi             0              3822   \n",
       "9             FPS;Action;Sci-fi            33             67902   \n",
       "\n",
       "   negative_ratings  average_playtime  median_playtime             owners  \\\n",
       "0              3339             17612              317  10000000-20000000   \n",
       "1               633               277               62   5000000-10000000   \n",
       "2               398               187               34   5000000-10000000   \n",
       "3               267               258              184   5000000-10000000   \n",
       "4               288               624              415   5000000-10000000   \n",
       "5               684               175               10   5000000-10000000   \n",
       "6              1100              1300               83   5000000-10000000   \n",
       "7              1439               427               43  10000000-20000000   \n",
       "8               420               361              205   5000000-10000000   \n",
       "9              2419               691              402  10000000-20000000   \n",
       "\n",
       "   price  \n",
       "0   7.19  \n",
       "1   3.99  \n",
       "2   3.99  \n",
       "3   3.99  \n",
       "4   3.99  \n",
       "5   3.99  \n",
       "6   7.19  \n",
       "7   7.19  \n",
       "8   3.99  \n",
       "9   7.19  "
      ]
     },
     "execution_count": 4,
     "metadata": {},
     "output_type": "execute_result"
    }
   ],
   "source": [
    "steam_df.head(10)"
   ]
  },
  {
   "cell_type": "code",
   "execution_count": 5,
   "metadata": {},
   "outputs": [
    {
     "data": {
      "text/plain": [
       "(27075, 18)"
      ]
     },
     "execution_count": 5,
     "metadata": {},
     "output_type": "execute_result"
    }
   ],
   "source": [
    "steam_df.shape"
   ]
  },
  {
   "cell_type": "markdown",
   "metadata": {},
   "source": [
    "There are 27,705 rows - each representing a game or app in Steam's store - and 18 columns."
   ]
  },
  {
   "cell_type": "markdown",
   "metadata": {},
   "source": [
    "Let's go through each column one-by-one:"
   ]
  },
  {
   "cell_type": "code",
   "execution_count": 6,
   "metadata": {},
   "outputs": [
    {
     "data": {
      "text/plain": [
       "0             10\n",
       "1             20\n",
       "2             30\n",
       "3             40\n",
       "4             50\n",
       "          ...   \n",
       "27070    1065230\n",
       "27071    1065570\n",
       "27072    1065650\n",
       "27073    1066700\n",
       "27074    1069460\n",
       "Name: appid, Length: 27075, dtype: int64"
      ]
     },
     "execution_count": 6,
     "metadata": {},
     "output_type": "execute_result"
    }
   ],
   "source": [
    "#unique id for each game\n",
    "steam_df['appid']"
   ]
  },
  {
   "cell_type": "code",
   "execution_count": 7,
   "metadata": {},
   "outputs": [
    {
     "data": {
      "text/plain": [
       "397310    1\n",
       "272270    1\n",
       "710480    1\n",
       "640850    1\n",
       "431960    1\n",
       "         ..\n",
       "875710    1\n",
       "563810    1\n",
       "244930    1\n",
       "298180    1\n",
       "655360    1\n",
       "Name: appid, Length: 27075, dtype: int64"
      ]
     },
     "execution_count": 7,
     "metadata": {},
     "output_type": "execute_result"
    }
   ],
   "source": [
    "steam_df['appid'].value_counts()"
   ]
  },
  {
   "cell_type": "markdown",
   "metadata": {},
   "source": [
    "'appid' is a unique identifier of a game in the dataset. No two games will have the same 'appid'."
   ]
  },
  {
   "cell_type": "code",
   "execution_count": 8,
   "metadata": {},
   "outputs": [
    {
     "data": {
      "text/plain": [
       "0                    Counter-Strike\n",
       "1             Team Fortress Classic\n",
       "2                     Day of Defeat\n",
       "3                Deathmatch Classic\n",
       "4         Half-Life: Opposing Force\n",
       "                    ...            \n",
       "27070               Room of Pandora\n",
       "27071                     Cyber Gun\n",
       "27072              Super Star Blast\n",
       "27073    New Yankee 7: Deer Hunters\n",
       "27074                     Rune Lord\n",
       "Name: name, Length: 27075, dtype: object"
      ]
     },
     "execution_count": 8,
     "metadata": {},
     "output_type": "execute_result"
    }
   ],
   "source": [
    "#name of app/game\n",
    "steam_df['name']"
   ]
  },
  {
   "cell_type": "code",
   "execution_count": 9,
   "metadata": {},
   "outputs": [
    {
     "data": {
      "text/plain": [
       "Dark Matter                                     3\n",
       "Mars 2030                                       2\n",
       "The Tower                                       2\n",
       "Alone                                           2\n",
       "Taxi                                            2\n",
       "                                               ..\n",
       "SOF - RAIDERS                                   1\n",
       "Mahjong Solitaire                               1\n",
       "Inmates                                         1\n",
       "Ye Fenny - Revenge of the Evil Good Shepherd    1\n",
       "DEAD OR ALIVE 6                                 1\n",
       "Name: name, Length: 27033, dtype: int64"
      ]
     },
     "execution_count": 9,
     "metadata": {},
     "output_type": "execute_result"
    }
   ],
   "source": [
    "steam_df['name'].value_counts()"
   ]
  },
  {
   "cell_type": "markdown",
   "metadata": {},
   "source": [
    "'name' is not a unique identifier for games. There are a few games with the same name. "
   ]
  },
  {
   "cell_type": "code",
   "execution_count": 10,
   "metadata": {},
   "outputs": [
    {
     "data": {
      "text/html": [
       "<div>\n",
       "<style scoped>\n",
       "    .dataframe tbody tr th:only-of-type {\n",
       "        vertical-align: middle;\n",
       "    }\n",
       "\n",
       "    .dataframe tbody tr th {\n",
       "        vertical-align: top;\n",
       "    }\n",
       "\n",
       "    .dataframe thead th {\n",
       "        text-align: right;\n",
       "    }\n",
       "</style>\n",
       "<table border=\"1\" class=\"dataframe\">\n",
       "  <thead>\n",
       "    <tr style=\"text-align: right;\">\n",
       "      <th></th>\n",
       "      <th>appid</th>\n",
       "      <th>name</th>\n",
       "      <th>release_date</th>\n",
       "      <th>english</th>\n",
       "      <th>developer</th>\n",
       "      <th>publisher</th>\n",
       "      <th>platforms</th>\n",
       "      <th>required_age</th>\n",
       "      <th>categories</th>\n",
       "      <th>genres</th>\n",
       "      <th>steamspy_tags</th>\n",
       "      <th>achievements</th>\n",
       "      <th>positive_ratings</th>\n",
       "      <th>negative_ratings</th>\n",
       "      <th>average_playtime</th>\n",
       "      <th>median_playtime</th>\n",
       "      <th>owners</th>\n",
       "      <th>price</th>\n",
       "    </tr>\n",
       "  </thead>\n",
       "  <tbody>\n",
       "    <tr>\n",
       "      <th>1975</th>\n",
       "      <td>251410</td>\n",
       "      <td>Dark Matter</td>\n",
       "      <td>2013-10-17</td>\n",
       "      <td>1</td>\n",
       "      <td>InterWave Studios</td>\n",
       "      <td>Iceberg Interactive</td>\n",
       "      <td>windows;mac;linux</td>\n",
       "      <td>0</td>\n",
       "      <td>Single-player;Steam Achievements;Full controll...</td>\n",
       "      <td>Action;Indie</td>\n",
       "      <td>Action;Indie;Side Scroller</td>\n",
       "      <td>17</td>\n",
       "      <td>78</td>\n",
       "      <td>107</td>\n",
       "      <td>0</td>\n",
       "      <td>0</td>\n",
       "      <td>0-20000</td>\n",
       "      <td>6.99</td>\n",
       "    </tr>\n",
       "    <tr>\n",
       "      <th>4673</th>\n",
       "      <td>345130</td>\n",
       "      <td>Dark Matter</td>\n",
       "      <td>2015-02-27</td>\n",
       "      <td>1</td>\n",
       "      <td>Meridian4</td>\n",
       "      <td>Meridian4</td>\n",
       "      <td>windows</td>\n",
       "      <td>0</td>\n",
       "      <td>Single-player;Partial Controller Support</td>\n",
       "      <td>Action;Casual;Indie</td>\n",
       "      <td>Action;Casual;Indie</td>\n",
       "      <td>0</td>\n",
       "      <td>75</td>\n",
       "      <td>50</td>\n",
       "      <td>0</td>\n",
       "      <td>0</td>\n",
       "      <td>100000-200000</td>\n",
       "      <td>3.99</td>\n",
       "    </tr>\n",
       "    <tr>\n",
       "      <th>21986</th>\n",
       "      <td>850250</td>\n",
       "      <td>Dark Matter</td>\n",
       "      <td>2018-05-04</td>\n",
       "      <td>1</td>\n",
       "      <td>Barty Games</td>\n",
       "      <td>Barty Games</td>\n",
       "      <td>windows</td>\n",
       "      <td>0</td>\n",
       "      <td>Single-player;Steam Achievements</td>\n",
       "      <td>Action;Indie</td>\n",
       "      <td>Action;Indie</td>\n",
       "      <td>3</td>\n",
       "      <td>3</td>\n",
       "      <td>3</td>\n",
       "      <td>0</td>\n",
       "      <td>0</td>\n",
       "      <td>0-20000</td>\n",
       "      <td>0.79</td>\n",
       "    </tr>\n",
       "  </tbody>\n",
       "</table>\n",
       "</div>"
      ],
      "text/plain": [
       "        appid         name release_date  english          developer  \\\n",
       "1975   251410  Dark Matter   2013-10-17        1  InterWave Studios   \n",
       "4673   345130  Dark Matter   2015-02-27        1          Meridian4   \n",
       "21986  850250  Dark Matter   2018-05-04        1        Barty Games   \n",
       "\n",
       "                 publisher          platforms  required_age  \\\n",
       "1975   Iceberg Interactive  windows;mac;linux             0   \n",
       "4673             Meridian4            windows             0   \n",
       "21986          Barty Games            windows             0   \n",
       "\n",
       "                                              categories               genres  \\\n",
       "1975   Single-player;Steam Achievements;Full controll...         Action;Indie   \n",
       "4673            Single-player;Partial Controller Support  Action;Casual;Indie   \n",
       "21986                   Single-player;Steam Achievements         Action;Indie   \n",
       "\n",
       "                    steamspy_tags  achievements  positive_ratings  \\\n",
       "1975   Action;Indie;Side Scroller            17                78   \n",
       "4673          Action;Casual;Indie             0                75   \n",
       "21986                Action;Indie             3                 3   \n",
       "\n",
       "       negative_ratings  average_playtime  median_playtime         owners  \\\n",
       "1975                107                 0                0        0-20000   \n",
       "4673                 50                 0                0  100000-200000   \n",
       "21986                 3                 0                0        0-20000   \n",
       "\n",
       "       price  \n",
       "1975    6.99  \n",
       "4673    3.99  \n",
       "21986   0.79  "
      ]
     },
     "execution_count": 10,
     "metadata": {},
     "output_type": "execute_result"
    }
   ],
   "source": [
    "steam_df[steam_df['name'] == 'Dark Matter']"
   ]
  },
  {
   "cell_type": "code",
   "execution_count": 11,
   "metadata": {},
   "outputs": [
    {
     "data": {
      "text/plain": [
       "Int64Index([1975, 4673, 21986], dtype='int64')"
      ]
     },
     "execution_count": 11,
     "metadata": {},
     "output_type": "execute_result"
    }
   ],
   "source": [
    "steam_df[steam_df['name'] == 'Dark Matter'].index"
   ]
  },
  {
   "cell_type": "markdown",
   "metadata": {},
   "source": [
    "The dataset included some downloadable content ('DLC') listed as a separate product. Since DLC content are add-ons to games, the similarity between a DLC and its base game is likely very high. However, the recommender should not include DLC. Steam's platform already shows users what DLC is available for games in their library. Additionally, DLC is not usable unless you own the base game. "
   ]
  },
  {
   "cell_type": "markdown",
   "metadata": {},
   "source": [
    "I searched for several key substrings within the 'name' column to search for DLC. "
   ]
  },
  {
   "cell_type": "code",
   "execution_count": 12,
   "metadata": {},
   "outputs": [
    {
     "data": {
      "text/html": [
       "<div>\n",
       "<style scoped>\n",
       "    .dataframe tbody tr th:only-of-type {\n",
       "        vertical-align: middle;\n",
       "    }\n",
       "\n",
       "    .dataframe tbody tr th {\n",
       "        vertical-align: top;\n",
       "    }\n",
       "\n",
       "    .dataframe thead th {\n",
       "        text-align: right;\n",
       "    }\n",
       "</style>\n",
       "<table border=\"1\" class=\"dataframe\">\n",
       "  <thead>\n",
       "    <tr style=\"text-align: right;\">\n",
       "      <th></th>\n",
       "      <th>appid</th>\n",
       "      <th>name</th>\n",
       "      <th>release_date</th>\n",
       "      <th>english</th>\n",
       "      <th>developer</th>\n",
       "      <th>publisher</th>\n",
       "      <th>platforms</th>\n",
       "      <th>required_age</th>\n",
       "      <th>categories</th>\n",
       "      <th>genres</th>\n",
       "      <th>steamspy_tags</th>\n",
       "      <th>achievements</th>\n",
       "      <th>positive_ratings</th>\n",
       "      <th>negative_ratings</th>\n",
       "      <th>average_playtime</th>\n",
       "      <th>median_playtime</th>\n",
       "      <th>owners</th>\n",
       "      <th>price</th>\n",
       "    </tr>\n",
       "  </thead>\n",
       "  <tbody>\n",
       "    <tr>\n",
       "      <th>1627</th>\n",
       "      <td>230050</td>\n",
       "      <td>DLC Quest</td>\n",
       "      <td>2013-03-18</td>\n",
       "      <td>1</td>\n",
       "      <td>Going Loud Studios</td>\n",
       "      <td>Going Loud Studios</td>\n",
       "      <td>windows;mac</td>\n",
       "      <td>0</td>\n",
       "      <td>Single-player;Steam Achievements;Steam Trading...</td>\n",
       "      <td>Indie</td>\n",
       "      <td>Platformer;Indie;Satire</td>\n",
       "      <td>22</td>\n",
       "      <td>5434</td>\n",
       "      <td>718</td>\n",
       "      <td>126</td>\n",
       "      <td>139</td>\n",
       "      <td>200000-500000</td>\n",
       "      <td>1.99</td>\n",
       "    </tr>\n",
       "  </tbody>\n",
       "</table>\n",
       "</div>"
      ],
      "text/plain": [
       "       appid       name release_date  english           developer  \\\n",
       "1627  230050  DLC Quest   2013-03-18        1  Going Loud Studios   \n",
       "\n",
       "               publisher    platforms  required_age  \\\n",
       "1627  Going Loud Studios  windows;mac             0   \n",
       "\n",
       "                                             categories genres  \\\n",
       "1627  Single-player;Steam Achievements;Steam Trading...  Indie   \n",
       "\n",
       "                steamspy_tags  achievements  positive_ratings  \\\n",
       "1627  Platformer;Indie;Satire            22              5434   \n",
       "\n",
       "      negative_ratings  average_playtime  median_playtime         owners  \\\n",
       "1627               718               126              139  200000-500000   \n",
       "\n",
       "      price  \n",
       "1627   1.99  "
      ]
     },
     "execution_count": 12,
     "metadata": {},
     "output_type": "execute_result"
    }
   ],
   "source": [
    "#only one game contains DLC and it is actually a distinct game\n",
    "steam_df[steam_df['name'].str.contains('DLC')]"
   ]
  },
  {
   "cell_type": "code",
   "execution_count": 13,
   "metadata": {},
   "outputs": [
    {
     "data": {
      "text/html": [
       "<div>\n",
       "<style scoped>\n",
       "    .dataframe tbody tr th:only-of-type {\n",
       "        vertical-align: middle;\n",
       "    }\n",
       "\n",
       "    .dataframe tbody tr th {\n",
       "        vertical-align: top;\n",
       "    }\n",
       "\n",
       "    .dataframe thead th {\n",
       "        text-align: right;\n",
       "    }\n",
       "</style>\n",
       "<table border=\"1\" class=\"dataframe\">\n",
       "  <thead>\n",
       "    <tr style=\"text-align: right;\">\n",
       "      <th></th>\n",
       "      <th>appid</th>\n",
       "      <th>name</th>\n",
       "      <th>release_date</th>\n",
       "      <th>english</th>\n",
       "      <th>developer</th>\n",
       "      <th>publisher</th>\n",
       "      <th>platforms</th>\n",
       "      <th>required_age</th>\n",
       "      <th>categories</th>\n",
       "      <th>genres</th>\n",
       "      <th>steamspy_tags</th>\n",
       "      <th>achievements</th>\n",
       "      <th>positive_ratings</th>\n",
       "      <th>negative_ratings</th>\n",
       "      <th>average_playtime</th>\n",
       "      <th>median_playtime</th>\n",
       "      <th>owners</th>\n",
       "      <th>price</th>\n",
       "    </tr>\n",
       "  </thead>\n",
       "  <tbody>\n",
       "  </tbody>\n",
       "</table>\n",
       "</div>"
      ],
      "text/plain": [
       "Empty DataFrame\n",
       "Columns: [appid, name, release_date, english, developer, publisher, platforms, required_age, categories, genres, steamspy_tags, achievements, positive_ratings, negative_ratings, average_playtime, median_playtime, owners, price]\n",
       "Index: []"
      ]
     },
     "execution_count": 13,
     "metadata": {},
     "output_type": "execute_result"
    }
   ],
   "source": [
    "steam_df[steam_df['name'].str.contains('dlc')]"
   ]
  },
  {
   "cell_type": "code",
   "execution_count": 14,
   "metadata": {},
   "outputs": [
    {
     "data": {
      "text/html": [
       "<div>\n",
       "<style scoped>\n",
       "    .dataframe tbody tr th:only-of-type {\n",
       "        vertical-align: middle;\n",
       "    }\n",
       "\n",
       "    .dataframe tbody tr th {\n",
       "        vertical-align: top;\n",
       "    }\n",
       "\n",
       "    .dataframe thead th {\n",
       "        text-align: right;\n",
       "    }\n",
       "</style>\n",
       "<table border=\"1\" class=\"dataframe\">\n",
       "  <thead>\n",
       "    <tr style=\"text-align: right;\">\n",
       "      <th></th>\n",
       "      <th>appid</th>\n",
       "      <th>name</th>\n",
       "      <th>release_date</th>\n",
       "      <th>english</th>\n",
       "      <th>developer</th>\n",
       "      <th>publisher</th>\n",
       "      <th>platforms</th>\n",
       "      <th>required_age</th>\n",
       "      <th>categories</th>\n",
       "      <th>genres</th>\n",
       "      <th>steamspy_tags</th>\n",
       "      <th>achievements</th>\n",
       "      <th>positive_ratings</th>\n",
       "      <th>negative_ratings</th>\n",
       "      <th>average_playtime</th>\n",
       "      <th>median_playtime</th>\n",
       "      <th>owners</th>\n",
       "      <th>price</th>\n",
       "    </tr>\n",
       "  </thead>\n",
       "  <tbody>\n",
       "  </tbody>\n",
       "</table>\n",
       "</div>"
      ],
      "text/plain": [
       "Empty DataFrame\n",
       "Columns: [appid, name, release_date, english, developer, publisher, platforms, required_age, categories, genres, steamspy_tags, achievements, positive_ratings, negative_ratings, average_playtime, median_playtime, owners, price]\n",
       "Index: []"
      ]
     },
     "execution_count": 14,
     "metadata": {},
     "output_type": "execute_result"
    }
   ],
   "source": [
    "steam_df[steam_df['name'].str.contains('Add-on')]"
   ]
  },
  {
   "cell_type": "code",
   "execution_count": 15,
   "metadata": {},
   "outputs": [
    {
     "data": {
      "text/html": [
       "<div>\n",
       "<style scoped>\n",
       "    .dataframe tbody tr th:only-of-type {\n",
       "        vertical-align: middle;\n",
       "    }\n",
       "\n",
       "    .dataframe tbody tr th {\n",
       "        vertical-align: top;\n",
       "    }\n",
       "\n",
       "    .dataframe thead th {\n",
       "        text-align: right;\n",
       "    }\n",
       "</style>\n",
       "<table border=\"1\" class=\"dataframe\">\n",
       "  <thead>\n",
       "    <tr style=\"text-align: right;\">\n",
       "      <th></th>\n",
       "      <th>appid</th>\n",
       "      <th>name</th>\n",
       "      <th>release_date</th>\n",
       "      <th>english</th>\n",
       "      <th>developer</th>\n",
       "      <th>publisher</th>\n",
       "      <th>platforms</th>\n",
       "      <th>required_age</th>\n",
       "      <th>categories</th>\n",
       "      <th>genres</th>\n",
       "      <th>steamspy_tags</th>\n",
       "      <th>achievements</th>\n",
       "      <th>positive_ratings</th>\n",
       "      <th>negative_ratings</th>\n",
       "      <th>average_playtime</th>\n",
       "      <th>median_playtime</th>\n",
       "      <th>owners</th>\n",
       "      <th>price</th>\n",
       "    </tr>\n",
       "  </thead>\n",
       "  <tbody>\n",
       "    <tr>\n",
       "      <th>53</th>\n",
       "      <td>2330</td>\n",
       "      <td>QUAKE II Mission Pack: The Reckoning</td>\n",
       "      <td>2007-08-03</td>\n",
       "      <td>1</td>\n",
       "      <td>Xatrix Entertainment</td>\n",
       "      <td>id Software</td>\n",
       "      <td>windows</td>\n",
       "      <td>0</td>\n",
       "      <td>Single-player;Multi-player;Steam Cloud</td>\n",
       "      <td>Action</td>\n",
       "      <td>Action;FPS;Classic</td>\n",
       "      <td>0</td>\n",
       "      <td>65</td>\n",
       "      <td>12</td>\n",
       "      <td>32</td>\n",
       "      <td>32</td>\n",
       "      <td>200000-500000</td>\n",
       "      <td>2.49</td>\n",
       "    </tr>\n",
       "    <tr>\n",
       "      <th>54</th>\n",
       "      <td>2340</td>\n",
       "      <td>QUAKE II Mission Pack: Ground Zero</td>\n",
       "      <td>2007-08-03</td>\n",
       "      <td>1</td>\n",
       "      <td>Rogue Entertainment</td>\n",
       "      <td>id Software</td>\n",
       "      <td>windows</td>\n",
       "      <td>0</td>\n",
       "      <td>Single-player;Multi-player;Steam Cloud</td>\n",
       "      <td>Action</td>\n",
       "      <td>Action;FPS;Shooter</td>\n",
       "      <td>0</td>\n",
       "      <td>54</td>\n",
       "      <td>33</td>\n",
       "      <td>1</td>\n",
       "      <td>1</td>\n",
       "      <td>200000-500000</td>\n",
       "      <td>2.49</td>\n",
       "    </tr>\n",
       "    <tr>\n",
       "      <th>226</th>\n",
       "      <td>9030</td>\n",
       "      <td>QUAKE Mission Pack 2: Dissolution of Eternity</td>\n",
       "      <td>2007-08-03</td>\n",
       "      <td>1</td>\n",
       "      <td>Rogue Entertainment</td>\n",
       "      <td>id Software</td>\n",
       "      <td>windows</td>\n",
       "      <td>0</td>\n",
       "      <td>Single-player;Multi-player;Steam Cloud</td>\n",
       "      <td>Action</td>\n",
       "      <td>Action;FPS;Shooter</td>\n",
       "      <td>0</td>\n",
       "      <td>143</td>\n",
       "      <td>15</td>\n",
       "      <td>88</td>\n",
       "      <td>91</td>\n",
       "      <td>200000-500000</td>\n",
       "      <td>2.49</td>\n",
       "    </tr>\n",
       "    <tr>\n",
       "      <th>227</th>\n",
       "      <td>9040</td>\n",
       "      <td>QUAKE Mission Pack 1: Scourge of Armagon</td>\n",
       "      <td>2007-08-03</td>\n",
       "      <td>1</td>\n",
       "      <td>Ritual Entertainment</td>\n",
       "      <td>id Software</td>\n",
       "      <td>windows</td>\n",
       "      <td>0</td>\n",
       "      <td>Single-player;Multi-player;Steam Cloud</td>\n",
       "      <td>Action</td>\n",
       "      <td>Action;FPS;Shooter</td>\n",
       "      <td>0</td>\n",
       "      <td>205</td>\n",
       "      <td>13</td>\n",
       "      <td>129</td>\n",
       "      <td>152</td>\n",
       "      <td>200000-500000</td>\n",
       "      <td>2.49</td>\n",
       "    </tr>\n",
       "    <tr>\n",
       "      <th>406</th>\n",
       "      <td>17440</td>\n",
       "      <td>SPORE™ Creepy &amp; Cute Parts Pack</td>\n",
       "      <td>2008-12-19</td>\n",
       "      <td>1</td>\n",
       "      <td>Maxis™</td>\n",
       "      <td>Electronic Arts</td>\n",
       "      <td>windows</td>\n",
       "      <td>0</td>\n",
       "      <td>Single-player</td>\n",
       "      <td>Simulation</td>\n",
       "      <td>Simulation;Adventure;Open World</td>\n",
       "      <td>0</td>\n",
       "      <td>481</td>\n",
       "      <td>100</td>\n",
       "      <td>171</td>\n",
       "      <td>240</td>\n",
       "      <td>500000-1000000</td>\n",
       "      <td>9.99</td>\n",
       "    </tr>\n",
       "    <tr>\n",
       "      <th>599</th>\n",
       "      <td>32470</td>\n",
       "      <td>STAR WARS™ Empire at War - Gold Pack</td>\n",
       "      <td>2010-05-25</td>\n",
       "      <td>1</td>\n",
       "      <td>Petroglyph</td>\n",
       "      <td>LucasArts;Lucasfilm;Disney Interactive</td>\n",
       "      <td>windows</td>\n",
       "      <td>0</td>\n",
       "      <td>Single-player;Multi-player;Online Multi-Player...</td>\n",
       "      <td>Strategy</td>\n",
       "      <td>Strategy;Star Wars;RTS</td>\n",
       "      <td>0</td>\n",
       "      <td>6526</td>\n",
       "      <td>396</td>\n",
       "      <td>395</td>\n",
       "      <td>219</td>\n",
       "      <td>1000000-2000000</td>\n",
       "      <td>15.49</td>\n",
       "    </tr>\n",
       "    <tr>\n",
       "      <th>676</th>\n",
       "      <td>36130</td>\n",
       "      <td>Tradewinds Caravans + Odyssey Pack</td>\n",
       "      <td>2009-07-17</td>\n",
       "      <td>1</td>\n",
       "      <td>Sandlot Games</td>\n",
       "      <td>Sandlot Games</td>\n",
       "      <td>windows</td>\n",
       "      <td>0</td>\n",
       "      <td>Single-player</td>\n",
       "      <td>Casual</td>\n",
       "      <td>Casual</td>\n",
       "      <td>0</td>\n",
       "      <td>4</td>\n",
       "      <td>1</td>\n",
       "      <td>0</td>\n",
       "      <td>0</td>\n",
       "      <td>0-20000</td>\n",
       "      <td>10.99</td>\n",
       "    </tr>\n",
       "    <tr>\n",
       "      <th>704</th>\n",
       "      <td>37400</td>\n",
       "      <td>Time Gentlemen, Please! and Ben There, Dan Tha...</td>\n",
       "      <td>2009-08-25</td>\n",
       "      <td>1</td>\n",
       "      <td>Size Five Games</td>\n",
       "      <td>Size Five Games</td>\n",
       "      <td>windows</td>\n",
       "      <td>0</td>\n",
       "      <td>Single-player</td>\n",
       "      <td>Adventure;Indie</td>\n",
       "      <td>Point &amp; Click;Adventure;Indie</td>\n",
       "      <td>0</td>\n",
       "      <td>494</td>\n",
       "      <td>118</td>\n",
       "      <td>10</td>\n",
       "      <td>10</td>\n",
       "      <td>200000-500000</td>\n",
       "      <td>2.99</td>\n",
       "    </tr>\n",
       "    <tr>\n",
       "      <th>709</th>\n",
       "      <td>37960</td>\n",
       "      <td>Jewel Quest Pack</td>\n",
       "      <td>2009-08-24</td>\n",
       "      <td>1</td>\n",
       "      <td>iWin</td>\n",
       "      <td>iWin</td>\n",
       "      <td>windows</td>\n",
       "      <td>0</td>\n",
       "      <td>Single-player</td>\n",
       "      <td>Casual</td>\n",
       "      <td>Casual;Puzzle;Match 3</td>\n",
       "      <td>0</td>\n",
       "      <td>19</td>\n",
       "      <td>3</td>\n",
       "      <td>0</td>\n",
       "      <td>0</td>\n",
       "      <td>0-20000</td>\n",
       "      <td>14.99</td>\n",
       "    </tr>\n",
       "    <tr>\n",
       "      <th>1299</th>\n",
       "      <td>207400</td>\n",
       "      <td>eXceed 3rd - Jade Penetrate Black Package</td>\n",
       "      <td>2012-08-02</td>\n",
       "      <td>1</td>\n",
       "      <td>Tennen-sozai</td>\n",
       "      <td>Nyu Media</td>\n",
       "      <td>windows</td>\n",
       "      <td>0</td>\n",
       "      <td>Single-player;Steam Trading Cards</td>\n",
       "      <td>Action</td>\n",
       "      <td>Bullet Hell;Anime;Shoot 'Em Up</td>\n",
       "      <td>0</td>\n",
       "      <td>489</td>\n",
       "      <td>41</td>\n",
       "      <td>127</td>\n",
       "      <td>141</td>\n",
       "      <td>50000-100000</td>\n",
       "      <td>4.79</td>\n",
       "    </tr>\n",
       "    <tr>\n",
       "      <th>1756</th>\n",
       "      <td>238050</td>\n",
       "      <td>The Apogee Throwback Pack</td>\n",
       "      <td>2013-07-01</td>\n",
       "      <td>1</td>\n",
       "      <td>Interceptor Entertainment</td>\n",
       "      <td>Apogee Software</td>\n",
       "      <td>windows;mac</td>\n",
       "      <td>16</td>\n",
       "      <td>Single-player</td>\n",
       "      <td>Action</td>\n",
       "      <td>Action;FPS;Classic</td>\n",
       "      <td>0</td>\n",
       "      <td>198</td>\n",
       "      <td>20</td>\n",
       "      <td>37</td>\n",
       "      <td>37</td>\n",
       "      <td>100000-200000</td>\n",
       "      <td>6.99</td>\n",
       "    </tr>\n",
       "    <tr>\n",
       "      <th>2281</th>\n",
       "      <td>263940</td>\n",
       "      <td>Red Baron Pack</td>\n",
       "      <td>2016-01-07</td>\n",
       "      <td>1</td>\n",
       "      <td>Mad Otter Games</td>\n",
       "      <td>Mad Otter Games</td>\n",
       "      <td>windows</td>\n",
       "      <td>0</td>\n",
       "      <td>Single-player;Multi-player;Partial Controller ...</td>\n",
       "      <td>Simulation</td>\n",
       "      <td>Simulation;World War I;Flight</td>\n",
       "      <td>0</td>\n",
       "      <td>37</td>\n",
       "      <td>14</td>\n",
       "      <td>0</td>\n",
       "      <td>0</td>\n",
       "      <td>0-20000</td>\n",
       "      <td>6.99</td>\n",
       "    </tr>\n",
       "    <tr>\n",
       "      <th>2685</th>\n",
       "      <td>282010</td>\n",
       "      <td>Carmageddon Max Pack</td>\n",
       "      <td>1997-06-30</td>\n",
       "      <td>1</td>\n",
       "      <td>Stainless Games Ltd</td>\n",
       "      <td>THQ Nordic</td>\n",
       "      <td>windows</td>\n",
       "      <td>0</td>\n",
       "      <td>Single-player;Multi-player;Steam Trading Cards</td>\n",
       "      <td>Action;Indie;Racing</td>\n",
       "      <td>Racing;Action;Classic</td>\n",
       "      <td>0</td>\n",
       "      <td>352</td>\n",
       "      <td>35</td>\n",
       "      <td>13</td>\n",
       "      <td>13</td>\n",
       "      <td>50000-100000</td>\n",
       "      <td>5.99</td>\n",
       "    </tr>\n",
       "    <tr>\n",
       "      <th>2777</th>\n",
       "      <td>285330</td>\n",
       "      <td>RollerCoaster Tycoon® 2: Triple Thrill Pack</td>\n",
       "      <td>2014-05-21</td>\n",
       "      <td>1</td>\n",
       "      <td>Chris Sawyer Productions</td>\n",
       "      <td>Atari</td>\n",
       "      <td>windows</td>\n",
       "      <td>0</td>\n",
       "      <td>Single-player</td>\n",
       "      <td>Simulation;Strategy</td>\n",
       "      <td>Simulation;Management;Classic</td>\n",
       "      <td>0</td>\n",
       "      <td>2086</td>\n",
       "      <td>336</td>\n",
       "      <td>200</td>\n",
       "      <td>262</td>\n",
       "      <td>500000-1000000</td>\n",
       "      <td>6.99</td>\n",
       "    </tr>\n",
       "    <tr>\n",
       "      <th>3059</th>\n",
       "      <td>294720</td>\n",
       "      <td>Putt-Putt® and Fatty Bear's Activity Pack</td>\n",
       "      <td>2014-05-15</td>\n",
       "      <td>1</td>\n",
       "      <td>Humongous Entertainment</td>\n",
       "      <td>Humongous Entertainment;Nightdive Studios</td>\n",
       "      <td>windows;mac;linux</td>\n",
       "      <td>0</td>\n",
       "      <td>Single-player;Steam Cloud</td>\n",
       "      <td>Casual</td>\n",
       "      <td>Casual;Family Friendly;Point &amp; Click</td>\n",
       "      <td>0</td>\n",
       "      <td>46</td>\n",
       "      <td>9</td>\n",
       "      <td>0</td>\n",
       "      <td>0</td>\n",
       "      <td>20000-50000</td>\n",
       "      <td>3.99</td>\n",
       "    </tr>\n",
       "    <tr>\n",
       "      <th>4145</th>\n",
       "      <td>331670</td>\n",
       "      <td>The Jackbox Party Pack</td>\n",
       "      <td>2014-11-26</td>\n",
       "      <td>1</td>\n",
       "      <td>Jackbox Games, Inc.</td>\n",
       "      <td>Jackbox Games, Inc.</td>\n",
       "      <td>windows;mac;linux</td>\n",
       "      <td>0</td>\n",
       "      <td>Single-player;Local Multi-Player;Local Co-op;S...</td>\n",
       "      <td>Casual;Indie;Strategy</td>\n",
       "      <td>Casual;Local Multiplayer;Funny</td>\n",
       "      <td>20</td>\n",
       "      <td>774</td>\n",
       "      <td>72</td>\n",
       "      <td>30</td>\n",
       "      <td>30</td>\n",
       "      <td>200000-500000</td>\n",
       "      <td>18.99</td>\n",
       "    </tr>\n",
       "    <tr>\n",
       "      <th>4839</th>\n",
       "      <td>349060</td>\n",
       "      <td>Fruits Inc. Deluxe Pack</td>\n",
       "      <td>2015-02-19</td>\n",
       "      <td>1</td>\n",
       "      <td>Manifesto Game Studio</td>\n",
       "      <td>Strategy First</td>\n",
       "      <td>windows</td>\n",
       "      <td>0</td>\n",
       "      <td>Single-player</td>\n",
       "      <td>Casual;Indie</td>\n",
       "      <td>Indie;Casual</td>\n",
       "      <td>0</td>\n",
       "      <td>9</td>\n",
       "      <td>11</td>\n",
       "      <td>0</td>\n",
       "      <td>0</td>\n",
       "      <td>0-20000</td>\n",
       "      <td>5.59</td>\n",
       "    </tr>\n",
       "    <tr>\n",
       "      <th>5693</th>\n",
       "      <td>370970</td>\n",
       "      <td>Unlimited Escape 3 &amp; 4 Double Pack</td>\n",
       "      <td>2015-05-21</td>\n",
       "      <td>1</td>\n",
       "      <td>Carlo D'Apostoli Projects</td>\n",
       "      <td>Strategy First</td>\n",
       "      <td>windows</td>\n",
       "      <td>0</td>\n",
       "      <td>Single-player</td>\n",
       "      <td>Action;Casual;Indie</td>\n",
       "      <td>Action;Indie;Casual</td>\n",
       "      <td>0</td>\n",
       "      <td>1</td>\n",
       "      <td>2</td>\n",
       "      <td>0</td>\n",
       "      <td>0</td>\n",
       "      <td>0-20000</td>\n",
       "      <td>4.99</td>\n",
       "    </tr>\n",
       "    <tr>\n",
       "      <th>6637</th>\n",
       "      <td>397460</td>\n",
       "      <td>The Jackbox Party Pack 2</td>\n",
       "      <td>2015-10-13</td>\n",
       "      <td>1</td>\n",
       "      <td>Jackbox Games, Inc.</td>\n",
       "      <td>Jackbox Games, Inc.</td>\n",
       "      <td>windows;mac;linux</td>\n",
       "      <td>0</td>\n",
       "      <td>Single-player;Local Multi-Player;Local Co-op;S...</td>\n",
       "      <td>Casual;Indie;Strategy</td>\n",
       "      <td>Local Multiplayer;Casual;Indie</td>\n",
       "      <td>20</td>\n",
       "      <td>533</td>\n",
       "      <td>32</td>\n",
       "      <td>264</td>\n",
       "      <td>264</td>\n",
       "      <td>200000-500000</td>\n",
       "      <td>18.99</td>\n",
       "    </tr>\n",
       "    <tr>\n",
       "      <th>7220</th>\n",
       "      <td>414810</td>\n",
       "      <td>Observatory: A VR Variety Pack</td>\n",
       "      <td>2016-05-12</td>\n",
       "      <td>1</td>\n",
       "      <td>2DArray</td>\n",
       "      <td>2DArray</td>\n",
       "      <td>windows;mac</td>\n",
       "      <td>0</td>\n",
       "      <td>Single-player;Full controller support;VR Suppo...</td>\n",
       "      <td>Adventure;Indie;Racing;Early Access</td>\n",
       "      <td>Early Access;Racing;Indie</td>\n",
       "      <td>0</td>\n",
       "      <td>8</td>\n",
       "      <td>1</td>\n",
       "      <td>0</td>\n",
       "      <td>0</td>\n",
       "      <td>0-20000</td>\n",
       "      <td>6.99</td>\n",
       "    </tr>\n",
       "    <tr>\n",
       "      <th>7825</th>\n",
       "      <td>434170</td>\n",
       "      <td>The Jackbox Party Pack 3</td>\n",
       "      <td>2016-10-17</td>\n",
       "      <td>1</td>\n",
       "      <td>Jackbox Games, Inc.</td>\n",
       "      <td>Jackbox Games, Inc.</td>\n",
       "      <td>windows;mac;linux</td>\n",
       "      <td>0</td>\n",
       "      <td>Single-player;Local Multi-Player;Local Co-op;S...</td>\n",
       "      <td>Casual;Indie;Strategy</td>\n",
       "      <td>Local Multiplayer;Casual;Multiplayer</td>\n",
       "      <td>20</td>\n",
       "      <td>831</td>\n",
       "      <td>44</td>\n",
       "      <td>302</td>\n",
       "      <td>302</td>\n",
       "      <td>200000-500000</td>\n",
       "      <td>18.99</td>\n",
       "    </tr>\n",
       "    <tr>\n",
       "      <th>9055</th>\n",
       "      <td>467470</td>\n",
       "      <td>Shoot Shoot Mega Pack</td>\n",
       "      <td>2017-04-28</td>\n",
       "      <td>1</td>\n",
       "      <td>Actual Humans</td>\n",
       "      <td>Actual Humans</td>\n",
       "      <td>windows;mac</td>\n",
       "      <td>0</td>\n",
       "      <td>Local Multi-Player;Shared/Split Screen;Steam A...</td>\n",
       "      <td>Action;Casual;Indie</td>\n",
       "      <td>Action;Indie;Casual</td>\n",
       "      <td>12</td>\n",
       "      <td>15</td>\n",
       "      <td>0</td>\n",
       "      <td>0</td>\n",
       "      <td>0</td>\n",
       "      <td>0-20000</td>\n",
       "      <td>11.39</td>\n",
       "    </tr>\n",
       "    <tr>\n",
       "      <th>12309</th>\n",
       "      <td>564340</td>\n",
       "      <td>5-in-1 Pack - Monument Builders: Destination USA</td>\n",
       "      <td>2016-12-20</td>\n",
       "      <td>1</td>\n",
       "      <td>Little World Studio</td>\n",
       "      <td>Games for All</td>\n",
       "      <td>windows</td>\n",
       "      <td>0</td>\n",
       "      <td>Single-player</td>\n",
       "      <td>Casual</td>\n",
       "      <td>Casual</td>\n",
       "      <td>0</td>\n",
       "      <td>0</td>\n",
       "      <td>1</td>\n",
       "      <td>0</td>\n",
       "      <td>0</td>\n",
       "      <td>0-20000</td>\n",
       "      <td>6.99</td>\n",
       "    </tr>\n",
       "    <tr>\n",
       "      <th>13880</th>\n",
       "      <td>610180</td>\n",
       "      <td>The Jackbox Party Pack 4</td>\n",
       "      <td>2017-10-18</td>\n",
       "      <td>1</td>\n",
       "      <td>Jackbox Games, Inc.</td>\n",
       "      <td>Jackbox Games, Inc.</td>\n",
       "      <td>windows;mac;linux</td>\n",
       "      <td>0</td>\n",
       "      <td>Local Multi-Player;Local Co-op;Steam Achieveme...</td>\n",
       "      <td>Casual;Indie;Strategy</td>\n",
       "      <td>Casual;Indie;Local Multiplayer</td>\n",
       "      <td>20</td>\n",
       "      <td>284</td>\n",
       "      <td>54</td>\n",
       "      <td>50</td>\n",
       "      <td>50</td>\n",
       "      <td>100000-200000</td>\n",
       "      <td>18.99</td>\n",
       "    </tr>\n",
       "    <tr>\n",
       "      <th>16967</th>\n",
       "      <td>703310</td>\n",
       "      <td>Hidden &amp; Dangerous: Action Pack</td>\n",
       "      <td>2017-12-20</td>\n",
       "      <td>1</td>\n",
       "      <td>Illusion Softworks</td>\n",
       "      <td>2K</td>\n",
       "      <td>windows</td>\n",
       "      <td>0</td>\n",
       "      <td>Single-player</td>\n",
       "      <td>Violent;Action;Strategy</td>\n",
       "      <td>Action;Violent;Strategy</td>\n",
       "      <td>0</td>\n",
       "      <td>19</td>\n",
       "      <td>8</td>\n",
       "      <td>0</td>\n",
       "      <td>0</td>\n",
       "      <td>0-20000</td>\n",
       "      <td>4.69</td>\n",
       "    </tr>\n",
       "    <tr>\n",
       "      <th>18234</th>\n",
       "      <td>740220</td>\n",
       "      <td>PeoplePackages</td>\n",
       "      <td>2017-11-07</td>\n",
       "      <td>1</td>\n",
       "      <td>StalkerAlex</td>\n",
       "      <td>StalkerAlex.</td>\n",
       "      <td>windows</td>\n",
       "      <td>0</td>\n",
       "      <td>Single-player</td>\n",
       "      <td>Casual;Indie;Simulation</td>\n",
       "      <td>Indie;Casual;Simulation</td>\n",
       "      <td>0</td>\n",
       "      <td>2</td>\n",
       "      <td>2</td>\n",
       "      <td>0</td>\n",
       "      <td>0</td>\n",
       "      <td>0-20000</td>\n",
       "      <td>0.79</td>\n",
       "    </tr>\n",
       "    <tr>\n",
       "      <th>19282</th>\n",
       "      <td>770320</td>\n",
       "      <td>Zazmo Arcade Pack</td>\n",
       "      <td>2018-08-02</td>\n",
       "      <td>1</td>\n",
       "      <td>Donley Time Foundation</td>\n",
       "      <td>Donley Time Foundation</td>\n",
       "      <td>windows</td>\n",
       "      <td>0</td>\n",
       "      <td>Single-player;Multi-player;Local Multi-Player;...</td>\n",
       "      <td>Action;Adventure;Casual;Indie</td>\n",
       "      <td>Action;Indie;Adventure</td>\n",
       "      <td>26</td>\n",
       "      <td>3</td>\n",
       "      <td>1</td>\n",
       "      <td>0</td>\n",
       "      <td>0</td>\n",
       "      <td>0-20000</td>\n",
       "      <td>7.19</td>\n",
       "    </tr>\n",
       "    <tr>\n",
       "      <th>19438</th>\n",
       "      <td>774461</td>\n",
       "      <td>The Jackbox Party Pack 5</td>\n",
       "      <td>2018-10-17</td>\n",
       "      <td>1</td>\n",
       "      <td>Jackbox Games, Inc.</td>\n",
       "      <td>Jackbox Games, Inc.</td>\n",
       "      <td>windows;mac;linux</td>\n",
       "      <td>0</td>\n",
       "      <td>Single-player;Local Multi-Player;Local Co-op;S...</td>\n",
       "      <td>Casual</td>\n",
       "      <td>Casual;Local Multiplayer;Comedy</td>\n",
       "      <td>20</td>\n",
       "      <td>242</td>\n",
       "      <td>63</td>\n",
       "      <td>108</td>\n",
       "      <td>156</td>\n",
       "      <td>50000-100000</td>\n",
       "      <td>23.79</td>\n",
       "    </tr>\n",
       "    <tr>\n",
       "      <th>21090</th>\n",
       "      <td>821400</td>\n",
       "      <td>Packed Train</td>\n",
       "      <td>2018-07-26</td>\n",
       "      <td>1</td>\n",
       "      <td>Ice Code Games</td>\n",
       "      <td>GrabTheGames</td>\n",
       "      <td>windows;mac;linux</td>\n",
       "      <td>0</td>\n",
       "      <td>Single-player;Steam Achievements;Steam Leaderb...</td>\n",
       "      <td>Casual;Indie</td>\n",
       "      <td>Casual;Indie;Puzzle</td>\n",
       "      <td>16</td>\n",
       "      <td>6</td>\n",
       "      <td>0</td>\n",
       "      <td>0</td>\n",
       "      <td>0</td>\n",
       "      <td>0-20000</td>\n",
       "      <td>1.69</td>\n",
       "    </tr>\n",
       "    <tr>\n",
       "      <th>23600</th>\n",
       "      <td>898250</td>\n",
       "      <td>PackageRun</td>\n",
       "      <td>2018-08-03</td>\n",
       "      <td>1</td>\n",
       "      <td>Pavel Black</td>\n",
       "      <td>Pavel Black</td>\n",
       "      <td>windows</td>\n",
       "      <td>0</td>\n",
       "      <td>Single-player</td>\n",
       "      <td>Adventure;Casual;Indie</td>\n",
       "      <td>Indie;Casual;Adventure</td>\n",
       "      <td>0</td>\n",
       "      <td>1</td>\n",
       "      <td>1</td>\n",
       "      <td>0</td>\n",
       "      <td>0</td>\n",
       "      <td>0-20000</td>\n",
       "      <td>3.99</td>\n",
       "    </tr>\n",
       "    <tr>\n",
       "      <th>24582</th>\n",
       "      <td>936950</td>\n",
       "      <td>BR Logic Pack</td>\n",
       "      <td>2018-09-29</td>\n",
       "      <td>1</td>\n",
       "      <td>Benarom Games</td>\n",
       "      <td>Benarom Games</td>\n",
       "      <td>windows</td>\n",
       "      <td>0</td>\n",
       "      <td>Single-player;Shared/Split Screen;Steam Cloud</td>\n",
       "      <td>Action;Casual;Indie;Strategy</td>\n",
       "      <td>Casual;Indie;Action</td>\n",
       "      <td>0</td>\n",
       "      <td>1</td>\n",
       "      <td>3</td>\n",
       "      <td>0</td>\n",
       "      <td>0</td>\n",
       "      <td>0-20000</td>\n",
       "      <td>0.79</td>\n",
       "    </tr>\n",
       "    <tr>\n",
       "      <th>26292</th>\n",
       "      <td>1011470</td>\n",
       "      <td>PacketStorm</td>\n",
       "      <td>2019-02-28</td>\n",
       "      <td>1</td>\n",
       "      <td>ProjectorGames</td>\n",
       "      <td>ProjectorGames</td>\n",
       "      <td>windows</td>\n",
       "      <td>0</td>\n",
       "      <td>Single-player</td>\n",
       "      <td>Casual;Indie;Simulation;Strategy</td>\n",
       "      <td>Casual;Strategy;Indie</td>\n",
       "      <td>0</td>\n",
       "      <td>4</td>\n",
       "      <td>1</td>\n",
       "      <td>0</td>\n",
       "      <td>0</td>\n",
       "      <td>0-20000</td>\n",
       "      <td>5.00</td>\n",
       "    </tr>\n",
       "  </tbody>\n",
       "</table>\n",
       "</div>"
      ],
      "text/plain": [
       "         appid                                               name  \\\n",
       "53        2330               QUAKE II Mission Pack: The Reckoning   \n",
       "54        2340                 QUAKE II Mission Pack: Ground Zero   \n",
       "226       9030      QUAKE Mission Pack 2: Dissolution of Eternity   \n",
       "227       9040           QUAKE Mission Pack 1: Scourge of Armagon   \n",
       "406      17440                    SPORE™ Creepy & Cute Parts Pack   \n",
       "599      32470               STAR WARS™ Empire at War - Gold Pack   \n",
       "676      36130                 Tradewinds Caravans + Odyssey Pack   \n",
       "704      37400  Time Gentlemen, Please! and Ben There, Dan Tha...   \n",
       "709      37960                                   Jewel Quest Pack   \n",
       "1299    207400          eXceed 3rd - Jade Penetrate Black Package   \n",
       "1756    238050                          The Apogee Throwback Pack   \n",
       "2281    263940                                     Red Baron Pack   \n",
       "2685    282010                               Carmageddon Max Pack   \n",
       "2777    285330        RollerCoaster Tycoon® 2: Triple Thrill Pack   \n",
       "3059    294720          Putt-Putt® and Fatty Bear's Activity Pack   \n",
       "4145    331670                             The Jackbox Party Pack   \n",
       "4839    349060                            Fruits Inc. Deluxe Pack   \n",
       "5693    370970                 Unlimited Escape 3 & 4 Double Pack   \n",
       "6637    397460                           The Jackbox Party Pack 2   \n",
       "7220    414810                     Observatory: A VR Variety Pack   \n",
       "7825    434170                           The Jackbox Party Pack 3   \n",
       "9055    467470                              Shoot Shoot Mega Pack   \n",
       "12309   564340   5-in-1 Pack - Monument Builders: Destination USA   \n",
       "13880   610180                           The Jackbox Party Pack 4   \n",
       "16967   703310                    Hidden & Dangerous: Action Pack   \n",
       "18234   740220                                     PeoplePackages   \n",
       "19282   770320                                  Zazmo Arcade Pack   \n",
       "19438   774461                           The Jackbox Party Pack 5   \n",
       "21090   821400                                       Packed Train   \n",
       "23600   898250                                         PackageRun   \n",
       "24582   936950                                      BR Logic Pack   \n",
       "26292  1011470                                        PacketStorm   \n",
       "\n",
       "      release_date  english                  developer  \\\n",
       "53      2007-08-03        1       Xatrix Entertainment   \n",
       "54      2007-08-03        1        Rogue Entertainment   \n",
       "226     2007-08-03        1        Rogue Entertainment   \n",
       "227     2007-08-03        1       Ritual Entertainment   \n",
       "406     2008-12-19        1                     Maxis™   \n",
       "599     2010-05-25        1                 Petroglyph   \n",
       "676     2009-07-17        1              Sandlot Games   \n",
       "704     2009-08-25        1            Size Five Games   \n",
       "709     2009-08-24        1                       iWin   \n",
       "1299    2012-08-02        1               Tennen-sozai   \n",
       "1756    2013-07-01        1  Interceptor Entertainment   \n",
       "2281    2016-01-07        1            Mad Otter Games   \n",
       "2685    1997-06-30        1        Stainless Games Ltd   \n",
       "2777    2014-05-21        1   Chris Sawyer Productions   \n",
       "3059    2014-05-15        1    Humongous Entertainment   \n",
       "4145    2014-11-26        1        Jackbox Games, Inc.   \n",
       "4839    2015-02-19        1      Manifesto Game Studio   \n",
       "5693    2015-05-21        1  Carlo D'Apostoli Projects   \n",
       "6637    2015-10-13        1        Jackbox Games, Inc.   \n",
       "7220    2016-05-12        1                    2DArray   \n",
       "7825    2016-10-17        1        Jackbox Games, Inc.   \n",
       "9055    2017-04-28        1              Actual Humans   \n",
       "12309   2016-12-20        1        Little World Studio   \n",
       "13880   2017-10-18        1        Jackbox Games, Inc.   \n",
       "16967   2017-12-20        1         Illusion Softworks   \n",
       "18234   2017-11-07        1                StalkerAlex   \n",
       "19282   2018-08-02        1     Donley Time Foundation   \n",
       "19438   2018-10-17        1        Jackbox Games, Inc.   \n",
       "21090   2018-07-26        1             Ice Code Games   \n",
       "23600   2018-08-03        1                Pavel Black   \n",
       "24582   2018-09-29        1              Benarom Games   \n",
       "26292   2019-02-28        1             ProjectorGames   \n",
       "\n",
       "                                       publisher          platforms  \\\n",
       "53                                   id Software            windows   \n",
       "54                                   id Software            windows   \n",
       "226                                  id Software            windows   \n",
       "227                                  id Software            windows   \n",
       "406                              Electronic Arts            windows   \n",
       "599       LucasArts;Lucasfilm;Disney Interactive            windows   \n",
       "676                                Sandlot Games            windows   \n",
       "704                              Size Five Games            windows   \n",
       "709                                         iWin            windows   \n",
       "1299                                   Nyu Media            windows   \n",
       "1756                             Apogee Software        windows;mac   \n",
       "2281                             Mad Otter Games            windows   \n",
       "2685                                  THQ Nordic            windows   \n",
       "2777                                       Atari            windows   \n",
       "3059   Humongous Entertainment;Nightdive Studios  windows;mac;linux   \n",
       "4145                         Jackbox Games, Inc.  windows;mac;linux   \n",
       "4839                              Strategy First            windows   \n",
       "5693                              Strategy First            windows   \n",
       "6637                         Jackbox Games, Inc.  windows;mac;linux   \n",
       "7220                                     2DArray        windows;mac   \n",
       "7825                         Jackbox Games, Inc.  windows;mac;linux   \n",
       "9055                               Actual Humans        windows;mac   \n",
       "12309                              Games for All            windows   \n",
       "13880                        Jackbox Games, Inc.  windows;mac;linux   \n",
       "16967                                         2K            windows   \n",
       "18234                               StalkerAlex.            windows   \n",
       "19282                     Donley Time Foundation            windows   \n",
       "19438                        Jackbox Games, Inc.  windows;mac;linux   \n",
       "21090                               GrabTheGames  windows;mac;linux   \n",
       "23600                                Pavel Black            windows   \n",
       "24582                              Benarom Games            windows   \n",
       "26292                             ProjectorGames            windows   \n",
       "\n",
       "       required_age                                         categories  \\\n",
       "53                0             Single-player;Multi-player;Steam Cloud   \n",
       "54                0             Single-player;Multi-player;Steam Cloud   \n",
       "226               0             Single-player;Multi-player;Steam Cloud   \n",
       "227               0             Single-player;Multi-player;Steam Cloud   \n",
       "406               0                                      Single-player   \n",
       "599               0  Single-player;Multi-player;Online Multi-Player...   \n",
       "676               0                                      Single-player   \n",
       "704               0                                      Single-player   \n",
       "709               0                                      Single-player   \n",
       "1299              0                  Single-player;Steam Trading Cards   \n",
       "1756             16                                      Single-player   \n",
       "2281              0  Single-player;Multi-player;Partial Controller ...   \n",
       "2685              0     Single-player;Multi-player;Steam Trading Cards   \n",
       "2777              0                                      Single-player   \n",
       "3059              0                          Single-player;Steam Cloud   \n",
       "4145              0  Single-player;Local Multi-Player;Local Co-op;S...   \n",
       "4839              0                                      Single-player   \n",
       "5693              0                                      Single-player   \n",
       "6637              0  Single-player;Local Multi-Player;Local Co-op;S...   \n",
       "7220              0  Single-player;Full controller support;VR Suppo...   \n",
       "7825              0  Single-player;Local Multi-Player;Local Co-op;S...   \n",
       "9055              0  Local Multi-Player;Shared/Split Screen;Steam A...   \n",
       "12309             0                                      Single-player   \n",
       "13880             0  Local Multi-Player;Local Co-op;Steam Achieveme...   \n",
       "16967             0                                      Single-player   \n",
       "18234             0                                      Single-player   \n",
       "19282             0  Single-player;Multi-player;Local Multi-Player;...   \n",
       "19438             0  Single-player;Local Multi-Player;Local Co-op;S...   \n",
       "21090             0  Single-player;Steam Achievements;Steam Leaderb...   \n",
       "23600             0                                      Single-player   \n",
       "24582             0      Single-player;Shared/Split Screen;Steam Cloud   \n",
       "26292             0                                      Single-player   \n",
       "\n",
       "                                    genres  \\\n",
       "53                                  Action   \n",
       "54                                  Action   \n",
       "226                                 Action   \n",
       "227                                 Action   \n",
       "406                             Simulation   \n",
       "599                               Strategy   \n",
       "676                                 Casual   \n",
       "704                        Adventure;Indie   \n",
       "709                                 Casual   \n",
       "1299                                Action   \n",
       "1756                                Action   \n",
       "2281                            Simulation   \n",
       "2685                   Action;Indie;Racing   \n",
       "2777                   Simulation;Strategy   \n",
       "3059                                Casual   \n",
       "4145                 Casual;Indie;Strategy   \n",
       "4839                          Casual;Indie   \n",
       "5693                   Action;Casual;Indie   \n",
       "6637                 Casual;Indie;Strategy   \n",
       "7220   Adventure;Indie;Racing;Early Access   \n",
       "7825                 Casual;Indie;Strategy   \n",
       "9055                   Action;Casual;Indie   \n",
       "12309                               Casual   \n",
       "13880                Casual;Indie;Strategy   \n",
       "16967              Violent;Action;Strategy   \n",
       "18234              Casual;Indie;Simulation   \n",
       "19282        Action;Adventure;Casual;Indie   \n",
       "19438                               Casual   \n",
       "21090                         Casual;Indie   \n",
       "23600               Adventure;Casual;Indie   \n",
       "24582         Action;Casual;Indie;Strategy   \n",
       "26292     Casual;Indie;Simulation;Strategy   \n",
       "\n",
       "                              steamspy_tags  achievements  positive_ratings  \\\n",
       "53                       Action;FPS;Classic             0                65   \n",
       "54                       Action;FPS;Shooter             0                54   \n",
       "226                      Action;FPS;Shooter             0               143   \n",
       "227                      Action;FPS;Shooter             0               205   \n",
       "406         Simulation;Adventure;Open World             0               481   \n",
       "599                  Strategy;Star Wars;RTS             0              6526   \n",
       "676                                  Casual             0                 4   \n",
       "704           Point & Click;Adventure;Indie             0               494   \n",
       "709                   Casual;Puzzle;Match 3             0                19   \n",
       "1299         Bullet Hell;Anime;Shoot 'Em Up             0               489   \n",
       "1756                     Action;FPS;Classic             0               198   \n",
       "2281          Simulation;World War I;Flight             0                37   \n",
       "2685                  Racing;Action;Classic             0               352   \n",
       "2777          Simulation;Management;Classic             0              2086   \n",
       "3059   Casual;Family Friendly;Point & Click             0                46   \n",
       "4145         Casual;Local Multiplayer;Funny            20               774   \n",
       "4839                           Indie;Casual             0                 9   \n",
       "5693                    Action;Indie;Casual             0                 1   \n",
       "6637         Local Multiplayer;Casual;Indie            20               533   \n",
       "7220              Early Access;Racing;Indie             0                 8   \n",
       "7825   Local Multiplayer;Casual;Multiplayer            20               831   \n",
       "9055                    Action;Indie;Casual            12                15   \n",
       "12309                                Casual             0                 0   \n",
       "13880        Casual;Indie;Local Multiplayer            20               284   \n",
       "16967               Action;Violent;Strategy             0                19   \n",
       "18234               Indie;Casual;Simulation             0                 2   \n",
       "19282                Action;Indie;Adventure            26                 3   \n",
       "19438       Casual;Local Multiplayer;Comedy            20               242   \n",
       "21090                   Casual;Indie;Puzzle            16                 6   \n",
       "23600                Indie;Casual;Adventure             0                 1   \n",
       "24582                   Casual;Indie;Action             0                 1   \n",
       "26292                 Casual;Strategy;Indie             0                 4   \n",
       "\n",
       "       negative_ratings  average_playtime  median_playtime           owners  \\\n",
       "53                   12                32               32    200000-500000   \n",
       "54                   33                 1                1    200000-500000   \n",
       "226                  15                88               91    200000-500000   \n",
       "227                  13               129              152    200000-500000   \n",
       "406                 100               171              240   500000-1000000   \n",
       "599                 396               395              219  1000000-2000000   \n",
       "676                   1                 0                0          0-20000   \n",
       "704                 118                10               10    200000-500000   \n",
       "709                   3                 0                0          0-20000   \n",
       "1299                 41               127              141     50000-100000   \n",
       "1756                 20                37               37    100000-200000   \n",
       "2281                 14                 0                0          0-20000   \n",
       "2685                 35                13               13     50000-100000   \n",
       "2777                336               200              262   500000-1000000   \n",
       "3059                  9                 0                0      20000-50000   \n",
       "4145                 72                30               30    200000-500000   \n",
       "4839                 11                 0                0          0-20000   \n",
       "5693                  2                 0                0          0-20000   \n",
       "6637                 32               264              264    200000-500000   \n",
       "7220                  1                 0                0          0-20000   \n",
       "7825                 44               302              302    200000-500000   \n",
       "9055                  0                 0                0          0-20000   \n",
       "12309                 1                 0                0          0-20000   \n",
       "13880                54                50               50    100000-200000   \n",
       "16967                 8                 0                0          0-20000   \n",
       "18234                 2                 0                0          0-20000   \n",
       "19282                 1                 0                0          0-20000   \n",
       "19438                63               108              156     50000-100000   \n",
       "21090                 0                 0                0          0-20000   \n",
       "23600                 1                 0                0          0-20000   \n",
       "24582                 3                 0                0          0-20000   \n",
       "26292                 1                 0                0          0-20000   \n",
       "\n",
       "       price  \n",
       "53      2.49  \n",
       "54      2.49  \n",
       "226     2.49  \n",
       "227     2.49  \n",
       "406     9.99  \n",
       "599    15.49  \n",
       "676    10.99  \n",
       "704     2.99  \n",
       "709    14.99  \n",
       "1299    4.79  \n",
       "1756    6.99  \n",
       "2281    6.99  \n",
       "2685    5.99  \n",
       "2777    6.99  \n",
       "3059    3.99  \n",
       "4145   18.99  \n",
       "4839    5.59  \n",
       "5693    4.99  \n",
       "6637   18.99  \n",
       "7220    6.99  \n",
       "7825   18.99  \n",
       "9055   11.39  \n",
       "12309   6.99  \n",
       "13880  18.99  \n",
       "16967   4.69  \n",
       "18234   0.79  \n",
       "19282   7.19  \n",
       "19438  23.79  \n",
       "21090   1.69  \n",
       "23600   3.99  \n",
       "24582   0.79  \n",
       "26292   5.00  "
      ]
     },
     "execution_count": 15,
     "metadata": {},
     "output_type": "execute_result"
    }
   ],
   "source": [
    "pack = steam_df[steam_df['name'].str.contains('Pack')]\n",
    "pack"
   ]
  },
  {
   "cell_type": "code",
   "execution_count": 16,
   "metadata": {},
   "outputs": [
    {
     "data": {
      "text/plain": [
       "(32, 18)"
      ]
     },
     "execution_count": 16,
     "metadata": {},
     "output_type": "execute_result"
    }
   ],
   "source": [
    "pack.shape"
   ]
  },
  {
   "cell_type": "code",
   "execution_count": 17,
   "metadata": {},
   "outputs": [
    {
     "data": {
      "text/plain": [
       "53                    QUAKE II Mission Pack: The Reckoning\n",
       "54                      QUAKE II Mission Pack: Ground Zero\n",
       "226          QUAKE Mission Pack 2: Dissolution of Eternity\n",
       "227               QUAKE Mission Pack 1: Scourge of Armagon\n",
       "406                        SPORE™ Creepy & Cute Parts Pack\n",
       "599                   STAR WARS™ Empire at War - Gold Pack\n",
       "676                     Tradewinds Caravans + Odyssey Pack\n",
       "704      Time Gentlemen, Please! and Ben There, Dan Tha...\n",
       "709                                       Jewel Quest Pack\n",
       "1299             eXceed 3rd - Jade Penetrate Black Package\n",
       "1756                             The Apogee Throwback Pack\n",
       "2281                                        Red Baron Pack\n",
       "2685                                  Carmageddon Max Pack\n",
       "2777           RollerCoaster Tycoon® 2: Triple Thrill Pack\n",
       "3059             Putt-Putt® and Fatty Bear's Activity Pack\n",
       "4145                                The Jackbox Party Pack\n",
       "4839                               Fruits Inc. Deluxe Pack\n",
       "5693                    Unlimited Escape 3 & 4 Double Pack\n",
       "6637                              The Jackbox Party Pack 2\n",
       "7220                        Observatory: A VR Variety Pack\n",
       "7825                              The Jackbox Party Pack 3\n",
       "9055                                 Shoot Shoot Mega Pack\n",
       "12309     5-in-1 Pack - Monument Builders: Destination USA\n",
       "13880                             The Jackbox Party Pack 4\n",
       "16967                      Hidden & Dangerous: Action Pack\n",
       "18234                                       PeoplePackages\n",
       "19282                                    Zazmo Arcade Pack\n",
       "19438                             The Jackbox Party Pack 5\n",
       "21090                                         Packed Train\n",
       "23600                                           PackageRun\n",
       "24582                                        BR Logic Pack\n",
       "26292                                          PacketStorm\n",
       "Name: name, dtype: object"
      ]
     },
     "execution_count": 17,
     "metadata": {},
     "output_type": "execute_result"
    }
   ],
   "source": [
    "pack['name']"
   ]
  },
  {
   "cell_type": "markdown",
   "metadata": {},
   "source": [
    "Searching for 'pack' within the app name yielded a list of possible DLCs. Since there were only 32 instances, I manually went through Steam's store to determine what was considered a game and was was considered DLC. Most of these games were game bundles (\"packs\") and were not removed. Some of these apps were no longer available on the store so these were also removed."
   ]
  },
  {
   "cell_type": "code",
   "execution_count": 18,
   "metadata": {},
   "outputs": [],
   "source": [
    "#a list of indices of dlc content to remove from the dataset\n",
    "dlc_list = [53, 54, 226, 227, 406]"
   ]
  },
  {
   "cell_type": "code",
   "execution_count": 19,
   "metadata": {},
   "outputs": [
    {
     "data": {
      "text/html": [
       "<div>\n",
       "<style scoped>\n",
       "    .dataframe tbody tr th:only-of-type {\n",
       "        vertical-align: middle;\n",
       "    }\n",
       "\n",
       "    .dataframe tbody tr th {\n",
       "        vertical-align: top;\n",
       "    }\n",
       "\n",
       "    .dataframe thead th {\n",
       "        text-align: right;\n",
       "    }\n",
       "</style>\n",
       "<table border=\"1\" class=\"dataframe\">\n",
       "  <thead>\n",
       "    <tr style=\"text-align: right;\">\n",
       "      <th></th>\n",
       "      <th>appid</th>\n",
       "      <th>name</th>\n",
       "      <th>release_date</th>\n",
       "      <th>english</th>\n",
       "      <th>developer</th>\n",
       "      <th>publisher</th>\n",
       "      <th>platforms</th>\n",
       "      <th>required_age</th>\n",
       "      <th>categories</th>\n",
       "      <th>genres</th>\n",
       "      <th>steamspy_tags</th>\n",
       "      <th>achievements</th>\n",
       "      <th>positive_ratings</th>\n",
       "      <th>negative_ratings</th>\n",
       "      <th>average_playtime</th>\n",
       "      <th>median_playtime</th>\n",
       "      <th>owners</th>\n",
       "      <th>price</th>\n",
       "    </tr>\n",
       "  </thead>\n",
       "  <tbody>\n",
       "    <tr>\n",
       "      <th>43</th>\n",
       "      <td>1930</td>\n",
       "      <td>Two Worlds Epic Edition</td>\n",
       "      <td>2009-04-30</td>\n",
       "      <td>1</td>\n",
       "      <td>Reality Pump Studios</td>\n",
       "      <td>Topware Interactive</td>\n",
       "      <td>windows;mac;linux</td>\n",
       "      <td>0</td>\n",
       "      <td>Single-player;Multi-player;Online Multi-Player...</td>\n",
       "      <td>RPG</td>\n",
       "      <td>RPG;Open World;Fantasy</td>\n",
       "      <td>0</td>\n",
       "      <td>2656</td>\n",
       "      <td>1055</td>\n",
       "      <td>484</td>\n",
       "      <td>422</td>\n",
       "      <td>1000000-2000000</td>\n",
       "      <td>6.99</td>\n",
       "    </tr>\n",
       "    <tr>\n",
       "      <th>103</th>\n",
       "      <td>3590</td>\n",
       "      <td>Plants vs. Zombies GOTY Edition</td>\n",
       "      <td>2009-05-05</td>\n",
       "      <td>1</td>\n",
       "      <td>PopCap Games, Inc.</td>\n",
       "      <td>PopCap Games, Inc.</td>\n",
       "      <td>windows;mac</td>\n",
       "      <td>0</td>\n",
       "      <td>Single-player;Steam Achievements</td>\n",
       "      <td>Strategy</td>\n",
       "      <td>Tower Defense;Zombies;Strategy</td>\n",
       "      <td>21</td>\n",
       "      <td>14630</td>\n",
       "      <td>454</td>\n",
       "      <td>480</td>\n",
       "      <td>374</td>\n",
       "      <td>1000000-2000000</td>\n",
       "      <td>4.25</td>\n",
       "    </tr>\n",
       "    <tr>\n",
       "      <th>132</th>\n",
       "      <td>4560</td>\n",
       "      <td>Company of Heroes - Legacy Edition</td>\n",
       "      <td>2007-07-17</td>\n",
       "      <td>1</td>\n",
       "      <td>Relic Entertainment</td>\n",
       "      <td>SEGA</td>\n",
       "      <td>windows</td>\n",
       "      <td>18</td>\n",
       "      <td>Single-player;Multi-player;Steam Trading Cards...</td>\n",
       "      <td>Violent;Action;Strategy</td>\n",
       "      <td>Strategy;RTS;World War II</td>\n",
       "      <td>0</td>\n",
       "      <td>4772</td>\n",
       "      <td>320</td>\n",
       "      <td>175</td>\n",
       "      <td>186</td>\n",
       "      <td>2000000-5000000</td>\n",
       "      <td>0.00</td>\n",
       "    </tr>\n",
       "    <tr>\n",
       "      <th>133</th>\n",
       "      <td>4570</td>\n",
       "      <td>Warhammer® 40,000: Dawn of War® - Game of the ...</td>\n",
       "      <td>2007-08-07</td>\n",
       "      <td>1</td>\n",
       "      <td>Relic Entertainment</td>\n",
       "      <td>SEGA</td>\n",
       "      <td>windows</td>\n",
       "      <td>16</td>\n",
       "      <td>Single-player;Multi-player;Steam Trading Cards...</td>\n",
       "      <td>Strategy</td>\n",
       "      <td>Strategy;Warhammer 40K;RTS</td>\n",
       "      <td>0</td>\n",
       "      <td>3485</td>\n",
       "      <td>206</td>\n",
       "      <td>309</td>\n",
       "      <td>340</td>\n",
       "      <td>1000000-2000000</td>\n",
       "      <td>9.99</td>\n",
       "    </tr>\n",
       "    <tr>\n",
       "      <th>135</th>\n",
       "      <td>4700</td>\n",
       "      <td>Total War: MEDIEVAL II – Definitive Edition</td>\n",
       "      <td>2006-11-15</td>\n",
       "      <td>1</td>\n",
       "      <td>CREATIVE ASSEMBLY;Feral Interactive (Mac);Fera...</td>\n",
       "      <td>SEGA;Feral Interactive (Mac);Feral Interactive...</td>\n",
       "      <td>windows;mac;linux</td>\n",
       "      <td>0</td>\n",
       "      <td>Single-player;Multi-player;Steam Trading Cards</td>\n",
       "      <td>Strategy</td>\n",
       "      <td>Strategy;Medieval;Historical</td>\n",
       "      <td>0</td>\n",
       "      <td>10270</td>\n",
       "      <td>605</td>\n",
       "      <td>469</td>\n",
       "      <td>361</td>\n",
       "      <td>2000000-5000000</td>\n",
       "      <td>0.00</td>\n",
       "    </tr>\n",
       "    <tr>\n",
       "      <th>...</th>\n",
       "      <td>...</td>\n",
       "      <td>...</td>\n",
       "      <td>...</td>\n",
       "      <td>...</td>\n",
       "      <td>...</td>\n",
       "      <td>...</td>\n",
       "      <td>...</td>\n",
       "      <td>...</td>\n",
       "      <td>...</td>\n",
       "      <td>...</td>\n",
       "      <td>...</td>\n",
       "      <td>...</td>\n",
       "      <td>...</td>\n",
       "      <td>...</td>\n",
       "      <td>...</td>\n",
       "      <td>...</td>\n",
       "      <td>...</td>\n",
       "      <td>...</td>\n",
       "    </tr>\n",
       "    <tr>\n",
       "      <th>26653</th>\n",
       "      <td>1029630</td>\n",
       "      <td>Power &amp; Revolution 2019 Edition</td>\n",
       "      <td>2019-03-12</td>\n",
       "      <td>1</td>\n",
       "      <td>Eversim</td>\n",
       "      <td>Eversim</td>\n",
       "      <td>windows</td>\n",
       "      <td>0</td>\n",
       "      <td>Single-player;Steam Achievements</td>\n",
       "      <td>Simulation;Strategy</td>\n",
       "      <td>Strategy;Simulation;Politics</td>\n",
       "      <td>71</td>\n",
       "      <td>50</td>\n",
       "      <td>63</td>\n",
       "      <td>0</td>\n",
       "      <td>0</td>\n",
       "      <td>0-20000</td>\n",
       "      <td>39.99</td>\n",
       "    </tr>\n",
       "    <tr>\n",
       "      <th>26663</th>\n",
       "      <td>1030190</td>\n",
       "      <td>Amaranthine Voyage: The Orb of Purity Collecto...</td>\n",
       "      <td>2019-03-15</td>\n",
       "      <td>1</td>\n",
       "      <td>Eipix Entertainment</td>\n",
       "      <td>Big Fish Games</td>\n",
       "      <td>windows</td>\n",
       "      <td>0</td>\n",
       "      <td>Single-player</td>\n",
       "      <td>Adventure;Casual</td>\n",
       "      <td>Adventure;Casual;Hidden Object</td>\n",
       "      <td>0</td>\n",
       "      <td>1</td>\n",
       "      <td>0</td>\n",
       "      <td>0</td>\n",
       "      <td>0</td>\n",
       "      <td>0-20000</td>\n",
       "      <td>10.29</td>\n",
       "    </tr>\n",
       "    <tr>\n",
       "      <th>26808</th>\n",
       "      <td>1039570</td>\n",
       "      <td>Find the Oil Racing Edition</td>\n",
       "      <td>2019-04-01</td>\n",
       "      <td>1</td>\n",
       "      <td>Atomic Fabrik;Cristian Manolachi</td>\n",
       "      <td>Atomic Fabrik;Cristian Manolachi</td>\n",
       "      <td>windows</td>\n",
       "      <td>0</td>\n",
       "      <td>Single-player;Partial Controller Support</td>\n",
       "      <td>Adventure;Casual;Indie;Racing;Simulation;Sports</td>\n",
       "      <td>Racing;Indie;Casual</td>\n",
       "      <td>0</td>\n",
       "      <td>0</td>\n",
       "      <td>1</td>\n",
       "      <td>0</td>\n",
       "      <td>0</td>\n",
       "      <td>0-20000</td>\n",
       "      <td>1.69</td>\n",
       "    </tr>\n",
       "    <tr>\n",
       "      <th>26877</th>\n",
       "      <td>1044340</td>\n",
       "      <td>The 7th Guest: 25th Anniversary Edition</td>\n",
       "      <td>2019-04-02</td>\n",
       "      <td>1</td>\n",
       "      <td>MojoTouch;Trilobyte Games</td>\n",
       "      <td>MojoTouch</td>\n",
       "      <td>windows</td>\n",
       "      <td>0</td>\n",
       "      <td>Single-player;Steam Achievements;Steam Cloud</td>\n",
       "      <td>Adventure</td>\n",
       "      <td>Adventure;FMV;Puzzle</td>\n",
       "      <td>28</td>\n",
       "      <td>22</td>\n",
       "      <td>14</td>\n",
       "      <td>0</td>\n",
       "      <td>0</td>\n",
       "      <td>0-20000</td>\n",
       "      <td>7.19</td>\n",
       "    </tr>\n",
       "    <tr>\n",
       "      <th>27006</th>\n",
       "      <td>1054750</td>\n",
       "      <td>Magic Farm 2: Fairy Lands (Premium Edition)</td>\n",
       "      <td>2019-04-08</td>\n",
       "      <td>1</td>\n",
       "      <td>Meridian93 Studio</td>\n",
       "      <td>HH-Games</td>\n",
       "      <td>windows</td>\n",
       "      <td>0</td>\n",
       "      <td>Single-player</td>\n",
       "      <td>Casual</td>\n",
       "      <td>Casual;Indie</td>\n",
       "      <td>0</td>\n",
       "      <td>2</td>\n",
       "      <td>0</td>\n",
       "      <td>0</td>\n",
       "      <td>0</td>\n",
       "      <td>0-20000</td>\n",
       "      <td>3.99</td>\n",
       "    </tr>\n",
       "  </tbody>\n",
       "</table>\n",
       "<p>603 rows × 18 columns</p>\n",
       "</div>"
      ],
      "text/plain": [
       "         appid                                               name  \\\n",
       "43        1930                            Two Worlds Epic Edition   \n",
       "103       3590                    Plants vs. Zombies GOTY Edition   \n",
       "132       4560                 Company of Heroes - Legacy Edition   \n",
       "133       4570  Warhammer® 40,000: Dawn of War® - Game of the ...   \n",
       "135       4700        Total War: MEDIEVAL II – Definitive Edition   \n",
       "...        ...                                                ...   \n",
       "26653  1029630                    Power & Revolution 2019 Edition   \n",
       "26663  1030190  Amaranthine Voyage: The Orb of Purity Collecto...   \n",
       "26808  1039570                        Find the Oil Racing Edition   \n",
       "26877  1044340            The 7th Guest: 25th Anniversary Edition   \n",
       "27006  1054750        Magic Farm 2: Fairy Lands (Premium Edition)   \n",
       "\n",
       "      release_date  english  \\\n",
       "43      2009-04-30        1   \n",
       "103     2009-05-05        1   \n",
       "132     2007-07-17        1   \n",
       "133     2007-08-07        1   \n",
       "135     2006-11-15        1   \n",
       "...            ...      ...   \n",
       "26653   2019-03-12        1   \n",
       "26663   2019-03-15        1   \n",
       "26808   2019-04-01        1   \n",
       "26877   2019-04-02        1   \n",
       "27006   2019-04-08        1   \n",
       "\n",
       "                                               developer  \\\n",
       "43                                  Reality Pump Studios   \n",
       "103                                   PopCap Games, Inc.   \n",
       "132                                  Relic Entertainment   \n",
       "133                                  Relic Entertainment   \n",
       "135    CREATIVE ASSEMBLY;Feral Interactive (Mac);Fera...   \n",
       "...                                                  ...   \n",
       "26653                                            Eversim   \n",
       "26663                                Eipix Entertainment   \n",
       "26808                   Atomic Fabrik;Cristian Manolachi   \n",
       "26877                          MojoTouch;Trilobyte Games   \n",
       "27006                                  Meridian93 Studio   \n",
       "\n",
       "                                               publisher          platforms  \\\n",
       "43                                   Topware Interactive  windows;mac;linux   \n",
       "103                                   PopCap Games, Inc.        windows;mac   \n",
       "132                                                 SEGA            windows   \n",
       "133                                                 SEGA            windows   \n",
       "135    SEGA;Feral Interactive (Mac);Feral Interactive...  windows;mac;linux   \n",
       "...                                                  ...                ...   \n",
       "26653                                            Eversim            windows   \n",
       "26663                                     Big Fish Games            windows   \n",
       "26808                   Atomic Fabrik;Cristian Manolachi            windows   \n",
       "26877                                          MojoTouch            windows   \n",
       "27006                                           HH-Games            windows   \n",
       "\n",
       "       required_age                                         categories  \\\n",
       "43                0  Single-player;Multi-player;Online Multi-Player...   \n",
       "103               0                   Single-player;Steam Achievements   \n",
       "132              18  Single-player;Multi-player;Steam Trading Cards...   \n",
       "133              16  Single-player;Multi-player;Steam Trading Cards...   \n",
       "135               0     Single-player;Multi-player;Steam Trading Cards   \n",
       "...             ...                                                ...   \n",
       "26653             0                   Single-player;Steam Achievements   \n",
       "26663             0                                      Single-player   \n",
       "26808             0           Single-player;Partial Controller Support   \n",
       "26877             0       Single-player;Steam Achievements;Steam Cloud   \n",
       "27006             0                                      Single-player   \n",
       "\n",
       "                                                genres  \\\n",
       "43                                                 RPG   \n",
       "103                                           Strategy   \n",
       "132                            Violent;Action;Strategy   \n",
       "133                                           Strategy   \n",
       "135                                           Strategy   \n",
       "...                                                ...   \n",
       "26653                              Simulation;Strategy   \n",
       "26663                                 Adventure;Casual   \n",
       "26808  Adventure;Casual;Indie;Racing;Simulation;Sports   \n",
       "26877                                        Adventure   \n",
       "27006                                           Casual   \n",
       "\n",
       "                        steamspy_tags  achievements  positive_ratings  \\\n",
       "43             RPG;Open World;Fantasy             0              2656   \n",
       "103    Tower Defense;Zombies;Strategy            21             14630   \n",
       "132         Strategy;RTS;World War II             0              4772   \n",
       "133        Strategy;Warhammer 40K;RTS             0              3485   \n",
       "135      Strategy;Medieval;Historical             0             10270   \n",
       "...                               ...           ...               ...   \n",
       "26653    Strategy;Simulation;Politics            71                50   \n",
       "26663  Adventure;Casual;Hidden Object             0                 1   \n",
       "26808             Racing;Indie;Casual             0                 0   \n",
       "26877            Adventure;FMV;Puzzle            28                22   \n",
       "27006                    Casual;Indie             0                 2   \n",
       "\n",
       "       negative_ratings  average_playtime  median_playtime           owners  \\\n",
       "43                 1055               484              422  1000000-2000000   \n",
       "103                 454               480              374  1000000-2000000   \n",
       "132                 320               175              186  2000000-5000000   \n",
       "133                 206               309              340  1000000-2000000   \n",
       "135                 605               469              361  2000000-5000000   \n",
       "...                 ...               ...              ...              ...   \n",
       "26653                63                 0                0          0-20000   \n",
       "26663                 0                 0                0          0-20000   \n",
       "26808                 1                 0                0          0-20000   \n",
       "26877                14                 0                0          0-20000   \n",
       "27006                 0                 0                0          0-20000   \n",
       "\n",
       "       price  \n",
       "43      6.99  \n",
       "103     4.25  \n",
       "132     0.00  \n",
       "133     9.99  \n",
       "135     0.00  \n",
       "...      ...  \n",
       "26653  39.99  \n",
       "26663  10.29  \n",
       "26808   1.69  \n",
       "26877   7.19  \n",
       "27006   3.99  \n",
       "\n",
       "[603 rows x 18 columns]"
      ]
     },
     "execution_count": 19,
     "metadata": {},
     "output_type": "execute_result"
    }
   ],
   "source": [
    "edition = steam_df[steam_df['name'].str.contains('Edition')]\n",
    "edition"
   ]
  },
  {
   "cell_type": "markdown",
   "metadata": {},
   "source": [
    "Different editions of games could also have high similarity with each other. However, since manually examining editions was difficult due to the hundreds of entries, I did not remove them from the dataset.  "
   ]
  },
  {
   "cell_type": "code",
   "execution_count": 20,
   "metadata": {},
   "outputs": [
    {
     "data": {
      "text/plain": [
       "0        2000-11-01\n",
       "1        1999-04-01\n",
       "2        2003-05-01\n",
       "3        2001-06-01\n",
       "4        1999-11-01\n",
       "            ...    \n",
       "27070    2019-04-24\n",
       "27071    2019-04-23\n",
       "27072    2019-04-24\n",
       "27073    2019-04-17\n",
       "27074    2019-04-24\n",
       "Name: release_date, Length: 27075, dtype: object"
      ]
     },
     "execution_count": 20,
     "metadata": {},
     "output_type": "execute_result"
    }
   ],
   "source": [
    "#date of release (YY-MM-DD)\n",
    "steam_df['release_date']"
   ]
  },
  {
   "cell_type": "markdown",
   "metadata": {},
   "source": [
    "'release_date' is stored as a string."
   ]
  },
  {
   "cell_type": "code",
   "execution_count": 21,
   "metadata": {},
   "outputs": [
    {
     "data": {
      "text/plain": [
       "str"
      ]
     },
     "execution_count": 21,
     "metadata": {},
     "output_type": "execute_result"
    }
   ],
   "source": [
    "#release_date is stored as a string\n",
    "type(steam_df['release_date'][0])"
   ]
  },
  {
   "cell_type": "code",
   "execution_count": 22,
   "metadata": {},
   "outputs": [],
   "source": [
    "steam_df['release_date'] = pd.to_datetime(steam_df['release_date'])"
   ]
  },
  {
   "cell_type": "code",
   "execution_count": 23,
   "metadata": {},
   "outputs": [
    {
     "data": {
      "text/plain": [
       "count                            27075\n",
       "mean     2016-12-31 14:21:17.252077568\n",
       "min                1997-06-30 00:00:00\n",
       "25%                2016-04-04 00:00:00\n",
       "50%                2017-08-08 00:00:00\n",
       "75%                2018-06-06 12:00:00\n",
       "max                2019-05-01 00:00:00\n",
       "Name: release_date, dtype: object"
      ]
     },
     "execution_count": 23,
     "metadata": {},
     "output_type": "execute_result"
    }
   ],
   "source": [
    "steam_df['release_date'].describe(datetime_is_numeric = True)"
   ]
  },
  {
   "cell_type": "markdown",
   "metadata": {},
   "source": [
    "I converted the type of the 'release_date' column to datetime. The dataset contained games released between June 30, 1997 and May 01, 2019."
   ]
  },
  {
   "cell_type": "code",
   "execution_count": 24,
   "metadata": {},
   "outputs": [
    {
     "data": {
      "text/plain": [
       "0        1\n",
       "1        1\n",
       "2        1\n",
       "3        1\n",
       "4        1\n",
       "        ..\n",
       "27070    1\n",
       "27071    1\n",
       "27072    1\n",
       "27073    1\n",
       "27074    1\n",
       "Name: english, Length: 27075, dtype: int64"
      ]
     },
     "execution_count": 24,
     "metadata": {},
     "output_type": "execute_result"
    }
   ],
   "source": [
    "#0 if non-english, 1 if english\n",
    "steam_df['english']"
   ]
  },
  {
   "cell_type": "code",
   "execution_count": 25,
   "metadata": {
    "scrolled": true
   },
   "outputs": [
    {
     "data": {
      "text/plain": [
       "1    26564\n",
       "0      511\n",
       "Name: english, dtype: int64"
      ]
     },
     "execution_count": 25,
     "metadata": {},
     "output_type": "execute_result"
    }
   ],
   "source": [
    "steam_df['english'].value_counts()"
   ]
  },
  {
   "cell_type": "markdown",
   "metadata": {},
   "source": [
    "There are 26,564 English games and 511 non-English games."
   ]
  },
  {
   "cell_type": "code",
   "execution_count": 26,
   "metadata": {},
   "outputs": [
    {
     "data": {
      "text/plain": [
       "0                     Valve\n",
       "1                     Valve\n",
       "2                     Valve\n",
       "3                     Valve\n",
       "4          Gearbox Software\n",
       "                ...        \n",
       "27070           SHEN JIAWEI\n",
       "27071        Semyon Maximov\n",
       "27072           EntwicklerX\n",
       "27073    Yustas Game Studio\n",
       "27074      Adept Studios GD\n",
       "Name: developer, Length: 27075, dtype: object"
      ]
     },
     "execution_count": 26,
     "metadata": {},
     "output_type": "execute_result"
    }
   ],
   "source": [
    "#name of game's developer\n",
    "steam_df['developer']"
   ]
  },
  {
   "cell_type": "code",
   "execution_count": 27,
   "metadata": {},
   "outputs": [
    {
     "data": {
      "text/plain": [
       "Choice of Games               94\n",
       "KOEI TECMO GAMES CO., LTD.    72\n",
       "Ripknot Systems               62\n",
       "Laush Dmitriy Sergeevich      51\n",
       "Nikita \"Ghost_RUS\"            50\n",
       "                              ..\n",
       "Peernet Games                  1\n",
       "Curveball Games                1\n",
       "GEOMETRIC BYTES                1\n",
       "Sound Slide Team               1\n",
       "Chris McFarland                1\n",
       "Name: developer, Length: 17113, dtype: int64"
      ]
     },
     "execution_count": 27,
     "metadata": {},
     "output_type": "execute_result"
    }
   ],
   "source": [
    "steam_df['developer'].value_counts()"
   ]
  },
  {
   "cell_type": "code",
   "execution_count": 28,
   "metadata": {
    "scrolled": true
   },
   "outputs": [
    {
     "data": {
      "text/plain": [
       "KOEI TECMO GAMES CO., LTD.    38\n",
       "ARTDINK                        5\n",
       "凝冰剑斩                           5\n",
       "上海アリス幻樂団                       4\n",
       "あみそ組                           3\n",
       "                              ..\n",
       "小金宝贝                           1\n",
       "Horizon Psytech & Games        1\n",
       "lovelin                        1\n",
       "Akakiy Petrushkin              1\n",
       "Doble Punch Games              1\n",
       "Name: developer, Length: 415, dtype: int64"
      ]
     },
     "execution_count": 28,
     "metadata": {},
     "output_type": "execute_result"
    }
   ],
   "source": [
    "#looking at the developers who made games not in English\n",
    "non_english_devs = steam_df[steam_df['english'] == 0]['developer'].value_counts()\n",
    "non_english_devs"
   ]
  },
  {
   "cell_type": "markdown",
   "metadata": {},
   "source": [
    "Our dataset contains some special characters. In this subset consisting of non-english games, I recognized some Chinese and Japanese text."
   ]
  },
  {
   "cell_type": "code",
   "execution_count": 29,
   "metadata": {},
   "outputs": [
    {
     "data": {
      "text/plain": [
       "0                       Valve\n",
       "1                       Valve\n",
       "2                       Valve\n",
       "3                       Valve\n",
       "4                       Valve\n",
       "                 ...         \n",
       "27070             SHEN JIAWEI\n",
       "27071        BekkerDev Studio\n",
       "27072             EntwicklerX\n",
       "27073    Alawar Entertainment\n",
       "27074    Alawar Entertainment\n",
       "Name: publisher, Length: 27075, dtype: object"
      ]
     },
     "execution_count": 29,
     "metadata": {},
     "output_type": "execute_result"
    }
   ],
   "source": [
    "#name of game's publisher\n",
    "steam_df['publisher']"
   ]
  },
  {
   "cell_type": "code",
   "execution_count": 30,
   "metadata": {},
   "outputs": [
    {
     "data": {
      "text/plain": [
       "Big Fish Games                  212\n",
       "Strategy First                  136\n",
       "Ubisoft                         111\n",
       "THQ Nordic                       98\n",
       "Square Enix                      97\n",
       "                               ... \n",
       "Newsight Games                    1\n",
       "GIFT TEN INDUSTRY.K.K             1\n",
       "Warhorse Studios;Deep Silver      1\n",
       "Elkibe Games                      1\n",
       "Chris McFarland                   1\n",
       "Name: publisher, Length: 14354, dtype: int64"
      ]
     },
     "execution_count": 30,
     "metadata": {},
     "output_type": "execute_result"
    }
   ],
   "source": [
    "steam_df['publisher'].value_counts()"
   ]
  },
  {
   "cell_type": "code",
   "execution_count": 31,
   "metadata": {},
   "outputs": [
    {
     "data": {
      "text/html": [
       "<div>\n",
       "<style scoped>\n",
       "    .dataframe tbody tr th:only-of-type {\n",
       "        vertical-align: middle;\n",
       "    }\n",
       "\n",
       "    .dataframe tbody tr th {\n",
       "        vertical-align: top;\n",
       "    }\n",
       "\n",
       "    .dataframe thead th {\n",
       "        text-align: right;\n",
       "    }\n",
       "</style>\n",
       "<table border=\"1\" class=\"dataframe\">\n",
       "  <thead>\n",
       "    <tr style=\"text-align: right;\">\n",
       "      <th></th>\n",
       "      <th>appid</th>\n",
       "      <th>name</th>\n",
       "      <th>release_date</th>\n",
       "      <th>english</th>\n",
       "      <th>developer</th>\n",
       "      <th>publisher</th>\n",
       "      <th>platforms</th>\n",
       "      <th>required_age</th>\n",
       "      <th>categories</th>\n",
       "      <th>genres</th>\n",
       "      <th>steamspy_tags</th>\n",
       "      <th>achievements</th>\n",
       "      <th>positive_ratings</th>\n",
       "      <th>negative_ratings</th>\n",
       "      <th>average_playtime</th>\n",
       "      <th>median_playtime</th>\n",
       "      <th>owners</th>\n",
       "      <th>price</th>\n",
       "    </tr>\n",
       "  </thead>\n",
       "  <tbody>\n",
       "    <tr>\n",
       "      <th>0</th>\n",
       "      <td>10</td>\n",
       "      <td>Counter-Strike</td>\n",
       "      <td>2000-11-01</td>\n",
       "      <td>1</td>\n",
       "      <td>Valve</td>\n",
       "      <td>Valve</td>\n",
       "      <td>windows;mac;linux</td>\n",
       "      <td>0</td>\n",
       "      <td>Multi-player;Online Multi-Player;Local Multi-P...</td>\n",
       "      <td>Action</td>\n",
       "      <td>Action;FPS;Multiplayer</td>\n",
       "      <td>0</td>\n",
       "      <td>124534</td>\n",
       "      <td>3339</td>\n",
       "      <td>17612</td>\n",
       "      <td>317</td>\n",
       "      <td>10000000-20000000</td>\n",
       "      <td>7.19</td>\n",
       "    </tr>\n",
       "    <tr>\n",
       "      <th>1</th>\n",
       "      <td>20</td>\n",
       "      <td>Team Fortress Classic</td>\n",
       "      <td>1999-04-01</td>\n",
       "      <td>1</td>\n",
       "      <td>Valve</td>\n",
       "      <td>Valve</td>\n",
       "      <td>windows;mac;linux</td>\n",
       "      <td>0</td>\n",
       "      <td>Multi-player;Online Multi-Player;Local Multi-P...</td>\n",
       "      <td>Action</td>\n",
       "      <td>Action;FPS;Multiplayer</td>\n",
       "      <td>0</td>\n",
       "      <td>3318</td>\n",
       "      <td>633</td>\n",
       "      <td>277</td>\n",
       "      <td>62</td>\n",
       "      <td>5000000-10000000</td>\n",
       "      <td>3.99</td>\n",
       "    </tr>\n",
       "    <tr>\n",
       "      <th>2</th>\n",
       "      <td>30</td>\n",
       "      <td>Day of Defeat</td>\n",
       "      <td>2003-05-01</td>\n",
       "      <td>1</td>\n",
       "      <td>Valve</td>\n",
       "      <td>Valve</td>\n",
       "      <td>windows;mac;linux</td>\n",
       "      <td>0</td>\n",
       "      <td>Multi-player;Valve Anti-Cheat enabled</td>\n",
       "      <td>Action</td>\n",
       "      <td>FPS;World War II;Multiplayer</td>\n",
       "      <td>0</td>\n",
       "      <td>3416</td>\n",
       "      <td>398</td>\n",
       "      <td>187</td>\n",
       "      <td>34</td>\n",
       "      <td>5000000-10000000</td>\n",
       "      <td>3.99</td>\n",
       "    </tr>\n",
       "    <tr>\n",
       "      <th>3</th>\n",
       "      <td>40</td>\n",
       "      <td>Deathmatch Classic</td>\n",
       "      <td>2001-06-01</td>\n",
       "      <td>1</td>\n",
       "      <td>Valve</td>\n",
       "      <td>Valve</td>\n",
       "      <td>windows;mac;linux</td>\n",
       "      <td>0</td>\n",
       "      <td>Multi-player;Online Multi-Player;Local Multi-P...</td>\n",
       "      <td>Action</td>\n",
       "      <td>Action;FPS;Multiplayer</td>\n",
       "      <td>0</td>\n",
       "      <td>1273</td>\n",
       "      <td>267</td>\n",
       "      <td>258</td>\n",
       "      <td>184</td>\n",
       "      <td>5000000-10000000</td>\n",
       "      <td>3.99</td>\n",
       "    </tr>\n",
       "    <tr>\n",
       "      <th>5</th>\n",
       "      <td>60</td>\n",
       "      <td>Ricochet</td>\n",
       "      <td>2000-11-01</td>\n",
       "      <td>1</td>\n",
       "      <td>Valve</td>\n",
       "      <td>Valve</td>\n",
       "      <td>windows;mac;linux</td>\n",
       "      <td>0</td>\n",
       "      <td>Multi-player;Online Multi-Player;Valve Anti-Ch...</td>\n",
       "      <td>Action</td>\n",
       "      <td>Action;FPS;Multiplayer</td>\n",
       "      <td>0</td>\n",
       "      <td>2758</td>\n",
       "      <td>684</td>\n",
       "      <td>175</td>\n",
       "      <td>10</td>\n",
       "      <td>5000000-10000000</td>\n",
       "      <td>3.99</td>\n",
       "    </tr>\n",
       "  </tbody>\n",
       "</table>\n",
       "</div>"
      ],
      "text/plain": [
       "   appid                   name release_date  english developer publisher  \\\n",
       "0     10         Counter-Strike   2000-11-01        1     Valve     Valve   \n",
       "1     20  Team Fortress Classic   1999-04-01        1     Valve     Valve   \n",
       "2     30          Day of Defeat   2003-05-01        1     Valve     Valve   \n",
       "3     40     Deathmatch Classic   2001-06-01        1     Valve     Valve   \n",
       "5     60               Ricochet   2000-11-01        1     Valve     Valve   \n",
       "\n",
       "           platforms  required_age  \\\n",
       "0  windows;mac;linux             0   \n",
       "1  windows;mac;linux             0   \n",
       "2  windows;mac;linux             0   \n",
       "3  windows;mac;linux             0   \n",
       "5  windows;mac;linux             0   \n",
       "\n",
       "                                          categories  genres  \\\n",
       "0  Multi-player;Online Multi-Player;Local Multi-P...  Action   \n",
       "1  Multi-player;Online Multi-Player;Local Multi-P...  Action   \n",
       "2              Multi-player;Valve Anti-Cheat enabled  Action   \n",
       "3  Multi-player;Online Multi-Player;Local Multi-P...  Action   \n",
       "5  Multi-player;Online Multi-Player;Valve Anti-Ch...  Action   \n",
       "\n",
       "                  steamspy_tags  achievements  positive_ratings  \\\n",
       "0        Action;FPS;Multiplayer             0            124534   \n",
       "1        Action;FPS;Multiplayer             0              3318   \n",
       "2  FPS;World War II;Multiplayer             0              3416   \n",
       "3        Action;FPS;Multiplayer             0              1273   \n",
       "5        Action;FPS;Multiplayer             0              2758   \n",
       "\n",
       "   negative_ratings  average_playtime  median_playtime             owners  \\\n",
       "0              3339             17612              317  10000000-20000000   \n",
       "1               633               277               62   5000000-10000000   \n",
       "2               398               187               34   5000000-10000000   \n",
       "3               267               258              184   5000000-10000000   \n",
       "5               684               175               10   5000000-10000000   \n",
       "\n",
       "   price  \n",
       "0   7.19  \n",
       "1   3.99  \n",
       "2   3.99  \n",
       "3   3.99  \n",
       "5   3.99  "
      ]
     },
     "execution_count": 31,
     "metadata": {},
     "output_type": "execute_result"
    }
   ],
   "source": [
    "same_dev_pub = steam_df[steam_df['publisher'] == steam_df['developer']]\n",
    "same_dev_pub.head()"
   ]
  },
  {
   "cell_type": "code",
   "execution_count": 32,
   "metadata": {},
   "outputs": [
    {
     "data": {
      "text/plain": [
       "(17592, 18)"
      ]
     },
     "execution_count": 32,
     "metadata": {},
     "output_type": "execute_result"
    }
   ],
   "source": [
    "same_dev_pub.shape"
   ]
  },
  {
   "cell_type": "code",
   "execution_count": 33,
   "metadata": {},
   "outputs": [
    {
     "data": {
      "text/plain": [
       "Choice of Games               94\n",
       "KOEI TECMO GAMES CO., LTD.    69\n",
       "Ripknot Systems               62\n",
       "Dexion Games                  45\n",
       "RewindApp                     43\n",
       "                              ..\n",
       "Shining Rock Software LLC      1\n",
       "Super Squared                  1\n",
       "Colonthree Enterprises         1\n",
       "langqi                         1\n",
       "Lunchbox Edu                   1\n",
       "Name: developer, Length: 11408, dtype: int64"
      ]
     },
     "execution_count": 33,
     "metadata": {},
     "output_type": "execute_result"
    }
   ],
   "source": [
    "same_dev_pub['developer'].value_counts()"
   ]
  },
  {
   "cell_type": "markdown",
   "metadata": {},
   "source": [
    "17,592 games in the dataset had a developer who is also the publisher. This could be important to consider when thinking about sequels or games within the same series."
   ]
  },
  {
   "cell_type": "code",
   "execution_count": 34,
   "metadata": {},
   "outputs": [
    {
     "data": {
      "text/plain": [
       "0        windows;mac;linux\n",
       "1        windows;mac;linux\n",
       "2        windows;mac;linux\n",
       "3        windows;mac;linux\n",
       "4        windows;mac;linux\n",
       "               ...        \n",
       "27070              windows\n",
       "27071              windows\n",
       "27072              windows\n",
       "27073          windows;mac\n",
       "27074          windows;mac\n",
       "Name: platforms, Length: 27075, dtype: object"
      ]
     },
     "execution_count": 34,
     "metadata": {},
     "output_type": "execute_result"
    }
   ],
   "source": [
    "#platform availability for game\n",
    "steam_df['platforms']"
   ]
  },
  {
   "cell_type": "code",
   "execution_count": 35,
   "metadata": {},
   "outputs": [
    {
     "data": {
      "text/plain": [
       "windows              18398\n",
       "windows;mac;linux     4623\n",
       "windows;mac           3439\n",
       "windows;linux          610\n",
       "mac                      3\n",
       "mac;linux                1\n",
       "linux                    1\n",
       "Name: platforms, dtype: int64"
      ]
     },
     "execution_count": 35,
     "metadata": {},
     "output_type": "execute_result"
    }
   ],
   "source": [
    "steam_df['platforms'].value_counts()"
   ]
  },
  {
   "cell_type": "markdown",
   "metadata": {},
   "source": [
    "Windows-only was the most frequent platform for games in the dataset. There were only 5 games here that are not available on Windows."
   ]
  },
  {
   "cell_type": "code",
   "execution_count": 36,
   "metadata": {},
   "outputs": [
    {
     "data": {
      "text/html": [
       "<div>\n",
       "<style scoped>\n",
       "    .dataframe tbody tr th:only-of-type {\n",
       "        vertical-align: middle;\n",
       "    }\n",
       "\n",
       "    .dataframe tbody tr th {\n",
       "        vertical-align: top;\n",
       "    }\n",
       "\n",
       "    .dataframe thead th {\n",
       "        text-align: right;\n",
       "    }\n",
       "</style>\n",
       "<table border=\"1\" class=\"dataframe\">\n",
       "  <thead>\n",
       "    <tr style=\"text-align: right;\">\n",
       "      <th></th>\n",
       "      <th>appid</th>\n",
       "      <th>name</th>\n",
       "      <th>release_date</th>\n",
       "      <th>english</th>\n",
       "      <th>developer</th>\n",
       "      <th>publisher</th>\n",
       "      <th>platforms</th>\n",
       "      <th>required_age</th>\n",
       "      <th>categories</th>\n",
       "      <th>genres</th>\n",
       "      <th>steamspy_tags</th>\n",
       "      <th>achievements</th>\n",
       "      <th>positive_ratings</th>\n",
       "      <th>negative_ratings</th>\n",
       "      <th>average_playtime</th>\n",
       "      <th>median_playtime</th>\n",
       "      <th>owners</th>\n",
       "      <th>price</th>\n",
       "    </tr>\n",
       "  </thead>\n",
       "  <tbody>\n",
       "    <tr>\n",
       "      <th>1413</th>\n",
       "      <td>214630</td>\n",
       "      <td>Call of Duty: Black Ops - Mac Edition</td>\n",
       "      <td>2012-09-27</td>\n",
       "      <td>1</td>\n",
       "      <td>Aspyr</td>\n",
       "      <td>Aspyr</td>\n",
       "      <td>mac</td>\n",
       "      <td>18</td>\n",
       "      <td>Single-player;Multi-player;Co-op;Steam Achieve...</td>\n",
       "      <td>Action</td>\n",
       "      <td>Action;Zombies;Multiplayer</td>\n",
       "      <td>68</td>\n",
       "      <td>168</td>\n",
       "      <td>105</td>\n",
       "      <td>0</td>\n",
       "      <td>0</td>\n",
       "      <td>50000-100000</td>\n",
       "      <td>15.49</td>\n",
       "    </tr>\n",
       "    <tr>\n",
       "      <th>12479</th>\n",
       "      <td>569050</td>\n",
       "      <td>Paul Pixel - The Awakening</td>\n",
       "      <td>2017-01-09</td>\n",
       "      <td>1</td>\n",
       "      <td>Xoron GmbH</td>\n",
       "      <td>Xoron GmbH</td>\n",
       "      <td>mac</td>\n",
       "      <td>0</td>\n",
       "      <td>Single-player</td>\n",
       "      <td>Adventure;Indie</td>\n",
       "      <td>Adventure;Indie;Point &amp; Click</td>\n",
       "      <td>0</td>\n",
       "      <td>5</td>\n",
       "      <td>0</td>\n",
       "      <td>0</td>\n",
       "      <td>0</td>\n",
       "      <td>0-20000</td>\n",
       "      <td>2.89</td>\n",
       "    </tr>\n",
       "    <tr>\n",
       "      <th>16662</th>\n",
       "      <td>694180</td>\n",
       "      <td>MobileZombie</td>\n",
       "      <td>2017-10-13</td>\n",
       "      <td>1</td>\n",
       "      <td>YIMING ZHANG</td>\n",
       "      <td>YIMING ZHANG</td>\n",
       "      <td>mac</td>\n",
       "      <td>0</td>\n",
       "      <td>Single-player;Partial Controller Support</td>\n",
       "      <td>Adventure;Casual;Free to Play;Indie</td>\n",
       "      <td>Free to Play;Adventure;Indie</td>\n",
       "      <td>0</td>\n",
       "      <td>14</td>\n",
       "      <td>11</td>\n",
       "      <td>0</td>\n",
       "      <td>0</td>\n",
       "      <td>0-20000</td>\n",
       "      <td>0.00</td>\n",
       "    </tr>\n",
       "  </tbody>\n",
       "</table>\n",
       "</div>"
      ],
      "text/plain": [
       "        appid                                   name release_date  english  \\\n",
       "1413   214630  Call of Duty: Black Ops - Mac Edition   2012-09-27        1   \n",
       "12479  569050             Paul Pixel - The Awakening   2017-01-09        1   \n",
       "16662  694180                           MobileZombie   2017-10-13        1   \n",
       "\n",
       "          developer     publisher platforms  required_age  \\\n",
       "1413          Aspyr        Aspyr        mac            18   \n",
       "12479    Xoron GmbH    Xoron GmbH       mac             0   \n",
       "16662  YIMING ZHANG  YIMING ZHANG       mac             0   \n",
       "\n",
       "                                              categories  \\\n",
       "1413   Single-player;Multi-player;Co-op;Steam Achieve...   \n",
       "12479                                      Single-player   \n",
       "16662           Single-player;Partial Controller Support   \n",
       "\n",
       "                                    genres                  steamspy_tags  \\\n",
       "1413                                Action     Action;Zombies;Multiplayer   \n",
       "12479                      Adventure;Indie  Adventure;Indie;Point & Click   \n",
       "16662  Adventure;Casual;Free to Play;Indie   Free to Play;Adventure;Indie   \n",
       "\n",
       "       achievements  positive_ratings  negative_ratings  average_playtime  \\\n",
       "1413             68               168               105                 0   \n",
       "12479             0                 5                 0                 0   \n",
       "16662             0                14                11                 0   \n",
       "\n",
       "       median_playtime        owners  price  \n",
       "1413                 0  50000-100000  15.49  \n",
       "12479                0       0-20000   2.89  \n",
       "16662                0       0-20000   0.00  "
      ]
     },
     "execution_count": 36,
     "metadata": {},
     "output_type": "execute_result"
    }
   ],
   "source": [
    "steam_df[steam_df['platforms'] == 'mac']"
   ]
  },
  {
   "cell_type": "markdown",
   "metadata": {},
   "source": [
    "The presence of a Mac Edition of a game informed me that there are ports in the dataset. Ports are versions of a game that have been adapted specifically for a new platform but are almost identical to the original."
   ]
  },
  {
   "cell_type": "code",
   "execution_count": 37,
   "metadata": {},
   "outputs": [
    {
     "data": {
      "text/plain": [
       "0        0\n",
       "1        0\n",
       "2        0\n",
       "3        0\n",
       "4        0\n",
       "        ..\n",
       "27070    0\n",
       "27071    0\n",
       "27072    0\n",
       "27073    0\n",
       "27074    0\n",
       "Name: required_age, Length: 27075, dtype: int64"
      ]
     },
     "execution_count": 37,
     "metadata": {},
     "output_type": "execute_result"
    }
   ],
   "source": [
    "#age-requirement for game\n",
    "steam_df['required_age']"
   ]
  },
  {
   "cell_type": "code",
   "execution_count": 38,
   "metadata": {},
   "outputs": [
    {
     "data": {
      "text/plain": [
       "0     26479\n",
       "18      308\n",
       "16      192\n",
       "12       73\n",
       "7        12\n",
       "3        11\n",
       "Name: required_age, dtype: int64"
      ]
     },
     "execution_count": 38,
     "metadata": {},
     "output_type": "execute_result"
    }
   ],
   "source": [
    "steam_df['required_age'].value_counts()"
   ]
  },
  {
   "cell_type": "markdown",
   "metadata": {},
   "source": [
    "Within this notebook, I'll use the term **labels** to collectively refer to categories, genres, and tags. Each of these three types of labels contains information on the content of a game which could be information on how the game is played (i.e. single-player), what features the game supports (i.e. controller support), or what the game is about (i.e. sci-fi).\n",
    "\n",
    "Some labels are more descriptive in terms of game content while others are more functional and may not have broad appeal to Steam users. For example, I thought it is unlikely that a user would make a purchase decision based on the presence of 'Valve Anti-Cheat'. The content recommender section goes in detail on how I treated these labels."
   ]
  },
  {
   "cell_type": "code",
   "execution_count": 39,
   "metadata": {},
   "outputs": [
    {
     "data": {
      "text/plain": [
       "0        Multi-player;Online Multi-Player;Local Multi-P...\n",
       "1        Multi-player;Online Multi-Player;Local Multi-P...\n",
       "2                    Multi-player;Valve Anti-Cheat enabled\n",
       "3        Multi-player;Online Multi-Player;Local Multi-P...\n",
       "4        Single-player;Multi-player;Valve Anti-Cheat en...\n",
       "                               ...                        \n",
       "27070                     Single-player;Steam Achievements\n",
       "27071                                        Single-player\n",
       "27072    Single-player;Multi-player;Co-op;Shared/Split ...\n",
       "27073                            Single-player;Steam Cloud\n",
       "27074                            Single-player;Steam Cloud\n",
       "Name: categories, Length: 27075, dtype: object"
      ]
     },
     "execution_count": 39,
     "metadata": {},
     "output_type": "execute_result"
    }
   ],
   "source": [
    "steam_df['categories']"
   ]
  },
  {
   "cell_type": "code",
   "execution_count": 40,
   "metadata": {},
   "outputs": [
    {
     "data": {
      "text/plain": [
       "Single-player                                                                                                                                          6110\n",
       "Single-player;Steam Achievements                                                                                                                       2334\n",
       "Single-player;Steam Achievements;Steam Trading Cards                                                                                                    848\n",
       "Single-player;Partial Controller Support                                                                                                                804\n",
       "Single-player;Steam Trading Cards                                                                                                                       792\n",
       "                                                                                                                                                       ... \n",
       "Single-player;Multi-player;Co-op;Steam Achievements;Stats;Includes level editor                                                                           1\n",
       "Single-player;Multi-player;Online Multi-Player;Co-op;Online Co-op;Steam Achievements;Steam Workshop;Partial Controller Support                            1\n",
       "Single-player;Multi-player;Online Multi-Player;Co-op;Online Co-op;Cross-Platform Multiplayer;Steam Achievements;In-App Purchases;Steam Leaderboards       1\n",
       "Single-player;Multi-player;Online Multi-Player;Local Multi-Player;Co-op;Online Co-op;Local Co-op;Cross-Platform Multiplayer;Steam Achievements            1\n",
       "Single-player;Multi-player;Online Multi-Player;Steam Achievements;Full controller support;Steam Cloud;Includes level editor                               1\n",
       "Name: categories, Length: 3333, dtype: int64"
      ]
     },
     "execution_count": 40,
     "metadata": {},
     "output_type": "execute_result"
    }
   ],
   "source": [
    "steam_df['categories'].value_counts()"
   ]
  },
  {
   "cell_type": "code",
   "execution_count": 41,
   "metadata": {},
   "outputs": [
    {
     "data": {
      "text/plain": [
       "0                        Action\n",
       "1                        Action\n",
       "2                        Action\n",
       "3                        Action\n",
       "4                        Action\n",
       "                  ...          \n",
       "27070    Adventure;Casual;Indie\n",
       "27071    Action;Adventure;Indie\n",
       "27072       Action;Casual;Indie\n",
       "27073    Adventure;Casual;Indie\n",
       "27074    Adventure;Casual;Indie\n",
       "Name: genres, Length: 27075, dtype: object"
      ]
     },
     "execution_count": 41,
     "metadata": {},
     "output_type": "execute_result"
    }
   ],
   "source": [
    "steam_df['genres']"
   ]
  },
  {
   "cell_type": "code",
   "execution_count": 42,
   "metadata": {},
   "outputs": [
    {
     "data": {
      "text/plain": [
       "Action;Indie                                                                        1852\n",
       "Casual;Indie                                                                        1482\n",
       "Action;Adventure;Indie                                                              1229\n",
       "Adventure;Indie                                                                     1170\n",
       "Action;Casual;Indie                                                                 1004\n",
       "                                                                                    ... \n",
       "Action;Casual;Indie;Racing;Strategy                                                    1\n",
       "Audio Production;Design & Illustration;Utilities;Video Production;Web Publishing       1\n",
       "Action;Adventure;Free to Play;Indie;Massively Multiplayer;Early Access                 1\n",
       "Action;Free to Play;Indie;Massively Multiplayer;Racing;Sports;Strategy                 1\n",
       "Sexual Content;Violent;Gore;Adventure;Free to Play;Indie                               1\n",
       "Name: genres, Length: 1552, dtype: int64"
      ]
     },
     "execution_count": 42,
     "metadata": {},
     "output_type": "execute_result"
    }
   ],
   "source": [
    "steam_df['genres'].value_counts()"
   ]
  },
  {
   "cell_type": "code",
   "execution_count": 43,
   "metadata": {},
   "outputs": [
    {
     "data": {
      "text/plain": [
       "0              Action;FPS;Multiplayer\n",
       "1              Action;FPS;Multiplayer\n",
       "2        FPS;World War II;Multiplayer\n",
       "3              Action;FPS;Multiplayer\n",
       "4                   FPS;Action;Sci-fi\n",
       "                     ...             \n",
       "27070          Adventure;Indie;Casual\n",
       "27071          Action;Indie;Adventure\n",
       "27072             Action;Indie;Casual\n",
       "27073          Indie;Casual;Adventure\n",
       "27074          Indie;Casual;Adventure\n",
       "Name: steamspy_tags, Length: 27075, dtype: object"
      ]
     },
     "execution_count": 43,
     "metadata": {},
     "output_type": "execute_result"
    }
   ],
   "source": [
    "#user voted content tags collected using SteamSpy API\n",
    "steam_df['steamspy_tags']"
   ]
  },
  {
   "cell_type": "code",
   "execution_count": 44,
   "metadata": {},
   "outputs": [
    {
     "data": {
      "text/plain": [
       "Action;Indie;Casual                         845\n",
       "Action;Adventure;Indie                      714\n",
       "Early Access;Action;Indie                   507\n",
       "Adventure;Indie;Casual                      442\n",
       "Indie;Casual                                378\n",
       "                                           ... \n",
       "Sandbox;Massively Multiplayer;Open World      1\n",
       "Action;Anime;2D                               1\n",
       "Adventure;Simulation;Sports                   1\n",
       "Horror;Indie;Point & Click                    1\n",
       "Free to Play;Adventure;Puzzle                 1\n",
       "Name: steamspy_tags, Length: 6423, dtype: int64"
      ]
     },
     "execution_count": 44,
     "metadata": {},
     "output_type": "execute_result"
    }
   ],
   "source": [
    "steam_df['steamspy_tags'].value_counts()"
   ]
  },
  {
   "cell_type": "markdown",
   "metadata": {},
   "source": [
    "There was some overlap between categories, genres, and steamspy_tags. For example, 'Action' showed up in both genre and as a tag while 'Multi-player' showed up with different spelling in categories and tags.\n",
    "\n",
    "All three label columns were formatted as strings with semicolons delimiting different labels. There were many different values in 'steamspy_tags' due to the various tag groupings."
   ]
  },
  {
   "cell_type": "markdown",
   "metadata": {},
   "source": [
    "I wrote a function to take each label column and count up the number of games containing each individual label."
   ]
  },
  {
   "cell_type": "code",
   "execution_count": 45,
   "metadata": {},
   "outputs": [],
   "source": [
    "def extract_labels(df, column):\n",
    "    '''\n",
    "    Returns a dictionary containing labels and their game counts from the dataframe\n",
    "    \n",
    "    Arguments:\n",
    "    df: dataframe containing the column\n",
    "    column: column name containing string values delimited by semicolons\n",
    "    '''\n",
    "    labels_dict = {}\n",
    "    for labels in df[column]:\n",
    "        split_labels = labels.split(';')\n",
    "        for x in split_labels:\n",
    "            #generate count values for each label corresponding to the number of games with that label\n",
    "            if x not in labels_dict:\n",
    "                labels_dict[x] = 1\n",
    "            else:\n",
    "                labels_dict[x] += 1\n",
    "    return labels_dict"
   ]
  },
  {
   "cell_type": "code",
   "execution_count": 46,
   "metadata": {},
   "outputs": [
    {
     "data": {
      "text/plain": [
       "{'Multi-player': 3974,\n",
       " 'Online Multi-Player': 2487,\n",
       " 'Local Multi-Player': 1615,\n",
       " 'Valve Anti-Cheat enabled': 94,\n",
       " 'Single-player': 25678,\n",
       " 'Steam Cloud': 7219,\n",
       " 'Steam Achievements': 14130,\n",
       " 'Steam Trading Cards': 7918,\n",
       " 'Captions available': 721,\n",
       " 'Partial Controller Support': 4234,\n",
       " 'Includes Source SDK': 35,\n",
       " 'Cross-Platform Multiplayer': 1081,\n",
       " 'Stats': 1878,\n",
       " 'Commentary available': 144,\n",
       " 'Includes level editor': 1036,\n",
       " 'Steam Workshop': 897,\n",
       " 'In-App Purchases': 690,\n",
       " 'Co-op': 1721,\n",
       " 'Full controller support': 5695,\n",
       " 'Steam Leaderboards': 3439,\n",
       " 'SteamVR Collectibles': 40,\n",
       " 'Online Co-op': 1071,\n",
       " 'Shared/Split Screen': 2152,\n",
       " 'Local Co-op': 1059,\n",
       " 'MMO': 421,\n",
       " 'VR Support': 231,\n",
       " 'Mods': 2,\n",
       " 'Mods (require HL2)': 1,\n",
       " 'Steam Turn Notifications': 63}"
      ]
     },
     "execution_count": 46,
     "metadata": {},
     "output_type": "execute_result"
    }
   ],
   "source": [
    "categories_dict = extract_labels(steam_df, 'categories')\n",
    "categories_dict"
   ]
  },
  {
   "cell_type": "code",
   "execution_count": 47,
   "metadata": {},
   "outputs": [
    {
     "data": {
      "text/plain": [
       "29"
      ]
     },
     "execution_count": 47,
     "metadata": {},
     "output_type": "execute_result"
    }
   ],
   "source": [
    "len(categories_dict.keys())"
   ]
  },
  {
   "cell_type": "markdown",
   "metadata": {},
   "source": [
    "There were 29 unique categories within the datset. Some of these categories aren't as influential for buying decisions. For example, 'Valve Anti-Cheat enabled' might not be very useful to a user. On the other hand, 'Local Multi-Player' is an important category: a player should know if the product they buy supports multi-player and if that multi-player is online or local. I created a subset of categories to include in the content-based recommender based on my understanding of these categories and my experiences as a Steam user."
   ]
  },
  {
   "cell_type": "code",
   "execution_count": 48,
   "metadata": {},
   "outputs": [
    {
     "data": {
      "text/plain": [
       "['Multi-player',\n",
       " 'Online Multi-Player',\n",
       " 'Local Multi-Player',\n",
       " 'Single-player',\n",
       " 'Steam Cloud',\n",
       " 'Steam Achievements',\n",
       " 'Partial Controller Support',\n",
       " 'Cross-Platform Multiplayer',\n",
       " 'Stats',\n",
       " 'Includes level editor',\n",
       " 'Steam Workshop',\n",
       " 'In-App Purchases',\n",
       " 'Co-op',\n",
       " 'Full controller support',\n",
       " 'SteamVR Collectibles',\n",
       " 'Online Co-op',\n",
       " 'Shared/Split Screen',\n",
       " 'Local Co-op',\n",
       " 'MMO',\n",
       " 'VR Support']"
      ]
     },
     "execution_count": 48,
     "metadata": {},
     "output_type": "execute_result"
    }
   ],
   "source": [
    "discard_categories = ['Valve Anti-Cheat enabled', 'Steam Trading Cards', 'Captions available', 'Includes Source SDK', \n",
    "                      'Commentary available', 'Steam Leaderboards', 'Mods', 'Mods (require HL2)', 'Steam Turn Notifications']\n",
    "#cubset list of categories to use in describing game content\n",
    "categories_subset = [x for x in categories_dict if x not in discard_categories]\n",
    "categories_subset"
   ]
  },
  {
   "cell_type": "code",
   "execution_count": 49,
   "metadata": {},
   "outputs": [
    {
     "data": {
      "text/plain": [
       "20"
      ]
     },
     "execution_count": 49,
     "metadata": {},
     "output_type": "execute_result"
    }
   ],
   "source": [
    "len(categories_subset)"
   ]
  },
  {
   "cell_type": "markdown",
   "metadata": {},
   "source": [
    "In total, I removed 9 categories. I applied the same function to 'genres' and 'steamspy_tags' to get an idea of what unique labels were present in each column."
   ]
  },
  {
   "cell_type": "code",
   "execution_count": 50,
   "metadata": {},
   "outputs": [
    {
     "data": {
      "text/plain": [
       "{'Action': 11903,\n",
       " 'Free to Play': 1704,\n",
       " 'Strategy': 5247,\n",
       " 'Adventure': 10032,\n",
       " 'Indie': 19421,\n",
       " 'RPG': 4311,\n",
       " 'Animation & Modeling': 79,\n",
       " 'Video Production': 38,\n",
       " 'Casual': 10210,\n",
       " 'Simulation': 5194,\n",
       " 'Racing': 1024,\n",
       " 'Violent': 843,\n",
       " 'Massively Multiplayer': 723,\n",
       " 'Nudity': 266,\n",
       " 'Sports': 1322,\n",
       " 'Early Access': 2954,\n",
       " 'Gore': 537,\n",
       " 'Utilities': 146,\n",
       " 'Design & Illustration': 87,\n",
       " 'Web Publishing': 28,\n",
       " 'Education': 51,\n",
       " 'Software Training': 31,\n",
       " 'Sexual Content': 245,\n",
       " 'Audio Production': 29,\n",
       " 'Game Development': 17,\n",
       " 'Photo Editing': 12,\n",
       " 'Accounting': 6,\n",
       " 'Documentary': 1,\n",
       " 'Tutorial': 1}"
      ]
     },
     "execution_count": 50,
     "metadata": {},
     "output_type": "execute_result"
    }
   ],
   "source": [
    "genres_dict = extract_labels(steam_df, 'genres')\n",
    "genres_dict"
   ]
  },
  {
   "cell_type": "code",
   "execution_count": 51,
   "metadata": {},
   "outputs": [
    {
     "data": {
      "text/plain": [
       "29"
      ]
     },
     "execution_count": 51,
     "metadata": {},
     "output_type": "execute_result"
    }
   ],
   "source": [
    "len(genres_dict)"
   ]
  },
  {
   "cell_type": "markdown",
   "metadata": {},
   "source": [
    "Some of these genres aren't game-relevant. Genres like 'Web Publishing' and 'Design & Illustration' indicate that some apps in the dataset aren't games. They might be developer tools or asset packs instead. Since this project focused on game recommendations, I made sure to exclude those genres from my model. "
   ]
  },
  {
   "cell_type": "code",
   "execution_count": 52,
   "metadata": {},
   "outputs": [
    {
     "data": {
      "text/plain": [
       "['Action',\n",
       " 'Free to Play',\n",
       " 'Strategy',\n",
       " 'Adventure',\n",
       " 'Indie',\n",
       " 'RPG',\n",
       " 'Casual',\n",
       " 'Simulation',\n",
       " 'Racing',\n",
       " 'Violent',\n",
       " 'Massively Multiplayer',\n",
       " 'Nudity',\n",
       " 'Sports',\n",
       " 'Early Access',\n",
       " 'Gore',\n",
       " 'Sexual Content']"
      ]
     },
     "execution_count": 52,
     "metadata": {},
     "output_type": "execute_result"
    }
   ],
   "source": [
    "discard_genres = ['Animation & Modeling', 'Video Production','Utilities', 'Design & Illustration',\n",
    "                  'Web Publishing','Education', 'Software Training', 'Audio Production', 'Game Development',\n",
    "                  'Photo Editing', 'Accounting', 'Documentary', 'Tutorial']\n",
    "#subset list of genres to use in describing game content\n",
    "genres_subset = [x for x in genres_dict if x not in discard_genres]\n",
    "genres_subset"
   ]
  },
  {
   "cell_type": "code",
   "execution_count": 53,
   "metadata": {},
   "outputs": [
    {
     "data": {
      "text/plain": [
       "16"
      ]
     },
     "execution_count": 53,
     "metadata": {},
     "output_type": "execute_result"
    }
   ],
   "source": [
    "len(genres_subset)"
   ]
  },
  {
   "cell_type": "markdown",
   "metadata": {},
   "source": [
    "This subsetting removed 13 out of 29 genres."
   ]
  },
  {
   "cell_type": "markdown",
   "metadata": {},
   "source": [
    "Additionally, there were some genres for mature audiences. I planned on filtering those out from the recommender through user discretion. "
   ]
  },
  {
   "cell_type": "code",
   "execution_count": 54,
   "metadata": {},
   "outputs": [],
   "source": [
    "#create a subset of mature content genres to use in filtering later\n",
    "mature_genres = ['Violent', 'Nudity', 'Gore', 'Sexual Content']"
   ]
  },
  {
   "cell_type": "code",
   "execution_count": 55,
   "metadata": {},
   "outputs": [],
   "source": [
    "#function for sorting dictionary values in descending order\n",
    "def sort_dict(dict):\n",
    "    #returns a list of tuples (key, value)\n",
    "    sorted_dict_values = []\n",
    "    for x in sorted(dict, key=dict.get, reverse=True):\n",
    "        sorted_dict_values.append((x, dict[x]))\n",
    "    return sorted_dict_values"
   ]
  },
  {
   "cell_type": "code",
   "execution_count": 56,
   "metadata": {},
   "outputs": [
    {
     "data": {
      "text/plain": [
       "[('Indie', 19421),\n",
       " ('Action', 11903),\n",
       " ('Casual', 10210),\n",
       " ('Adventure', 10032),\n",
       " ('Strategy', 5247),\n",
       " ('Simulation', 5194),\n",
       " ('RPG', 4311),\n",
       " ('Early Access', 2954),\n",
       " ('Free to Play', 1704),\n",
       " ('Sports', 1322),\n",
       " ('Racing', 1024),\n",
       " ('Violent', 843),\n",
       " ('Massively Multiplayer', 723),\n",
       " ('Gore', 537),\n",
       " ('Nudity', 266),\n",
       " ('Sexual Content', 245),\n",
       " ('Utilities', 146),\n",
       " ('Design & Illustration', 87),\n",
       " ('Animation & Modeling', 79),\n",
       " ('Education', 51),\n",
       " ('Video Production', 38),\n",
       " ('Software Training', 31),\n",
       " ('Audio Production', 29),\n",
       " ('Web Publishing', 28),\n",
       " ('Game Development', 17),\n",
       " ('Photo Editing', 12),\n",
       " ('Accounting', 6),\n",
       " ('Documentary', 1),\n",
       " ('Tutorial', 1)]"
      ]
     },
     "execution_count": 56,
     "metadata": {},
     "output_type": "execute_result"
    }
   ],
   "source": [
    "#sorting genre counts across the ddataset\n",
    "genres_sorted = sort_dict(genres_dict)\n",
    "genres_sorted"
   ]
  },
  {
   "cell_type": "code",
   "execution_count": 57,
   "metadata": {},
   "outputs": [
    {
     "data": {
      "text/plain": [
       "{'Action': 10322,\n",
       " 'FPS': 405,\n",
       " 'Multiplayer': 405,\n",
       " 'World War II': 130,\n",
       " 'Sci-fi': 157,\n",
       " 'Classic': 170,\n",
       " 'Singleplayer': 161,\n",
       " 'Puzzle': 1116,\n",
       " 'First-Person': 91,\n",
       " 'Free to Play': 1662,\n",
       " 'Zombies': 158,\n",
       " 'Co-op': 120,\n",
       " 'MOBA': 13,\n",
       " 'Strategy': 4173,\n",
       " 'Shooter': 101,\n",
       " 'Indie': 16232,\n",
       " 'Fighting': 117,\n",
       " 'Cyberpunk': 58,\n",
       " 'RTS': 174,\n",
       " 'Hacking': 20,\n",
       " 'Simulation': 3284,\n",
       " 'Naval': 39,\n",
       " '4X': 37,\n",
       " 'Turn-Based Strategy': 103,\n",
       " 'Fantasy': 115,\n",
       " 'Tanks': 21,\n",
       " 'Space': 225,\n",
       " 'RPG': 2785,\n",
       " 'Animation & Modeling': 54,\n",
       " 'Video Production': 31,\n",
       " 'Open World': 243,\n",
       " 'Competitive': 12,\n",
       " 'Top-Down Shooter': 27,\n",
       " 'Casual': 8205,\n",
       " 'Vampire': 17,\n",
       " 'Cult Classic': 7,\n",
       " 'Western': 23,\n",
       " 'Racing': 765,\n",
       " 'Destruction': 21,\n",
       " 'Offroad': 17,\n",
       " 'Adventure': 7770,\n",
       " 'Match 3': 119,\n",
       " 'Arcade': 203,\n",
       " 'Hidden Object': 460,\n",
       " 'Tower Defense': 168,\n",
       " 'Sniper': 8,\n",
       " 'Stealth': 93,\n",
       " 'Base-Building': 26,\n",
       " 'Villain Protagonist': 9,\n",
       " 'Story Rich': 159,\n",
       " 'Female Protagonist': 199,\n",
       " 'Platformer': 648,\n",
       " 'Comedy': 89,\n",
       " 'Turn-Based': 171,\n",
       " 'Pirates': 31,\n",
       " 'City Builder': 71,\n",
       " 'Sandbox': 94,\n",
       " 'Funny': 55,\n",
       " 'Card Game': 164,\n",
       " 'Hack and Slash': 83,\n",
       " 'Action RPG': 20,\n",
       " 'Atmospheric': 85,\n",
       " 'Post-apocalyptic': 40,\n",
       " 'Tactical': 51,\n",
       " 'Warhammer 40K': 29,\n",
       " 'Medieval': 51,\n",
       " 'Historical': 69,\n",
       " 'Horror': 493,\n",
       " 'Rome': 4,\n",
       " 'Star Wars': 28,\n",
       " 'Point & Click': 492,\n",
       " 'Third-Person Shooter': 42,\n",
       " \"Beat 'em up\": 47,\n",
       " 'Management': 116,\n",
       " 'Driving': 59,\n",
       " 'Grand Strategy': 33,\n",
       " 'Great Soundtrack': 125,\n",
       " 'Third Person': 25,\n",
       " 'Level Editor': 15,\n",
       " 'Mystery': 66,\n",
       " 'Trains': 37,\n",
       " 'World War I': 23,\n",
       " 'Crime': 12,\n",
       " 'Twin Stick Shooter': 44,\n",
       " 'Massively Multiplayer': 377,\n",
       " 'Sports': 781,\n",
       " 'Superhero': 22,\n",
       " 'Character Customization': 14,\n",
       " 'Physics': 53,\n",
       " 'Anime': 538,\n",
       " 'Relaxing': 46,\n",
       " 'Time Manipulation': 3,\n",
       " 'Mini Golf': 7,\n",
       " 'Golf': 14,\n",
       " 'Dark Humor': 9,\n",
       " 'Gore': 476,\n",
       " 'Military': 19,\n",
       " 'Aliens': 9,\n",
       " 'Detective': 42,\n",
       " 'Lovecraftian': 26,\n",
       " 'Isometric': 20,\n",
       " 'Top-Down': 22,\n",
       " '1980s': 6,\n",
       " 'Violent': 545,\n",
       " 'Noir': 14,\n",
       " 'Bowling': 2,\n",
       " 'Pinball': 15,\n",
       " 'Trading': 8,\n",
       " 'Party-Based RPG': 3,\n",
       " 'Steampunk': 24,\n",
       " 'Ninja': 13,\n",
       " 'Arena Shooter': 5,\n",
       " 'Parkour': 23,\n",
       " 'Psychological Horror': 76,\n",
       " 'Horses': 12,\n",
       " 'Family Friendly': 86,\n",
       " 'Submarine': 4,\n",
       " 'Survival Horror': 51,\n",
       " 'Flight': 64,\n",
       " '2D': 163,\n",
       " 'Agriculture': 24,\n",
       " 'Early Access': 2967,\n",
       " 'Mature': 37,\n",
       " 'LEGO': 22,\n",
       " 'Remake': 9,\n",
       " 'Surreal': 19,\n",
       " 'Metroidvania': 56,\n",
       " 'Martial Arts': 6,\n",
       " 'Economy': 17,\n",
       " 'Cute': 40,\n",
       " 'Walking Simulator': 55,\n",
       " 'Short': 16,\n",
       " 'Music': 105,\n",
       " 'Psychedelic': 14,\n",
       " 'Space Sim': 8,\n",
       " \"Shoot 'Em Up\": 245,\n",
       " 'God Game': 10,\n",
       " 'Local Multiplayer': 80,\n",
       " 'Batman': 9,\n",
       " 'Realistic': 19,\n",
       " 'Time Management': 33,\n",
       " 'Nudity': 570,\n",
       " 'Time Travel': 3,\n",
       " 'Building': 62,\n",
       " 'Masterpiece': 7,\n",
       " 'MMORPG': 31,\n",
       " 'JRPG': 94,\n",
       " 'Underwater': 13,\n",
       " 'Gothic': 2,\n",
       " 'Real-Time with Pause': 3,\n",
       " 'Mechs': 36,\n",
       " 'Character Action Game': 5,\n",
       " 'Basketball': 9,\n",
       " 'Multiple Endings': 5,\n",
       " 'Board Game': 105,\n",
       " 'Trading Card Game': 13,\n",
       " 'Motocross': 9,\n",
       " 'Resource Management': 5,\n",
       " 'Mythology': 8,\n",
       " 'Rhythm': 48,\n",
       " 'Cold War': 11,\n",
       " 'Sexual Content': 557,\n",
       " 'Dinosaurs': 34,\n",
       " 'Capitalism': 4,\n",
       " 'Fishing': 17,\n",
       " 'Lemmings': 3,\n",
       " 'Bullet Hell': 96,\n",
       " 'Difficult': 85,\n",
       " 'Programming': 26,\n",
       " 'Local Co-Op': 56,\n",
       " 'Cats': 15,\n",
       " 'Rogue-like': 104,\n",
       " 'On-Rails Shooter': 10,\n",
       " 'Survival': 235,\n",
       " 'Memes': 78,\n",
       " 'Replay Value': 6,\n",
       " 'Pixel Graphics': 249,\n",
       " 'Chess': 16,\n",
       " 'Split Screen': 5,\n",
       " 'Bullet Time': 5,\n",
       " 'Magic': 11,\n",
       " 'Retro': 114,\n",
       " 'Education': 84,\n",
       " 'Utilities': 138,\n",
       " 'Benchmark': 4,\n",
       " 'Movie': 1,\n",
       " 'Documentary': 3,\n",
       " 'Dungeon Crawler': 45,\n",
       " 'VR': 961,\n",
       " 'Team-Based': 3,\n",
       " 'Dog': 7,\n",
       " 'Visual Novel': 546,\n",
       " 'Exploration': 55,\n",
       " 'Dating Sim': 33,\n",
       " 'Robots': 22,\n",
       " 'Turn-Based Tactics': 22,\n",
       " 'Fast-Paced': 18,\n",
       " 'Game Development': 23,\n",
       " 'RPGMaker': 192,\n",
       " 'Narration': 3,\n",
       " '2D Fighter': 41,\n",
       " 'Touch-Friendly': 3,\n",
       " 'Mars': 6,\n",
       " 'Lara Croft': 4,\n",
       " 'Motorbike': 3,\n",
       " 'FMV': 34,\n",
       " '6DOF': 7,\n",
       " 'Satire': 6,\n",
       " 'Swordplay': 7,\n",
       " 'Choices Matter': 32,\n",
       " 'Web Publishing': 9,\n",
       " 'Online Co-Op': 9,\n",
       " 'Puzzle-Platformer': 59,\n",
       " 'Dark Fantasy': 6,\n",
       " 'Political': 7,\n",
       " '3D Platformer': 42,\n",
       " 'Dragons': 12,\n",
       " 'War': 25,\n",
       " 'Politics': 11,\n",
       " 'Typing': 6,\n",
       " 'Assassin': 11,\n",
       " 'Crafting': 23,\n",
       " 'Spectacle fighter': 1,\n",
       " 'Tactical RPG': 2,\n",
       " 'Side Scroller': 12,\n",
       " 'Clicker': 64,\n",
       " 'Design & Illustration': 80,\n",
       " 'Mining': 6,\n",
       " 'Software': 16,\n",
       " 'Soccer': 9,\n",
       " 'Software Training': 11,\n",
       " 'Hunting': 13,\n",
       " 'Pool': 3,\n",
       " 'Inventory Management': 1,\n",
       " 'Cycling': 2,\n",
       " 'Cartoon': 2,\n",
       " 'Werewolves': 3,\n",
       " 'Turn-Based Combat': 21,\n",
       " 'Sokoban': 10,\n",
       " 'Audio Production': 20,\n",
       " 'Voice Control': 2,\n",
       " 'Intentionally Awkward Controls': 1,\n",
       " 'PvP': 10,\n",
       " 'Souls-like': 12,\n",
       " 'Choose Your Own Adventure': 29,\n",
       " 'Snow': 3,\n",
       " 'America': 2,\n",
       " 'Skateboarding': 5,\n",
       " 'Wargame': 18,\n",
       " 'Games Workshop': 5,\n",
       " 'Photo Editing': 8,\n",
       " 'Old School': 4,\n",
       " 'Experimental': 4,\n",
       " 'Otome': 39,\n",
       " 'Linear': 2,\n",
       " 'Minimalist': 31,\n",
       " 'Wrestling': 8,\n",
       " 'Text-Based': 23,\n",
       " 'Hockey': 5,\n",
       " 'Quick-Time Events': 3,\n",
       " 'Runner': 14,\n",
       " 'Dark': 5,\n",
       " 'Rogue-lite': 20,\n",
       " 'Procedural Generation': 10,\n",
       " 'Hex Grid': 11,\n",
       " 'Comic Book': 5,\n",
       " 'Heist': 2,\n",
       " 'Demons': 3,\n",
       " 'Baseball': 11,\n",
       " 'Football': 14,\n",
       " 'Gambling': 3,\n",
       " 'Hand-drawn': 10,\n",
       " \"1990's\": 7,\n",
       " 'Abstract': 5,\n",
       " 'Perma Death': 1,\n",
       " 'CRPG': 2,\n",
       " 'Word Game': 10,\n",
       " 'Spelling': 3,\n",
       " '4 Player Local': 44,\n",
       " 'Action-Adventure': 8,\n",
       " 'Illuminati': 9,\n",
       " 'Tennis': 14,\n",
       " 'Dystopian ': 4,\n",
       " 'Colorful': 5,\n",
       " 'Interactive Fiction': 10,\n",
       " 'Kickstarter': 1,\n",
       " 'Grid-Based Movement': 3,\n",
       " 'Controller': 3,\n",
       " 'Parody ': 1,\n",
       " 'Loot': 3,\n",
       " 'Alternate History': 2,\n",
       " 'Bikes': 6,\n",
       " 'VR Only': 25,\n",
       " 'Class-Based': 2,\n",
       " 'Supernatural': 2,\n",
       " 'Futuristic': 4,\n",
       " '3D': 3,\n",
       " 'Strategy RPG': 2,\n",
       " 'Psychological': 2,\n",
       " 'Score Attack': 2,\n",
       " 'Cartoony': 3,\n",
       " 'Science': 4,\n",
       " '360 Video': 3,\n",
       " 'e-sports': 2,\n",
       " 'Cinematic': 1,\n",
       " 'Snowboarding': 2,\n",
       " 'Romance': 7,\n",
       " 'Real Time Tactics': 2,\n",
       " 'Nonlinear': 1,\n",
       " 'Battle Royale': 24,\n",
       " 'BMX': 4,\n",
       " 'Diplomacy': 1,\n",
       " 'Sailing': 1,\n",
       " 'Real-Time': 3,\n",
       " 'Philisophical': 3,\n",
       " 'Skating': 1,\n",
       " 'Investigation': 1,\n",
       " 'Drama': 4,\n",
       " 'Mystery Dungeon': 1,\n",
       " 'Mouse only': 8,\n",
       " 'Thriller': 2,\n",
       " 'Dungeons & Dragons': 2,\n",
       " 'Music-Based Procedural Generation': 1,\n",
       " 'Epic': 1,\n",
       " 'Voxel': 2,\n",
       " 'Beautiful': 3,\n",
       " 'GameMaker': 1,\n",
       " 'Gun Customization': 1,\n",
       " 'Conversation': 1,\n",
       " '3D Vision': 1,\n",
       " 'Moddable': 2,\n",
       " 'Mod': 1,\n",
       " 'Faith': 7,\n",
       " 'Time Attack': 2,\n",
       " '2.5D': 1,\n",
       " 'Blood': 1,\n",
       " 'NSFW': 1,\n",
       " 'Stylized': 1,\n",
       " 'Logic': 1}"
      ]
     },
     "execution_count": 57,
     "metadata": {},
     "output_type": "execute_result"
    }
   ],
   "source": [
    "#create a dictionary containing tags and the number of games with each tag\n",
    "tags_dict = extract_labels(steam_df, 'steamspy_tags')\n",
    "tags_dict"
   ]
  },
  {
   "cell_type": "code",
   "execution_count": 58,
   "metadata": {},
   "outputs": [
    {
     "data": {
      "text/plain": [
       "339"
      ]
     },
     "execution_count": 58,
     "metadata": {},
     "output_type": "execute_result"
    }
   ],
   "source": [
    "#number of tags in the dataset\n",
    "len(tags_dict)"
   ]
  },
  {
   "cell_type": "code",
   "execution_count": 59,
   "metadata": {},
   "outputs": [
    {
     "data": {
      "text/plain": [
       "[('Indie', 16232),\n",
       " ('Action', 10322),\n",
       " ('Casual', 8205),\n",
       " ('Adventure', 7770),\n",
       " ('Strategy', 4173),\n",
       " ('Simulation', 3284),\n",
       " ('Early Access', 2967),\n",
       " ('RPG', 2785),\n",
       " ('Free to Play', 1662),\n",
       " ('Puzzle', 1116),\n",
       " ('VR', 961),\n",
       " ('Sports', 781),\n",
       " ('Racing', 765),\n",
       " ('Platformer', 648),\n",
       " ('Nudity', 570),\n",
       " ('Sexual Content', 557),\n",
       " ('Visual Novel', 546),\n",
       " ('Violent', 545),\n",
       " ('Anime', 538),\n",
       " ('Horror', 493),\n",
       " ('Point & Click', 492),\n",
       " ('Gore', 476),\n",
       " ('Hidden Object', 460),\n",
       " ('FPS', 405),\n",
       " ('Multiplayer', 405),\n",
       " ('Massively Multiplayer', 377),\n",
       " ('Pixel Graphics', 249),\n",
       " (\"Shoot 'Em Up\", 245),\n",
       " ('Open World', 243),\n",
       " ('Survival', 235),\n",
       " ('Space', 225),\n",
       " ('Arcade', 203),\n",
       " ('Female Protagonist', 199),\n",
       " ('RPGMaker', 192),\n",
       " ('RTS', 174),\n",
       " ('Turn-Based', 171),\n",
       " ('Classic', 170),\n",
       " ('Tower Defense', 168),\n",
       " ('Card Game', 164),\n",
       " ('2D', 163),\n",
       " ('Singleplayer', 161),\n",
       " ('Story Rich', 159),\n",
       " ('Zombies', 158),\n",
       " ('Sci-fi', 157),\n",
       " ('Utilities', 138),\n",
       " ('World War II', 130),\n",
       " ('Great Soundtrack', 125),\n",
       " ('Co-op', 120),\n",
       " ('Match 3', 119),\n",
       " ('Fighting', 117),\n",
       " ('Management', 116),\n",
       " ('Fantasy', 115),\n",
       " ('Retro', 114),\n",
       " ('Music', 105),\n",
       " ('Board Game', 105),\n",
       " ('Rogue-like', 104),\n",
       " ('Turn-Based Strategy', 103),\n",
       " ('Shooter', 101),\n",
       " ('Bullet Hell', 96),\n",
       " ('Sandbox', 94),\n",
       " ('JRPG', 94),\n",
       " ('Stealth', 93),\n",
       " ('First-Person', 91),\n",
       " ('Comedy', 89),\n",
       " ('Family Friendly', 86),\n",
       " ('Atmospheric', 85),\n",
       " ('Difficult', 85),\n",
       " ('Education', 84),\n",
       " ('Hack and Slash', 83),\n",
       " ('Local Multiplayer', 80),\n",
       " ('Design & Illustration', 80),\n",
       " ('Memes', 78),\n",
       " ('Psychological Horror', 76),\n",
       " ('City Builder', 71),\n",
       " ('Historical', 69),\n",
       " ('Mystery', 66),\n",
       " ('Flight', 64),\n",
       " ('Clicker', 64),\n",
       " ('Building', 62),\n",
       " ('Driving', 59),\n",
       " ('Puzzle-Platformer', 59),\n",
       " ('Cyberpunk', 58),\n",
       " ('Metroidvania', 56),\n",
       " ('Local Co-Op', 56),\n",
       " ('Funny', 55),\n",
       " ('Walking Simulator', 55),\n",
       " ('Exploration', 55),\n",
       " ('Animation & Modeling', 54),\n",
       " ('Physics', 53),\n",
       " ('Tactical', 51),\n",
       " ('Medieval', 51),\n",
       " ('Survival Horror', 51),\n",
       " ('Rhythm', 48),\n",
       " (\"Beat 'em up\", 47),\n",
       " ('Relaxing', 46),\n",
       " ('Dungeon Crawler', 45),\n",
       " ('Twin Stick Shooter', 44),\n",
       " ('4 Player Local', 44),\n",
       " ('Third-Person Shooter', 42),\n",
       " ('Detective', 42),\n",
       " ('3D Platformer', 42),\n",
       " ('2D Fighter', 41),\n",
       " ('Post-apocalyptic', 40),\n",
       " ('Cute', 40),\n",
       " ('Naval', 39),\n",
       " ('Otome', 39),\n",
       " ('4X', 37),\n",
       " ('Trains', 37),\n",
       " ('Mature', 37),\n",
       " ('Mechs', 36),\n",
       " ('Dinosaurs', 34),\n",
       " ('FMV', 34),\n",
       " ('Grand Strategy', 33),\n",
       " ('Time Management', 33),\n",
       " ('Dating Sim', 33),\n",
       " ('Choices Matter', 32),\n",
       " ('Video Production', 31),\n",
       " ('Pirates', 31),\n",
       " ('MMORPG', 31),\n",
       " ('Minimalist', 31),\n",
       " ('Warhammer 40K', 29),\n",
       " ('Choose Your Own Adventure', 29),\n",
       " ('Star Wars', 28),\n",
       " ('Top-Down Shooter', 27),\n",
       " ('Base-Building', 26),\n",
       " ('Lovecraftian', 26),\n",
       " ('Programming', 26),\n",
       " ('Third Person', 25),\n",
       " ('War', 25),\n",
       " ('VR Only', 25),\n",
       " ('Steampunk', 24),\n",
       " ('Agriculture', 24),\n",
       " ('Battle Royale', 24),\n",
       " ('Western', 23),\n",
       " ('World War I', 23),\n",
       " ('Parkour', 23),\n",
       " ('Game Development', 23),\n",
       " ('Crafting', 23),\n",
       " ('Text-Based', 23),\n",
       " ('Superhero', 22),\n",
       " ('Top-Down', 22),\n",
       " ('LEGO', 22),\n",
       " ('Robots', 22),\n",
       " ('Turn-Based Tactics', 22),\n",
       " ('Tanks', 21),\n",
       " ('Destruction', 21),\n",
       " ('Turn-Based Combat', 21),\n",
       " ('Hacking', 20),\n",
       " ('Action RPG', 20),\n",
       " ('Isometric', 20),\n",
       " ('Audio Production', 20),\n",
       " ('Rogue-lite', 20),\n",
       " ('Military', 19),\n",
       " ('Surreal', 19),\n",
       " ('Realistic', 19),\n",
       " ('Fast-Paced', 18),\n",
       " ('Wargame', 18),\n",
       " ('Vampire', 17),\n",
       " ('Offroad', 17),\n",
       " ('Economy', 17),\n",
       " ('Fishing', 17),\n",
       " ('Short', 16),\n",
       " ('Chess', 16),\n",
       " ('Software', 16),\n",
       " ('Level Editor', 15),\n",
       " ('Pinball', 15),\n",
       " ('Cats', 15),\n",
       " ('Character Customization', 14),\n",
       " ('Golf', 14),\n",
       " ('Noir', 14),\n",
       " ('Psychedelic', 14),\n",
       " ('Runner', 14),\n",
       " ('Football', 14),\n",
       " ('Tennis', 14),\n",
       " ('MOBA', 13),\n",
       " ('Ninja', 13),\n",
       " ('Underwater', 13),\n",
       " ('Trading Card Game', 13),\n",
       " ('Hunting', 13),\n",
       " ('Competitive', 12),\n",
       " ('Crime', 12),\n",
       " ('Horses', 12),\n",
       " ('Dragons', 12),\n",
       " ('Side Scroller', 12),\n",
       " ('Souls-like', 12),\n",
       " ('Cold War', 11),\n",
       " ('Magic', 11),\n",
       " ('Politics', 11),\n",
       " ('Assassin', 11),\n",
       " ('Software Training', 11),\n",
       " ('Hex Grid', 11),\n",
       " ('Baseball', 11),\n",
       " ('God Game', 10),\n",
       " ('On-Rails Shooter', 10),\n",
       " ('Sokoban', 10),\n",
       " ('PvP', 10),\n",
       " ('Procedural Generation', 10),\n",
       " ('Hand-drawn', 10),\n",
       " ('Word Game', 10),\n",
       " ('Interactive Fiction', 10),\n",
       " ('Villain Protagonist', 9),\n",
       " ('Dark Humor', 9),\n",
       " ('Aliens', 9),\n",
       " ('Remake', 9),\n",
       " ('Batman', 9),\n",
       " ('Basketball', 9),\n",
       " ('Motocross', 9),\n",
       " ('Web Publishing', 9),\n",
       " ('Online Co-Op', 9),\n",
       " ('Soccer', 9),\n",
       " ('Illuminati', 9),\n",
       " ('Sniper', 8),\n",
       " ('Trading', 8),\n",
       " ('Space Sim', 8),\n",
       " ('Mythology', 8),\n",
       " ('Photo Editing', 8),\n",
       " ('Wrestling', 8),\n",
       " ('Action-Adventure', 8),\n",
       " ('Mouse only', 8),\n",
       " ('Cult Classic', 7),\n",
       " ('Mini Golf', 7),\n",
       " ('Masterpiece', 7),\n",
       " ('Dog', 7),\n",
       " ('6DOF', 7),\n",
       " ('Swordplay', 7),\n",
       " ('Political', 7),\n",
       " (\"1990's\", 7),\n",
       " ('Romance', 7),\n",
       " ('Faith', 7),\n",
       " ('1980s', 6),\n",
       " ('Martial Arts', 6),\n",
       " ('Replay Value', 6),\n",
       " ('Mars', 6),\n",
       " ('Satire', 6),\n",
       " ('Dark Fantasy', 6),\n",
       " ('Typing', 6),\n",
       " ('Mining', 6),\n",
       " ('Bikes', 6),\n",
       " ('Arena Shooter', 5),\n",
       " ('Character Action Game', 5),\n",
       " ('Multiple Endings', 5),\n",
       " ('Resource Management', 5),\n",
       " ('Split Screen', 5),\n",
       " ('Bullet Time', 5),\n",
       " ('Skateboarding', 5),\n",
       " ('Games Workshop', 5),\n",
       " ('Hockey', 5),\n",
       " ('Dark', 5),\n",
       " ('Comic Book', 5),\n",
       " ('Abstract', 5),\n",
       " ('Colorful', 5),\n",
       " ('Rome', 4),\n",
       " ('Submarine', 4),\n",
       " ('Capitalism', 4),\n",
       " ('Benchmark', 4),\n",
       " ('Lara Croft', 4),\n",
       " ('Old School', 4),\n",
       " ('Experimental', 4),\n",
       " ('Dystopian ', 4),\n",
       " ('Futuristic', 4),\n",
       " ('Science', 4),\n",
       " ('BMX', 4),\n",
       " ('Drama', 4),\n",
       " ('Time Manipulation', 3),\n",
       " ('Party-Based RPG', 3),\n",
       " ('Time Travel', 3),\n",
       " ('Real-Time with Pause', 3),\n",
       " ('Lemmings', 3),\n",
       " ('Documentary', 3),\n",
       " ('Team-Based', 3),\n",
       " ('Narration', 3),\n",
       " ('Touch-Friendly', 3),\n",
       " ('Motorbike', 3),\n",
       " ('Pool', 3),\n",
       " ('Werewolves', 3),\n",
       " ('Snow', 3),\n",
       " ('Quick-Time Events', 3),\n",
       " ('Demons', 3),\n",
       " ('Gambling', 3),\n",
       " ('Spelling', 3),\n",
       " ('Grid-Based Movement', 3),\n",
       " ('Controller', 3),\n",
       " ('Loot', 3),\n",
       " ('3D', 3),\n",
       " ('Cartoony', 3),\n",
       " ('360 Video', 3),\n",
       " ('Real-Time', 3),\n",
       " ('Philisophical', 3),\n",
       " ('Beautiful', 3),\n",
       " ('Bowling', 2),\n",
       " ('Gothic', 2),\n",
       " ('Tactical RPG', 2),\n",
       " ('Cycling', 2),\n",
       " ('Cartoon', 2),\n",
       " ('Voice Control', 2),\n",
       " ('America', 2),\n",
       " ('Linear', 2),\n",
       " ('Heist', 2),\n",
       " ('CRPG', 2),\n",
       " ('Alternate History', 2),\n",
       " ('Class-Based', 2),\n",
       " ('Supernatural', 2),\n",
       " ('Strategy RPG', 2),\n",
       " ('Psychological', 2),\n",
       " ('Score Attack', 2),\n",
       " ('e-sports', 2),\n",
       " ('Snowboarding', 2),\n",
       " ('Real Time Tactics', 2),\n",
       " ('Thriller', 2),\n",
       " ('Dungeons & Dragons', 2),\n",
       " ('Voxel', 2),\n",
       " ('Moddable', 2),\n",
       " ('Time Attack', 2),\n",
       " ('Movie', 1),\n",
       " ('Spectacle fighter', 1),\n",
       " ('Inventory Management', 1),\n",
       " ('Intentionally Awkward Controls', 1),\n",
       " ('Perma Death', 1),\n",
       " ('Kickstarter', 1),\n",
       " ('Parody ', 1),\n",
       " ('Cinematic', 1),\n",
       " ('Nonlinear', 1),\n",
       " ('Diplomacy', 1),\n",
       " ('Sailing', 1),\n",
       " ('Skating', 1),\n",
       " ('Investigation', 1),\n",
       " ('Mystery Dungeon', 1),\n",
       " ('Music-Based Procedural Generation', 1),\n",
       " ('Epic', 1),\n",
       " ('GameMaker', 1),\n",
       " ('Gun Customization', 1),\n",
       " ('Conversation', 1),\n",
       " ('3D Vision', 1),\n",
       " ('Mod', 1),\n",
       " ('2.5D', 1),\n",
       " ('Blood', 1),\n",
       " ('NSFW', 1),\n",
       " ('Stylized', 1),\n",
       " ('Logic', 1)]"
      ]
     },
     "execution_count": 59,
     "metadata": {},
     "output_type": "execute_result"
    }
   ],
   "source": [
    "#sorting steamspy_tags counts across the dataset\n",
    "tags_sorted = sort_dict(tags_dict)\n",
    "tags_sorted"
   ]
  },
  {
   "cell_type": "markdown",
   "metadata": {},
   "source": [
    "Tags are user-voted labels for a Steam game. They are more granular and are the most useful of these labels in determining content."
   ]
  },
  {
   "cell_type": "markdown",
   "metadata": {},
   "source": [
    "'Indie' was the most popular genre and tag ('Indie' means that the game was made by an indie studio). There was a lot of overlap between tags and genres. In order to avoid duplicates, I decided to combine categories, genres, and tags into a single column consisting of content-descriptive labels."
   ]
  },
  {
   "cell_type": "code",
   "execution_count": 60,
   "metadata": {},
   "outputs": [
    {
     "data": {
      "text/plain": [
       "0         0\n",
       "1         0\n",
       "2         0\n",
       "3         0\n",
       "4         0\n",
       "         ..\n",
       "27070     7\n",
       "27071     0\n",
       "27072    24\n",
       "27073     0\n",
       "27074     0\n",
       "Name: achievements, Length: 27075, dtype: int64"
      ]
     },
     "execution_count": 60,
     "metadata": {},
     "output_type": "execute_result"
    }
   ],
   "source": [
    "#number of Steam achievements available\n",
    "steam_df['achievements']"
   ]
  },
  {
   "cell_type": "code",
   "execution_count": 61,
   "metadata": {},
   "outputs": [
    {
     "data": {
      "text/plain": [
       "0       11864\n",
       "10        679\n",
       "12        618\n",
       "20        574\n",
       "15        490\n",
       "        ...  \n",
       "184         1\n",
       "168         1\n",
       "1487        1\n",
       "319         1\n",
       "4094        1\n",
       "Name: achievements, Length: 410, dtype: int64"
      ]
     },
     "execution_count": 61,
     "metadata": {},
     "output_type": "execute_result"
    }
   ],
   "source": [
    "steam_df['achievements'].value_counts()"
   ]
  },
  {
   "cell_type": "code",
   "execution_count": 62,
   "metadata": {},
   "outputs": [
    {
     "data": {
      "text/html": [
       "<div>\n",
       "<style scoped>\n",
       "    .dataframe tbody tr th:only-of-type {\n",
       "        vertical-align: middle;\n",
       "    }\n",
       "\n",
       "    .dataframe tbody tr th {\n",
       "        vertical-align: top;\n",
       "    }\n",
       "\n",
       "    .dataframe thead th {\n",
       "        text-align: right;\n",
       "    }\n",
       "</style>\n",
       "<table border=\"1\" class=\"dataframe\">\n",
       "  <thead>\n",
       "    <tr style=\"text-align: right;\">\n",
       "      <th></th>\n",
       "      <th>appid</th>\n",
       "      <th>name</th>\n",
       "      <th>release_date</th>\n",
       "      <th>english</th>\n",
       "      <th>developer</th>\n",
       "      <th>publisher</th>\n",
       "      <th>platforms</th>\n",
       "      <th>required_age</th>\n",
       "      <th>categories</th>\n",
       "      <th>genres</th>\n",
       "      <th>steamspy_tags</th>\n",
       "      <th>achievements</th>\n",
       "      <th>positive_ratings</th>\n",
       "      <th>negative_ratings</th>\n",
       "      <th>average_playtime</th>\n",
       "      <th>median_playtime</th>\n",
       "      <th>owners</th>\n",
       "      <th>price</th>\n",
       "    </tr>\n",
       "  </thead>\n",
       "  <tbody>\n",
       "    <tr>\n",
       "      <th>13740</th>\n",
       "      <td>604490</td>\n",
       "      <td>Running Through Russia</td>\n",
       "      <td>2017-05-21</td>\n",
       "      <td>1</td>\n",
       "      <td>Spell Helix</td>\n",
       "      <td>Spell Helix</td>\n",
       "      <td>windows;mac;linux</td>\n",
       "      <td>0</td>\n",
       "      <td>Single-player;Steam Achievements</td>\n",
       "      <td>Adventure;Casual;Indie;Early Access</td>\n",
       "      <td>Early Access;Indie;Casual</td>\n",
       "      <td>4094</td>\n",
       "      <td>751</td>\n",
       "      <td>335</td>\n",
       "      <td>22</td>\n",
       "      <td>22</td>\n",
       "      <td>50000-100000</td>\n",
       "      <td>0.79</td>\n",
       "    </tr>\n",
       "  </tbody>\n",
       "</table>\n",
       "</div>"
      ],
      "text/plain": [
       "        appid                    name release_date  english    developer  \\\n",
       "13740  604490  Running Through Russia   2017-05-21        1  Spell Helix   \n",
       "\n",
       "         publisher          platforms  required_age  \\\n",
       "13740  Spell Helix  windows;mac;linux             0   \n",
       "\n",
       "                             categories                               genres  \\\n",
       "13740  Single-player;Steam Achievements  Adventure;Casual;Indie;Early Access   \n",
       "\n",
       "                   steamspy_tags  achievements  positive_ratings  \\\n",
       "13740  Early Access;Indie;Casual          4094               751   \n",
       "\n",
       "       negative_ratings  average_playtime  median_playtime        owners  \\\n",
       "13740               335                22               22  50000-100000   \n",
       "\n",
       "       price  \n",
       "13740   0.79  "
      ]
     },
     "execution_count": 62,
     "metadata": {},
     "output_type": "execute_result"
    }
   ],
   "source": [
    "#this is the game with the most achievements\n",
    "steam_df[steam_df['achievements']==4094]"
   ]
  },
  {
   "cell_type": "markdown",
   "metadata": {},
   "source": [
    "Achievements are created by devlopers and awarded for completing game-specific tasks. To my business understanding, the number of achievements is not a meaningful consideration for buyers."
   ]
  },
  {
   "cell_type": "code",
   "execution_count": 63,
   "metadata": {},
   "outputs": [
    {
     "data": {
      "text/plain": [
       "0        124534\n",
       "1          3318\n",
       "2          3416\n",
       "3          1273\n",
       "4          5250\n",
       "          ...  \n",
       "27070         3\n",
       "27071         8\n",
       "27072         0\n",
       "27073         2\n",
       "27074         4\n",
       "Name: positive_ratings, Length: 27075, dtype: int64"
      ]
     },
     "execution_count": 63,
     "metadata": {},
     "output_type": "execute_result"
    }
   ],
   "source": [
    "#number of positive reviews\n",
    "steam_df['positive_ratings']"
   ]
  },
  {
   "cell_type": "code",
   "execution_count": 64,
   "metadata": {},
   "outputs": [
    {
     "data": {
      "text/plain": [
       "0        3339\n",
       "1         633\n",
       "2         398\n",
       "3         267\n",
       "4         288\n",
       "         ... \n",
       "27070       0\n",
       "27071       1\n",
       "27072       1\n",
       "27073       0\n",
       "27074       0\n",
       "Name: negative_ratings, Length: 27075, dtype: int64"
      ]
     },
     "execution_count": 64,
     "metadata": {},
     "output_type": "execute_result"
    }
   ],
   "source": [
    "#number of negative reviews\n",
    "steam_df['negative_ratings']"
   ]
  },
  {
   "cell_type": "markdown",
   "metadata": {},
   "source": [
    "In order to investigate ratings more closely, I created a 'total_ratings' column by adding the number of positive and negative ratings. Using that new column, I calculated values for a 'percent_positive' column."
   ]
  },
  {
   "cell_type": "code",
   "execution_count": 65,
   "metadata": {
    "scrolled": true
   },
   "outputs": [
    {
     "data": {
      "text/html": [
       "<div>\n",
       "<style scoped>\n",
       "    .dataframe tbody tr th:only-of-type {\n",
       "        vertical-align: middle;\n",
       "    }\n",
       "\n",
       "    .dataframe tbody tr th {\n",
       "        vertical-align: top;\n",
       "    }\n",
       "\n",
       "    .dataframe thead th {\n",
       "        text-align: right;\n",
       "    }\n",
       "</style>\n",
       "<table border=\"1\" class=\"dataframe\">\n",
       "  <thead>\n",
       "    <tr style=\"text-align: right;\">\n",
       "      <th></th>\n",
       "      <th>appid</th>\n",
       "      <th>name</th>\n",
       "      <th>release_date</th>\n",
       "      <th>english</th>\n",
       "      <th>developer</th>\n",
       "      <th>publisher</th>\n",
       "      <th>platforms</th>\n",
       "      <th>required_age</th>\n",
       "      <th>categories</th>\n",
       "      <th>genres</th>\n",
       "      <th>steamspy_tags</th>\n",
       "      <th>achievements</th>\n",
       "      <th>positive_ratings</th>\n",
       "      <th>negative_ratings</th>\n",
       "      <th>average_playtime</th>\n",
       "      <th>median_playtime</th>\n",
       "      <th>owners</th>\n",
       "      <th>price</th>\n",
       "    </tr>\n",
       "  </thead>\n",
       "  <tbody>\n",
       "  </tbody>\n",
       "</table>\n",
       "</div>"
      ],
      "text/plain": [
       "Empty DataFrame\n",
       "Columns: [appid, name, release_date, english, developer, publisher, platforms, required_age, categories, genres, steamspy_tags, achievements, positive_ratings, negative_ratings, average_playtime, median_playtime, owners, price]\n",
       "Index: []"
      ]
     },
     "execution_count": 65,
     "metadata": {},
     "output_type": "execute_result"
    }
   ],
   "source": [
    "#confirm every game in the dataset has at least 1 rating\n",
    "#no divide-by-0 errors\n",
    "no_ratings = steam_df[ (steam_df['positive_ratings'] == 0) &  (steam_df['negative_ratings'] == 0) ]\n",
    "no_ratings"
   ]
  },
  {
   "cell_type": "code",
   "execution_count": 66,
   "metadata": {},
   "outputs": [
    {
     "data": {
      "text/plain": [
       "0        127873\n",
       "1          3951\n",
       "2          3814\n",
       "3          1540\n",
       "4          5538\n",
       "          ...  \n",
       "27070         3\n",
       "27071         9\n",
       "27072         1\n",
       "27073         2\n",
       "27074         4\n",
       "Name: total_ratings, Length: 27075, dtype: int64"
      ]
     },
     "execution_count": 66,
     "metadata": {},
     "output_type": "execute_result"
    }
   ],
   "source": [
    "steam_df['total_ratings'] = steam_df['positive_ratings'] + steam_df['negative_ratings']\n",
    "steam_df['total_ratings']"
   ]
  },
  {
   "cell_type": "code",
   "execution_count": 67,
   "metadata": {},
   "outputs": [
    {
     "data": {
      "text/plain": [
       "0        0.973888\n",
       "1        0.839787\n",
       "2        0.895648\n",
       "3        0.826623\n",
       "4        0.947996\n",
       "           ...   \n",
       "27070    1.000000\n",
       "27071    0.888889\n",
       "27072    0.000000\n",
       "27073    1.000000\n",
       "27074    1.000000\n",
       "Name: percent_positive, Length: 27075, dtype: float64"
      ]
     },
     "execution_count": 67,
     "metadata": {},
     "output_type": "execute_result"
    }
   ],
   "source": [
    "steam_df['percent_positive'] = steam_df['positive_ratings'] / steam_df['total_ratings']\n",
    "steam_df['percent_positive']"
   ]
  },
  {
   "cell_type": "code",
   "execution_count": 68,
   "metadata": {},
   "outputs": [
    {
     "data": {
      "text/plain": [
       "0        17612\n",
       "1          277\n",
       "2          187\n",
       "3          258\n",
       "4          624\n",
       "         ...  \n",
       "27070        0\n",
       "27071        0\n",
       "27072        0\n",
       "27073        0\n",
       "27074        0\n",
       "Name: average_playtime, Length: 27075, dtype: int64"
      ]
     },
     "execution_count": 68,
     "metadata": {},
     "output_type": "execute_result"
    }
   ],
   "source": [
    "#average user playtime (minutes)\n",
    "steam_df['average_playtime']"
   ]
  },
  {
   "cell_type": "code",
   "execution_count": 69,
   "metadata": {},
   "outputs": [
    {
     "data": {
      "text/html": [
       "<div>\n",
       "<style scoped>\n",
       "    .dataframe tbody tr th:only-of-type {\n",
       "        vertical-align: middle;\n",
       "    }\n",
       "\n",
       "    .dataframe tbody tr th {\n",
       "        vertical-align: top;\n",
       "    }\n",
       "\n",
       "    .dataframe thead th {\n",
       "        text-align: right;\n",
       "    }\n",
       "</style>\n",
       "<table border=\"1\" class=\"dataframe\">\n",
       "  <thead>\n",
       "    <tr style=\"text-align: right;\">\n",
       "      <th></th>\n",
       "      <th>appid</th>\n",
       "      <th>name</th>\n",
       "      <th>release_date</th>\n",
       "      <th>english</th>\n",
       "      <th>developer</th>\n",
       "      <th>publisher</th>\n",
       "      <th>platforms</th>\n",
       "      <th>required_age</th>\n",
       "      <th>categories</th>\n",
       "      <th>genres</th>\n",
       "      <th>steamspy_tags</th>\n",
       "      <th>achievements</th>\n",
       "      <th>positive_ratings</th>\n",
       "      <th>negative_ratings</th>\n",
       "      <th>average_playtime</th>\n",
       "      <th>median_playtime</th>\n",
       "      <th>owners</th>\n",
       "      <th>price</th>\n",
       "      <th>total_ratings</th>\n",
       "      <th>percent_positive</th>\n",
       "    </tr>\n",
       "  </thead>\n",
       "  <tbody>\n",
       "    <tr>\n",
       "      <th>26</th>\n",
       "      <td>1002</td>\n",
       "      <td>Rag Doll Kung Fu</td>\n",
       "      <td>2005-10-12</td>\n",
       "      <td>1</td>\n",
       "      <td>Mark Healey</td>\n",
       "      <td>Mark Healey</td>\n",
       "      <td>windows</td>\n",
       "      <td>0</td>\n",
       "      <td>Single-player;Multi-player</td>\n",
       "      <td>Indie</td>\n",
       "      <td>Indie;Fighting;Multiplayer</td>\n",
       "      <td>0</td>\n",
       "      <td>40</td>\n",
       "      <td>17</td>\n",
       "      <td>0</td>\n",
       "      <td>0</td>\n",
       "      <td>20000-50000</td>\n",
       "      <td>5.99</td>\n",
       "      <td>57</td>\n",
       "      <td>0.701754</td>\n",
       "    </tr>\n",
       "    <tr>\n",
       "      <th>29</th>\n",
       "      <td>1300</td>\n",
       "      <td>SiN Episodes: Emergence</td>\n",
       "      <td>2006-05-10</td>\n",
       "      <td>1</td>\n",
       "      <td>Ritual Entertainment</td>\n",
       "      <td>Ritual Entertainment</td>\n",
       "      <td>windows</td>\n",
       "      <td>0</td>\n",
       "      <td>Single-player;Stats</td>\n",
       "      <td>Action</td>\n",
       "      <td>Action;FPS;Cyberpunk</td>\n",
       "      <td>0</td>\n",
       "      <td>468</td>\n",
       "      <td>61</td>\n",
       "      <td>0</td>\n",
       "      <td>0</td>\n",
       "      <td>100000-200000</td>\n",
       "      <td>7.19</td>\n",
       "      <td>529</td>\n",
       "      <td>0.884688</td>\n",
       "    </tr>\n",
       "    <tr>\n",
       "      <th>34</th>\n",
       "      <td>1600</td>\n",
       "      <td>Dangerous Waters</td>\n",
       "      <td>2006-02-07</td>\n",
       "      <td>1</td>\n",
       "      <td>Sonalysts</td>\n",
       "      <td>Strategy First</td>\n",
       "      <td>windows</td>\n",
       "      <td>0</td>\n",
       "      <td>Single-player;Multi-player</td>\n",
       "      <td>Strategy</td>\n",
       "      <td>Strategy;Simulation;Naval</td>\n",
       "      <td>0</td>\n",
       "      <td>140</td>\n",
       "      <td>44</td>\n",
       "      <td>0</td>\n",
       "      <td>0</td>\n",
       "      <td>50000-100000</td>\n",
       "      <td>22.99</td>\n",
       "      <td>184</td>\n",
       "      <td>0.760870</td>\n",
       "    </tr>\n",
       "    <tr>\n",
       "      <th>35</th>\n",
       "      <td>1610</td>\n",
       "      <td>Space Empires IV Deluxe</td>\n",
       "      <td>2006-02-07</td>\n",
       "      <td>1</td>\n",
       "      <td>Malfador Machinations</td>\n",
       "      <td>Strategy First</td>\n",
       "      <td>windows</td>\n",
       "      <td>0</td>\n",
       "      <td>Single-player;Multi-player</td>\n",
       "      <td>Strategy</td>\n",
       "      <td>Strategy;4X;Sci-fi</td>\n",
       "      <td>0</td>\n",
       "      <td>112</td>\n",
       "      <td>26</td>\n",
       "      <td>0</td>\n",
       "      <td>0</td>\n",
       "      <td>50000-100000</td>\n",
       "      <td>6.99</td>\n",
       "      <td>138</td>\n",
       "      <td>0.811594</td>\n",
       "    </tr>\n",
       "    <tr>\n",
       "      <th>36</th>\n",
       "      <td>1630</td>\n",
       "      <td>Disciples II: Rise of the Elves</td>\n",
       "      <td>2006-07-06</td>\n",
       "      <td>1</td>\n",
       "      <td>Strategy First</td>\n",
       "      <td>Strategy First</td>\n",
       "      <td>windows</td>\n",
       "      <td>0</td>\n",
       "      <td>Single-player;Multi-player;Co-op</td>\n",
       "      <td>Strategy</td>\n",
       "      <td>Strategy;Turn-Based Strategy;Fantasy</td>\n",
       "      <td>0</td>\n",
       "      <td>451</td>\n",
       "      <td>108</td>\n",
       "      <td>0</td>\n",
       "      <td>0</td>\n",
       "      <td>100000-200000</td>\n",
       "      <td>4.99</td>\n",
       "      <td>559</td>\n",
       "      <td>0.806798</td>\n",
       "    </tr>\n",
       "    <tr>\n",
       "      <th>...</th>\n",
       "      <td>...</td>\n",
       "      <td>...</td>\n",
       "      <td>...</td>\n",
       "      <td>...</td>\n",
       "      <td>...</td>\n",
       "      <td>...</td>\n",
       "      <td>...</td>\n",
       "      <td>...</td>\n",
       "      <td>...</td>\n",
       "      <td>...</td>\n",
       "      <td>...</td>\n",
       "      <td>...</td>\n",
       "      <td>...</td>\n",
       "      <td>...</td>\n",
       "      <td>...</td>\n",
       "      <td>...</td>\n",
       "      <td>...</td>\n",
       "      <td>...</td>\n",
       "      <td>...</td>\n",
       "      <td>...</td>\n",
       "    </tr>\n",
       "    <tr>\n",
       "      <th>27070</th>\n",
       "      <td>1065230</td>\n",
       "      <td>Room of Pandora</td>\n",
       "      <td>2019-04-24</td>\n",
       "      <td>1</td>\n",
       "      <td>SHEN JIAWEI</td>\n",
       "      <td>SHEN JIAWEI</td>\n",
       "      <td>windows</td>\n",
       "      <td>0</td>\n",
       "      <td>Single-player;Steam Achievements</td>\n",
       "      <td>Adventure;Casual;Indie</td>\n",
       "      <td>Adventure;Indie;Casual</td>\n",
       "      <td>7</td>\n",
       "      <td>3</td>\n",
       "      <td>0</td>\n",
       "      <td>0</td>\n",
       "      <td>0</td>\n",
       "      <td>0-20000</td>\n",
       "      <td>2.09</td>\n",
       "      <td>3</td>\n",
       "      <td>1.000000</td>\n",
       "    </tr>\n",
       "    <tr>\n",
       "      <th>27071</th>\n",
       "      <td>1065570</td>\n",
       "      <td>Cyber Gun</td>\n",
       "      <td>2019-04-23</td>\n",
       "      <td>1</td>\n",
       "      <td>Semyon Maximov</td>\n",
       "      <td>BekkerDev Studio</td>\n",
       "      <td>windows</td>\n",
       "      <td>0</td>\n",
       "      <td>Single-player</td>\n",
       "      <td>Action;Adventure;Indie</td>\n",
       "      <td>Action;Indie;Adventure</td>\n",
       "      <td>0</td>\n",
       "      <td>8</td>\n",
       "      <td>1</td>\n",
       "      <td>0</td>\n",
       "      <td>0</td>\n",
       "      <td>0-20000</td>\n",
       "      <td>1.69</td>\n",
       "      <td>9</td>\n",
       "      <td>0.888889</td>\n",
       "    </tr>\n",
       "    <tr>\n",
       "      <th>27072</th>\n",
       "      <td>1065650</td>\n",
       "      <td>Super Star Blast</td>\n",
       "      <td>2019-04-24</td>\n",
       "      <td>1</td>\n",
       "      <td>EntwicklerX</td>\n",
       "      <td>EntwicklerX</td>\n",
       "      <td>windows</td>\n",
       "      <td>0</td>\n",
       "      <td>Single-player;Multi-player;Co-op;Shared/Split ...</td>\n",
       "      <td>Action;Casual;Indie</td>\n",
       "      <td>Action;Indie;Casual</td>\n",
       "      <td>24</td>\n",
       "      <td>0</td>\n",
       "      <td>1</td>\n",
       "      <td>0</td>\n",
       "      <td>0</td>\n",
       "      <td>0-20000</td>\n",
       "      <td>3.99</td>\n",
       "      <td>1</td>\n",
       "      <td>0.000000</td>\n",
       "    </tr>\n",
       "    <tr>\n",
       "      <th>27073</th>\n",
       "      <td>1066700</td>\n",
       "      <td>New Yankee 7: Deer Hunters</td>\n",
       "      <td>2019-04-17</td>\n",
       "      <td>1</td>\n",
       "      <td>Yustas Game Studio</td>\n",
       "      <td>Alawar Entertainment</td>\n",
       "      <td>windows;mac</td>\n",
       "      <td>0</td>\n",
       "      <td>Single-player;Steam Cloud</td>\n",
       "      <td>Adventure;Casual;Indie</td>\n",
       "      <td>Indie;Casual;Adventure</td>\n",
       "      <td>0</td>\n",
       "      <td>2</td>\n",
       "      <td>0</td>\n",
       "      <td>0</td>\n",
       "      <td>0</td>\n",
       "      <td>0-20000</td>\n",
       "      <td>5.19</td>\n",
       "      <td>2</td>\n",
       "      <td>1.000000</td>\n",
       "    </tr>\n",
       "    <tr>\n",
       "      <th>27074</th>\n",
       "      <td>1069460</td>\n",
       "      <td>Rune Lord</td>\n",
       "      <td>2019-04-24</td>\n",
       "      <td>1</td>\n",
       "      <td>Adept Studios GD</td>\n",
       "      <td>Alawar Entertainment</td>\n",
       "      <td>windows;mac</td>\n",
       "      <td>0</td>\n",
       "      <td>Single-player;Steam Cloud</td>\n",
       "      <td>Adventure;Casual;Indie</td>\n",
       "      <td>Indie;Casual;Adventure</td>\n",
       "      <td>0</td>\n",
       "      <td>4</td>\n",
       "      <td>0</td>\n",
       "      <td>0</td>\n",
       "      <td>0</td>\n",
       "      <td>0-20000</td>\n",
       "      <td>5.19</td>\n",
       "      <td>4</td>\n",
       "      <td>1.000000</td>\n",
       "    </tr>\n",
       "  </tbody>\n",
       "</table>\n",
       "<p>20905 rows × 20 columns</p>\n",
       "</div>"
      ],
      "text/plain": [
       "         appid                              name release_date  english  \\\n",
       "26        1002                  Rag Doll Kung Fu   2005-10-12        1   \n",
       "29        1300           SiN Episodes: Emergence   2006-05-10        1   \n",
       "34        1600                  Dangerous Waters   2006-02-07        1   \n",
       "35        1610           Space Empires IV Deluxe   2006-02-07        1   \n",
       "36        1630  Disciples II: Rise of the Elves    2006-07-06        1   \n",
       "...        ...                               ...          ...      ...   \n",
       "27070  1065230                   Room of Pandora   2019-04-24        1   \n",
       "27071  1065570                         Cyber Gun   2019-04-23        1   \n",
       "27072  1065650                  Super Star Blast   2019-04-24        1   \n",
       "27073  1066700        New Yankee 7: Deer Hunters   2019-04-17        1   \n",
       "27074  1069460                         Rune Lord   2019-04-24        1   \n",
       "\n",
       "                   developer             publisher    platforms  required_age  \\\n",
       "26               Mark Healey           Mark Healey      windows             0   \n",
       "29      Ritual Entertainment  Ritual Entertainment      windows             0   \n",
       "34                 Sonalysts        Strategy First      windows             0   \n",
       "35     Malfador Machinations        Strategy First      windows             0   \n",
       "36            Strategy First        Strategy First      windows             0   \n",
       "...                      ...                   ...          ...           ...   \n",
       "27070            SHEN JIAWEI           SHEN JIAWEI      windows             0   \n",
       "27071         Semyon Maximov      BekkerDev Studio      windows             0   \n",
       "27072            EntwicklerX           EntwicklerX      windows             0   \n",
       "27073     Yustas Game Studio  Alawar Entertainment  windows;mac             0   \n",
       "27074       Adept Studios GD  Alawar Entertainment  windows;mac             0   \n",
       "\n",
       "                                              categories  \\\n",
       "26                            Single-player;Multi-player   \n",
       "29                                   Single-player;Stats   \n",
       "34                            Single-player;Multi-player   \n",
       "35                            Single-player;Multi-player   \n",
       "36                      Single-player;Multi-player;Co-op   \n",
       "...                                                  ...   \n",
       "27070                   Single-player;Steam Achievements   \n",
       "27071                                      Single-player   \n",
       "27072  Single-player;Multi-player;Co-op;Shared/Split ...   \n",
       "27073                          Single-player;Steam Cloud   \n",
       "27074                          Single-player;Steam Cloud   \n",
       "\n",
       "                       genres                         steamspy_tags  \\\n",
       "26                      Indie            Indie;Fighting;Multiplayer   \n",
       "29                     Action                  Action;FPS;Cyberpunk   \n",
       "34                   Strategy             Strategy;Simulation;Naval   \n",
       "35                   Strategy                    Strategy;4X;Sci-fi   \n",
       "36                   Strategy  Strategy;Turn-Based Strategy;Fantasy   \n",
       "...                       ...                                   ...   \n",
       "27070  Adventure;Casual;Indie                Adventure;Indie;Casual   \n",
       "27071  Action;Adventure;Indie                Action;Indie;Adventure   \n",
       "27072     Action;Casual;Indie                   Action;Indie;Casual   \n",
       "27073  Adventure;Casual;Indie                Indie;Casual;Adventure   \n",
       "27074  Adventure;Casual;Indie                Indie;Casual;Adventure   \n",
       "\n",
       "       achievements  positive_ratings  negative_ratings  average_playtime  \\\n",
       "26                0                40                17                 0   \n",
       "29                0               468                61                 0   \n",
       "34                0               140                44                 0   \n",
       "35                0               112                26                 0   \n",
       "36                0               451               108                 0   \n",
       "...             ...               ...               ...               ...   \n",
       "27070             7                 3                 0                 0   \n",
       "27071             0                 8                 1                 0   \n",
       "27072            24                 0                 1                 0   \n",
       "27073             0                 2                 0                 0   \n",
       "27074             0                 4                 0                 0   \n",
       "\n",
       "       median_playtime         owners  price  total_ratings  percent_positive  \n",
       "26                   0    20000-50000   5.99             57          0.701754  \n",
       "29                   0  100000-200000   7.19            529          0.884688  \n",
       "34                   0   50000-100000  22.99            184          0.760870  \n",
       "35                   0   50000-100000   6.99            138          0.811594  \n",
       "36                   0  100000-200000   4.99            559          0.806798  \n",
       "...                ...            ...    ...            ...               ...  \n",
       "27070                0        0-20000   2.09              3          1.000000  \n",
       "27071                0        0-20000   1.69              9          0.888889  \n",
       "27072                0        0-20000   3.99              1          0.000000  \n",
       "27073                0        0-20000   5.19              2          1.000000  \n",
       "27074                0        0-20000   5.19              4          1.000000  \n",
       "\n",
       "[20905 rows x 20 columns]"
      ]
     },
     "execution_count": 69,
     "metadata": {},
     "output_type": "execute_result"
    }
   ],
   "source": [
    "#rows with an average playtime of 0\n",
    "no_avg = steam_df[steam_df['average_playtime'] == 0]\n",
    "no_avg"
   ]
  },
  {
   "cell_type": "code",
   "execution_count": 70,
   "metadata": {},
   "outputs": [
    {
     "data": {
      "text/plain": [
       "0       20905\n",
       "1         155\n",
       "3          72\n",
       "2          52\n",
       "9          48\n",
       "        ...  \n",
       "636         1\n",
       "684         1\n",
       "4164        1\n",
       "748         1\n",
       "6061        1\n",
       "Name: median_playtime, Length: 1312, dtype: int64"
      ]
     },
     "execution_count": 70,
     "metadata": {},
     "output_type": "execute_result"
    }
   ],
   "source": [
    "steam_df['median_playtime'].value_counts()"
   ]
  },
  {
   "cell_type": "code",
   "execution_count": 71,
   "metadata": {},
   "outputs": [
    {
     "data": {
      "text/html": [
       "<div>\n",
       "<style scoped>\n",
       "    .dataframe tbody tr th:only-of-type {\n",
       "        vertical-align: middle;\n",
       "    }\n",
       "\n",
       "    .dataframe tbody tr th {\n",
       "        vertical-align: top;\n",
       "    }\n",
       "\n",
       "    .dataframe thead th {\n",
       "        text-align: right;\n",
       "    }\n",
       "</style>\n",
       "<table border=\"1\" class=\"dataframe\">\n",
       "  <thead>\n",
       "    <tr style=\"text-align: right;\">\n",
       "      <th></th>\n",
       "      <th>appid</th>\n",
       "      <th>name</th>\n",
       "      <th>release_date</th>\n",
       "      <th>english</th>\n",
       "      <th>developer</th>\n",
       "      <th>publisher</th>\n",
       "      <th>platforms</th>\n",
       "      <th>required_age</th>\n",
       "      <th>categories</th>\n",
       "      <th>genres</th>\n",
       "      <th>steamspy_tags</th>\n",
       "      <th>achievements</th>\n",
       "      <th>positive_ratings</th>\n",
       "      <th>negative_ratings</th>\n",
       "      <th>average_playtime</th>\n",
       "      <th>median_playtime</th>\n",
       "      <th>owners</th>\n",
       "      <th>price</th>\n",
       "      <th>total_ratings</th>\n",
       "      <th>percent_positive</th>\n",
       "    </tr>\n",
       "  </thead>\n",
       "  <tbody>\n",
       "    <tr>\n",
       "      <th>26</th>\n",
       "      <td>1002</td>\n",
       "      <td>Rag Doll Kung Fu</td>\n",
       "      <td>2005-10-12</td>\n",
       "      <td>1</td>\n",
       "      <td>Mark Healey</td>\n",
       "      <td>Mark Healey</td>\n",
       "      <td>windows</td>\n",
       "      <td>0</td>\n",
       "      <td>Single-player;Multi-player</td>\n",
       "      <td>Indie</td>\n",
       "      <td>Indie;Fighting;Multiplayer</td>\n",
       "      <td>0</td>\n",
       "      <td>40</td>\n",
       "      <td>17</td>\n",
       "      <td>0</td>\n",
       "      <td>0</td>\n",
       "      <td>20000-50000</td>\n",
       "      <td>5.99</td>\n",
       "      <td>57</td>\n",
       "      <td>0.701754</td>\n",
       "    </tr>\n",
       "    <tr>\n",
       "      <th>29</th>\n",
       "      <td>1300</td>\n",
       "      <td>SiN Episodes: Emergence</td>\n",
       "      <td>2006-05-10</td>\n",
       "      <td>1</td>\n",
       "      <td>Ritual Entertainment</td>\n",
       "      <td>Ritual Entertainment</td>\n",
       "      <td>windows</td>\n",
       "      <td>0</td>\n",
       "      <td>Single-player;Stats</td>\n",
       "      <td>Action</td>\n",
       "      <td>Action;FPS;Cyberpunk</td>\n",
       "      <td>0</td>\n",
       "      <td>468</td>\n",
       "      <td>61</td>\n",
       "      <td>0</td>\n",
       "      <td>0</td>\n",
       "      <td>100000-200000</td>\n",
       "      <td>7.19</td>\n",
       "      <td>529</td>\n",
       "      <td>0.884688</td>\n",
       "    </tr>\n",
       "    <tr>\n",
       "      <th>34</th>\n",
       "      <td>1600</td>\n",
       "      <td>Dangerous Waters</td>\n",
       "      <td>2006-02-07</td>\n",
       "      <td>1</td>\n",
       "      <td>Sonalysts</td>\n",
       "      <td>Strategy First</td>\n",
       "      <td>windows</td>\n",
       "      <td>0</td>\n",
       "      <td>Single-player;Multi-player</td>\n",
       "      <td>Strategy</td>\n",
       "      <td>Strategy;Simulation;Naval</td>\n",
       "      <td>0</td>\n",
       "      <td>140</td>\n",
       "      <td>44</td>\n",
       "      <td>0</td>\n",
       "      <td>0</td>\n",
       "      <td>50000-100000</td>\n",
       "      <td>22.99</td>\n",
       "      <td>184</td>\n",
       "      <td>0.760870</td>\n",
       "    </tr>\n",
       "    <tr>\n",
       "      <th>35</th>\n",
       "      <td>1610</td>\n",
       "      <td>Space Empires IV Deluxe</td>\n",
       "      <td>2006-02-07</td>\n",
       "      <td>1</td>\n",
       "      <td>Malfador Machinations</td>\n",
       "      <td>Strategy First</td>\n",
       "      <td>windows</td>\n",
       "      <td>0</td>\n",
       "      <td>Single-player;Multi-player</td>\n",
       "      <td>Strategy</td>\n",
       "      <td>Strategy;4X;Sci-fi</td>\n",
       "      <td>0</td>\n",
       "      <td>112</td>\n",
       "      <td>26</td>\n",
       "      <td>0</td>\n",
       "      <td>0</td>\n",
       "      <td>50000-100000</td>\n",
       "      <td>6.99</td>\n",
       "      <td>138</td>\n",
       "      <td>0.811594</td>\n",
       "    </tr>\n",
       "    <tr>\n",
       "      <th>36</th>\n",
       "      <td>1630</td>\n",
       "      <td>Disciples II: Rise of the Elves</td>\n",
       "      <td>2006-07-06</td>\n",
       "      <td>1</td>\n",
       "      <td>Strategy First</td>\n",
       "      <td>Strategy First</td>\n",
       "      <td>windows</td>\n",
       "      <td>0</td>\n",
       "      <td>Single-player;Multi-player;Co-op</td>\n",
       "      <td>Strategy</td>\n",
       "      <td>Strategy;Turn-Based Strategy;Fantasy</td>\n",
       "      <td>0</td>\n",
       "      <td>451</td>\n",
       "      <td>108</td>\n",
       "      <td>0</td>\n",
       "      <td>0</td>\n",
       "      <td>100000-200000</td>\n",
       "      <td>4.99</td>\n",
       "      <td>559</td>\n",
       "      <td>0.806798</td>\n",
       "    </tr>\n",
       "    <tr>\n",
       "      <th>...</th>\n",
       "      <td>...</td>\n",
       "      <td>...</td>\n",
       "      <td>...</td>\n",
       "      <td>...</td>\n",
       "      <td>...</td>\n",
       "      <td>...</td>\n",
       "      <td>...</td>\n",
       "      <td>...</td>\n",
       "      <td>...</td>\n",
       "      <td>...</td>\n",
       "      <td>...</td>\n",
       "      <td>...</td>\n",
       "      <td>...</td>\n",
       "      <td>...</td>\n",
       "      <td>...</td>\n",
       "      <td>...</td>\n",
       "      <td>...</td>\n",
       "      <td>...</td>\n",
       "      <td>...</td>\n",
       "      <td>...</td>\n",
       "    </tr>\n",
       "    <tr>\n",
       "      <th>27070</th>\n",
       "      <td>1065230</td>\n",
       "      <td>Room of Pandora</td>\n",
       "      <td>2019-04-24</td>\n",
       "      <td>1</td>\n",
       "      <td>SHEN JIAWEI</td>\n",
       "      <td>SHEN JIAWEI</td>\n",
       "      <td>windows</td>\n",
       "      <td>0</td>\n",
       "      <td>Single-player;Steam Achievements</td>\n",
       "      <td>Adventure;Casual;Indie</td>\n",
       "      <td>Adventure;Indie;Casual</td>\n",
       "      <td>7</td>\n",
       "      <td>3</td>\n",
       "      <td>0</td>\n",
       "      <td>0</td>\n",
       "      <td>0</td>\n",
       "      <td>0-20000</td>\n",
       "      <td>2.09</td>\n",
       "      <td>3</td>\n",
       "      <td>1.000000</td>\n",
       "    </tr>\n",
       "    <tr>\n",
       "      <th>27071</th>\n",
       "      <td>1065570</td>\n",
       "      <td>Cyber Gun</td>\n",
       "      <td>2019-04-23</td>\n",
       "      <td>1</td>\n",
       "      <td>Semyon Maximov</td>\n",
       "      <td>BekkerDev Studio</td>\n",
       "      <td>windows</td>\n",
       "      <td>0</td>\n",
       "      <td>Single-player</td>\n",
       "      <td>Action;Adventure;Indie</td>\n",
       "      <td>Action;Indie;Adventure</td>\n",
       "      <td>0</td>\n",
       "      <td>8</td>\n",
       "      <td>1</td>\n",
       "      <td>0</td>\n",
       "      <td>0</td>\n",
       "      <td>0-20000</td>\n",
       "      <td>1.69</td>\n",
       "      <td>9</td>\n",
       "      <td>0.888889</td>\n",
       "    </tr>\n",
       "    <tr>\n",
       "      <th>27072</th>\n",
       "      <td>1065650</td>\n",
       "      <td>Super Star Blast</td>\n",
       "      <td>2019-04-24</td>\n",
       "      <td>1</td>\n",
       "      <td>EntwicklerX</td>\n",
       "      <td>EntwicklerX</td>\n",
       "      <td>windows</td>\n",
       "      <td>0</td>\n",
       "      <td>Single-player;Multi-player;Co-op;Shared/Split ...</td>\n",
       "      <td>Action;Casual;Indie</td>\n",
       "      <td>Action;Indie;Casual</td>\n",
       "      <td>24</td>\n",
       "      <td>0</td>\n",
       "      <td>1</td>\n",
       "      <td>0</td>\n",
       "      <td>0</td>\n",
       "      <td>0-20000</td>\n",
       "      <td>3.99</td>\n",
       "      <td>1</td>\n",
       "      <td>0.000000</td>\n",
       "    </tr>\n",
       "    <tr>\n",
       "      <th>27073</th>\n",
       "      <td>1066700</td>\n",
       "      <td>New Yankee 7: Deer Hunters</td>\n",
       "      <td>2019-04-17</td>\n",
       "      <td>1</td>\n",
       "      <td>Yustas Game Studio</td>\n",
       "      <td>Alawar Entertainment</td>\n",
       "      <td>windows;mac</td>\n",
       "      <td>0</td>\n",
       "      <td>Single-player;Steam Cloud</td>\n",
       "      <td>Adventure;Casual;Indie</td>\n",
       "      <td>Indie;Casual;Adventure</td>\n",
       "      <td>0</td>\n",
       "      <td>2</td>\n",
       "      <td>0</td>\n",
       "      <td>0</td>\n",
       "      <td>0</td>\n",
       "      <td>0-20000</td>\n",
       "      <td>5.19</td>\n",
       "      <td>2</td>\n",
       "      <td>1.000000</td>\n",
       "    </tr>\n",
       "    <tr>\n",
       "      <th>27074</th>\n",
       "      <td>1069460</td>\n",
       "      <td>Rune Lord</td>\n",
       "      <td>2019-04-24</td>\n",
       "      <td>1</td>\n",
       "      <td>Adept Studios GD</td>\n",
       "      <td>Alawar Entertainment</td>\n",
       "      <td>windows;mac</td>\n",
       "      <td>0</td>\n",
       "      <td>Single-player;Steam Cloud</td>\n",
       "      <td>Adventure;Casual;Indie</td>\n",
       "      <td>Indie;Casual;Adventure</td>\n",
       "      <td>0</td>\n",
       "      <td>4</td>\n",
       "      <td>0</td>\n",
       "      <td>0</td>\n",
       "      <td>0</td>\n",
       "      <td>0-20000</td>\n",
       "      <td>5.19</td>\n",
       "      <td>4</td>\n",
       "      <td>1.000000</td>\n",
       "    </tr>\n",
       "  </tbody>\n",
       "</table>\n",
       "<p>20905 rows × 20 columns</p>\n",
       "</div>"
      ],
      "text/plain": [
       "         appid                              name release_date  english  \\\n",
       "26        1002                  Rag Doll Kung Fu   2005-10-12        1   \n",
       "29        1300           SiN Episodes: Emergence   2006-05-10        1   \n",
       "34        1600                  Dangerous Waters   2006-02-07        1   \n",
       "35        1610           Space Empires IV Deluxe   2006-02-07        1   \n",
       "36        1630  Disciples II: Rise of the Elves    2006-07-06        1   \n",
       "...        ...                               ...          ...      ...   \n",
       "27070  1065230                   Room of Pandora   2019-04-24        1   \n",
       "27071  1065570                         Cyber Gun   2019-04-23        1   \n",
       "27072  1065650                  Super Star Blast   2019-04-24        1   \n",
       "27073  1066700        New Yankee 7: Deer Hunters   2019-04-17        1   \n",
       "27074  1069460                         Rune Lord   2019-04-24        1   \n",
       "\n",
       "                   developer             publisher    platforms  required_age  \\\n",
       "26               Mark Healey           Mark Healey      windows             0   \n",
       "29      Ritual Entertainment  Ritual Entertainment      windows             0   \n",
       "34                 Sonalysts        Strategy First      windows             0   \n",
       "35     Malfador Machinations        Strategy First      windows             0   \n",
       "36            Strategy First        Strategy First      windows             0   \n",
       "...                      ...                   ...          ...           ...   \n",
       "27070            SHEN JIAWEI           SHEN JIAWEI      windows             0   \n",
       "27071         Semyon Maximov      BekkerDev Studio      windows             0   \n",
       "27072            EntwicklerX           EntwicklerX      windows             0   \n",
       "27073     Yustas Game Studio  Alawar Entertainment  windows;mac             0   \n",
       "27074       Adept Studios GD  Alawar Entertainment  windows;mac             0   \n",
       "\n",
       "                                              categories  \\\n",
       "26                            Single-player;Multi-player   \n",
       "29                                   Single-player;Stats   \n",
       "34                            Single-player;Multi-player   \n",
       "35                            Single-player;Multi-player   \n",
       "36                      Single-player;Multi-player;Co-op   \n",
       "...                                                  ...   \n",
       "27070                   Single-player;Steam Achievements   \n",
       "27071                                      Single-player   \n",
       "27072  Single-player;Multi-player;Co-op;Shared/Split ...   \n",
       "27073                          Single-player;Steam Cloud   \n",
       "27074                          Single-player;Steam Cloud   \n",
       "\n",
       "                       genres                         steamspy_tags  \\\n",
       "26                      Indie            Indie;Fighting;Multiplayer   \n",
       "29                     Action                  Action;FPS;Cyberpunk   \n",
       "34                   Strategy             Strategy;Simulation;Naval   \n",
       "35                   Strategy                    Strategy;4X;Sci-fi   \n",
       "36                   Strategy  Strategy;Turn-Based Strategy;Fantasy   \n",
       "...                       ...                                   ...   \n",
       "27070  Adventure;Casual;Indie                Adventure;Indie;Casual   \n",
       "27071  Action;Adventure;Indie                Action;Indie;Adventure   \n",
       "27072     Action;Casual;Indie                   Action;Indie;Casual   \n",
       "27073  Adventure;Casual;Indie                Indie;Casual;Adventure   \n",
       "27074  Adventure;Casual;Indie                Indie;Casual;Adventure   \n",
       "\n",
       "       achievements  positive_ratings  negative_ratings  average_playtime  \\\n",
       "26                0                40                17                 0   \n",
       "29                0               468                61                 0   \n",
       "34                0               140                44                 0   \n",
       "35                0               112                26                 0   \n",
       "36                0               451               108                 0   \n",
       "...             ...               ...               ...               ...   \n",
       "27070             7                 3                 0                 0   \n",
       "27071             0                 8                 1                 0   \n",
       "27072            24                 0                 1                 0   \n",
       "27073             0                 2                 0                 0   \n",
       "27074             0                 4                 0                 0   \n",
       "\n",
       "       median_playtime         owners  price  total_ratings  percent_positive  \n",
       "26                   0    20000-50000   5.99             57          0.701754  \n",
       "29                   0  100000-200000   7.19            529          0.884688  \n",
       "34                   0   50000-100000  22.99            184          0.760870  \n",
       "35                   0   50000-100000   6.99            138          0.811594  \n",
       "36                   0  100000-200000   4.99            559          0.806798  \n",
       "...                ...            ...    ...            ...               ...  \n",
       "27070                0        0-20000   2.09              3          1.000000  \n",
       "27071                0        0-20000   1.69              9          0.888889  \n",
       "27072                0        0-20000   3.99              1          0.000000  \n",
       "27073                0        0-20000   5.19              2          1.000000  \n",
       "27074                0        0-20000   5.19              4          1.000000  \n",
       "\n",
       "[20905 rows x 20 columns]"
      ]
     },
     "execution_count": 71,
     "metadata": {},
     "output_type": "execute_result"
    }
   ],
   "source": [
    "#rows with a median playtime of 0\n",
    "no_med = steam_df[steam_df['median_playtime'] == 0]\n",
    "no_med"
   ]
  },
  {
   "cell_type": "code",
   "execution_count": 72,
   "metadata": {},
   "outputs": [
    {
     "data": {
      "text/plain": [
       "True"
      ]
     },
     "execution_count": 72,
     "metadata": {},
     "output_type": "execute_result"
    }
   ],
   "source": [
    "pd.DataFrame.equals(no_avg, no_med)"
   ]
  },
  {
   "cell_type": "markdown",
   "metadata": {},
   "source": [
    "Average and median playtimes were unavailable for 20,905 games in the dataset. Other columns, such as 'positive_ratings' and owners, suggested these games did in-fact have playerbases but lacked playtime data."
   ]
  },
  {
   "cell_type": "code",
   "execution_count": 73,
   "metadata": {},
   "outputs": [
    {
     "data": {
      "text/plain": [
       "0        10000000-20000000\n",
       "1         5000000-10000000\n",
       "2         5000000-10000000\n",
       "3         5000000-10000000\n",
       "4         5000000-10000000\n",
       "               ...        \n",
       "27070              0-20000\n",
       "27071              0-20000\n",
       "27072              0-20000\n",
       "27073              0-20000\n",
       "27074              0-20000\n",
       "Name: owners, Length: 27075, dtype: object"
      ]
     },
     "execution_count": 73,
     "metadata": {},
     "output_type": "execute_result"
    }
   ],
   "source": [
    "#number of users who own this game, given as a range\n",
    "steam_df['owners']"
   ]
  },
  {
   "cell_type": "code",
   "execution_count": 74,
   "metadata": {},
   "outputs": [
    {
     "data": {
      "text/plain": [
       "0        7.19\n",
       "1        3.99\n",
       "2        3.99\n",
       "3        3.99\n",
       "4        3.99\n",
       "         ... \n",
       "27070    2.09\n",
       "27071    1.69\n",
       "27072    3.99\n",
       "27073    5.19\n",
       "27074    5.19\n",
       "Name: price, Length: 27075, dtype: float64"
      ]
     },
     "execution_count": 74,
     "metadata": {},
     "output_type": "execute_result"
    }
   ],
   "source": [
    "#price of game in GBP\n",
    "steam_df['price']"
   ]
  },
  {
   "cell_type": "code",
   "execution_count": 75,
   "metadata": {},
   "outputs": [
    {
     "data": {
      "text/plain": [
       "count    27075.000000\n",
       "mean         6.078193\n",
       "std          7.874922\n",
       "min          0.000000\n",
       "25%          1.690000\n",
       "50%          3.990000\n",
       "75%          7.190000\n",
       "max        421.990000\n",
       "Name: price, dtype: float64"
      ]
     },
     "execution_count": 75,
     "metadata": {},
     "output_type": "execute_result"
    }
   ],
   "source": [
    "steam_df['price'].describe()"
   ]
  },
  {
   "cell_type": "code",
   "execution_count": 76,
   "metadata": {},
   "outputs": [
    {
     "data": {
      "text/plain": [
       "0.7995991983967936"
      ]
     },
     "execution_count": 76,
     "metadata": {},
     "output_type": "execute_result"
    }
   ],
   "source": [
    "#GBP price of \"Team Fortress Classic\" divided by USD price\n",
    "3.99/4.99"
   ]
  },
  {
   "cell_type": "code",
   "execution_count": 77,
   "metadata": {},
   "outputs": [
    {
     "data": {
      "text/plain": [
       "0.7197197197197197"
      ]
     },
     "execution_count": 77,
     "metadata": {},
     "output_type": "execute_result"
    }
   ],
   "source": [
    "#GBP price of \"Counter Strike\" divided by USD price\n",
    "7.19/9.99"
   ]
  },
  {
   "cell_type": "markdown",
   "metadata": {},
   "source": [
    "The average game price was 3.99 GBP (about 4.72 USD with the conversion rate as of August 2022). I checked one example of a game that cost 3.99 GBP today (Team Fortress Classic) and found that it costs 4.99 USD. After checking some other games in Steam's current shop and comparing their GBP and USD prices, I found that there is no consistent conversion rate between the two prices."
   ]
  },
  {
   "cell_type": "markdown",
   "metadata": {},
   "source": [
    "### Calculating Cosine Similarity"
   ]
  },
  {
   "cell_type": "markdown",
   "metadata": {},
   "source": [
    "A content-based recommender compares distances between vectors representation of items to determine which ones are most similar to what the user has already enjoyed. For these Steam games, I encoded the categorical tags as binary features to create vector representations of each game's content. "
   ]
  },
  {
   "cell_type": "markdown",
   "metadata": {},
   "source": [
    "I created a dataframe to use in calculating cosine similarity. This dataframe was also used to display recommendations to the user. After going through the columns, I had determined which columns/rows to drop and which to transform."
   ]
  },
  {
   "cell_type": "code",
   "execution_count": 78,
   "metadata": {},
   "outputs": [],
   "source": [
    "#copy of the original dataset\n",
    "clean_df = steam_df.copy()"
   ]
  },
  {
   "cell_type": "code",
   "execution_count": 79,
   "metadata": {},
   "outputs": [
    {
     "data": {
      "text/plain": [
       "(27075, 20)"
      ]
     },
     "execution_count": 79,
     "metadata": {},
     "output_type": "execute_result"
    }
   ],
   "source": [
    "clean_df.shape"
   ]
  },
  {
   "cell_type": "code",
   "execution_count": 80,
   "metadata": {},
   "outputs": [
    {
     "data": {
      "text/html": [
       "<div>\n",
       "<style scoped>\n",
       "    .dataframe tbody tr th:only-of-type {\n",
       "        vertical-align: middle;\n",
       "    }\n",
       "\n",
       "    .dataframe tbody tr th {\n",
       "        vertical-align: top;\n",
       "    }\n",
       "\n",
       "    .dataframe thead th {\n",
       "        text-align: right;\n",
       "    }\n",
       "</style>\n",
       "<table border=\"1\" class=\"dataframe\">\n",
       "  <thead>\n",
       "    <tr style=\"text-align: right;\">\n",
       "      <th></th>\n",
       "      <th>appid</th>\n",
       "      <th>name</th>\n",
       "      <th>release_date</th>\n",
       "      <th>english</th>\n",
       "      <th>developer</th>\n",
       "      <th>publisher</th>\n",
       "      <th>platforms</th>\n",
       "      <th>required_age</th>\n",
       "      <th>categories</th>\n",
       "      <th>genres</th>\n",
       "      <th>steamspy_tags</th>\n",
       "      <th>achievements</th>\n",
       "      <th>positive_ratings</th>\n",
       "      <th>negative_ratings</th>\n",
       "      <th>average_playtime</th>\n",
       "      <th>median_playtime</th>\n",
       "      <th>owners</th>\n",
       "      <th>price</th>\n",
       "      <th>total_ratings</th>\n",
       "      <th>percent_positive</th>\n",
       "    </tr>\n",
       "  </thead>\n",
       "  <tbody>\n",
       "    <tr>\n",
       "      <th>0</th>\n",
       "      <td>10</td>\n",
       "      <td>Counter-Strike</td>\n",
       "      <td>2000-11-01</td>\n",
       "      <td>1</td>\n",
       "      <td>Valve</td>\n",
       "      <td>Valve</td>\n",
       "      <td>windows;mac;linux</td>\n",
       "      <td>0</td>\n",
       "      <td>Multi-player;Online Multi-Player;Local Multi-P...</td>\n",
       "      <td>Action</td>\n",
       "      <td>Action;FPS;Multiplayer</td>\n",
       "      <td>0</td>\n",
       "      <td>124534</td>\n",
       "      <td>3339</td>\n",
       "      <td>17612</td>\n",
       "      <td>317</td>\n",
       "      <td>10000000-20000000</td>\n",
       "      <td>7.19</td>\n",
       "      <td>127873</td>\n",
       "      <td>0.973888</td>\n",
       "    </tr>\n",
       "    <tr>\n",
       "      <th>1</th>\n",
       "      <td>20</td>\n",
       "      <td>Team Fortress Classic</td>\n",
       "      <td>1999-04-01</td>\n",
       "      <td>1</td>\n",
       "      <td>Valve</td>\n",
       "      <td>Valve</td>\n",
       "      <td>windows;mac;linux</td>\n",
       "      <td>0</td>\n",
       "      <td>Multi-player;Online Multi-Player;Local Multi-P...</td>\n",
       "      <td>Action</td>\n",
       "      <td>Action;FPS;Multiplayer</td>\n",
       "      <td>0</td>\n",
       "      <td>3318</td>\n",
       "      <td>633</td>\n",
       "      <td>277</td>\n",
       "      <td>62</td>\n",
       "      <td>5000000-10000000</td>\n",
       "      <td>3.99</td>\n",
       "      <td>3951</td>\n",
       "      <td>0.839787</td>\n",
       "    </tr>\n",
       "    <tr>\n",
       "      <th>2</th>\n",
       "      <td>30</td>\n",
       "      <td>Day of Defeat</td>\n",
       "      <td>2003-05-01</td>\n",
       "      <td>1</td>\n",
       "      <td>Valve</td>\n",
       "      <td>Valve</td>\n",
       "      <td>windows;mac;linux</td>\n",
       "      <td>0</td>\n",
       "      <td>Multi-player;Valve Anti-Cheat enabled</td>\n",
       "      <td>Action</td>\n",
       "      <td>FPS;World War II;Multiplayer</td>\n",
       "      <td>0</td>\n",
       "      <td>3416</td>\n",
       "      <td>398</td>\n",
       "      <td>187</td>\n",
       "      <td>34</td>\n",
       "      <td>5000000-10000000</td>\n",
       "      <td>3.99</td>\n",
       "      <td>3814</td>\n",
       "      <td>0.895648</td>\n",
       "    </tr>\n",
       "    <tr>\n",
       "      <th>3</th>\n",
       "      <td>40</td>\n",
       "      <td>Deathmatch Classic</td>\n",
       "      <td>2001-06-01</td>\n",
       "      <td>1</td>\n",
       "      <td>Valve</td>\n",
       "      <td>Valve</td>\n",
       "      <td>windows;mac;linux</td>\n",
       "      <td>0</td>\n",
       "      <td>Multi-player;Online Multi-Player;Local Multi-P...</td>\n",
       "      <td>Action</td>\n",
       "      <td>Action;FPS;Multiplayer</td>\n",
       "      <td>0</td>\n",
       "      <td>1273</td>\n",
       "      <td>267</td>\n",
       "      <td>258</td>\n",
       "      <td>184</td>\n",
       "      <td>5000000-10000000</td>\n",
       "      <td>3.99</td>\n",
       "      <td>1540</td>\n",
       "      <td>0.826623</td>\n",
       "    </tr>\n",
       "    <tr>\n",
       "      <th>4</th>\n",
       "      <td>50</td>\n",
       "      <td>Half-Life: Opposing Force</td>\n",
       "      <td>1999-11-01</td>\n",
       "      <td>1</td>\n",
       "      <td>Gearbox Software</td>\n",
       "      <td>Valve</td>\n",
       "      <td>windows;mac;linux</td>\n",
       "      <td>0</td>\n",
       "      <td>Single-player;Multi-player;Valve Anti-Cheat en...</td>\n",
       "      <td>Action</td>\n",
       "      <td>FPS;Action;Sci-fi</td>\n",
       "      <td>0</td>\n",
       "      <td>5250</td>\n",
       "      <td>288</td>\n",
       "      <td>624</td>\n",
       "      <td>415</td>\n",
       "      <td>5000000-10000000</td>\n",
       "      <td>3.99</td>\n",
       "      <td>5538</td>\n",
       "      <td>0.947996</td>\n",
       "    </tr>\n",
       "  </tbody>\n",
       "</table>\n",
       "</div>"
      ],
      "text/plain": [
       "   appid                       name release_date  english         developer  \\\n",
       "0     10             Counter-Strike   2000-11-01        1             Valve   \n",
       "1     20      Team Fortress Classic   1999-04-01        1             Valve   \n",
       "2     30              Day of Defeat   2003-05-01        1             Valve   \n",
       "3     40         Deathmatch Classic   2001-06-01        1             Valve   \n",
       "4     50  Half-Life: Opposing Force   1999-11-01        1  Gearbox Software   \n",
       "\n",
       "  publisher          platforms  required_age  \\\n",
       "0     Valve  windows;mac;linux             0   \n",
       "1     Valve  windows;mac;linux             0   \n",
       "2     Valve  windows;mac;linux             0   \n",
       "3     Valve  windows;mac;linux             0   \n",
       "4     Valve  windows;mac;linux             0   \n",
       "\n",
       "                                          categories  genres  \\\n",
       "0  Multi-player;Online Multi-Player;Local Multi-P...  Action   \n",
       "1  Multi-player;Online Multi-Player;Local Multi-P...  Action   \n",
       "2              Multi-player;Valve Anti-Cheat enabled  Action   \n",
       "3  Multi-player;Online Multi-Player;Local Multi-P...  Action   \n",
       "4  Single-player;Multi-player;Valve Anti-Cheat en...  Action   \n",
       "\n",
       "                  steamspy_tags  achievements  positive_ratings  \\\n",
       "0        Action;FPS;Multiplayer             0            124534   \n",
       "1        Action;FPS;Multiplayer             0              3318   \n",
       "2  FPS;World War II;Multiplayer             0              3416   \n",
       "3        Action;FPS;Multiplayer             0              1273   \n",
       "4             FPS;Action;Sci-fi             0              5250   \n",
       "\n",
       "   negative_ratings  average_playtime  median_playtime             owners  \\\n",
       "0              3339             17612              317  10000000-20000000   \n",
       "1               633               277               62   5000000-10000000   \n",
       "2               398               187               34   5000000-10000000   \n",
       "3               267               258              184   5000000-10000000   \n",
       "4               288               624              415   5000000-10000000   \n",
       "\n",
       "   price  total_ratings  percent_positive  \n",
       "0   7.19         127873          0.973888  \n",
       "1   3.99           3951          0.839787  \n",
       "2   3.99           3814          0.895648  \n",
       "3   3.99           1540          0.826623  \n",
       "4   3.99           5538          0.947996  "
      ]
     },
     "execution_count": 80,
     "metadata": {},
     "output_type": "execute_result"
    }
   ],
   "source": [
    "clean_df.head()"
   ]
  },
  {
   "cell_type": "markdown",
   "metadata": {},
   "source": [
    "I dropped all non-English games from the dataset. This removed 511 rows."
   ]
  },
  {
   "cell_type": "code",
   "execution_count": 81,
   "metadata": {},
   "outputs": [
    {
     "data": {
      "text/plain": [
       "1    26564\n",
       "Name: english, dtype: int64"
      ]
     },
     "execution_count": 81,
     "metadata": {},
     "output_type": "execute_result"
    }
   ],
   "source": [
    "clean_df = clean_df[clean_df['english'] == 1]\n",
    "clean_df['english'].value_counts()"
   ]
  },
  {
   "cell_type": "markdown",
   "metadata": {},
   "source": [
    "Using the list of DLC apps I'd identified earlier, I dropped 5 rows of DLC apps from the dataframe."
   ]
  },
  {
   "cell_type": "code",
   "execution_count": 82,
   "metadata": {
    "scrolled": true
   },
   "outputs": [
    {
     "data": {
      "text/plain": [
       "(26559, 20)"
      ]
     },
     "execution_count": 82,
     "metadata": {},
     "output_type": "execute_result"
    }
   ],
   "source": [
    "#dropping dlc based on indices\n",
    "dlc_list = [53, 54, 226, 227, 406]\n",
    "clean_df.drop(dlc_list, axis=0, inplace=True)\n",
    "clean_df.shape"
   ]
  },
  {
   "cell_type": "markdown",
   "metadata": {},
   "source": [
    "I wanted to drop a few columns that provided information less important to game buyers. While some large publishers are frequently lambasted for their game development practices, I felt most users did not use 'publisher' to help them make buying decisions."
   ]
  },
  {
   "cell_type": "markdown",
   "metadata": {},
   "source": [
    "'Developer' was kept because that information, while not used for content comparison, could be useful to users who are fans of prolific developers or users that are looking for games made by lesser known developers."
   ]
  },
  {
   "cell_type": "markdown",
   "metadata": {},
   "source": [
    "The number of achievements was not a relevant measure for my recommender so I dropped the column."
   ]
  },
  {
   "cell_type": "markdown",
   "metadata": {},
   "source": [
    "Since the range of total ratings was too large and since ratings themselves are not significant indicators of content, I dropped ratings columns from the dataframe. "
   ]
  },
  {
   "cell_type": "markdown",
   "metadata": {},
   "source": [
    "As noted in the data exploration, the playtime columns had 20,905 rows with 0 average or median playtime. These columns were dropped since I did not incorporate playtime into my content based recommender."
   ]
  },
  {
   "cell_type": "markdown",
   "metadata": {},
   "source": [
    "I kept 'owners' within the dataframe to give the user of the recommender an idea of a game's popularity."
   ]
  },
  {
   "cell_type": "code",
   "execution_count": 83,
   "metadata": {},
   "outputs": [
    {
     "data": {
      "text/html": [
       "<div>\n",
       "<style scoped>\n",
       "    .dataframe tbody tr th:only-of-type {\n",
       "        vertical-align: middle;\n",
       "    }\n",
       "\n",
       "    .dataframe tbody tr th {\n",
       "        vertical-align: top;\n",
       "    }\n",
       "\n",
       "    .dataframe thead th {\n",
       "        text-align: right;\n",
       "    }\n",
       "</style>\n",
       "<table border=\"1\" class=\"dataframe\">\n",
       "  <thead>\n",
       "    <tr style=\"text-align: right;\">\n",
       "      <th></th>\n",
       "      <th>appid</th>\n",
       "      <th>name</th>\n",
       "      <th>release_date</th>\n",
       "      <th>developer</th>\n",
       "      <th>platforms</th>\n",
       "      <th>categories</th>\n",
       "      <th>genres</th>\n",
       "      <th>steamspy_tags</th>\n",
       "      <th>owners</th>\n",
       "      <th>price</th>\n",
       "      <th>percent_positive</th>\n",
       "    </tr>\n",
       "  </thead>\n",
       "  <tbody>\n",
       "    <tr>\n",
       "      <th>0</th>\n",
       "      <td>10</td>\n",
       "      <td>Counter-Strike</td>\n",
       "      <td>2000-11-01</td>\n",
       "      <td>Valve</td>\n",
       "      <td>windows;mac;linux</td>\n",
       "      <td>Multi-player;Online Multi-Player;Local Multi-P...</td>\n",
       "      <td>Action</td>\n",
       "      <td>Action;FPS;Multiplayer</td>\n",
       "      <td>10000000-20000000</td>\n",
       "      <td>7.19</td>\n",
       "      <td>0.973888</td>\n",
       "    </tr>\n",
       "    <tr>\n",
       "      <th>1</th>\n",
       "      <td>20</td>\n",
       "      <td>Team Fortress Classic</td>\n",
       "      <td>1999-04-01</td>\n",
       "      <td>Valve</td>\n",
       "      <td>windows;mac;linux</td>\n",
       "      <td>Multi-player;Online Multi-Player;Local Multi-P...</td>\n",
       "      <td>Action</td>\n",
       "      <td>Action;FPS;Multiplayer</td>\n",
       "      <td>5000000-10000000</td>\n",
       "      <td>3.99</td>\n",
       "      <td>0.839787</td>\n",
       "    </tr>\n",
       "    <tr>\n",
       "      <th>2</th>\n",
       "      <td>30</td>\n",
       "      <td>Day of Defeat</td>\n",
       "      <td>2003-05-01</td>\n",
       "      <td>Valve</td>\n",
       "      <td>windows;mac;linux</td>\n",
       "      <td>Multi-player;Valve Anti-Cheat enabled</td>\n",
       "      <td>Action</td>\n",
       "      <td>FPS;World War II;Multiplayer</td>\n",
       "      <td>5000000-10000000</td>\n",
       "      <td>3.99</td>\n",
       "      <td>0.895648</td>\n",
       "    </tr>\n",
       "    <tr>\n",
       "      <th>3</th>\n",
       "      <td>40</td>\n",
       "      <td>Deathmatch Classic</td>\n",
       "      <td>2001-06-01</td>\n",
       "      <td>Valve</td>\n",
       "      <td>windows;mac;linux</td>\n",
       "      <td>Multi-player;Online Multi-Player;Local Multi-P...</td>\n",
       "      <td>Action</td>\n",
       "      <td>Action;FPS;Multiplayer</td>\n",
       "      <td>5000000-10000000</td>\n",
       "      <td>3.99</td>\n",
       "      <td>0.826623</td>\n",
       "    </tr>\n",
       "    <tr>\n",
       "      <th>4</th>\n",
       "      <td>50</td>\n",
       "      <td>Half-Life: Opposing Force</td>\n",
       "      <td>1999-11-01</td>\n",
       "      <td>Gearbox Software</td>\n",
       "      <td>windows;mac;linux</td>\n",
       "      <td>Single-player;Multi-player;Valve Anti-Cheat en...</td>\n",
       "      <td>Action</td>\n",
       "      <td>FPS;Action;Sci-fi</td>\n",
       "      <td>5000000-10000000</td>\n",
       "      <td>3.99</td>\n",
       "      <td>0.947996</td>\n",
       "    </tr>\n",
       "  </tbody>\n",
       "</table>\n",
       "</div>"
      ],
      "text/plain": [
       "   appid                       name release_date         developer  \\\n",
       "0     10             Counter-Strike   2000-11-01             Valve   \n",
       "1     20      Team Fortress Classic   1999-04-01             Valve   \n",
       "2     30              Day of Defeat   2003-05-01             Valve   \n",
       "3     40         Deathmatch Classic   2001-06-01             Valve   \n",
       "4     50  Half-Life: Opposing Force   1999-11-01  Gearbox Software   \n",
       "\n",
       "           platforms                                         categories  \\\n",
       "0  windows;mac;linux  Multi-player;Online Multi-Player;Local Multi-P...   \n",
       "1  windows;mac;linux  Multi-player;Online Multi-Player;Local Multi-P...   \n",
       "2  windows;mac;linux              Multi-player;Valve Anti-Cheat enabled   \n",
       "3  windows;mac;linux  Multi-player;Online Multi-Player;Local Multi-P...   \n",
       "4  windows;mac;linux  Single-player;Multi-player;Valve Anti-Cheat en...   \n",
       "\n",
       "   genres                 steamspy_tags             owners  price  \\\n",
       "0  Action        Action;FPS;Multiplayer  10000000-20000000   7.19   \n",
       "1  Action        Action;FPS;Multiplayer   5000000-10000000   3.99   \n",
       "2  Action  FPS;World War II;Multiplayer   5000000-10000000   3.99   \n",
       "3  Action        Action;FPS;Multiplayer   5000000-10000000   3.99   \n",
       "4  Action             FPS;Action;Sci-fi   5000000-10000000   3.99   \n",
       "\n",
       "   percent_positive  \n",
       "0          0.973888  \n",
       "1          0.839787  \n",
       "2          0.895648  \n",
       "3          0.826623  \n",
       "4          0.947996  "
      ]
     },
     "execution_count": 83,
     "metadata": {},
     "output_type": "execute_result"
    }
   ],
   "source": [
    "#drop columns that will not be returned by the recommender\n",
    "columns_to_drop = ['english', 'publisher', 'required_age', 'achievements', \n",
    "                   'total_ratings', 'positive_ratings', 'negative_ratings', \n",
    "                   'average_playtime', 'median_playtime']\n",
    "clean_df.drop(columns_to_drop, axis=1, inplace=True)\n",
    "clean_df.head()"
   ]
  },
  {
   "cell_type": "markdown",
   "metadata": {},
   "source": [
    "In total, I dropped 9 columns from the dataframe."
   ]
  },
  {
   "cell_type": "markdown",
   "metadata": {},
   "source": [
    "In order to remove duplicate labels, I decided to combine 'categories', 'genres', and 'steamspy_tags' into a single column."
   ]
  },
  {
   "cell_type": "markdown",
   "metadata": {},
   "source": [
    "First, I replaced all columns with semicolon delimited strings with lists of strings using the .split() method. This affected 'platforms', 'categories', 'genres', and 'steamspy_tags'."
   ]
  },
  {
   "cell_type": "code",
   "execution_count": 84,
   "metadata": {
    "scrolled": false
   },
   "outputs": [
    {
     "data": {
      "text/html": [
       "<div>\n",
       "<style scoped>\n",
       "    .dataframe tbody tr th:only-of-type {\n",
       "        vertical-align: middle;\n",
       "    }\n",
       "\n",
       "    .dataframe tbody tr th {\n",
       "        vertical-align: top;\n",
       "    }\n",
       "\n",
       "    .dataframe thead th {\n",
       "        text-align: right;\n",
       "    }\n",
       "</style>\n",
       "<table border=\"1\" class=\"dataframe\">\n",
       "  <thead>\n",
       "    <tr style=\"text-align: right;\">\n",
       "      <th></th>\n",
       "      <th>appid</th>\n",
       "      <th>name</th>\n",
       "      <th>release_date</th>\n",
       "      <th>developer</th>\n",
       "      <th>platforms</th>\n",
       "      <th>categories</th>\n",
       "      <th>genres</th>\n",
       "      <th>steamspy_tags</th>\n",
       "      <th>owners</th>\n",
       "      <th>price</th>\n",
       "      <th>percent_positive</th>\n",
       "    </tr>\n",
       "  </thead>\n",
       "  <tbody>\n",
       "    <tr>\n",
       "      <th>0</th>\n",
       "      <td>10</td>\n",
       "      <td>Counter-Strike</td>\n",
       "      <td>2000-11-01</td>\n",
       "      <td>Valve</td>\n",
       "      <td>[windows, mac, linux]</td>\n",
       "      <td>[Multi-player, Online Multi-Player, Local Mult...</td>\n",
       "      <td>[Action]</td>\n",
       "      <td>[Action, FPS, Multiplayer]</td>\n",
       "      <td>10000000-20000000</td>\n",
       "      <td>7.19</td>\n",
       "      <td>0.973888</td>\n",
       "    </tr>\n",
       "    <tr>\n",
       "      <th>1</th>\n",
       "      <td>20</td>\n",
       "      <td>Team Fortress Classic</td>\n",
       "      <td>1999-04-01</td>\n",
       "      <td>Valve</td>\n",
       "      <td>[windows, mac, linux]</td>\n",
       "      <td>[Multi-player, Online Multi-Player, Local Mult...</td>\n",
       "      <td>[Action]</td>\n",
       "      <td>[Action, FPS, Multiplayer]</td>\n",
       "      <td>5000000-10000000</td>\n",
       "      <td>3.99</td>\n",
       "      <td>0.839787</td>\n",
       "    </tr>\n",
       "    <tr>\n",
       "      <th>2</th>\n",
       "      <td>30</td>\n",
       "      <td>Day of Defeat</td>\n",
       "      <td>2003-05-01</td>\n",
       "      <td>Valve</td>\n",
       "      <td>[windows, mac, linux]</td>\n",
       "      <td>[Multi-player, Valve Anti-Cheat enabled]</td>\n",
       "      <td>[Action]</td>\n",
       "      <td>[FPS, World War II, Multiplayer]</td>\n",
       "      <td>5000000-10000000</td>\n",
       "      <td>3.99</td>\n",
       "      <td>0.895648</td>\n",
       "    </tr>\n",
       "    <tr>\n",
       "      <th>3</th>\n",
       "      <td>40</td>\n",
       "      <td>Deathmatch Classic</td>\n",
       "      <td>2001-06-01</td>\n",
       "      <td>Valve</td>\n",
       "      <td>[windows, mac, linux]</td>\n",
       "      <td>[Multi-player, Online Multi-Player, Local Mult...</td>\n",
       "      <td>[Action]</td>\n",
       "      <td>[Action, FPS, Multiplayer]</td>\n",
       "      <td>5000000-10000000</td>\n",
       "      <td>3.99</td>\n",
       "      <td>0.826623</td>\n",
       "    </tr>\n",
       "    <tr>\n",
       "      <th>4</th>\n",
       "      <td>50</td>\n",
       "      <td>Half-Life: Opposing Force</td>\n",
       "      <td>1999-11-01</td>\n",
       "      <td>Gearbox Software</td>\n",
       "      <td>[windows, mac, linux]</td>\n",
       "      <td>[Single-player, Multi-player, Valve Anti-Cheat...</td>\n",
       "      <td>[Action]</td>\n",
       "      <td>[FPS, Action, Sci-fi]</td>\n",
       "      <td>5000000-10000000</td>\n",
       "      <td>3.99</td>\n",
       "      <td>0.947996</td>\n",
       "    </tr>\n",
       "  </tbody>\n",
       "</table>\n",
       "</div>"
      ],
      "text/plain": [
       "   appid                       name release_date         developer  \\\n",
       "0     10             Counter-Strike   2000-11-01             Valve   \n",
       "1     20      Team Fortress Classic   1999-04-01             Valve   \n",
       "2     30              Day of Defeat   2003-05-01             Valve   \n",
       "3     40         Deathmatch Classic   2001-06-01             Valve   \n",
       "4     50  Half-Life: Opposing Force   1999-11-01  Gearbox Software   \n",
       "\n",
       "               platforms                                         categories  \\\n",
       "0  [windows, mac, linux]  [Multi-player, Online Multi-Player, Local Mult...   \n",
       "1  [windows, mac, linux]  [Multi-player, Online Multi-Player, Local Mult...   \n",
       "2  [windows, mac, linux]           [Multi-player, Valve Anti-Cheat enabled]   \n",
       "3  [windows, mac, linux]  [Multi-player, Online Multi-Player, Local Mult...   \n",
       "4  [windows, mac, linux]  [Single-player, Multi-player, Valve Anti-Cheat...   \n",
       "\n",
       "     genres                     steamspy_tags             owners  price  \\\n",
       "0  [Action]        [Action, FPS, Multiplayer]  10000000-20000000   7.19   \n",
       "1  [Action]        [Action, FPS, Multiplayer]   5000000-10000000   3.99   \n",
       "2  [Action]  [FPS, World War II, Multiplayer]   5000000-10000000   3.99   \n",
       "3  [Action]        [Action, FPS, Multiplayer]   5000000-10000000   3.99   \n",
       "4  [Action]             [FPS, Action, Sci-fi]   5000000-10000000   3.99   \n",
       "\n",
       "   percent_positive  \n",
       "0          0.973888  \n",
       "1          0.839787  \n",
       "2          0.895648  \n",
       "3          0.826623  \n",
       "4          0.947996  "
      ]
     },
     "execution_count": 84,
     "metadata": {},
     "output_type": "execute_result"
    }
   ],
   "source": [
    "#values changed to lists of strings\n",
    "clean_df['platforms'] = clean_df['platforms'].str.split(';')\n",
    "clean_df['categories'] = clean_df['categories'].str.split(';')\n",
    "clean_df['genres'] = clean_df['genres'].str.split(';')\n",
    "clean_df['steamspy_tags'] = clean_df['steamspy_tags'].str.split(';')\n",
    "clean_df.head()"
   ]
  },
  {
   "cell_type": "markdown",
   "metadata": {},
   "source": [
    "Next, I created a 'labels' column that combined the values of 'categories', 'genres', and 'steamspy_tags'. "
   ]
  },
  {
   "cell_type": "code",
   "execution_count": 85,
   "metadata": {},
   "outputs": [
    {
     "data": {
      "text/html": [
       "<div>\n",
       "<style scoped>\n",
       "    .dataframe tbody tr th:only-of-type {\n",
       "        vertical-align: middle;\n",
       "    }\n",
       "\n",
       "    .dataframe tbody tr th {\n",
       "        vertical-align: top;\n",
       "    }\n",
       "\n",
       "    .dataframe thead th {\n",
       "        text-align: right;\n",
       "    }\n",
       "</style>\n",
       "<table border=\"1\" class=\"dataframe\">\n",
       "  <thead>\n",
       "    <tr style=\"text-align: right;\">\n",
       "      <th></th>\n",
       "      <th>appid</th>\n",
       "      <th>name</th>\n",
       "      <th>release_date</th>\n",
       "      <th>developer</th>\n",
       "      <th>platforms</th>\n",
       "      <th>categories</th>\n",
       "      <th>genres</th>\n",
       "      <th>steamspy_tags</th>\n",
       "      <th>owners</th>\n",
       "      <th>price</th>\n",
       "      <th>percent_positive</th>\n",
       "      <th>labels</th>\n",
       "    </tr>\n",
       "  </thead>\n",
       "  <tbody>\n",
       "    <tr>\n",
       "      <th>0</th>\n",
       "      <td>10</td>\n",
       "      <td>Counter-Strike</td>\n",
       "      <td>2000-11-01</td>\n",
       "      <td>Valve</td>\n",
       "      <td>[windows, mac, linux]</td>\n",
       "      <td>[Multi-player, Online Multi-Player, Local Mult...</td>\n",
       "      <td>[Action]</td>\n",
       "      <td>[Action, FPS, Multiplayer]</td>\n",
       "      <td>10000000-20000000</td>\n",
       "      <td>7.19</td>\n",
       "      <td>0.973888</td>\n",
       "      <td>[Multi-player, Online Multi-Player, Local Mult...</td>\n",
       "    </tr>\n",
       "    <tr>\n",
       "      <th>1</th>\n",
       "      <td>20</td>\n",
       "      <td>Team Fortress Classic</td>\n",
       "      <td>1999-04-01</td>\n",
       "      <td>Valve</td>\n",
       "      <td>[windows, mac, linux]</td>\n",
       "      <td>[Multi-player, Online Multi-Player, Local Mult...</td>\n",
       "      <td>[Action]</td>\n",
       "      <td>[Action, FPS, Multiplayer]</td>\n",
       "      <td>5000000-10000000</td>\n",
       "      <td>3.99</td>\n",
       "      <td>0.839787</td>\n",
       "      <td>[Multi-player, Online Multi-Player, Local Mult...</td>\n",
       "    </tr>\n",
       "    <tr>\n",
       "      <th>2</th>\n",
       "      <td>30</td>\n",
       "      <td>Day of Defeat</td>\n",
       "      <td>2003-05-01</td>\n",
       "      <td>Valve</td>\n",
       "      <td>[windows, mac, linux]</td>\n",
       "      <td>[Multi-player, Valve Anti-Cheat enabled]</td>\n",
       "      <td>[Action]</td>\n",
       "      <td>[FPS, World War II, Multiplayer]</td>\n",
       "      <td>5000000-10000000</td>\n",
       "      <td>3.99</td>\n",
       "      <td>0.895648</td>\n",
       "      <td>[Multi-player, Valve Anti-Cheat enabled, Actio...</td>\n",
       "    </tr>\n",
       "    <tr>\n",
       "      <th>3</th>\n",
       "      <td>40</td>\n",
       "      <td>Deathmatch Classic</td>\n",
       "      <td>2001-06-01</td>\n",
       "      <td>Valve</td>\n",
       "      <td>[windows, mac, linux]</td>\n",
       "      <td>[Multi-player, Online Multi-Player, Local Mult...</td>\n",
       "      <td>[Action]</td>\n",
       "      <td>[Action, FPS, Multiplayer]</td>\n",
       "      <td>5000000-10000000</td>\n",
       "      <td>3.99</td>\n",
       "      <td>0.826623</td>\n",
       "      <td>[Multi-player, Online Multi-Player, Local Mult...</td>\n",
       "    </tr>\n",
       "    <tr>\n",
       "      <th>4</th>\n",
       "      <td>50</td>\n",
       "      <td>Half-Life: Opposing Force</td>\n",
       "      <td>1999-11-01</td>\n",
       "      <td>Gearbox Software</td>\n",
       "      <td>[windows, mac, linux]</td>\n",
       "      <td>[Single-player, Multi-player, Valve Anti-Cheat...</td>\n",
       "      <td>[Action]</td>\n",
       "      <td>[FPS, Action, Sci-fi]</td>\n",
       "      <td>5000000-10000000</td>\n",
       "      <td>3.99</td>\n",
       "      <td>0.947996</td>\n",
       "      <td>[Single-player, Multi-player, Valve Anti-Cheat...</td>\n",
       "    </tr>\n",
       "  </tbody>\n",
       "</table>\n",
       "</div>"
      ],
      "text/plain": [
       "   appid                       name release_date         developer  \\\n",
       "0     10             Counter-Strike   2000-11-01             Valve   \n",
       "1     20      Team Fortress Classic   1999-04-01             Valve   \n",
       "2     30              Day of Defeat   2003-05-01             Valve   \n",
       "3     40         Deathmatch Classic   2001-06-01             Valve   \n",
       "4     50  Half-Life: Opposing Force   1999-11-01  Gearbox Software   \n",
       "\n",
       "               platforms                                         categories  \\\n",
       "0  [windows, mac, linux]  [Multi-player, Online Multi-Player, Local Mult...   \n",
       "1  [windows, mac, linux]  [Multi-player, Online Multi-Player, Local Mult...   \n",
       "2  [windows, mac, linux]           [Multi-player, Valve Anti-Cheat enabled]   \n",
       "3  [windows, mac, linux]  [Multi-player, Online Multi-Player, Local Mult...   \n",
       "4  [windows, mac, linux]  [Single-player, Multi-player, Valve Anti-Cheat...   \n",
       "\n",
       "     genres                     steamspy_tags             owners  price  \\\n",
       "0  [Action]        [Action, FPS, Multiplayer]  10000000-20000000   7.19   \n",
       "1  [Action]        [Action, FPS, Multiplayer]   5000000-10000000   3.99   \n",
       "2  [Action]  [FPS, World War II, Multiplayer]   5000000-10000000   3.99   \n",
       "3  [Action]        [Action, FPS, Multiplayer]   5000000-10000000   3.99   \n",
       "4  [Action]             [FPS, Action, Sci-fi]   5000000-10000000   3.99   \n",
       "\n",
       "   percent_positive                                             labels  \n",
       "0          0.973888  [Multi-player, Online Multi-Player, Local Mult...  \n",
       "1          0.839787  [Multi-player, Online Multi-Player, Local Mult...  \n",
       "2          0.895648  [Multi-player, Valve Anti-Cheat enabled, Actio...  \n",
       "3          0.826623  [Multi-player, Online Multi-Player, Local Mult...  \n",
       "4          0.947996  [Single-player, Multi-player, Valve Anti-Cheat...  "
      ]
     },
     "execution_count": 85,
     "metadata": {},
     "output_type": "execute_result"
    }
   ],
   "source": [
    "#combine categories + genres + steamspy_tags into one column\n",
    "clean_df['labels'] = clean_df['categories'] + clean_df['genres'] + clean_df['steamspy_tags']\n",
    "clean_df.head()"
   ]
  },
  {
   "cell_type": "code",
   "execution_count": 86,
   "metadata": {},
   "outputs": [
    {
     "data": {
      "text/plain": [
       "['Multi-player',\n",
       " 'Online Multi-Player',\n",
       " 'Local Multi-Player',\n",
       " 'Valve Anti-Cheat enabled',\n",
       " 'Action',\n",
       " 'Action',\n",
       " 'FPS',\n",
       " 'Multiplayer']"
      ]
     },
     "execution_count": 86,
     "metadata": {},
     "output_type": "execute_result"
    }
   ],
   "source": [
    "#check the first entry\n",
    "clean_df.iloc[0]['labels']"
   ]
  },
  {
   "cell_type": "markdown",
   "metadata": {},
   "source": [
    "The first game in the dataframe contained 'Action' twice within the labels column. I made a cleaning function to go through the lists in the 'label's column and remove duplicates. "
   ]
  },
  {
   "cell_type": "markdown",
   "metadata": {},
   "source": [
    "This cleaning function also had to address additional issues. Firstly, there were labels that were functionally the same but spelled differently between different columns. Within 'categories', multi-player was listed as 'Multi-player'. However, in 'steamspy_tags', it was spelled 'Multiplayer'. I went through the labels and identified different spellings of the same labels."
   ]
  },
  {
   "cell_type": "markdown",
   "metadata": {},
   "source": [
    "* Multi-player needs to be uniform: change Multiplayer in steamspy_tags to Multi-Player\n",
    "* Single-player needs to be uniform: change Singleplayer in steamspy_tags to Single-Player\n",
    "* Local multi-player needs to be uniform: change Local Multiplayer in steamspy_tags to Local Multi-Player\n",
    "* Make Co-Op uniform: change instances of Co-Op to Co-op (Online Co-Op, Local Co-Op)"
   ]
  },
  {
   "cell_type": "markdown",
   "metadata": {},
   "source": [
    "Also, the function filtered out the unimportant categories and non-game genres and removed them from the 'labels' column."
   ]
  },
  {
   "cell_type": "code",
   "execution_count": 87,
   "metadata": {},
   "outputs": [
    {
     "data": {
      "text/plain": [
       "['Valve Anti-Cheat enabled',\n",
       " 'Steam Trading Cards',\n",
       " 'Captions available',\n",
       " 'Includes Source SDK',\n",
       " 'Commentary available',\n",
       " 'Steam Leaderboards',\n",
       " 'Mods',\n",
       " 'Mods (require HL2)',\n",
       " 'Steam Turn Notifications',\n",
       " 'Animation & Modeling',\n",
       " 'Video Production',\n",
       " 'Utilities',\n",
       " 'Design & Illustration',\n",
       " 'Web Publishing',\n",
       " 'Education',\n",
       " 'Software Training',\n",
       " 'Audio Production',\n",
       " 'Game Development',\n",
       " 'Photo Editing',\n",
       " 'Accounting',\n",
       " 'Documentary',\n",
       " 'Tutorial']"
      ]
     },
     "execution_count": 87,
     "metadata": {},
     "output_type": "execute_result"
    }
   ],
   "source": [
    "#consolidate labels to discard into a single list\n",
    "discard_labels = discard_categories + discard_genres\n",
    "discard_labels"
   ]
  },
  {
   "cell_type": "code",
   "execution_count": 88,
   "metadata": {},
   "outputs": [],
   "source": [
    "#a dictionary to map spellings\n",
    "#value is original spelling, key is final 'correct' spelling\n",
    "replacements = {\"Multiplayer\": \"Multi-player\",\n",
    "                \"Singleplayer\": \"Single-player\",\n",
    "                \"Local Co-Op\": \"Local Co-op\", \n",
    "                \"Local Multiplayer\": \"Local Multi-Player\",\n",
    "                \"Online Co-Op\": \"Online Co-op\"}"
   ]
  },
  {
   "cell_type": "code",
   "execution_count": 89,
   "metadata": {},
   "outputs": [],
   "source": [
    "def unique_labels(labels, filtered_out, replacements):\n",
    "    '''\n",
    "    Replaces labels to remove differently-spelled duplicates across categories, genres, and steamspy_tags, \n",
    "    also removes non-game related labels\n",
    "    \n",
    "    Arguments:\n",
    "        labels: a list of labels for a single game (categories, genres, steamspy_tags)\n",
    "        filtered_out: a list of subset labels to exclude\n",
    "        replacements: a dictionary to standardize labels' spellings\n",
    "    \n",
    "    Returns a list containing unique labels \n",
    "    '''\n",
    "    game_labels = []\n",
    "    #iterate through the list of combined labels for a game\n",
    "    for label in labels:\n",
    "        #only include labels that aren't excluded by the filter\n",
    "        if label not in filtered_out:\n",
    "            #replace the label name if it is specified in replacements dict\n",
    "            if label in replacements.keys():\n",
    "                label = replacements[label]\n",
    "            game_labels.append(label)\n",
    "    #convert to set to remove label duplicates \n",
    "    game_labels = set(game_labels)\n",
    "    return sorted(list(game_labels))"
   ]
  },
  {
   "cell_type": "code",
   "execution_count": 90,
   "metadata": {},
   "outputs": [
    {
     "data": {
      "text/plain": [
       "['Farming', 'Multi-player', 'Single-player']"
      ]
     },
     "execution_count": 90,
     "metadata": {},
     "output_type": "execute_result"
    }
   ],
   "source": [
    "#check to see if the function works as intended\n",
    "demo_labels = ['Multiplayer', 'Singleplayer', 'Farming', 'Multi-player', 'Steam Leaderboards']\n",
    "unique_labels(demo_labels, discard_labels, replacements)"
   ]
  },
  {
   "cell_type": "markdown",
   "metadata": {},
   "source": [
    "From the test case, we see that the function successfully removed the duplicate multiplayer, standardized the spelling of 'Single-player', and excluded 'Steam Leaderboards'."
   ]
  },
  {
   "cell_type": "code",
   "execution_count": 91,
   "metadata": {},
   "outputs": [
    {
     "name": "stdout",
     "output_type": "stream",
     "text": [
      "['Multi-player', 'Online Multi-Player', 'Local Multi-Player', 'Valve Anti-Cheat enabled', 'Action', 'Action', 'FPS', 'Multiplayer']\n"
     ]
    },
    {
     "data": {
      "text/plain": [
       "['Action', 'FPS', 'Local Multi-Player', 'Multi-player', 'Online Multi-Player']"
      ]
     },
     "execution_count": 91,
     "metadata": {},
     "output_type": "execute_result"
    }
   ],
   "source": [
    "#testing on the first game in the dataset\n",
    "first_game = clean_df.iloc[0]\n",
    "print(first_game['labels'])\n",
    "unique_labels(first_game['labels'], discard_labels, replacements)"
   ]
  },
  {
   "cell_type": "markdown",
   "metadata": {},
   "source": [
    "After confirming that the function worked as intended, I iterated over the dataframe and replaced the values in the 'labels' column."
   ]
  },
  {
   "cell_type": "code",
   "execution_count": 92,
   "metadata": {},
   "outputs": [],
   "source": [
    "#a list of lists to replace clean_df['labels']\n",
    "replaced_labels = []\n",
    "#each list is the unique, filtered labels for every game in clean_df\n",
    "for index, value in clean_df['labels'].items():\n",
    "    filtered_labels = unique_labels(value, discard_labels, replacements)\n",
    "    replaced_labels.append(filtered_labels)\n",
    "clean_df['labels'] = replaced_labels"
   ]
  },
  {
   "cell_type": "code",
   "execution_count": 93,
   "metadata": {},
   "outputs": [
    {
     "data": {
      "text/plain": [
       "0        [Action, FPS, Local Multi-Player, Multi-player...\n",
       "1        [Action, FPS, Local Multi-Player, Multi-player...\n",
       "2                [Action, FPS, Multi-player, World War II]\n",
       "3        [Action, FPS, Local Multi-Player, Multi-player...\n",
       "4        [Action, FPS, Multi-player, Sci-fi, Single-pla...\n",
       "                               ...                        \n",
       "27070    [Adventure, Casual, Indie, Single-player, Stea...\n",
       "27071            [Action, Adventure, Indie, Single-player]\n",
       "27072    [Action, Casual, Co-op, Full controller suppor...\n",
       "27073    [Adventure, Casual, Indie, Single-player, Stea...\n",
       "27074    [Adventure, Casual, Indie, Single-player, Stea...\n",
       "Name: labels, Length: 26559, dtype: object"
      ]
     },
     "execution_count": 93,
     "metadata": {},
     "output_type": "execute_result"
    }
   ],
   "source": [
    "clean_df['labels']"
   ]
  },
  {
   "cell_type": "code",
   "execution_count": 94,
   "metadata": {},
   "outputs": [
    {
     "data": {
      "text/plain": [
       "['Action', 'FPS', 'Local Multi-Player', 'Multi-player', 'Online Multi-Player']"
      ]
     },
     "execution_count": 94,
     "metadata": {},
     "output_type": "execute_result"
    }
   ],
   "source": [
    "#check the first game with the prior result of applying the function\n",
    "clean_df.iloc[0]['labels']"
   ]
  },
  {
   "cell_type": "code",
   "execution_count": 95,
   "metadata": {},
   "outputs": [
    {
     "data": {
      "text/plain": [
       "{'Action': 11880,\n",
       " 'FPS': 400,\n",
       " 'Local Multi-Player': 1645,\n",
       " 'Multi-player': 4039,\n",
       " 'Online Multi-Player': 2448,\n",
       " 'World War II': 130,\n",
       " 'Sci-fi': 157,\n",
       " 'Single-player': 25195,\n",
       " 'Classic': 169,\n",
       " 'Steam Cloud': 7062,\n",
       " 'Partial Controller Support': 4179,\n",
       " 'Steam Achievements': 13974,\n",
       " 'Cross-Platform Multiplayer': 1076,\n",
       " 'Stats': 1872,\n",
       " 'First-Person': 91,\n",
       " 'Includes level editor': 1034,\n",
       " 'Puzzle': 1113,\n",
       " 'Free to Play': 1705,\n",
       " 'In-App Purchases': 671,\n",
       " 'Steam Workshop': 892,\n",
       " 'Co-op': 1738,\n",
       " 'Full controller support': 5671,\n",
       " 'Zombies': 158,\n",
       " 'MOBA': 13,\n",
       " 'SteamVR Collectibles': 40,\n",
       " 'Strategy': 5153,\n",
       " 'Adventure': 9861,\n",
       " 'Shooter': 98,\n",
       " 'Fighting': 114,\n",
       " 'Indie': 19253,\n",
       " 'Cyberpunk': 58,\n",
       " 'RTS': 174,\n",
       " 'Hacking': 20,\n",
       " 'Naval': 39,\n",
       " 'Simulation': 5157,\n",
       " '4X': 37,\n",
       " 'Fantasy': 115,\n",
       " 'Turn-Based Strategy': 102,\n",
       " 'Tanks': 21,\n",
       " 'Space': 225,\n",
       " 'RPG': 4104,\n",
       " 'Online Co-op': 1068,\n",
       " 'Open World': 241,\n",
       " 'Competitive': 11,\n",
       " 'Shared/Split Screen': 2145,\n",
       " 'Top-Down Shooter': 27,\n",
       " 'Casual': 10119,\n",
       " 'Cult Classic': 7,\n",
       " 'Vampire': 17,\n",
       " 'Western': 23,\n",
       " 'Destruction': 21,\n",
       " 'Racing': 1025,\n",
       " 'Offroad': 17,\n",
       " 'Match 3': 119,\n",
       " 'Arcade': 202,\n",
       " 'Hidden Object': 460,\n",
       " 'Tower Defense': 167,\n",
       " 'Sniper': 8,\n",
       " 'Stealth': 93,\n",
       " 'Base-Building': 26,\n",
       " 'Villain Protagonist': 9,\n",
       " 'Story Rich': 154,\n",
       " 'Female Protagonist': 197,\n",
       " 'Comedy': 88,\n",
       " 'Platformer': 647,\n",
       " 'Turn-Based': 167,\n",
       " 'Pirates': 31,\n",
       " 'City Builder': 71,\n",
       " 'Funny': 55,\n",
       " 'Sandbox': 93,\n",
       " 'Card Game': 163,\n",
       " 'Action RPG': 19,\n",
       " 'Hack and Slash': 83,\n",
       " 'Atmospheric': 85,\n",
       " 'Post-apocalyptic': 40,\n",
       " 'Tactical': 51,\n",
       " 'Violent': 1036,\n",
       " 'Warhammer 40K': 29,\n",
       " 'Historical': 65,\n",
       " 'Medieval': 51,\n",
       " 'Horror': 492,\n",
       " 'Rome': 4,\n",
       " 'Star Wars': 28,\n",
       " 'Point & Click': 487,\n",
       " 'Local Co-op': 1081,\n",
       " 'Third-Person Shooter': 42,\n",
       " \"Beat 'em up\": 47,\n",
       " 'Management': 115,\n",
       " 'Driving': 59,\n",
       " 'Grand Strategy': 33,\n",
       " 'MMO': 404,\n",
       " 'Massively Multiplayer': 701,\n",
       " 'Great Soundtrack': 121,\n",
       " 'Third Person': 25,\n",
       " 'Level Editor': 15,\n",
       " 'Mystery': 66,\n",
       " 'Nudity': 648,\n",
       " 'Trains': 36,\n",
       " 'World War I': 23,\n",
       " 'Crime': 12,\n",
       " 'Twin Stick Shooter': 44,\n",
       " 'Sports': 1324,\n",
       " 'Superhero': 22,\n",
       " 'Character Customization': 14,\n",
       " 'Physics': 53,\n",
       " 'Anime': 516,\n",
       " 'Relaxing': 46,\n",
       " 'Time Manipulation': 3,\n",
       " 'Golf': 14,\n",
       " 'Mini Golf': 7,\n",
       " 'Dark Humor': 8,\n",
       " 'Gore': 746,\n",
       " 'Military': 19,\n",
       " 'Aliens': 9,\n",
       " 'Detective': 41,\n",
       " 'Lovecraftian': 26,\n",
       " 'Isometric': 20,\n",
       " 'Top-Down': 22,\n",
       " '1980s': 6,\n",
       " 'Noir': 14,\n",
       " 'Bowling': 2,\n",
       " 'Pinball': 15,\n",
       " 'Trading': 7,\n",
       " 'Party-Based RPG': 3,\n",
       " 'Steampunk': 24,\n",
       " 'Ninja': 13,\n",
       " 'Arena Shooter': 5,\n",
       " 'Parkour': 23,\n",
       " 'Psychological Horror': 75,\n",
       " 'Family Friendly': 86,\n",
       " 'Horses': 12,\n",
       " 'Submarine': 4,\n",
       " 'Survival Horror': 51,\n",
       " 'Flight': 64,\n",
       " '2D': 162,\n",
       " 'Agriculture': 24,\n",
       " 'Early Access': 2899,\n",
       " 'VR Support': 231,\n",
       " 'Mature': 37,\n",
       " 'LEGO': 22,\n",
       " 'Remake': 9,\n",
       " 'Surreal': 19,\n",
       " 'Metroidvania': 56,\n",
       " 'Martial Arts': 5,\n",
       " 'Economy': 17,\n",
       " 'Cute': 40,\n",
       " 'Walking Simulator': 54,\n",
       " 'Short': 16,\n",
       " 'Music': 105,\n",
       " 'Psychedelic': 14,\n",
       " 'Space Sim': 8,\n",
       " \"Shoot 'Em Up\": 244,\n",
       " 'God Game': 10,\n",
       " 'Batman': 9,\n",
       " 'Realistic': 19,\n",
       " 'Time Management': 33,\n",
       " 'Time Travel': 3,\n",
       " 'Building': 62,\n",
       " 'Masterpiece': 7,\n",
       " 'MMORPG': 30,\n",
       " 'JRPG': 92,\n",
       " 'Underwater': 13,\n",
       " 'Gothic': 2,\n",
       " 'Real-Time with Pause': 3,\n",
       " 'Mechs': 36,\n",
       " 'Character Action Game': 5,\n",
       " 'Basketball': 9,\n",
       " 'Multiple Endings': 5,\n",
       " 'Board Game': 105,\n",
       " 'Trading Card Game': 13,\n",
       " 'Motocross': 9,\n",
       " 'Resource Management': 5,\n",
       " 'Mythology': 8,\n",
       " 'Rhythm': 48,\n",
       " 'Cold War': 11,\n",
       " 'Sexual Content': 613,\n",
       " 'Dinosaurs': 34,\n",
       " 'Capitalism': 4,\n",
       " 'Fishing': 17,\n",
       " 'Lemmings': 3,\n",
       " 'Bullet Hell': 92,\n",
       " 'Difficult': 84,\n",
       " 'Programming': 26,\n",
       " 'Cats': 15,\n",
       " 'Rogue-like': 103,\n",
       " 'On-Rails Shooter': 10,\n",
       " 'Survival': 235,\n",
       " 'Memes': 77,\n",
       " 'Replay Value': 6,\n",
       " 'Pixel Graphics': 249,\n",
       " 'Chess': 16,\n",
       " 'Split Screen': 5,\n",
       " 'Bullet Time': 5,\n",
       " 'Magic': 11,\n",
       " 'Retro': 114,\n",
       " 'Benchmark': 4,\n",
       " 'Movie': 1,\n",
       " 'Dungeon Crawler': 45,\n",
       " 'VR': 948,\n",
       " 'Team-Based': 3,\n",
       " 'Dog': 7,\n",
       " 'Visual Novel': 514,\n",
       " 'Exploration': 55,\n",
       " 'Dating Sim': 31,\n",
       " 'Robots': 22,\n",
       " 'Turn-Based Tactics': 22,\n",
       " 'Fast-Paced': 18,\n",
       " 'RPGMaker': 172,\n",
       " 'Narration': 3,\n",
       " '2D Fighter': 39,\n",
       " 'Touch-Friendly': 3,\n",
       " 'Mars': 6,\n",
       " 'Lara Croft': 4,\n",
       " 'Motorbike': 3,\n",
       " 'FMV': 34,\n",
       " '6DOF': 7,\n",
       " 'Satire': 4,\n",
       " 'Swordplay': 7,\n",
       " 'Choices Matter': 32,\n",
       " 'Puzzle-Platformer': 59,\n",
       " 'Dark Fantasy': 6,\n",
       " 'Political': 7,\n",
       " '3D Platformer': 42,\n",
       " 'Dragons': 12,\n",
       " 'War': 25,\n",
       " 'Politics': 11,\n",
       " 'Typing': 6,\n",
       " 'Assassin': 11,\n",
       " 'Crafting': 23,\n",
       " 'Spectacle fighter': 1,\n",
       " 'Tactical RPG': 2,\n",
       " 'Side Scroller': 12,\n",
       " 'Clicker': 64,\n",
       " 'Mining': 6,\n",
       " 'Software': 16,\n",
       " 'Soccer': 9,\n",
       " 'Hunting': 13,\n",
       " 'Pool': 3,\n",
       " 'Inventory Management': 1,\n",
       " 'Cycling': 2,\n",
       " 'Cartoon': 2,\n",
       " 'Werewolves': 3,\n",
       " 'Turn-Based Combat': 21,\n",
       " 'Sokoban': 10,\n",
       " 'Voice Control': 2,\n",
       " 'Intentionally Awkward Controls': 1,\n",
       " 'PvP': 10,\n",
       " 'Souls-like': 12,\n",
       " 'Choose Your Own Adventure': 29,\n",
       " 'Snow': 3,\n",
       " 'America': 2,\n",
       " 'Skateboarding': 5,\n",
       " 'Wargame': 18,\n",
       " 'Games Workshop': 5,\n",
       " 'Old School': 4,\n",
       " 'Experimental': 4,\n",
       " 'Otome': 39,\n",
       " 'Linear': 1,\n",
       " 'Minimalist': 31,\n",
       " 'Wrestling': 8,\n",
       " 'Text-Based': 23,\n",
       " 'Hockey': 5,\n",
       " 'Quick-Time Events': 3,\n",
       " 'Runner': 14,\n",
       " 'Dark': 5,\n",
       " 'Procedural Generation': 10,\n",
       " 'Rogue-lite': 20,\n",
       " 'Hex Grid': 11,\n",
       " 'Comic Book': 5,\n",
       " 'Heist': 2,\n",
       " 'Demons': 3,\n",
       " 'Baseball': 11,\n",
       " 'Football': 14,\n",
       " 'Gambling': 3,\n",
       " 'Hand-drawn': 10,\n",
       " \"1990's\": 7,\n",
       " 'Abstract': 5,\n",
       " 'Perma Death': 1,\n",
       " 'CRPG': 2,\n",
       " 'Spelling': 3,\n",
       " 'Word Game': 8,\n",
       " '4 Player Local': 44,\n",
       " 'Action-Adventure': 8,\n",
       " 'Illuminati': 9,\n",
       " 'Tennis': 14,\n",
       " 'Dystopian ': 4,\n",
       " 'Colorful': 5,\n",
       " 'Interactive Fiction': 9,\n",
       " 'Kickstarter': 1,\n",
       " 'Grid-Based Movement': 3,\n",
       " 'Controller': 3,\n",
       " 'Parody ': 1,\n",
       " 'Loot': 3,\n",
       " 'Alternate History': 2,\n",
       " 'Bikes': 6,\n",
       " 'VR Only': 24,\n",
       " 'Class-Based': 2,\n",
       " 'Supernatural': 2,\n",
       " 'Futuristic': 4,\n",
       " '3D': 3,\n",
       " 'Strategy RPG': 2,\n",
       " 'Psychological': 2,\n",
       " 'Score Attack': 2,\n",
       " 'Cartoony': 3,\n",
       " 'Science': 4,\n",
       " '360 Video': 3,\n",
       " 'e-sports': 2,\n",
       " 'Cinematic': 1,\n",
       " 'Snowboarding': 2,\n",
       " 'Romance': 7,\n",
       " 'Real Time Tactics': 2,\n",
       " 'Nonlinear': 1,\n",
       " 'Battle Royale': 24,\n",
       " 'BMX': 4,\n",
       " 'Diplomacy': 1,\n",
       " 'Sailing': 1,\n",
       " 'Real-Time': 3,\n",
       " 'Philisophical': 3,\n",
       " 'Skating': 1,\n",
       " 'Investigation': 1,\n",
       " 'Drama': 4,\n",
       " 'Mystery Dungeon': 1,\n",
       " 'Mouse only': 8,\n",
       " 'Thriller': 2,\n",
       " 'Dungeons & Dragons': 2,\n",
       " 'Music-Based Procedural Generation': 1,\n",
       " 'Epic': 1,\n",
       " 'Voxel': 2,\n",
       " 'Beautiful': 3,\n",
       " 'GameMaker': 1,\n",
       " 'Gun Customization': 1,\n",
       " 'Conversation': 1,\n",
       " '3D Vision': 1,\n",
       " 'Moddable': 2,\n",
       " 'Mod': 1,\n",
       " 'Time Attack': 2,\n",
       " '2.5D': 1,\n",
       " 'Blood': 1,\n",
       " 'Faith': 4,\n",
       " 'NSFW': 1,\n",
       " 'Stylized': 1,\n",
       " 'Logic': 1}"
      ]
     },
     "execution_count": 95,
     "metadata": {},
     "output_type": "execute_result"
    }
   ],
   "source": [
    "#getting a count of all labels after applying the label filtering cuntion\n",
    "labels_dict = {}\n",
    "for labels in clean_df['labels']:\n",
    "    for x in labels:\n",
    "        if x not in labels_dict:\n",
    "            labels_dict[x] = 1\n",
    "        else:\n",
    "            labels_dict[x] += 1\n",
    "labels_dict"
   ]
  },
  {
   "cell_type": "code",
   "execution_count": 96,
   "metadata": {},
   "outputs": [
    {
     "data": {
      "text/plain": [
       "342"
      ]
     },
     "execution_count": 96,
     "metadata": {},
     "output_type": "execute_result"
    }
   ],
   "source": [
    "len(labels_dict.keys())"
   ]
  },
  {
   "cell_type": "code",
   "execution_count": 97,
   "metadata": {},
   "outputs": [
    {
     "data": {
      "text/plain": [
       "339"
      ]
     },
     "execution_count": 97,
     "metadata": {},
     "output_type": "execute_result"
    }
   ],
   "source": [
    "len(tags_dict.keys())"
   ]
  },
  {
   "cell_type": "markdown",
   "metadata": {},
   "source": [
    "The 'labels' column now consists of a list of unique labels with the subset removed. 'Labels' actually only had 3 more values than tags, emphasizing the importance and use of tags in determining content."
   ]
  },
  {
   "cell_type": "code",
   "execution_count": 98,
   "metadata": {},
   "outputs": [
    {
     "data": {
      "text/plain": [
       "[('Single-player', 25195),\n",
       " ('Indie', 19253),\n",
       " ('Steam Achievements', 13974),\n",
       " ('Action', 11880),\n",
       " ('Casual', 10119),\n",
       " ('Adventure', 9861),\n",
       " ('Steam Cloud', 7062),\n",
       " ('Full controller support', 5671),\n",
       " ('Simulation', 5157),\n",
       " ('Strategy', 5153)]"
      ]
     },
     "execution_count": 98,
     "metadata": {},
     "output_type": "execute_result"
    }
   ],
   "source": [
    "labels_sorted = sort_dict(labels_dict)\n",
    "labels_sorted[:10]"
   ]
  },
  {
   "cell_type": "code",
   "execution_count": 99,
   "metadata": {},
   "outputs": [
    {
     "data": {
      "image/png": "[encoded data removed]",
      "text/plain": [
       "<Figure size 1224x648 with 1 Axes>"
      ]
     },
     "metadata": {
      "needs_background": "light"
     },
     "output_type": "display_data"
    }
   ],
   "source": [
    "#barplot of the top 10 labels sorted by count\n",
    "fig, ax = plt.subplots(figsize=(17, 9))\n",
    "\n",
    "top_10_labels = labels_sorted[:10]\n",
    "\n",
    "labels = [label[0] for label in top_10_labels]\n",
    "counts = [label[1] for label in top_10_labels]\n",
    "\n",
    "ax.barh(labels, counts)\n",
    "\n",
    "#format x-axis to improve readability\n",
    "ax.get_xaxis().set_major_formatter(matplotlib.ticker.FuncFormatter(\n",
    "                                   lambda x, p : format(int(x), ',')))\n",
    "\n",
    "ax.tick_params(axis='both', which='major', labelsize=16)\n",
    "ax.set_xlabel('Counts', fontsize=18)\n",
    "ax.set_title('Most Frequent Labels', fontsize=20);"
   ]
  },
  {
   "cell_type": "markdown",
   "metadata": {},
   "source": [
    "With the labels cleaned, I proceeded with encoding the labels into numerical values."
   ]
  },
  {
   "cell_type": "markdown",
   "metadata": {},
   "source": [
    "Each game in the dataframe was converted into a vector with each label representing a different dimension. My content based recommender uses cosine similarity between these game vectors to determine similarity based on the dimensions specified by numerically encoded content labels. I used sklearn's MultiLabelBinarizer to create a dataframe with every game as a row and every label as a column. For each column, a game was assigned a 0 if it did not have that label and a 1 if it did have the label. "
   ]
  },
  {
   "cell_type": "code",
   "execution_count": 100,
   "metadata": {},
   "outputs": [],
   "source": [
    "def create_mlb_df(df, columns):\n",
    "    '''\n",
    "    Uses MultiLabelBinarizer to transform specified columns and return a dataframe of encoded values\n",
    "    \n",
    "    Arguments:\n",
    "        df: dataframe \n",
    "        columns: list of column names to encode\n",
    "    \n",
    "    Returns:\n",
    "        new dataframe consisting of MultiLabelBinarizer transformed values\n",
    "    '''\n",
    "    #create a new empty dataframe with the same index as df\n",
    "    new_df = pd.DataFrame(index=df.index)\n",
    "    for column in columns:\n",
    "        #instantiate a new MultiLabelBinarizer object\n",
    "        mlb = MultiLabelBinarizer()\n",
    "        mlb_array = mlb.fit_transform(df[column])\n",
    "        mlb_df = pd.DataFrame(mlb_array, df.index, mlb.classes_)\n",
    "        #concatenate each dataframe of encoded values by column\n",
    "        new_df = pd.concat([new_df, mlb_df], axis=1)\n",
    "    return new_df"
   ]
  },
  {
   "cell_type": "code",
   "execution_count": 101,
   "metadata": {
    "scrolled": true
   },
   "outputs": [
    {
     "data": {
      "text/html": [
       "<div>\n",
       "<style scoped>\n",
       "    .dataframe tbody tr th:only-of-type {\n",
       "        vertical-align: middle;\n",
       "    }\n",
       "\n",
       "    .dataframe tbody tr th {\n",
       "        vertical-align: top;\n",
       "    }\n",
       "\n",
       "    .dataframe thead th {\n",
       "        text-align: right;\n",
       "    }\n",
       "</style>\n",
       "<table border=\"1\" class=\"dataframe\">\n",
       "  <thead>\n",
       "    <tr style=\"text-align: right;\">\n",
       "      <th></th>\n",
       "      <th>1980s</th>\n",
       "      <th>1990's</th>\n",
       "      <th>2.5D</th>\n",
       "      <th>2D</th>\n",
       "      <th>2D Fighter</th>\n",
       "      <th>360 Video</th>\n",
       "      <th>3D</th>\n",
       "      <th>3D Platformer</th>\n",
       "      <th>3D Vision</th>\n",
       "      <th>4 Player Local</th>\n",
       "      <th>...</th>\n",
       "      <th>Wargame</th>\n",
       "      <th>Warhammer 40K</th>\n",
       "      <th>Werewolves</th>\n",
       "      <th>Western</th>\n",
       "      <th>Word Game</th>\n",
       "      <th>World War I</th>\n",
       "      <th>World War II</th>\n",
       "      <th>Wrestling</th>\n",
       "      <th>Zombies</th>\n",
       "      <th>e-sports</th>\n",
       "    </tr>\n",
       "  </thead>\n",
       "  <tbody>\n",
       "    <tr>\n",
       "      <th>0</th>\n",
       "      <td>0</td>\n",
       "      <td>0</td>\n",
       "      <td>0</td>\n",
       "      <td>0</td>\n",
       "      <td>0</td>\n",
       "      <td>0</td>\n",
       "      <td>0</td>\n",
       "      <td>0</td>\n",
       "      <td>0</td>\n",
       "      <td>0</td>\n",
       "      <td>...</td>\n",
       "      <td>0</td>\n",
       "      <td>0</td>\n",
       "      <td>0</td>\n",
       "      <td>0</td>\n",
       "      <td>0</td>\n",
       "      <td>0</td>\n",
       "      <td>0</td>\n",
       "      <td>0</td>\n",
       "      <td>0</td>\n",
       "      <td>0</td>\n",
       "    </tr>\n",
       "    <tr>\n",
       "      <th>1</th>\n",
       "      <td>0</td>\n",
       "      <td>0</td>\n",
       "      <td>0</td>\n",
       "      <td>0</td>\n",
       "      <td>0</td>\n",
       "      <td>0</td>\n",
       "      <td>0</td>\n",
       "      <td>0</td>\n",
       "      <td>0</td>\n",
       "      <td>0</td>\n",
       "      <td>...</td>\n",
       "      <td>0</td>\n",
       "      <td>0</td>\n",
       "      <td>0</td>\n",
       "      <td>0</td>\n",
       "      <td>0</td>\n",
       "      <td>0</td>\n",
       "      <td>0</td>\n",
       "      <td>0</td>\n",
       "      <td>0</td>\n",
       "      <td>0</td>\n",
       "    </tr>\n",
       "    <tr>\n",
       "      <th>2</th>\n",
       "      <td>0</td>\n",
       "      <td>0</td>\n",
       "      <td>0</td>\n",
       "      <td>0</td>\n",
       "      <td>0</td>\n",
       "      <td>0</td>\n",
       "      <td>0</td>\n",
       "      <td>0</td>\n",
       "      <td>0</td>\n",
       "      <td>0</td>\n",
       "      <td>...</td>\n",
       "      <td>0</td>\n",
       "      <td>0</td>\n",
       "      <td>0</td>\n",
       "      <td>0</td>\n",
       "      <td>0</td>\n",
       "      <td>0</td>\n",
       "      <td>1</td>\n",
       "      <td>0</td>\n",
       "      <td>0</td>\n",
       "      <td>0</td>\n",
       "    </tr>\n",
       "    <tr>\n",
       "      <th>3</th>\n",
       "      <td>0</td>\n",
       "      <td>0</td>\n",
       "      <td>0</td>\n",
       "      <td>0</td>\n",
       "      <td>0</td>\n",
       "      <td>0</td>\n",
       "      <td>0</td>\n",
       "      <td>0</td>\n",
       "      <td>0</td>\n",
       "      <td>0</td>\n",
       "      <td>...</td>\n",
       "      <td>0</td>\n",
       "      <td>0</td>\n",
       "      <td>0</td>\n",
       "      <td>0</td>\n",
       "      <td>0</td>\n",
       "      <td>0</td>\n",
       "      <td>0</td>\n",
       "      <td>0</td>\n",
       "      <td>0</td>\n",
       "      <td>0</td>\n",
       "    </tr>\n",
       "    <tr>\n",
       "      <th>4</th>\n",
       "      <td>0</td>\n",
       "      <td>0</td>\n",
       "      <td>0</td>\n",
       "      <td>0</td>\n",
       "      <td>0</td>\n",
       "      <td>0</td>\n",
       "      <td>0</td>\n",
       "      <td>0</td>\n",
       "      <td>0</td>\n",
       "      <td>0</td>\n",
       "      <td>...</td>\n",
       "      <td>0</td>\n",
       "      <td>0</td>\n",
       "      <td>0</td>\n",
       "      <td>0</td>\n",
       "      <td>0</td>\n",
       "      <td>0</td>\n",
       "      <td>0</td>\n",
       "      <td>0</td>\n",
       "      <td>0</td>\n",
       "      <td>0</td>\n",
       "    </tr>\n",
       "    <tr>\n",
       "      <th>...</th>\n",
       "      <td>...</td>\n",
       "      <td>...</td>\n",
       "      <td>...</td>\n",
       "      <td>...</td>\n",
       "      <td>...</td>\n",
       "      <td>...</td>\n",
       "      <td>...</td>\n",
       "      <td>...</td>\n",
       "      <td>...</td>\n",
       "      <td>...</td>\n",
       "      <td>...</td>\n",
       "      <td>...</td>\n",
       "      <td>...</td>\n",
       "      <td>...</td>\n",
       "      <td>...</td>\n",
       "      <td>...</td>\n",
       "      <td>...</td>\n",
       "      <td>...</td>\n",
       "      <td>...</td>\n",
       "      <td>...</td>\n",
       "      <td>...</td>\n",
       "    </tr>\n",
       "    <tr>\n",
       "      <th>27070</th>\n",
       "      <td>0</td>\n",
       "      <td>0</td>\n",
       "      <td>0</td>\n",
       "      <td>0</td>\n",
       "      <td>0</td>\n",
       "      <td>0</td>\n",
       "      <td>0</td>\n",
       "      <td>0</td>\n",
       "      <td>0</td>\n",
       "      <td>0</td>\n",
       "      <td>...</td>\n",
       "      <td>0</td>\n",
       "      <td>0</td>\n",
       "      <td>0</td>\n",
       "      <td>0</td>\n",
       "      <td>0</td>\n",
       "      <td>0</td>\n",
       "      <td>0</td>\n",
       "      <td>0</td>\n",
       "      <td>0</td>\n",
       "      <td>0</td>\n",
       "    </tr>\n",
       "    <tr>\n",
       "      <th>27071</th>\n",
       "      <td>0</td>\n",
       "      <td>0</td>\n",
       "      <td>0</td>\n",
       "      <td>0</td>\n",
       "      <td>0</td>\n",
       "      <td>0</td>\n",
       "      <td>0</td>\n",
       "      <td>0</td>\n",
       "      <td>0</td>\n",
       "      <td>0</td>\n",
       "      <td>...</td>\n",
       "      <td>0</td>\n",
       "      <td>0</td>\n",
       "      <td>0</td>\n",
       "      <td>0</td>\n",
       "      <td>0</td>\n",
       "      <td>0</td>\n",
       "      <td>0</td>\n",
       "      <td>0</td>\n",
       "      <td>0</td>\n",
       "      <td>0</td>\n",
       "    </tr>\n",
       "    <tr>\n",
       "      <th>27072</th>\n",
       "      <td>0</td>\n",
       "      <td>0</td>\n",
       "      <td>0</td>\n",
       "      <td>0</td>\n",
       "      <td>0</td>\n",
       "      <td>0</td>\n",
       "      <td>0</td>\n",
       "      <td>0</td>\n",
       "      <td>0</td>\n",
       "      <td>0</td>\n",
       "      <td>...</td>\n",
       "      <td>0</td>\n",
       "      <td>0</td>\n",
       "      <td>0</td>\n",
       "      <td>0</td>\n",
       "      <td>0</td>\n",
       "      <td>0</td>\n",
       "      <td>0</td>\n",
       "      <td>0</td>\n",
       "      <td>0</td>\n",
       "      <td>0</td>\n",
       "    </tr>\n",
       "    <tr>\n",
       "      <th>27073</th>\n",
       "      <td>0</td>\n",
       "      <td>0</td>\n",
       "      <td>0</td>\n",
       "      <td>0</td>\n",
       "      <td>0</td>\n",
       "      <td>0</td>\n",
       "      <td>0</td>\n",
       "      <td>0</td>\n",
       "      <td>0</td>\n",
       "      <td>0</td>\n",
       "      <td>...</td>\n",
       "      <td>0</td>\n",
       "      <td>0</td>\n",
       "      <td>0</td>\n",
       "      <td>0</td>\n",
       "      <td>0</td>\n",
       "      <td>0</td>\n",
       "      <td>0</td>\n",
       "      <td>0</td>\n",
       "      <td>0</td>\n",
       "      <td>0</td>\n",
       "    </tr>\n",
       "    <tr>\n",
       "      <th>27074</th>\n",
       "      <td>0</td>\n",
       "      <td>0</td>\n",
       "      <td>0</td>\n",
       "      <td>0</td>\n",
       "      <td>0</td>\n",
       "      <td>0</td>\n",
       "      <td>0</td>\n",
       "      <td>0</td>\n",
       "      <td>0</td>\n",
       "      <td>0</td>\n",
       "      <td>...</td>\n",
       "      <td>0</td>\n",
       "      <td>0</td>\n",
       "      <td>0</td>\n",
       "      <td>0</td>\n",
       "      <td>0</td>\n",
       "      <td>0</td>\n",
       "      <td>0</td>\n",
       "      <td>0</td>\n",
       "      <td>0</td>\n",
       "      <td>0</td>\n",
       "    </tr>\n",
       "  </tbody>\n",
       "</table>\n",
       "<p>26559 rows × 342 columns</p>\n",
       "</div>"
      ],
      "text/plain": [
       "       1980s  1990's  2.5D  2D  2D Fighter  360 Video  3D  3D Platformer  \\\n",
       "0          0       0     0   0           0          0   0              0   \n",
       "1          0       0     0   0           0          0   0              0   \n",
       "2          0       0     0   0           0          0   0              0   \n",
       "3          0       0     0   0           0          0   0              0   \n",
       "4          0       0     0   0           0          0   0              0   \n",
       "...      ...     ...   ...  ..         ...        ...  ..            ...   \n",
       "27070      0       0     0   0           0          0   0              0   \n",
       "27071      0       0     0   0           0          0   0              0   \n",
       "27072      0       0     0   0           0          0   0              0   \n",
       "27073      0       0     0   0           0          0   0              0   \n",
       "27074      0       0     0   0           0          0   0              0   \n",
       "\n",
       "       3D Vision  4 Player Local  ...  Wargame  Warhammer 40K  Werewolves  \\\n",
       "0              0               0  ...        0              0           0   \n",
       "1              0               0  ...        0              0           0   \n",
       "2              0               0  ...        0              0           0   \n",
       "3              0               0  ...        0              0           0   \n",
       "4              0               0  ...        0              0           0   \n",
       "...          ...             ...  ...      ...            ...         ...   \n",
       "27070          0               0  ...        0              0           0   \n",
       "27071          0               0  ...        0              0           0   \n",
       "27072          0               0  ...        0              0           0   \n",
       "27073          0               0  ...        0              0           0   \n",
       "27074          0               0  ...        0              0           0   \n",
       "\n",
       "       Western  Word Game  World War I  World War II  Wrestling  Zombies  \\\n",
       "0            0          0            0             0          0        0   \n",
       "1            0          0            0             0          0        0   \n",
       "2            0          0            0             1          0        0   \n",
       "3            0          0            0             0          0        0   \n",
       "4            0          0            0             0          0        0   \n",
       "...        ...        ...          ...           ...        ...      ...   \n",
       "27070        0          0            0             0          0        0   \n",
       "27071        0          0            0             0          0        0   \n",
       "27072        0          0            0             0          0        0   \n",
       "27073        0          0            0             0          0        0   \n",
       "27074        0          0            0             0          0        0   \n",
       "\n",
       "       e-sports  \n",
       "0             0  \n",
       "1             0  \n",
       "2             0  \n",
       "3             0  \n",
       "4             0  \n",
       "...         ...  \n",
       "27070         0  \n",
       "27071         0  \n",
       "27072         0  \n",
       "27073         0  \n",
       "27074         0  \n",
       "\n",
       "[26559 rows x 342 columns]"
      ]
     },
     "execution_count": 101,
     "metadata": {},
     "output_type": "execute_result"
    }
   ],
   "source": [
    "#encode lables column using custom function with MLB()\n",
    "mlb_df = create_mlb_df(clean_df, ['labels'])\n",
    "mlb_df"
   ]
  },
  {
   "cell_type": "markdown",
   "metadata": {},
   "source": [
    "The output of the recommender uses clean_df to display information for each recommended game. To provide a better user experience, I dropped some columns and renamed other columns. For the 'labels' column, I unpacked each list of labels and made each value into a single string of labels."
   ]
  },
  {
   "cell_type": "code",
   "execution_count": 102,
   "metadata": {},
   "outputs": [
    {
     "data": {
      "text/html": [
       "<div>\n",
       "<style scoped>\n",
       "    .dataframe tbody tr th:only-of-type {\n",
       "        vertical-align: middle;\n",
       "    }\n",
       "\n",
       "    .dataframe tbody tr th {\n",
       "        vertical-align: top;\n",
       "    }\n",
       "\n",
       "    .dataframe thead th {\n",
       "        text-align: right;\n",
       "    }\n",
       "</style>\n",
       "<table border=\"1\" class=\"dataframe\">\n",
       "  <thead>\n",
       "    <tr style=\"text-align: right;\">\n",
       "      <th></th>\n",
       "      <th>appid</th>\n",
       "      <th>name</th>\n",
       "      <th>release_date</th>\n",
       "      <th>developer</th>\n",
       "      <th>platforms</th>\n",
       "      <th>categories</th>\n",
       "      <th>genres</th>\n",
       "      <th>steamspy_tags</th>\n",
       "      <th>owners</th>\n",
       "      <th>price</th>\n",
       "      <th>percent_positive</th>\n",
       "      <th>labels</th>\n",
       "    </tr>\n",
       "  </thead>\n",
       "  <tbody>\n",
       "    <tr>\n",
       "      <th>0</th>\n",
       "      <td>10</td>\n",
       "      <td>Counter-Strike</td>\n",
       "      <td>2000-11-01</td>\n",
       "      <td>Valve</td>\n",
       "      <td>[windows, mac, linux]</td>\n",
       "      <td>[Multi-player, Online Multi-Player, Local Mult...</td>\n",
       "      <td>[Action]</td>\n",
       "      <td>[Action, FPS, Multiplayer]</td>\n",
       "      <td>10000000-20000000</td>\n",
       "      <td>7.19</td>\n",
       "      <td>0.973888</td>\n",
       "      <td>[Action, FPS, Local Multi-Player, Multi-player...</td>\n",
       "    </tr>\n",
       "    <tr>\n",
       "      <th>1</th>\n",
       "      <td>20</td>\n",
       "      <td>Team Fortress Classic</td>\n",
       "      <td>1999-04-01</td>\n",
       "      <td>Valve</td>\n",
       "      <td>[windows, mac, linux]</td>\n",
       "      <td>[Multi-player, Online Multi-Player, Local Mult...</td>\n",
       "      <td>[Action]</td>\n",
       "      <td>[Action, FPS, Multiplayer]</td>\n",
       "      <td>5000000-10000000</td>\n",
       "      <td>3.99</td>\n",
       "      <td>0.839787</td>\n",
       "      <td>[Action, FPS, Local Multi-Player, Multi-player...</td>\n",
       "    </tr>\n",
       "    <tr>\n",
       "      <th>2</th>\n",
       "      <td>30</td>\n",
       "      <td>Day of Defeat</td>\n",
       "      <td>2003-05-01</td>\n",
       "      <td>Valve</td>\n",
       "      <td>[windows, mac, linux]</td>\n",
       "      <td>[Multi-player, Valve Anti-Cheat enabled]</td>\n",
       "      <td>[Action]</td>\n",
       "      <td>[FPS, World War II, Multiplayer]</td>\n",
       "      <td>5000000-10000000</td>\n",
       "      <td>3.99</td>\n",
       "      <td>0.895648</td>\n",
       "      <td>[Action, FPS, Multi-player, World War II]</td>\n",
       "    </tr>\n",
       "    <tr>\n",
       "      <th>3</th>\n",
       "      <td>40</td>\n",
       "      <td>Deathmatch Classic</td>\n",
       "      <td>2001-06-01</td>\n",
       "      <td>Valve</td>\n",
       "      <td>[windows, mac, linux]</td>\n",
       "      <td>[Multi-player, Online Multi-Player, Local Mult...</td>\n",
       "      <td>[Action]</td>\n",
       "      <td>[Action, FPS, Multiplayer]</td>\n",
       "      <td>5000000-10000000</td>\n",
       "      <td>3.99</td>\n",
       "      <td>0.826623</td>\n",
       "      <td>[Action, FPS, Local Multi-Player, Multi-player...</td>\n",
       "    </tr>\n",
       "    <tr>\n",
       "      <th>4</th>\n",
       "      <td>50</td>\n",
       "      <td>Half-Life: Opposing Force</td>\n",
       "      <td>1999-11-01</td>\n",
       "      <td>Gearbox Software</td>\n",
       "      <td>[windows, mac, linux]</td>\n",
       "      <td>[Single-player, Multi-player, Valve Anti-Cheat...</td>\n",
       "      <td>[Action]</td>\n",
       "      <td>[FPS, Action, Sci-fi]</td>\n",
       "      <td>5000000-10000000</td>\n",
       "      <td>3.99</td>\n",
       "      <td>0.947996</td>\n",
       "      <td>[Action, FPS, Multi-player, Sci-fi, Single-pla...</td>\n",
       "    </tr>\n",
       "  </tbody>\n",
       "</table>\n",
       "</div>"
      ],
      "text/plain": [
       "   appid                       name release_date         developer  \\\n",
       "0     10             Counter-Strike   2000-11-01             Valve   \n",
       "1     20      Team Fortress Classic   1999-04-01             Valve   \n",
       "2     30              Day of Defeat   2003-05-01             Valve   \n",
       "3     40         Deathmatch Classic   2001-06-01             Valve   \n",
       "4     50  Half-Life: Opposing Force   1999-11-01  Gearbox Software   \n",
       "\n",
       "               platforms                                         categories  \\\n",
       "0  [windows, mac, linux]  [Multi-player, Online Multi-Player, Local Mult...   \n",
       "1  [windows, mac, linux]  [Multi-player, Online Multi-Player, Local Mult...   \n",
       "2  [windows, mac, linux]           [Multi-player, Valve Anti-Cheat enabled]   \n",
       "3  [windows, mac, linux]  [Multi-player, Online Multi-Player, Local Mult...   \n",
       "4  [windows, mac, linux]  [Single-player, Multi-player, Valve Anti-Cheat...   \n",
       "\n",
       "     genres                     steamspy_tags             owners  price  \\\n",
       "0  [Action]        [Action, FPS, Multiplayer]  10000000-20000000   7.19   \n",
       "1  [Action]        [Action, FPS, Multiplayer]   5000000-10000000   3.99   \n",
       "2  [Action]  [FPS, World War II, Multiplayer]   5000000-10000000   3.99   \n",
       "3  [Action]        [Action, FPS, Multiplayer]   5000000-10000000   3.99   \n",
       "4  [Action]             [FPS, Action, Sci-fi]   5000000-10000000   3.99   \n",
       "\n",
       "   percent_positive                                             labels  \n",
       "0          0.973888  [Action, FPS, Local Multi-Player, Multi-player...  \n",
       "1          0.839787  [Action, FPS, Local Multi-Player, Multi-player...  \n",
       "2          0.895648          [Action, FPS, Multi-player, World War II]  \n",
       "3          0.826623  [Action, FPS, Local Multi-Player, Multi-player...  \n",
       "4          0.947996  [Action, FPS, Multi-player, Sci-fi, Single-pla...  "
      ]
     },
     "execution_count": 102,
     "metadata": {},
     "output_type": "execute_result"
    }
   ],
   "source": [
    "clean_df.head()"
   ]
  },
  {
   "cell_type": "code",
   "execution_count": 103,
   "metadata": {},
   "outputs": [],
   "source": [
    "#drop redundant label-containing columns\n",
    "columns_to_drop = ['categories', 'genres', 'steamspy_tags']\n",
    "clean_df.drop(columns = columns_to_drop, inplace=True)"
   ]
  },
  {
   "cell_type": "code",
   "execution_count": 104,
   "metadata": {
    "scrolled": true
   },
   "outputs": [
    {
     "data": {
      "text/html": [
       "<div>\n",
       "<style scoped>\n",
       "    .dataframe tbody tr th:only-of-type {\n",
       "        vertical-align: middle;\n",
       "    }\n",
       "\n",
       "    .dataframe tbody tr th {\n",
       "        vertical-align: top;\n",
       "    }\n",
       "\n",
       "    .dataframe thead th {\n",
       "        text-align: right;\n",
       "    }\n",
       "</style>\n",
       "<table border=\"1\" class=\"dataframe\">\n",
       "  <thead>\n",
       "    <tr style=\"text-align: right;\">\n",
       "      <th></th>\n",
       "      <th>appid</th>\n",
       "      <th>name</th>\n",
       "      <th>release_date</th>\n",
       "      <th>developer</th>\n",
       "      <th>platforms</th>\n",
       "      <th>owners</th>\n",
       "      <th>price</th>\n",
       "      <th>percent_positive</th>\n",
       "      <th>labels</th>\n",
       "    </tr>\n",
       "  </thead>\n",
       "  <tbody>\n",
       "    <tr>\n",
       "      <th>0</th>\n",
       "      <td>10</td>\n",
       "      <td>Counter-Strike</td>\n",
       "      <td>2000-11-01</td>\n",
       "      <td>Valve</td>\n",
       "      <td>[windows, mac, linux]</td>\n",
       "      <td>10000000-20000000</td>\n",
       "      <td>7.19</td>\n",
       "      <td>0.973888</td>\n",
       "      <td>[Action, FPS, Local Multi-Player, Multi-player...</td>\n",
       "    </tr>\n",
       "    <tr>\n",
       "      <th>1</th>\n",
       "      <td>20</td>\n",
       "      <td>Team Fortress Classic</td>\n",
       "      <td>1999-04-01</td>\n",
       "      <td>Valve</td>\n",
       "      <td>[windows, mac, linux]</td>\n",
       "      <td>5000000-10000000</td>\n",
       "      <td>3.99</td>\n",
       "      <td>0.839787</td>\n",
       "      <td>[Action, FPS, Local Multi-Player, Multi-player...</td>\n",
       "    </tr>\n",
       "    <tr>\n",
       "      <th>2</th>\n",
       "      <td>30</td>\n",
       "      <td>Day of Defeat</td>\n",
       "      <td>2003-05-01</td>\n",
       "      <td>Valve</td>\n",
       "      <td>[windows, mac, linux]</td>\n",
       "      <td>5000000-10000000</td>\n",
       "      <td>3.99</td>\n",
       "      <td>0.895648</td>\n",
       "      <td>[Action, FPS, Multi-player, World War II]</td>\n",
       "    </tr>\n",
       "    <tr>\n",
       "      <th>3</th>\n",
       "      <td>40</td>\n",
       "      <td>Deathmatch Classic</td>\n",
       "      <td>2001-06-01</td>\n",
       "      <td>Valve</td>\n",
       "      <td>[windows, mac, linux]</td>\n",
       "      <td>5000000-10000000</td>\n",
       "      <td>3.99</td>\n",
       "      <td>0.826623</td>\n",
       "      <td>[Action, FPS, Local Multi-Player, Multi-player...</td>\n",
       "    </tr>\n",
       "    <tr>\n",
       "      <th>4</th>\n",
       "      <td>50</td>\n",
       "      <td>Half-Life: Opposing Force</td>\n",
       "      <td>1999-11-01</td>\n",
       "      <td>Gearbox Software</td>\n",
       "      <td>[windows, mac, linux]</td>\n",
       "      <td>5000000-10000000</td>\n",
       "      <td>3.99</td>\n",
       "      <td>0.947996</td>\n",
       "      <td>[Action, FPS, Multi-player, Sci-fi, Single-pla...</td>\n",
       "    </tr>\n",
       "  </tbody>\n",
       "</table>\n",
       "</div>"
      ],
      "text/plain": [
       "   appid                       name release_date         developer  \\\n",
       "0     10             Counter-Strike   2000-11-01             Valve   \n",
       "1     20      Team Fortress Classic   1999-04-01             Valve   \n",
       "2     30              Day of Defeat   2003-05-01             Valve   \n",
       "3     40         Deathmatch Classic   2001-06-01             Valve   \n",
       "4     50  Half-Life: Opposing Force   1999-11-01  Gearbox Software   \n",
       "\n",
       "               platforms             owners  price  percent_positive  \\\n",
       "0  [windows, mac, linux]  10000000-20000000   7.19          0.973888   \n",
       "1  [windows, mac, linux]   5000000-10000000   3.99          0.839787   \n",
       "2  [windows, mac, linux]   5000000-10000000   3.99          0.895648   \n",
       "3  [windows, mac, linux]   5000000-10000000   3.99          0.826623   \n",
       "4  [windows, mac, linux]   5000000-10000000   3.99          0.947996   \n",
       "\n",
       "                                              labels  \n",
       "0  [Action, FPS, Local Multi-Player, Multi-player...  \n",
       "1  [Action, FPS, Local Multi-Player, Multi-player...  \n",
       "2          [Action, FPS, Multi-player, World War II]  \n",
       "3  [Action, FPS, Local Multi-Player, Multi-player...  \n",
       "4  [Action, FPS, Multi-player, Sci-fi, Single-pla...  "
      ]
     },
     "execution_count": 104,
     "metadata": {},
     "output_type": "execute_result"
    }
   ],
   "source": [
    "clean_df.head()"
   ]
  },
  {
   "cell_type": "code",
   "execution_count": 105,
   "metadata": {},
   "outputs": [
    {
     "data": {
      "text/html": [
       "<div>\n",
       "<style scoped>\n",
       "    .dataframe tbody tr th:only-of-type {\n",
       "        vertical-align: middle;\n",
       "    }\n",
       "\n",
       "    .dataframe tbody tr th {\n",
       "        vertical-align: top;\n",
       "    }\n",
       "\n",
       "    .dataframe thead th {\n",
       "        text-align: right;\n",
       "    }\n",
       "</style>\n",
       "<table border=\"1\" class=\"dataframe\">\n",
       "  <thead>\n",
       "    <tr style=\"text-align: right;\">\n",
       "      <th></th>\n",
       "      <th>appid</th>\n",
       "      <th>name</th>\n",
       "      <th>release_date</th>\n",
       "      <th>developer</th>\n",
       "      <th>platforms</th>\n",
       "      <th>owners</th>\n",
       "      <th>price</th>\n",
       "      <th>percent_positive</th>\n",
       "      <th>labels</th>\n",
       "    </tr>\n",
       "  </thead>\n",
       "  <tbody>\n",
       "    <tr>\n",
       "      <th>0</th>\n",
       "      <td>10</td>\n",
       "      <td>Counter-Strike</td>\n",
       "      <td>2000-11-01</td>\n",
       "      <td>Valve</td>\n",
       "      <td>[windows, mac, linux]</td>\n",
       "      <td>10000000-20000000</td>\n",
       "      <td>7.19</td>\n",
       "      <td>97.39</td>\n",
       "      <td>[Action, FPS, Local Multi-Player, Multi-player...</td>\n",
       "    </tr>\n",
       "    <tr>\n",
       "      <th>1</th>\n",
       "      <td>20</td>\n",
       "      <td>Team Fortress Classic</td>\n",
       "      <td>1999-04-01</td>\n",
       "      <td>Valve</td>\n",
       "      <td>[windows, mac, linux]</td>\n",
       "      <td>5000000-10000000</td>\n",
       "      <td>3.99</td>\n",
       "      <td>83.98</td>\n",
       "      <td>[Action, FPS, Local Multi-Player, Multi-player...</td>\n",
       "    </tr>\n",
       "    <tr>\n",
       "      <th>2</th>\n",
       "      <td>30</td>\n",
       "      <td>Day of Defeat</td>\n",
       "      <td>2003-05-01</td>\n",
       "      <td>Valve</td>\n",
       "      <td>[windows, mac, linux]</td>\n",
       "      <td>5000000-10000000</td>\n",
       "      <td>3.99</td>\n",
       "      <td>89.56</td>\n",
       "      <td>[Action, FPS, Multi-player, World War II]</td>\n",
       "    </tr>\n",
       "    <tr>\n",
       "      <th>3</th>\n",
       "      <td>40</td>\n",
       "      <td>Deathmatch Classic</td>\n",
       "      <td>2001-06-01</td>\n",
       "      <td>Valve</td>\n",
       "      <td>[windows, mac, linux]</td>\n",
       "      <td>5000000-10000000</td>\n",
       "      <td>3.99</td>\n",
       "      <td>82.66</td>\n",
       "      <td>[Action, FPS, Local Multi-Player, Multi-player...</td>\n",
       "    </tr>\n",
       "    <tr>\n",
       "      <th>4</th>\n",
       "      <td>50</td>\n",
       "      <td>Half-Life: Opposing Force</td>\n",
       "      <td>1999-11-01</td>\n",
       "      <td>Gearbox Software</td>\n",
       "      <td>[windows, mac, linux]</td>\n",
       "      <td>5000000-10000000</td>\n",
       "      <td>3.99</td>\n",
       "      <td>94.80</td>\n",
       "      <td>[Action, FPS, Multi-player, Sci-fi, Single-pla...</td>\n",
       "    </tr>\n",
       "  </tbody>\n",
       "</table>\n",
       "</div>"
      ],
      "text/plain": [
       "   appid                       name release_date         developer  \\\n",
       "0     10             Counter-Strike   2000-11-01             Valve   \n",
       "1     20      Team Fortress Classic   1999-04-01             Valve   \n",
       "2     30              Day of Defeat   2003-05-01             Valve   \n",
       "3     40         Deathmatch Classic   2001-06-01             Valve   \n",
       "4     50  Half-Life: Opposing Force   1999-11-01  Gearbox Software   \n",
       "\n",
       "               platforms             owners  price  percent_positive  \\\n",
       "0  [windows, mac, linux]  10000000-20000000   7.19             97.39   \n",
       "1  [windows, mac, linux]   5000000-10000000   3.99             83.98   \n",
       "2  [windows, mac, linux]   5000000-10000000   3.99             89.56   \n",
       "3  [windows, mac, linux]   5000000-10000000   3.99             82.66   \n",
       "4  [windows, mac, linux]   5000000-10000000   3.99             94.80   \n",
       "\n",
       "                                              labels  \n",
       "0  [Action, FPS, Local Multi-Player, Multi-player...  \n",
       "1  [Action, FPS, Local Multi-Player, Multi-player...  \n",
       "2          [Action, FPS, Multi-player, World War II]  \n",
       "3  [Action, FPS, Local Multi-Player, Multi-player...  \n",
       "4  [Action, FPS, Multi-player, Sci-fi, Single-pla...  "
      ]
     },
     "execution_count": 105,
     "metadata": {},
     "output_type": "execute_result"
    }
   ],
   "source": [
    "#round the percentage of positive ratings\n",
    "percentages = clean_df['percent_positive']\n",
    "clean_percentages = [round(x * 100,2) for x in percentages.values]\n",
    "clean_df['percent_positive'] = clean_percentages\n",
    "clean_df.head()"
   ]
  },
  {
   "cell_type": "code",
   "execution_count": 106,
   "metadata": {},
   "outputs": [],
   "source": [
    "#adjust owners number formatting for readability\n",
    "clean_owners = []\n",
    "owners = clean_df['owners']\n",
    "for x in owners.values:\n",
    "    lower_and_upper = x.split('-')\n",
    "    #reformat numbers to include commas every 3 digits\n",
    "    new_range = '{:,}'.format(int(lower_and_upper[0])) + ' - ' '{:,}'.format(int(lower_and_upper[1]))\n",
    "    clean_owners.append(new_range)\n",
    "clean_df['owners'] = clean_owners"
   ]
  },
  {
   "cell_type": "code",
   "execution_count": 107,
   "metadata": {},
   "outputs": [
    {
     "data": {
      "text/html": [
       "<div>\n",
       "<style scoped>\n",
       "    .dataframe tbody tr th:only-of-type {\n",
       "        vertical-align: middle;\n",
       "    }\n",
       "\n",
       "    .dataframe tbody tr th {\n",
       "        vertical-align: top;\n",
       "    }\n",
       "\n",
       "    .dataframe thead th {\n",
       "        text-align: right;\n",
       "    }\n",
       "</style>\n",
       "<table border=\"1\" class=\"dataframe\">\n",
       "  <thead>\n",
       "    <tr style=\"text-align: right;\">\n",
       "      <th></th>\n",
       "      <th>appid</th>\n",
       "      <th>name</th>\n",
       "      <th>release_date</th>\n",
       "      <th>developer</th>\n",
       "      <th>platforms</th>\n",
       "      <th>owners</th>\n",
       "      <th>price</th>\n",
       "      <th>percent_positive</th>\n",
       "      <th>labels</th>\n",
       "    </tr>\n",
       "  </thead>\n",
       "  <tbody>\n",
       "    <tr>\n",
       "      <th>0</th>\n",
       "      <td>10</td>\n",
       "      <td>Counter-Strike</td>\n",
       "      <td>2000-11-01</td>\n",
       "      <td>Valve</td>\n",
       "      <td>[windows, mac, linux]</td>\n",
       "      <td>10,000,000 - 20,000,000</td>\n",
       "      <td>7.19</td>\n",
       "      <td>97.39</td>\n",
       "      <td>[Action, FPS, Local Multi-Player, Multi-player...</td>\n",
       "    </tr>\n",
       "    <tr>\n",
       "      <th>1</th>\n",
       "      <td>20</td>\n",
       "      <td>Team Fortress Classic</td>\n",
       "      <td>1999-04-01</td>\n",
       "      <td>Valve</td>\n",
       "      <td>[windows, mac, linux]</td>\n",
       "      <td>5,000,000 - 10,000,000</td>\n",
       "      <td>3.99</td>\n",
       "      <td>83.98</td>\n",
       "      <td>[Action, FPS, Local Multi-Player, Multi-player...</td>\n",
       "    </tr>\n",
       "    <tr>\n",
       "      <th>2</th>\n",
       "      <td>30</td>\n",
       "      <td>Day of Defeat</td>\n",
       "      <td>2003-05-01</td>\n",
       "      <td>Valve</td>\n",
       "      <td>[windows, mac, linux]</td>\n",
       "      <td>5,000,000 - 10,000,000</td>\n",
       "      <td>3.99</td>\n",
       "      <td>89.56</td>\n",
       "      <td>[Action, FPS, Multi-player, World War II]</td>\n",
       "    </tr>\n",
       "    <tr>\n",
       "      <th>3</th>\n",
       "      <td>40</td>\n",
       "      <td>Deathmatch Classic</td>\n",
       "      <td>2001-06-01</td>\n",
       "      <td>Valve</td>\n",
       "      <td>[windows, mac, linux]</td>\n",
       "      <td>5,000,000 - 10,000,000</td>\n",
       "      <td>3.99</td>\n",
       "      <td>82.66</td>\n",
       "      <td>[Action, FPS, Local Multi-Player, Multi-player...</td>\n",
       "    </tr>\n",
       "    <tr>\n",
       "      <th>4</th>\n",
       "      <td>50</td>\n",
       "      <td>Half-Life: Opposing Force</td>\n",
       "      <td>1999-11-01</td>\n",
       "      <td>Gearbox Software</td>\n",
       "      <td>[windows, mac, linux]</td>\n",
       "      <td>5,000,000 - 10,000,000</td>\n",
       "      <td>3.99</td>\n",
       "      <td>94.80</td>\n",
       "      <td>[Action, FPS, Multi-player, Sci-fi, Single-pla...</td>\n",
       "    </tr>\n",
       "  </tbody>\n",
       "</table>\n",
       "</div>"
      ],
      "text/plain": [
       "   appid                       name release_date         developer  \\\n",
       "0     10             Counter-Strike   2000-11-01             Valve   \n",
       "1     20      Team Fortress Classic   1999-04-01             Valve   \n",
       "2     30              Day of Defeat   2003-05-01             Valve   \n",
       "3     40         Deathmatch Classic   2001-06-01             Valve   \n",
       "4     50  Half-Life: Opposing Force   1999-11-01  Gearbox Software   \n",
       "\n",
       "               platforms                   owners  price  percent_positive  \\\n",
       "0  [windows, mac, linux]  10,000,000 - 20,000,000   7.19             97.39   \n",
       "1  [windows, mac, linux]   5,000,000 - 10,000,000   3.99             83.98   \n",
       "2  [windows, mac, linux]   5,000,000 - 10,000,000   3.99             89.56   \n",
       "3  [windows, mac, linux]   5,000,000 - 10,000,000   3.99             82.66   \n",
       "4  [windows, mac, linux]   5,000,000 - 10,000,000   3.99             94.80   \n",
       "\n",
       "                                              labels  \n",
       "0  [Action, FPS, Local Multi-Player, Multi-player...  \n",
       "1  [Action, FPS, Local Multi-Player, Multi-player...  \n",
       "2          [Action, FPS, Multi-player, World War II]  \n",
       "3  [Action, FPS, Local Multi-Player, Multi-player...  \n",
       "4  [Action, FPS, Multi-player, Sci-fi, Single-pla...  "
      ]
     },
     "execution_count": 107,
     "metadata": {},
     "output_type": "execute_result"
    }
   ],
   "source": [
    "clean_df.head()"
   ]
  },
  {
   "cell_type": "code",
   "execution_count": 108,
   "metadata": {},
   "outputs": [],
   "source": [
    "def unlist_column(column):\n",
    "    '''\n",
    "    Takes list values of a column and creates comma-separated string values for each one\n",
    "    Arguments:\n",
    "        column: pandas series containing values with lists of strings\n",
    "    Returns:\n",
    "        a list of strings\n",
    "    '''\n",
    "    new_column_value = []\n",
    "    for array in column.values:\n",
    "        new_str = ''\n",
    "        for i in range(len(array)):\n",
    "            if i != len(array) - 1:\n",
    "                new_str = new_str + array[i] + ', '\n",
    "            else:\n",
    "                new_str = new_str + array[i]\n",
    "        new_column_value.append(new_str)\n",
    "    return new_column_value"
   ]
  },
  {
   "cell_type": "code",
   "execution_count": 109,
   "metadata": {},
   "outputs": [],
   "source": [
    "#capitalize platforms\n",
    "capitalized_arrays = []\n",
    "for platforms in clean_df['platforms'].values:\n",
    "    new_array = [x.capitalize() for x in platforms]\n",
    "    capitalized_arrays.append(new_array)\n",
    "capitalized_arrays\n",
    "clean_df['platforms'] = capitalized_arrays"
   ]
  },
  {
   "cell_type": "code",
   "execution_count": 110,
   "metadata": {},
   "outputs": [
    {
     "data": {
      "text/html": [
       "<div>\n",
       "<style scoped>\n",
       "    .dataframe tbody tr th:only-of-type {\n",
       "        vertical-align: middle;\n",
       "    }\n",
       "\n",
       "    .dataframe tbody tr th {\n",
       "        vertical-align: top;\n",
       "    }\n",
       "\n",
       "    .dataframe thead th {\n",
       "        text-align: right;\n",
       "    }\n",
       "</style>\n",
       "<table border=\"1\" class=\"dataframe\">\n",
       "  <thead>\n",
       "    <tr style=\"text-align: right;\">\n",
       "      <th></th>\n",
       "      <th>appid</th>\n",
       "      <th>name</th>\n",
       "      <th>release_date</th>\n",
       "      <th>developer</th>\n",
       "      <th>platforms</th>\n",
       "      <th>owners</th>\n",
       "      <th>price</th>\n",
       "      <th>percent_positive</th>\n",
       "      <th>labels</th>\n",
       "    </tr>\n",
       "  </thead>\n",
       "  <tbody>\n",
       "    <tr>\n",
       "      <th>0</th>\n",
       "      <td>10</td>\n",
       "      <td>Counter-Strike</td>\n",
       "      <td>2000-11-01</td>\n",
       "      <td>Valve</td>\n",
       "      <td>Windows, Mac, Linux</td>\n",
       "      <td>10,000,000 - 20,000,000</td>\n",
       "      <td>7.19</td>\n",
       "      <td>97.39</td>\n",
       "      <td>Action, FPS, Local Multi-Player, Multi-player,...</td>\n",
       "    </tr>\n",
       "    <tr>\n",
       "      <th>1</th>\n",
       "      <td>20</td>\n",
       "      <td>Team Fortress Classic</td>\n",
       "      <td>1999-04-01</td>\n",
       "      <td>Valve</td>\n",
       "      <td>Windows, Mac, Linux</td>\n",
       "      <td>5,000,000 - 10,000,000</td>\n",
       "      <td>3.99</td>\n",
       "      <td>83.98</td>\n",
       "      <td>Action, FPS, Local Multi-Player, Multi-player,...</td>\n",
       "    </tr>\n",
       "    <tr>\n",
       "      <th>2</th>\n",
       "      <td>30</td>\n",
       "      <td>Day of Defeat</td>\n",
       "      <td>2003-05-01</td>\n",
       "      <td>Valve</td>\n",
       "      <td>Windows, Mac, Linux</td>\n",
       "      <td>5,000,000 - 10,000,000</td>\n",
       "      <td>3.99</td>\n",
       "      <td>89.56</td>\n",
       "      <td>Action, FPS, Multi-player, World War II</td>\n",
       "    </tr>\n",
       "    <tr>\n",
       "      <th>3</th>\n",
       "      <td>40</td>\n",
       "      <td>Deathmatch Classic</td>\n",
       "      <td>2001-06-01</td>\n",
       "      <td>Valve</td>\n",
       "      <td>Windows, Mac, Linux</td>\n",
       "      <td>5,000,000 - 10,000,000</td>\n",
       "      <td>3.99</td>\n",
       "      <td>82.66</td>\n",
       "      <td>Action, FPS, Local Multi-Player, Multi-player,...</td>\n",
       "    </tr>\n",
       "    <tr>\n",
       "      <th>4</th>\n",
       "      <td>50</td>\n",
       "      <td>Half-Life: Opposing Force</td>\n",
       "      <td>1999-11-01</td>\n",
       "      <td>Gearbox Software</td>\n",
       "      <td>Windows, Mac, Linux</td>\n",
       "      <td>5,000,000 - 10,000,000</td>\n",
       "      <td>3.99</td>\n",
       "      <td>94.80</td>\n",
       "      <td>Action, FPS, Multi-player, Sci-fi, Single-player</td>\n",
       "    </tr>\n",
       "  </tbody>\n",
       "</table>\n",
       "</div>"
      ],
      "text/plain": [
       "   appid                       name release_date         developer  \\\n",
       "0     10             Counter-Strike   2000-11-01             Valve   \n",
       "1     20      Team Fortress Classic   1999-04-01             Valve   \n",
       "2     30              Day of Defeat   2003-05-01             Valve   \n",
       "3     40         Deathmatch Classic   2001-06-01             Valve   \n",
       "4     50  Half-Life: Opposing Force   1999-11-01  Gearbox Software   \n",
       "\n",
       "             platforms                   owners  price  percent_positive  \\\n",
       "0  Windows, Mac, Linux  10,000,000 - 20,000,000   7.19             97.39   \n",
       "1  Windows, Mac, Linux   5,000,000 - 10,000,000   3.99             83.98   \n",
       "2  Windows, Mac, Linux   5,000,000 - 10,000,000   3.99             89.56   \n",
       "3  Windows, Mac, Linux   5,000,000 - 10,000,000   3.99             82.66   \n",
       "4  Windows, Mac, Linux   5,000,000 - 10,000,000   3.99             94.80   \n",
       "\n",
       "                                              labels  \n",
       "0  Action, FPS, Local Multi-Player, Multi-player,...  \n",
       "1  Action, FPS, Local Multi-Player, Multi-player,...  \n",
       "2            Action, FPS, Multi-player, World War II  \n",
       "3  Action, FPS, Local Multi-Player, Multi-player,...  \n",
       "4   Action, FPS, Multi-player, Sci-fi, Single-player  "
      ]
     },
     "execution_count": 110,
     "metadata": {},
     "output_type": "execute_result"
    }
   ],
   "source": [
    "#convert the list values into string values\n",
    "clean_df['platforms'] = unlist_column(clean_df['platforms'])\n",
    "clean_df['labels'] = unlist_column(clean_df['labels'])\n",
    "clean_df.head()"
   ]
  },
  {
   "cell_type": "code",
   "execution_count": 111,
   "metadata": {},
   "outputs": [],
   "source": [
    "#rename columns for readability\n",
    "column_mapper = {'appid': 'App ID',\n",
    "                 'name': 'Name',\n",
    "                 'release_date': 'Release Date',\n",
    "                 'developer': 'Developer',\n",
    "                 'platforms': 'Platforms',\n",
    "                 'owners': 'Owners',\n",
    "                 'price': 'Price (GBP)',\n",
    "                 'percent_positive': '% of Positive Ratings',\n",
    "                 'labels': 'Content Labels'}\n",
    "clean_df.rename(columns = column_mapper, inplace=True)"
   ]
  },
  {
   "cell_type": "markdown",
   "metadata": {},
   "source": [
    "This is what the dataframe looks like with the information that users will see when the recommender provides game recommendations."
   ]
  },
  {
   "cell_type": "code",
   "execution_count": 112,
   "metadata": {},
   "outputs": [
    {
     "data": {
      "text/html": [
       "<div>\n",
       "<style scoped>\n",
       "    .dataframe tbody tr th:only-of-type {\n",
       "        vertical-align: middle;\n",
       "    }\n",
       "\n",
       "    .dataframe tbody tr th {\n",
       "        vertical-align: top;\n",
       "    }\n",
       "\n",
       "    .dataframe thead th {\n",
       "        text-align: right;\n",
       "    }\n",
       "</style>\n",
       "<table border=\"1\" class=\"dataframe\">\n",
       "  <thead>\n",
       "    <tr style=\"text-align: right;\">\n",
       "      <th></th>\n",
       "      <th>App ID</th>\n",
       "      <th>Name</th>\n",
       "      <th>Release Date</th>\n",
       "      <th>Developer</th>\n",
       "      <th>Platforms</th>\n",
       "      <th>Owners</th>\n",
       "      <th>Price (GBP)</th>\n",
       "      <th>% of Positive Ratings</th>\n",
       "      <th>Content Labels</th>\n",
       "    </tr>\n",
       "  </thead>\n",
       "  <tbody>\n",
       "    <tr>\n",
       "      <th>0</th>\n",
       "      <td>10</td>\n",
       "      <td>Counter-Strike</td>\n",
       "      <td>2000-11-01</td>\n",
       "      <td>Valve</td>\n",
       "      <td>Windows, Mac, Linux</td>\n",
       "      <td>10,000,000 - 20,000,000</td>\n",
       "      <td>7.19</td>\n",
       "      <td>97.39</td>\n",
       "      <td>Action, FPS, Local Multi-Player, Multi-player, Online Multi-Player</td>\n",
       "    </tr>\n",
       "    <tr>\n",
       "      <th>1</th>\n",
       "      <td>20</td>\n",
       "      <td>Team Fortress Classic</td>\n",
       "      <td>1999-04-01</td>\n",
       "      <td>Valve</td>\n",
       "      <td>Windows, Mac, Linux</td>\n",
       "      <td>5,000,000 - 10,000,000</td>\n",
       "      <td>3.99</td>\n",
       "      <td>83.98</td>\n",
       "      <td>Action, FPS, Local Multi-Player, Multi-player, Online Multi-Player</td>\n",
       "    </tr>\n",
       "    <tr>\n",
       "      <th>2</th>\n",
       "      <td>30</td>\n",
       "      <td>Day of Defeat</td>\n",
       "      <td>2003-05-01</td>\n",
       "      <td>Valve</td>\n",
       "      <td>Windows, Mac, Linux</td>\n",
       "      <td>5,000,000 - 10,000,000</td>\n",
       "      <td>3.99</td>\n",
       "      <td>89.56</td>\n",
       "      <td>Action, FPS, Multi-player, World War II</td>\n",
       "    </tr>\n",
       "    <tr>\n",
       "      <th>3</th>\n",
       "      <td>40</td>\n",
       "      <td>Deathmatch Classic</td>\n",
       "      <td>2001-06-01</td>\n",
       "      <td>Valve</td>\n",
       "      <td>Windows, Mac, Linux</td>\n",
       "      <td>5,000,000 - 10,000,000</td>\n",
       "      <td>3.99</td>\n",
       "      <td>82.66</td>\n",
       "      <td>Action, FPS, Local Multi-Player, Multi-player, Online Multi-Player</td>\n",
       "    </tr>\n",
       "    <tr>\n",
       "      <th>4</th>\n",
       "      <td>50</td>\n",
       "      <td>Half-Life: Opposing Force</td>\n",
       "      <td>1999-11-01</td>\n",
       "      <td>Gearbox Software</td>\n",
       "      <td>Windows, Mac, Linux</td>\n",
       "      <td>5,000,000 - 10,000,000</td>\n",
       "      <td>3.99</td>\n",
       "      <td>94.80</td>\n",
       "      <td>Action, FPS, Multi-player, Sci-fi, Single-player</td>\n",
       "    </tr>\n",
       "  </tbody>\n",
       "</table>\n",
       "</div>"
      ],
      "text/plain": [
       "   App ID                       Name Release Date         Developer  \\\n",
       "0      10             Counter-Strike   2000-11-01             Valve   \n",
       "1      20      Team Fortress Classic   1999-04-01             Valve   \n",
       "2      30              Day of Defeat   2003-05-01             Valve   \n",
       "3      40         Deathmatch Classic   2001-06-01             Valve   \n",
       "4      50  Half-Life: Opposing Force   1999-11-01  Gearbox Software   \n",
       "\n",
       "             Platforms                   Owners  Price (GBP)  \\\n",
       "0  Windows, Mac, Linux  10,000,000 - 20,000,000         7.19   \n",
       "1  Windows, Mac, Linux   5,000,000 - 10,000,000         3.99   \n",
       "2  Windows, Mac, Linux   5,000,000 - 10,000,000         3.99   \n",
       "3  Windows, Mac, Linux   5,000,000 - 10,000,000         3.99   \n",
       "4  Windows, Mac, Linux   5,000,000 - 10,000,000         3.99   \n",
       "\n",
       "   % of Positive Ratings  \\\n",
       "0                  97.39   \n",
       "1                  83.98   \n",
       "2                  89.56   \n",
       "3                  82.66   \n",
       "4                  94.80   \n",
       "\n",
       "                                                       Content Labels  \n",
       "0  Action, FPS, Local Multi-Player, Multi-player, Online Multi-Player  \n",
       "1  Action, FPS, Local Multi-Player, Multi-player, Online Multi-Player  \n",
       "2                             Action, FPS, Multi-player, World War II  \n",
       "3  Action, FPS, Local Multi-Player, Multi-player, Online Multi-Player  \n",
       "4                    Action, FPS, Multi-player, Sci-fi, Single-player  "
      ]
     },
     "execution_count": 112,
     "metadata": {},
     "output_type": "execute_result"
    }
   ],
   "source": [
    "#set a larger column width to display all content labels\n",
    "pd.set_option('max_colwidth', 600)\n",
    "clean_df.head()"
   ]
  },
  {
   "cell_type": "markdown",
   "metadata": {},
   "source": [
    "### Content Recommender"
   ]
  },
  {
   "cell_type": "markdown",
   "metadata": {},
   "source": [
    "I ask the user to supply the game that they want recommendations for as well and the number of recommendations to return."
   ]
  },
  {
   "cell_type": "code",
   "execution_count": 113,
   "metadata": {},
   "outputs": [],
   "source": [
    "def game_input(df):\n",
    "    '''\n",
    "    Function asking the user to input the name or app id of the game to find recommendations for\n",
    "    Requires exact spelling of name\n",
    "    Returns the index of the game in the dataframe\n",
    "    \n",
    "    Arguments:\n",
    "        df: dataframe containing game info, recommender returns a subset of this dataframe\n",
    "    '''\n",
    "    game = input('Name of game you would like recommendations for? ')\n",
    "    if type(game) is str:\n",
    "        #search dataframe for all indices corresponding to the game name\n",
    "        game_idx = df[df['Name'] == game].index\n",
    "        #name is not necessarily unique\n",
    "        #prompts the user to enter appid to identify the game\n",
    "        if len(game_idx) > 1:\n",
    "            shared_names = df[df['Name'] == game]\n",
    "            print(shared_names)\n",
    "            game_id = int(input('There are multiple games with this name. Please enter the app id of the game.'))\n",
    "            game_idx = df[df['App ID'] == game_id].index\n",
    "            game_name = df.loc[game_idx]['Name'].values[0]\n",
    "            print(f'Finding recommendations for {game_name} (app id {game_id}):')\n",
    "        #if there is only one game with the name, proceed to the else statement\n",
    "        else:\n",
    "            game_idx = df[df['Name'] == game].index\n",
    "            game_name = df.loc[game_idx]['Name'].values[0]\n",
    "            game_id = df.loc[game_idx]['App ID'].values[0]\n",
    "            print(f'Finding recommendations for {game_name} (app id {game_id}):')\n",
    "    #exception if input does not match any games within the dataframe\n",
    "    if len(game_idx) == 0:\n",
    "        return('Sorry, recommendations are not available for this game!')\n",
    "    return game_idx"
   ]
  },
  {
   "cell_type": "code",
   "execution_count": 114,
   "metadata": {},
   "outputs": [],
   "source": [
    "def number_recs():\n",
    "    '''\n",
    "    Function asking the user to input number of recommendations desired\n",
    "    Input should be an integer\n",
    "    Limited max recommendations to 20\n",
    "    '''\n",
    "    n = input('Number of recommendations? ')\n",
    "    try:\n",
    "        n = int(n)\n",
    "    except:\n",
    "        print('Please enter a valid number.')\n",
    "        n = number_recs()\n",
    "    if n == 0:\n",
    "        print('Please pick a nonzero number.')\n",
    "        n = number_recs()\n",
    "    if n > 20:\n",
    "        print('Too many recommendations, please pick a smaller number.')\n",
    "        n = number_recs()\n",
    "    return n"
   ]
  },
  {
   "cell_type": "code",
   "execution_count": 115,
   "metadata": {},
   "outputs": [],
   "source": [
    "def find_recommendations(game_idx, content_matrix, df, n):\n",
    "    '''\n",
    "    Returns a dataframe containing game info for recommendations with the highest cosine similarity scores\n",
    "    Adds similarity score as a column to the output dataframe\n",
    "    \n",
    "    Arguments:\n",
    "        game_idx: index of the game from the dataframe, supplied by game_input() function\n",
    "                content_matrix: encoded matrix of game features\n",
    "        df: dataframe containing game info, recommender returns a subset of this dataframe\n",
    "        n: number of recommendations\n",
    "\n",
    "    '''\n",
    "    #get the index of the game from the games info dataframe\n",
    "    #get the features for the game from the content matrix\n",
    "    game_features = content_matrix.loc[game_idx]\n",
    "    #drop the game from the content matrix\n",
    "    other_games_df = content_matrix.drop(game_idx, axis=0)\n",
    "    #compute cosine similarity with sklearn\n",
    "    cos_sim = cosine_similarity(game_features, other_games_df)\n",
    "    #transform array of cos_sims into dataframe\n",
    "    cos_sim_df = pd.DataFrame(cos_sim, index=game_idx, \n",
    "                              columns=other_games_df.index).T\n",
    "    cos_sim_df.sort_values(by=[game_idx[0]], ascending=False, inplace=True)\n",
    "    top_matches = cos_sim_df.iloc[:n]\n",
    "    #get the index for each recommended game\n",
    "    top_idx = top_matches.index\n",
    "    #refer to full games info matrix to return info for recommended games\n",
    "    rec_df = df.loc[top_idx]\n",
    "    #add the similarity scores as a column to the output df\n",
    "    #rename column name from game_idx to 'Similarity Score'\n",
    "    scores_df = top_matches.rename(columns={top_matches.columns[0]: 'Similarity Score'})\n",
    "    rec_df = pd.concat([rec_df, scores_df], axis=1)\n",
    "    #set index to match number of recommendations\n",
    "    new_idx = [i+1 for i in range(n)]\n",
    "    rec_df['new_index'] = new_idx\n",
    "    rec_df.set_index(keys = 'new_index', inplace=True)\n",
    "    rec_df.index.name = None\n",
    "    return rec_df"
   ]
  },
  {
   "cell_type": "code",
   "execution_count": 116,
   "metadata": {},
   "outputs": [],
   "source": [
    "#consolidate functions into a single function call\n",
    "def content_recommender(content_matrix, df):\n",
    "    '''\n",
    "    Consolidates all content recommender functions into a single call\n",
    "    Arguments:\n",
    "        content_matrix: encoded matrix of game features\n",
    "        df: dataframe containing game info, recommender returns a subset of this dataframe\n",
    "    Returns:\n",
    "        a subset of df containing n rows where n is the number of recommendations, with rows sorted by similarity score\n",
    "        in descending order\n",
    "    '''\n",
    "    #ask user for game and find index in df\n",
    "    game_idx = game_input(df)\n",
    "    #ask user for number of recs\n",
    "    n = number_recs()\n",
    "    #calculate similarity and return top n recommendations\n",
    "    recs = find_recommendations(game_idx, content_matrix, df, n)\n",
    "    return recs"
   ]
  },
  {
   "cell_type": "markdown",
   "metadata": {},
   "source": [
    "I tested my content-based recommender on the popular indie farming simulator \"Stardew Valley\"."
   ]
  },
  {
   "cell_type": "code",
   "execution_count": 117,
   "metadata": {},
   "outputs": [
    {
     "data": {
      "text/html": [
       "<div>\n",
       "<style scoped>\n",
       "    .dataframe tbody tr th:only-of-type {\n",
       "        vertical-align: middle;\n",
       "    }\n",
       "\n",
       "    .dataframe tbody tr th {\n",
       "        vertical-align: top;\n",
       "    }\n",
       "\n",
       "    .dataframe thead th {\n",
       "        text-align: right;\n",
       "    }\n",
       "</style>\n",
       "<table border=\"1\" class=\"dataframe\">\n",
       "  <thead>\n",
       "    <tr style=\"text-align: right;\">\n",
       "      <th></th>\n",
       "      <th>App ID</th>\n",
       "      <th>Name</th>\n",
       "      <th>Release Date</th>\n",
       "      <th>Developer</th>\n",
       "      <th>Platforms</th>\n",
       "      <th>Owners</th>\n",
       "      <th>Price (GBP)</th>\n",
       "      <th>% of Positive Ratings</th>\n",
       "      <th>Content Labels</th>\n",
       "    </tr>\n",
       "  </thead>\n",
       "  <tbody>\n",
       "    <tr>\n",
       "      <th>7175</th>\n",
       "      <td>413150</td>\n",
       "      <td>Stardew Valley</td>\n",
       "      <td>2016-02-26</td>\n",
       "      <td>ConcernedApe</td>\n",
       "      <td>Windows, Mac, Linux</td>\n",
       "      <td>2,000,000 - 5,000,000</td>\n",
       "      <td>10.99</td>\n",
       "      <td>96.92</td>\n",
       "      <td>Co-op, Indie, Multi-player, Partial Controller Support, Pixel Graphics, RPG, Simulation, Single-player, Steam Achievements, Steam Cloud</td>\n",
       "    </tr>\n",
       "  </tbody>\n",
       "</table>\n",
       "</div>"
      ],
      "text/plain": [
       "      App ID            Name Release Date     Developer            Platforms  \\\n",
       "7175  413150  Stardew Valley   2016-02-26  ConcernedApe  Windows, Mac, Linux   \n",
       "\n",
       "                     Owners  Price (GBP)  % of Positive Ratings  \\\n",
       "7175  2,000,000 - 5,000,000        10.99                  96.92   \n",
       "\n",
       "                                                                                                                               Content Labels  \n",
       "7175  Co-op, Indie, Multi-player, Partial Controller Support, Pixel Graphics, RPG, Simulation, Single-player, Steam Achievements, Steam Cloud  "
      ]
     },
     "execution_count": 117,
     "metadata": {},
     "output_type": "execute_result"
    }
   ],
   "source": [
    "clean_df[clean_df['Name']=='Stardew Valley']"
   ]
  },
  {
   "cell_type": "code",
   "execution_count": 118,
   "metadata": {},
   "outputs": [
    {
     "name": "stdout",
     "output_type": "stream",
     "text": [
      "Name of game you would like recommendations for? Stardew Valley\n",
      "Finding recommendations for Stardew Valley (app id 413150):\n",
      "Number of recommendations? 5\n"
     ]
    },
    {
     "data": {
      "text/html": [
       "<div>\n",
       "<style scoped>\n",
       "    .dataframe tbody tr th:only-of-type {\n",
       "        vertical-align: middle;\n",
       "    }\n",
       "\n",
       "    .dataframe tbody tr th {\n",
       "        vertical-align: top;\n",
       "    }\n",
       "\n",
       "    .dataframe thead th {\n",
       "        text-align: right;\n",
       "    }\n",
       "</style>\n",
       "<table border=\"1\" class=\"dataframe\">\n",
       "  <thead>\n",
       "    <tr style=\"text-align: right;\">\n",
       "      <th></th>\n",
       "      <th>App ID</th>\n",
       "      <th>Name</th>\n",
       "      <th>Release Date</th>\n",
       "      <th>Developer</th>\n",
       "      <th>Platforms</th>\n",
       "      <th>Owners</th>\n",
       "      <th>Price (GBP)</th>\n",
       "      <th>% of Positive Ratings</th>\n",
       "      <th>Content Labels</th>\n",
       "      <th>Similarity Score</th>\n",
       "    </tr>\n",
       "  </thead>\n",
       "  <tbody>\n",
       "    <tr>\n",
       "      <th>1</th>\n",
       "      <td>431180</td>\n",
       "      <td>WolfQuest</td>\n",
       "      <td>2016-03-25</td>\n",
       "      <td>eduweb</td>\n",
       "      <td>Windows, Mac</td>\n",
       "      <td>50,000 - 100,000</td>\n",
       "      <td>6.99</td>\n",
       "      <td>88.80</td>\n",
       "      <td>Co-op, Indie, Multi-player, Partial Controller Support, RPG, Simulation, Single-player, Steam Achievements, Survival</td>\n",
       "      <td>0.843274</td>\n",
       "    </tr>\n",
       "    <tr>\n",
       "      <th>2</th>\n",
       "      <td>984560</td>\n",
       "      <td>HEARTBEAT</td>\n",
       "      <td>2018-12-12</td>\n",
       "      <td>CHUMBOSOFT LLC</td>\n",
       "      <td>Windows, Mac, Linux</td>\n",
       "      <td>0 - 20,000</td>\n",
       "      <td>11.39</td>\n",
       "      <td>97.84</td>\n",
       "      <td>Indie, Partial Controller Support, Pixel Graphics, RPG, Single-player, Steam Achievements, Steam Cloud</td>\n",
       "      <td>0.836660</td>\n",
       "    </tr>\n",
       "    <tr>\n",
       "      <th>3</th>\n",
       "      <td>432010</td>\n",
       "      <td>World's Dawn</td>\n",
       "      <td>2016-01-25</td>\n",
       "      <td>Wayward Prophet</td>\n",
       "      <td>Windows</td>\n",
       "      <td>20,000 - 50,000</td>\n",
       "      <td>6.99</td>\n",
       "      <td>81.63</td>\n",
       "      <td>Casual, Indie, Partial Controller Support, RPG, Simulation, Single-player, Steam Achievements, Steam Cloud</td>\n",
       "      <td>0.782624</td>\n",
       "    </tr>\n",
       "    <tr>\n",
       "      <th>4</th>\n",
       "      <td>220260</td>\n",
       "      <td>Farming Simulator 2013 Titanium Edition</td>\n",
       "      <td>2013-10-09</td>\n",
       "      <td>Giants Software</td>\n",
       "      <td>Windows, Mac</td>\n",
       "      <td>500,000 - 1,000,000</td>\n",
       "      <td>11.39</td>\n",
       "      <td>91.23</td>\n",
       "      <td>Casual, Co-op, Multi-player, Partial Controller Support, Simulation, Single-player, Steam Achievements, Steam Cloud</td>\n",
       "      <td>0.782624</td>\n",
       "    </tr>\n",
       "    <tr>\n",
       "      <th>5</th>\n",
       "      <td>1022280</td>\n",
       "      <td>CosPuzzle: Giu Hellsing</td>\n",
       "      <td>2019-03-07</td>\n",
       "      <td>AnimeBomb</td>\n",
       "      <td>Windows</td>\n",
       "      <td>0 - 20,000</td>\n",
       "      <td>0.79</td>\n",
       "      <td>50.00</td>\n",
       "      <td>Casual, Indie, Partial Controller Support, RPG, Simulation, Single-player, Steam Achievements, Steam Cloud</td>\n",
       "      <td>0.782624</td>\n",
       "    </tr>\n",
       "  </tbody>\n",
       "</table>\n",
       "</div>"
      ],
      "text/plain": [
       "    App ID                                     Name Release Date  \\\n",
       "1   431180                                WolfQuest   2016-03-25   \n",
       "2   984560                                HEARTBEAT   2018-12-12   \n",
       "3   432010                             World's Dawn   2016-01-25   \n",
       "4   220260  Farming Simulator 2013 Titanium Edition   2013-10-09   \n",
       "5  1022280                  CosPuzzle: Giu Hellsing   2019-03-07   \n",
       "\n",
       "         Developer            Platforms               Owners  Price (GBP)  \\\n",
       "1           eduweb         Windows, Mac     50,000 - 100,000         6.99   \n",
       "2   CHUMBOSOFT LLC  Windows, Mac, Linux           0 - 20,000        11.39   \n",
       "3  Wayward Prophet              Windows      20,000 - 50,000         6.99   \n",
       "4  Giants Software         Windows, Mac  500,000 - 1,000,000        11.39   \n",
       "5        AnimeBomb              Windows           0 - 20,000         0.79   \n",
       "\n",
       "   % of Positive Ratings  \\\n",
       "1                  88.80   \n",
       "2                  97.84   \n",
       "3                  81.63   \n",
       "4                  91.23   \n",
       "5                  50.00   \n",
       "\n",
       "                                                                                                         Content Labels  \\\n",
       "1  Co-op, Indie, Multi-player, Partial Controller Support, RPG, Simulation, Single-player, Steam Achievements, Survival   \n",
       "2                Indie, Partial Controller Support, Pixel Graphics, RPG, Single-player, Steam Achievements, Steam Cloud   \n",
       "3            Casual, Indie, Partial Controller Support, RPG, Simulation, Single-player, Steam Achievements, Steam Cloud   \n",
       "4   Casual, Co-op, Multi-player, Partial Controller Support, Simulation, Single-player, Steam Achievements, Steam Cloud   \n",
       "5            Casual, Indie, Partial Controller Support, RPG, Simulation, Single-player, Steam Achievements, Steam Cloud   \n",
       "\n",
       "   Similarity Score  \n",
       "1          0.843274  \n",
       "2          0.836660  \n",
       "3          0.782624  \n",
       "4          0.782624  \n",
       "5          0.782624  "
      ]
     },
     "execution_count": 118,
     "metadata": {},
     "output_type": "execute_result"
    }
   ],
   "source": [
    "content_recommender(mlb_df, clean_df)"
   ]
  },
  {
   "cell_type": "markdown",
   "metadata": {},
   "source": [
    "## Evaluation: Content-based Recommender"
   ]
  },
  {
   "cell_type": "markdown",
   "metadata": {},
   "source": [
    "A good content recommender is one where users respond positively to the quality of recommendations provided. In business use, A/B testing could compare content recommenders and evaluate their success based on user feedback. \n",
    "\n",
    "In practice here, I used my business understanding of games to evaluate my recommender's performance. In the example above, I asked for recommendations for 'Stardew Valley'. The game description on Steam describes 'Stardew Valley' as 'an open-ended country-life RPG' where the player develops 'a lively farm'. None of the content tags mentioned 'farming': in fact, farming was not even a tag in the dataset. 'Farming Simulator 2013 Titanium Edition' was the 4th most similar game to Stardew Valley, but the farming connection was purely coincidental. Without the proper labels, the recommender doesn't accurately describe the game's contents, and recommendations may not match gameplay. As of August 2022, the Steam page for 'Stardew Valley' has \"Farming Sim\" as one of the most popular user-defined tags. Since my recommender is built with a dataset from 2019, the tags are out of date. "
   ]
  },
  {
   "cell_type": "markdown",
   "metadata": {},
   "source": [
    "Here's another example to demonstrate the importance of proper tags. I asked for the top 5 recommendations for \"LEGO® Star Wars™ - The Complete Saga\"."
   ]
  },
  {
   "cell_type": "code",
   "execution_count": 119,
   "metadata": {},
   "outputs": [
    {
     "data": {
      "text/html": [
       "<div>\n",
       "<style scoped>\n",
       "    .dataframe tbody tr th:only-of-type {\n",
       "        vertical-align: middle;\n",
       "    }\n",
       "\n",
       "    .dataframe tbody tr th {\n",
       "        vertical-align: top;\n",
       "    }\n",
       "\n",
       "    .dataframe thead th {\n",
       "        text-align: right;\n",
       "    }\n",
       "</style>\n",
       "<table border=\"1\" class=\"dataframe\">\n",
       "  <thead>\n",
       "    <tr style=\"text-align: right;\">\n",
       "      <th></th>\n",
       "      <th>App ID</th>\n",
       "      <th>Name</th>\n",
       "      <th>Release Date</th>\n",
       "      <th>Developer</th>\n",
       "      <th>Platforms</th>\n",
       "      <th>Owners</th>\n",
       "      <th>Price (GBP)</th>\n",
       "      <th>% of Positive Ratings</th>\n",
       "      <th>Content Labels</th>\n",
       "    </tr>\n",
       "  </thead>\n",
       "  <tbody>\n",
       "    <tr>\n",
       "      <th>596</th>\n",
       "      <td>32440</td>\n",
       "      <td>LEGO® Star Wars™ - The Complete Saga</td>\n",
       "      <td>2009-11-12</td>\n",
       "      <td>Traveller's Tales;Feral Interactive (Mac)</td>\n",
       "      <td>Windows, Mac</td>\n",
       "      <td>500,000 - 1,000,000</td>\n",
       "      <td>15.49</td>\n",
       "      <td>92.22</td>\n",
       "      <td>Adventure, Full controller support, LEGO, Shared/Split Screen, Single-player, Star Wars, Steam Cloud</td>\n",
       "    </tr>\n",
       "  </tbody>\n",
       "</table>\n",
       "</div>"
      ],
      "text/plain": [
       "     App ID                                  Name Release Date  \\\n",
       "596   32440  LEGO® Star Wars™ - The Complete Saga   2009-11-12   \n",
       "\n",
       "                                     Developer     Platforms  \\\n",
       "596  Traveller's Tales;Feral Interactive (Mac)  Windows, Mac   \n",
       "\n",
       "                  Owners  Price (GBP)  % of Positive Ratings  \\\n",
       "596  500,000 - 1,000,000        15.49                  92.22   \n",
       "\n",
       "                                                                                           Content Labels  \n",
       "596  Adventure, Full controller support, LEGO, Shared/Split Screen, Single-player, Star Wars, Steam Cloud  "
      ]
     },
     "execution_count": 119,
     "metadata": {},
     "output_type": "execute_result"
    }
   ],
   "source": [
    "clean_df[clean_df['Name']=='LEGO® Star Wars™ - The Complete Saga']"
   ]
  },
  {
   "cell_type": "markdown",
   "metadata": {},
   "source": [
    "One issue with my recommender is that names with special characters such as ® or ™ can be difficult for users to type."
   ]
  },
  {
   "cell_type": "code",
   "execution_count": 120,
   "metadata": {
    "scrolled": false
   },
   "outputs": [
    {
     "name": "stdout",
     "output_type": "stream",
     "text": [
      "Name of game you would like recommendations for? LEGO® Star Wars™ - The Complete Saga\n",
      "Finding recommendations for LEGO® Star Wars™ - The Complete Saga (app id 32440):\n",
      "Number of recommendations? 5\n"
     ]
    },
    {
     "data": {
      "text/html": [
       "<div>\n",
       "<style scoped>\n",
       "    .dataframe tbody tr th:only-of-type {\n",
       "        vertical-align: middle;\n",
       "    }\n",
       "\n",
       "    .dataframe tbody tr th {\n",
       "        vertical-align: top;\n",
       "    }\n",
       "\n",
       "    .dataframe thead th {\n",
       "        text-align: right;\n",
       "    }\n",
       "</style>\n",
       "<table border=\"1\" class=\"dataframe\">\n",
       "  <thead>\n",
       "    <tr style=\"text-align: right;\">\n",
       "      <th></th>\n",
       "      <th>App ID</th>\n",
       "      <th>Name</th>\n",
       "      <th>Release Date</th>\n",
       "      <th>Developer</th>\n",
       "      <th>Platforms</th>\n",
       "      <th>Owners</th>\n",
       "      <th>Price (GBP)</th>\n",
       "      <th>% of Positive Ratings</th>\n",
       "      <th>Content Labels</th>\n",
       "      <th>Similarity Score</th>\n",
       "    </tr>\n",
       "  </thead>\n",
       "  <tbody>\n",
       "    <tr>\n",
       "      <th>1</th>\n",
       "      <td>438640</td>\n",
       "      <td>LEGO® STAR WARS™: The Force Awakens</td>\n",
       "      <td>2016-06-27</td>\n",
       "      <td>Traveller's Tales;TT Games;Feral Interactive (Mac)</td>\n",
       "      <td>Windows, Mac</td>\n",
       "      <td>200,000 - 500,000</td>\n",
       "      <td>24.99</td>\n",
       "      <td>81.24</td>\n",
       "      <td>Action, Adventure, Full controller support, LEGO, Shared/Split Screen, Single-player, Star Wars, Steam Achievements</td>\n",
       "      <td>0.801784</td>\n",
       "    </tr>\n",
       "    <tr>\n",
       "      <th>2</th>\n",
       "      <td>267530</td>\n",
       "      <td>The LEGO® Movie - Videogame</td>\n",
       "      <td>2014-02-27</td>\n",
       "      <td>TT Fusion;Traveller's Tales;Feral Interactive (Mac)</td>\n",
       "      <td>Windows</td>\n",
       "      <td>200,000 - 500,000</td>\n",
       "      <td>14.99</td>\n",
       "      <td>82.99</td>\n",
       "      <td>Action, Adventure, Full controller support, LEGO, Shared/Split Screen, Single-player, Steam Achievements, Steam Cloud</td>\n",
       "      <td>0.801784</td>\n",
       "    </tr>\n",
       "    <tr>\n",
       "      <th>3</th>\n",
       "      <td>311770</td>\n",
       "      <td>LEGO® Pirates of the Caribbean: The Video Game</td>\n",
       "      <td>2014-10-06</td>\n",
       "      <td>Traveller's Tales</td>\n",
       "      <td>Windows</td>\n",
       "      <td>50,000 - 100,000</td>\n",
       "      <td>15.49</td>\n",
       "      <td>81.01</td>\n",
       "      <td>Action, Adventure, Full controller support, LEGO, Local Co-op, Shared/Split Screen, Single-player, Steam Cloud</td>\n",
       "      <td>0.801784</td>\n",
       "    </tr>\n",
       "    <tr>\n",
       "      <th>4</th>\n",
       "      <td>21000</td>\n",
       "      <td>LEGO® Batman™: The Videogame</td>\n",
       "      <td>2008-09-29</td>\n",
       "      <td>Traveller's Tales</td>\n",
       "      <td>Windows</td>\n",
       "      <td>200,000 - 500,000</td>\n",
       "      <td>14.99</td>\n",
       "      <td>81.27</td>\n",
       "      <td>Action, Adventure, Full controller support, LEGO, Shared/Split Screen, Single-player</td>\n",
       "      <td>0.771517</td>\n",
       "    </tr>\n",
       "    <tr>\n",
       "      <th>5</th>\n",
       "      <td>204120</td>\n",
       "      <td>LEGO® Harry Potter: Years 5-7</td>\n",
       "      <td>2012-01-05</td>\n",
       "      <td>Traveller's Tales</td>\n",
       "      <td>Windows</td>\n",
       "      <td>200,000 - 500,000</td>\n",
       "      <td>14.99</td>\n",
       "      <td>85.79</td>\n",
       "      <td>Adventure, Full controller support, LEGO, Magic, Shared/Split Screen, Single-player</td>\n",
       "      <td>0.771517</td>\n",
       "    </tr>\n",
       "  </tbody>\n",
       "</table>\n",
       "</div>"
      ],
      "text/plain": [
       "   App ID                                            Name Release Date  \\\n",
       "1  438640             LEGO® STAR WARS™: The Force Awakens   2016-06-27   \n",
       "2  267530                     The LEGO® Movie - Videogame   2014-02-27   \n",
       "3  311770  LEGO® Pirates of the Caribbean: The Video Game   2014-10-06   \n",
       "4   21000                    LEGO® Batman™: The Videogame   2008-09-29   \n",
       "5  204120                   LEGO® Harry Potter: Years 5-7   2012-01-05   \n",
       "\n",
       "                                             Developer     Platforms  \\\n",
       "1   Traveller's Tales;TT Games;Feral Interactive (Mac)  Windows, Mac   \n",
       "2  TT Fusion;Traveller's Tales;Feral Interactive (Mac)       Windows   \n",
       "3                                    Traveller's Tales       Windows   \n",
       "4                                    Traveller's Tales       Windows   \n",
       "5                                    Traveller's Tales       Windows   \n",
       "\n",
       "              Owners  Price (GBP)  % of Positive Ratings  \\\n",
       "1  200,000 - 500,000        24.99                  81.24   \n",
       "2  200,000 - 500,000        14.99                  82.99   \n",
       "3   50,000 - 100,000        15.49                  81.01   \n",
       "4  200,000 - 500,000        14.99                  81.27   \n",
       "5  200,000 - 500,000        14.99                  85.79   \n",
       "\n",
       "                                                                                                          Content Labels  \\\n",
       "1    Action, Adventure, Full controller support, LEGO, Shared/Split Screen, Single-player, Star Wars, Steam Achievements   \n",
       "2  Action, Adventure, Full controller support, LEGO, Shared/Split Screen, Single-player, Steam Achievements, Steam Cloud   \n",
       "3         Action, Adventure, Full controller support, LEGO, Local Co-op, Shared/Split Screen, Single-player, Steam Cloud   \n",
       "4                                   Action, Adventure, Full controller support, LEGO, Shared/Split Screen, Single-player   \n",
       "5                                    Adventure, Full controller support, LEGO, Magic, Shared/Split Screen, Single-player   \n",
       "\n",
       "   Similarity Score  \n",
       "1          0.801784  \n",
       "2          0.801784  \n",
       "3          0.801784  \n",
       "4          0.771517  \n",
       "5          0.771517  "
      ]
     },
     "execution_count": 120,
     "metadata": {},
     "output_type": "execute_result"
    }
   ],
   "source": [
    "content_recommender(mlb_df, clean_df)"
   ]
  },
  {
   "cell_type": "code",
   "execution_count": 121,
   "metadata": {},
   "outputs": [
    {
     "data": {
      "text/plain": [
       "22"
      ]
     },
     "execution_count": 121,
     "metadata": {},
     "output_type": "execute_result"
    }
   ],
   "source": [
    "#number of games with the LEGO tag\n",
    "labels_dict['LEGO']"
   ]
  },
  {
   "cell_type": "markdown",
   "metadata": {},
   "source": [
    "All 5 recommended games are LEGO games. The specificity of tags such as \"LEGO\" and \"Star Wars\" were picked up by the content-based recommender. Only 22 games in the dataset had the 'LEGO' tag. My content-based recommender performed better for games with these niche tags. "
   ]
  },
  {
   "cell_type": "markdown",
   "metadata": {},
   "source": [
    "These two examples illustrated importance of tag specificity in determining game content. Without the right tags to accurately capture game content (with respect to gameplay or subject matter), the recommender will not provide recommendations that meet user expectations. Using data with more specificity in tags or using other methods to generate content features would improve the model's performance."
   ]
  },
  {
   "cell_type": "markdown",
   "metadata": {},
   "source": [
    "This recommender did not have a method to break ties in similarity score. One method of tiebreaking could be to sort games with the same score by the percentage of positive ratings and return recommendations in descending order. "
   ]
  },
  {
   "cell_type": "markdown",
   "metadata": {},
   "source": [
    "# Collaborative Filtering Recommender"
   ]
  },
  {
   "cell_type": "markdown",
   "metadata": {},
   "source": [
    "A collaborative filtering recommender uses user ratings to compare users and predict how a user would rate items that they haven't used before, based on how similar users rated those items. Typically, reviews are a good source of explicit user ratings. However, there are a few issues with using product reviews, espeically for the Steam storefront. First, the model would require a user to review products before it could compare that user to others. Not all users are interested in leaving ratings. Secondly, Steam's review system is a binary Recommended / Not Recommended rating system. This limits rating to one of two states and doesn't gauge how much a user might prefer one game to another. \n",
    "\n",
    "I chose to utilize user playtimes of games as an implicit rating system to create my collaborative recommender. Since users  play their purchased games through Steam's client, Steam is constantly collecting information from the user about how long they play games in their library. Playtime can be viewed as a measure of enjoyment. The more I enjoy a game, the more time I would spend playing it. Conversely, if I try a game and don't like it, I would spend less playtime with it.\n",
    "\n",
    "One issue with using playtime is that different games demand different amounts of playtime. Similar to how books have different page counts, games are designed around estimated completion times. For example, let's say that I have two games: Game A is short and I completed it in 10 hours while Game B is long and took 50 hours to complete. Even if I like Game A enough to play through it multiple times, the total time I spend on Game A might still be less than the time I spend on Game B. Some games, such as MMOs, are designed as live-service products with constant updates that encourage the user to spend hours upon end on the same game. Using absolute playtime as an implicit measure for user rating will favor longer games. Under this framing, every minute spent playing a game has the same value, regardless of which game is being played.\n",
    "\n",
    "Rather than use absolute playtime, I divided user playtimes of games by the highest playtime for each game. This compensates for the differences in game length by bounding each user's playtimes between 0 and 1. A user with a value of 1 has spent more time on the game than any other user. Users with values closer to 1 have spent more time on the game relative to other users. One issue with this system is that low time spent is interpreted as a low rating. A player who has just started a game might really enjoy it, but this standardized implicit rating interprets their lower playtime as dissatisfaction. However, one business case is that we could assume that users are shopping for new games because they want to play something other than their owned library. "
   ]
  },
  {
   "cell_type": "markdown",
   "metadata": {},
   "source": [
    "### Steam User Libraries - Steam Web API"
   ]
  },
  {
   "cell_type": "markdown",
   "metadata": {},
   "source": [
    "I used Steam's Web API service to collect information on users and their personal libraries of games. A Web API key is required to use Steam's Web API service. You need to have a Steam Account in order to request a Web API key. "
   ]
  },
  {
   "cell_type": "markdown",
   "metadata": {},
   "source": [
    "[Here](https://steamcommunity.com/dev) is a general overview of how to access Steam's Web API. This [link](https://developer.valvesoftware.com/wiki/Steam_Web_API) has more documentation on different types of API calls and what kinds of information is available."
   ]
  },
  {
   "cell_type": "markdown",
   "metadata": {},
   "source": [
    "I used the GetOwnedGames API to return a list of games owned by a player along with playtime information for those games. The API returned data in the form of a JSON object."
   ]
  },
  {
   "cell_type": "markdown",
   "metadata": {},
   "source": [
    "One difficulty in acquiring player data through Steam's Web API is that the API call requires the Steam ID of the player. I was unable to find a public source of Steam IDs. I adressed this problem by randomly generating a list of possible Steam IDs (using my knowledge of Steam ID format) to make API calls with. Since Steam IDs are generated in chronological order (later users have 'larger' Steam IDs), the data I collected is a subset of total Steam users and may display trends that are not indicative of the larger Steam userbase."
   ]
  },
  {
   "cell_type": "code",
   "execution_count": 122,
   "metadata": {},
   "outputs": [
    {
     "data": {
      "text/plain": [
       "[76561198534895718,\n",
       " 76561198199900595,\n",
       " 76561198862061404,\n",
       " 76561198787846414,\n",
       " 76561198996406378,\n",
       " 76561198127521863,\n",
       " 76561198423734972,\n",
       " 76561198415968276,\n",
       " 76561198670094950,\n",
       " 76561198841095289]"
      ]
     },
     "execution_count": 122,
     "metadata": {},
     "output_type": "execute_result"
    }
   ],
   "source": [
    "#generating random steam ids\n",
    "rng = np.random.RandomState(42)\n",
    "random_ids = rng.randint(0, 999_000_000, size=200_000)\n",
    "random_ids = random_ids.tolist()\n",
    "#my own Steam ID starts with 76_561_199_###_###_###\n",
    "random_ids = [76_561_198_000_000_000 + i for i in random_ids]\n",
    "random_ids[:10]"
   ]
  },
  {
   "cell_type": "markdown",
   "metadata": {},
   "source": [
    "Another challenge was user privacy settings. A user's profile must be publicly visible in order for the API to return information. Since profiles are set to private by default, many of my API calls did not return information. This limited the number of user profiles I was able to collect."
   ]
  },
  {
   "cell_type": "markdown",
   "metadata": {},
   "source": [
    "I wrote several functions to make API calls from a Jupyter notebook."
   ]
  },
  {
   "cell_type": "code",
   "execution_count": 123,
   "metadata": {},
   "outputs": [],
   "source": [
    "def make_api_call(account_list):\n",
    "    '''\n",
    "    Attempts to make API calls using IDs provided,\n",
    "    stores results in a dictionary with each account as a key and the contents of the api call as the value\n",
    "    \n",
    "    Arguments:\n",
    "    account_list: a list of possible Steam User IDs\n",
    "    '''\n",
    "    users = {}\n",
    "    for account in account_list:\n",
    "        api_call = f'http://api.steampowered.com/IPlayerService/GetOwnedGames/v0001/?key={key}&steamid={account}&include_appinfo=1&format=json'\n",
    "        user_data = requests.get(api_call).json()\n",
    "        users[account] = user_data\n",
    "    return users"
   ]
  },
  {
   "cell_type": "markdown",
   "metadata": {},
   "source": [
    "The Steam Web API URL requires an API key. I saved my API key in a text file in my local repository. For privacy reasons, I will not be providing an API key in my project repository."
   ]
  },
  {
   "cell_type": "code",
   "execution_count": 124,
   "metadata": {},
   "outputs": [],
   "source": [
    "#key = './SteamWebAPIKey.txt'\n",
    "#with open(key, 'r') as file:\n",
    "    #key = file.read()"
   ]
  },
  {
   "cell_type": "markdown",
   "metadata": {},
   "source": [
    "Occasionally, the API would return no user data, either because the user was private or there was an issue with the API call. I wrote a function to remove empty dictionaries from the API call results."
   ]
  },
  {
   "cell_type": "code",
   "execution_count": 125,
   "metadata": {},
   "outputs": [],
   "source": [
    "def clean_api_data(api_dict):\n",
    "    '''\n",
    "    Takes results of API calls for various users and adds results to a new dictionary only if the result was not an \n",
    "    empty dictionary\n",
    "    \n",
    "    Arguments:\n",
    "    api_dict: list of dictionaries containing user information from the API calls \n",
    "    '''\n",
    "    empty_dict = {}\n",
    "    account_dict = {}\n",
    "    for k in api_dict.keys():\n",
    "        if api_dict[k]['response'] != empty_dict:\n",
    "            if api_dict[k]['response']['game_count'] != 0:\n",
    "                #keys are set as strings to match json files when read in\n",
    "                account_dict[str(k)] = api_dict[k]['response']\n",
    "    return account_dict"
   ]
  },
  {
   "cell_type": "code",
   "execution_count": 126,
   "metadata": {},
   "outputs": [],
   "source": [
    "def append_json(clean_dict, filename):\n",
    "    '''\n",
    "    Function to open a json file and append the API call results \n",
    "    \n",
    "    Arguments:\n",
    "    clean_dict: a dictionary containing responses from the API call that were not empty\n",
    "    filename: name JSON file to append to\n",
    "    '''\n",
    "    with open(filename, 'r') as file:\n",
    "        saved_players = json.load(file)\n",
    "    for k,v in clean_dict.items():\n",
    "        saved_players[k] = v\n",
    "    with open(filename, 'w') as file:\n",
    "        json.dump(saved_players, file)"
   ]
  },
  {
   "cell_type": "markdown",
   "metadata": {},
   "source": [
    "The data collected was stored as a JSON file and is available in the data folder of this project's GitHub repository."
   ]
  },
  {
   "cell_type": "code",
   "execution_count": 127,
   "metadata": {},
   "outputs": [],
   "source": [
    "f = './data/Steam_API_Owned_Games.json'\n",
    "with open(f, 'r') as file:\n",
    "    saved_players = json.load(file)"
   ]
  },
  {
   "cell_type": "code",
   "execution_count": 128,
   "metadata": {},
   "outputs": [
    {
     "data": {
      "text/plain": [
       "3311"
      ]
     },
     "execution_count": 128,
     "metadata": {},
     "output_type": "execute_result"
    }
   ],
   "source": [
    "len(saved_players)"
   ]
  },
  {
   "cell_type": "markdown",
   "metadata": {},
   "source": [
    "The data contains Steam library information for a total of 3,311 users."
   ]
  },
  {
   "cell_type": "code",
   "execution_count": 129,
   "metadata": {},
   "outputs": [
    {
     "data": {
      "text/plain": [
       "{'game_count': 24,\n",
       " 'games': [{'appid': 4000,\n",
       "   'name': \"Garry's Mod\",\n",
       "   'playtime_forever': 2648,\n",
       "   'img_icon_url': '4a6f25cfa2426445d0d9d6e233408de4d371ce8b',\n",
       "   'has_community_visible_stats': True,\n",
       "   'playtime_windows_forever': 0,\n",
       "   'playtime_mac_forever': 0,\n",
       "   'playtime_linux_forever': 0,\n",
       "   'rtime_last_played': 1559592042},\n",
       "  {'appid': 200210,\n",
       "   'name': 'Realm of the Mad God Exalt',\n",
       "   'playtime_forever': 67,\n",
       "   'img_icon_url': '76c62602486e58f9501e09e7e8f189e86823e8d5',\n",
       "   'has_community_visible_stats': True,\n",
       "   'playtime_windows_forever': 0,\n",
       "   'playtime_mac_forever': 0,\n",
       "   'playtime_linux_forever': 0,\n",
       "   'rtime_last_played': 1565631924},\n",
       "  {'appid': 253710,\n",
       "   'name': 'theHunter Classic',\n",
       "   'playtime_forever': 0,\n",
       "   'img_icon_url': '4a91dc770675e559038a4f46e0daa4f8fa42ee30',\n",
       "   'has_community_visible_stats': True,\n",
       "   'playtime_windows_forever': 0,\n",
       "   'playtime_mac_forever': 0,\n",
       "   'playtime_linux_forever': 0,\n",
       "   'rtime_last_played': 0},\n",
       "  {'appid': 252490,\n",
       "   'name': 'Rust',\n",
       "   'playtime_forever': 307823,\n",
       "   'img_icon_url': '820be4782639f9c4b64fa3ca7e6c26a95ae4fd1c',\n",
       "   'has_community_visible_stats': True,\n",
       "   'playtime_windows_forever': 162407,\n",
       "   'playtime_mac_forever': 0,\n",
       "   'playtime_linux_forever': 0,\n",
       "   'rtime_last_played': 1655845492},\n",
       "  {'appid': 700580,\n",
       "   'name': 'Rust - Staging Branch',\n",
       "   'playtime_forever': 0,\n",
       "   'img_icon_url': '820be4782639f9c4b64fa3ca7e6c26a95ae4fd1c',\n",
       "   'has_community_visible_stats': True,\n",
       "   'playtime_windows_forever': 0,\n",
       "   'playtime_mac_forever': 0,\n",
       "   'playtime_linux_forever': 0,\n",
       "   'rtime_last_played': 0,\n",
       "   'capsule_filename': 'portrait.png'},\n",
       "  {'appid': 252950,\n",
       "   'name': 'Rocket League',\n",
       "   'playtime_forever': 57178,\n",
       "   'img_icon_url': '9ad6dd3d173523354385955b5fb2af87639c4163',\n",
       "   'has_community_visible_stats': True,\n",
       "   'playtime_windows_forever': 40737,\n",
       "   'playtime_mac_forever': 0,\n",
       "   'playtime_linux_forever': 0,\n",
       "   'rtime_last_played': 1641660897},\n",
       "  {'appid': 282660,\n",
       "   'name': 'Easy eSports',\n",
       "   'playtime_forever': 156,\n",
       "   'img_icon_url': '38a313d2413d5c679dcf41e169cc4d815765d775',\n",
       "   'playtime_windows_forever': 156,\n",
       "   'playtime_mac_forever': 0,\n",
       "   'playtime_linux_forever': 0,\n",
       "   'rtime_last_played': 1587502172,\n",
       "   'capsule_filename': 'portrait.png'},\n",
       "  {'appid': 301520,\n",
       "   'name': 'Robocraft',\n",
       "   'playtime_forever': 304,\n",
       "   'img_icon_url': '25b4f8bc206a7768638974d991b12d3943729d49',\n",
       "   'has_community_visible_stats': True,\n",
       "   'playtime_windows_forever': 0,\n",
       "   'playtime_mac_forever': 0,\n",
       "   'playtime_linux_forever': 0,\n",
       "   'rtime_last_played': 1497108545},\n",
       "  {'appid': 291480,\n",
       "   'name': 'Warface',\n",
       "   'playtime_forever': 1173,\n",
       "   'img_icon_url': 'fb8ff6e843ac7020086431da50a8b0a5d31c7bcc',\n",
       "   'has_community_visible_stats': True,\n",
       "   'playtime_windows_forever': 0,\n",
       "   'playtime_mac_forever': 0,\n",
       "   'playtime_linux_forever': 0,\n",
       "   'rtime_last_played': 1481927863},\n",
       "  {'appid': 227940,\n",
       "   'name': 'Heroes & Generals',\n",
       "   'playtime_forever': 220,\n",
       "   'img_icon_url': '64f09c15e558464a40ced00a9ef35ed13542e144',\n",
       "   'playtime_windows_forever': 0,\n",
       "   'playtime_mac_forever': 0,\n",
       "   'playtime_linux_forever': 0,\n",
       "   'rtime_last_played': 1473972302},\n",
       "  {'appid': 730,\n",
       "   'name': 'Counter-Strike: Global Offensive',\n",
       "   'playtime_forever': 98149,\n",
       "   'img_icon_url': '69f7ebe2735c366c65c0b33dae00e12dc40edbe4',\n",
       "   'has_community_visible_stats': True,\n",
       "   'playtime_windows_forever': 15877,\n",
       "   'playtime_mac_forever': 0,\n",
       "   'playtime_linux_forever': 0,\n",
       "   'rtime_last_played': 1655473644},\n",
       "  {'appid': 397900,\n",
       "   'name': 'Business Tour - Online Multiplayer Board Game',\n",
       "   'playtime_forever': 1748,\n",
       "   'img_icon_url': 'b6ce52a576e99f54c5d18f675540b9c3ee70ed47',\n",
       "   'has_community_visible_stats': True,\n",
       "   'playtime_windows_forever': 821,\n",
       "   'playtime_mac_forever': 0,\n",
       "   'playtime_linux_forever': 0,\n",
       "   'rtime_last_played': 1617828738},\n",
       "  {'appid': 299360,\n",
       "   'name': 'Block N Load',\n",
       "   'playtime_forever': 93,\n",
       "   'img_icon_url': '7b36dde1b5631c436a1914c9b2a55672e4e1fb51',\n",
       "   'has_community_visible_stats': True,\n",
       "   'playtime_windows_forever': 13,\n",
       "   'playtime_mac_forever': 0,\n",
       "   'playtime_linux_forever': 0,\n",
       "   'rtime_last_played': 1631226855,\n",
       "   'capsule_filename': 'portrait.png'},\n",
       "  {'appid': 447020,\n",
       "   'name': 'Farming Simulator 17',\n",
       "   'playtime_forever': 3734,\n",
       "   'img_icon_url': '85bc1e728692f6c9e97553757e19332cedd71c21',\n",
       "   'has_community_visible_stats': True,\n",
       "   'playtime_windows_forever': 0,\n",
       "   'playtime_mac_forever': 0,\n",
       "   'playtime_linux_forever': 0,\n",
       "   'rtime_last_played': 1537725182},\n",
       "  {'appid': 550650,\n",
       "   'name': 'Black Squad',\n",
       "   'playtime_forever': 5,\n",
       "   'img_icon_url': '213a736d8c5b75998b671de25e6621d1e7bc122a',\n",
       "   'has_community_visible_stats': True,\n",
       "   'playtime_windows_forever': 0,\n",
       "   'playtime_mac_forever': 0,\n",
       "   'playtime_linux_forever': 0,\n",
       "   'rtime_last_played': 1523648425},\n",
       "  {'appid': 506540,\n",
       "   'name': 'Last Man Standing',\n",
       "   'playtime_forever': 20,\n",
       "   'img_icon_url': 'dbc9c2863f6b352c91fa6b347397320ea5ef19be',\n",
       "   'playtime_windows_forever': 0,\n",
       "   'playtime_mac_forever': 0,\n",
       "   'playtime_linux_forever': 0,\n",
       "   'rtime_last_played': 1502793089,\n",
       "   'capsule_filename': 'portrait.png'},\n",
       "  {'appid': 359550,\n",
       "   'name': \"Tom Clancy's Rainbow Six Siege\",\n",
       "   'playtime_forever': 1579,\n",
       "   'img_icon_url': '43a47cd1ff04838e19d829559544c88715ed74cd',\n",
       "   'playtime_windows_forever': 28,\n",
       "   'playtime_mac_forever': 0,\n",
       "   'playtime_linux_forever': 0,\n",
       "   'rtime_last_played': 1571844155},\n",
       "  {'appid': 623990,\n",
       "   'name': \"Tom Clancy's Rainbow Six Siege - Test Server\",\n",
       "   'playtime_forever': 0,\n",
       "   'img_icon_url': '20deaf466474f76f2ffdb345fe56f40fe3af74c0',\n",
       "   'playtime_windows_forever': 0,\n",
       "   'playtime_mac_forever': 0,\n",
       "   'playtime_linux_forever': 0,\n",
       "   'rtime_last_played': 0},\n",
       "  {'appid': 787860,\n",
       "   'name': 'Farming Simulator 19',\n",
       "   'playtime_forever': 13266,\n",
       "   'img_icon_url': '2e908f4aa7fecbe9a105094e0b8e63b3a1f2a446',\n",
       "   'has_community_visible_stats': True,\n",
       "   'playtime_windows_forever': 11625,\n",
       "   'playtime_mac_forever': 0,\n",
       "   'playtime_linux_forever': 0,\n",
       "   'rtime_last_played': 1633186119},\n",
       "  {'appid': 582010,\n",
       "   'name': 'Monster Hunter: World',\n",
       "   'playtime_forever': 41,\n",
       "   'img_icon_url': '6ec147f2d423f435e15eb79b3d82f771913de634',\n",
       "   'has_community_visible_stats': True,\n",
       "   'playtime_windows_forever': 0,\n",
       "   'playtime_mac_forever': 0,\n",
       "   'playtime_linux_forever': 0,\n",
       "   'rtime_last_played': 1554567167},\n",
       "  {'appid': 1080110,\n",
       "   'name': 'F1 2020',\n",
       "   'playtime_forever': 166,\n",
       "   'img_icon_url': 'ef3c5b3fe1310b60f7e2b7efc1b592284a1c7d2c',\n",
       "   'has_community_visible_stats': True,\n",
       "   'playtime_windows_forever': 166,\n",
       "   'playtime_mac_forever': 0,\n",
       "   'playtime_linux_forever': 0,\n",
       "   'rtime_last_played': 1617971200},\n",
       "  {'appid': 1248130,\n",
       "   'name': 'Farming Simulator 22',\n",
       "   'playtime_forever': 9443,\n",
       "   'img_icon_url': 'ed60ecbebf2754934c023553e0485919bc44ccbb',\n",
       "   'has_community_visible_stats': True,\n",
       "   'playtime_windows_forever': 9443,\n",
       "   'playtime_mac_forever': 0,\n",
       "   'playtime_linux_forever': 0,\n",
       "   'rtime_last_played': 1654090223},\n",
       "  {'appid': 823130,\n",
       "   'name': 'Totally Accurate Battlegrounds',\n",
       "   'playtime_forever': 199,\n",
       "   'img_icon_url': '920902c516d435c3d9a6c5ef92e3cd4372f9314b',\n",
       "   'playtime_windows_forever': 199,\n",
       "   'playtime_mac_forever': 0,\n",
       "   'playtime_linux_forever': 0,\n",
       "   'rtime_last_played': 1636493310},\n",
       "  {'appid': 1517290,\n",
       "   'name': 'Battlefield™ 2042',\n",
       "   'playtime_forever': 3880,\n",
       "   'img_icon_url': 'dc805cd05c36a1b26f4eb57b64301e6708e20776',\n",
       "   'has_community_visible_stats': True,\n",
       "   'playtime_windows_forever': 3880,\n",
       "   'playtime_mac_forever': 0,\n",
       "   'playtime_linux_forever': 0,\n",
       "   'rtime_last_played': 1648901916}]}"
      ]
     },
     "execution_count": 129,
     "metadata": {},
     "output_type": "execute_result"
    }
   ],
   "source": [
    "first_user = list(saved_players.keys())[0]\n",
    "saved_players[first_user]"
   ]
  },
  {
   "cell_type": "code",
   "execution_count": 130,
   "metadata": {},
   "outputs": [
    {
     "data": {
      "text/plain": [
       "int"
      ]
     },
     "execution_count": 130,
     "metadata": {},
     "output_type": "execute_result"
    }
   ],
   "source": [
    "#datatype of value mapped to game_count\n",
    "type(saved_players[first_user]['game_count'])"
   ]
  },
  {
   "cell_type": "code",
   "execution_count": 131,
   "metadata": {},
   "outputs": [
    {
     "data": {
      "text/plain": [
       "3311"
      ]
     },
     "execution_count": 131,
     "metadata": {},
     "output_type": "execute_result"
    }
   ],
   "source": [
    "len(saved_players)"
   ]
  },
  {
   "cell_type": "markdown",
   "metadata": {},
   "source": [
    "Each value in the JSON file is a dictionary with two keys: 'game_count' and 'games'. \n",
    "\n",
    "The value mapped to 'game_count' is an integer describing the number of games owned by that user. \n",
    "\n",
    "The value mapped to 'games' is a list of dictionaries. Each dictionary in this list describes a game in the user's library and contains the user's playtime information recorded in minutes. Playtime is split across platforms (Windows, Mac, Linux) but also includes a value for 'playtime_forever'. I noticed that while platform playtimes did not add up to 'playtime_forever', the value of 'playtime_forever' was always greater than or equal to the sum of platform playtimes. This meant that 'playtime_forever' was the value I would use to measure playtime per game per user.\n",
    "\n",
    "For some games, the total playtime was 0. This indicated that the user owns the game in their library, but has not played it. This is useful information for the recommender system since I didn't want to recommend a game to a user if they already own it. However, there were some users in this data with no playtime recorded for any game. I removed them from the data since this meant they essentially had no ratings to provide to the recommender."
   ]
  },
  {
   "cell_type": "markdown",
   "metadata": {},
   "source": [
    "Additionally, I removed users with fewer than 5 games played as well as games played by fewer than 5 users. Collaborative recommenders have a difficult time comparing users with sparse ratings. The \"cold-start problem\" is an issue for collaborative-filtering recommenders where users with no rating history cannot be compared since there is no data to use in the comparisons. "
   ]
  },
  {
   "cell_type": "markdown",
   "metadata": {},
   "source": [
    "I separated the json data into three dictionaries.\n",
    "\n",
    "Users dictionary: \n",
    "* Contains user ID as the key\n",
    "* Value is another dictionary with appid of library games as keys and 'playtime_forever' for each game as values\n",
    "* Does not contain games that the user has 0 playtime on\n",
    "\n",
    "Games dictionary:\n",
    "* AppID of games as keys\n",
    "* Value is another dictionary with two keys\n",
    "    * 'name' : the name of the game\n",
    "    * 'playtimes' : playtime values for each user who has played the game\n",
    "    \n",
    "Owned dictionary:\n",
    "* Identical to Users dictionary except it contains all games of the users regardless of playtime"
   ]
  },
  {
   "cell_type": "code",
   "execution_count": 132,
   "metadata": {},
   "outputs": [],
   "source": [
    "#setting up users, games, and owned dictionaries\n",
    "users_dict = {}\n",
    "games_dict = {}\n",
    "owned_dict = {}\n",
    "#user is the account id as a string\n",
    "#stats is a dictionary containing information of playtime for each game in the user's Steam library\n",
    "for user, stats in saved_players.items():\n",
    "    library_dict = {}\n",
    "    library_owned = {}\n",
    "    #user_library is a list of dictionaries with each dictionary corresponding to a game played\n",
    "    user_library = stats['games']\n",
    "    #each dictionary in this list contains data on a game played for the user\n",
    "    for game in user_library:\n",
    "        library_owned[game['appid']] = game['playtime_forever']\n",
    "        #ignore games with 0 playtime\n",
    "        if game['playtime_forever'] > 0:\n",
    "            #store the playtime (minutes) for each game into the library dict for a user\n",
    "            library_dict[game['appid']] = game['playtime_forever']\n",
    "            #store the game identifiers and playtime in the games_dict\n",
    "            if game['appid'] not in games_dict:\n",
    "                games_dict[game['appid']] = {'name': game['name'], 'playtimes': [game['playtime_forever']]}\n",
    "            else:\n",
    "                games_dict[game['appid']]['playtimes'].append(game['playtime_forever'])\n",
    "    #exclude users who have fewer than 5 games played\n",
    "    if len(library_dict) >= 5:\n",
    "        users_dict[user] = library_dict\n",
    "    #owned_dict includes all users and all games\n",
    "    owned_dict[user] = library_owned\n",
    "        \n",
    "#iterate over games_dict and identify games with fewer than 5 users\n",
    "games_few_users = []\n",
    "for key, value in games_dict.items():\n",
    "    if len(value['playtimes']) < 5:\n",
    "        games_few_users.append(key)"
   ]
  },
  {
   "cell_type": "code",
   "execution_count": 133,
   "metadata": {},
   "outputs": [
    {
     "data": {
      "text/plain": [
       "1661"
      ]
     },
     "execution_count": 133,
     "metadata": {},
     "output_type": "execute_result"
    }
   ],
   "source": [
    "len(users_dict)"
   ]
  },
  {
   "cell_type": "markdown",
   "metadata": {},
   "source": [
    "There were only 1,661 players in the dataset who had played 5 or more games."
   ]
  },
  {
   "cell_type": "code",
   "execution_count": 134,
   "metadata": {},
   "outputs": [
    {
     "data": {
      "text/plain": [
       "9099"
      ]
     },
     "execution_count": 134,
     "metadata": {},
     "output_type": "execute_result"
    }
   ],
   "source": [
    "len(games_dict)"
   ]
  },
  {
   "cell_type": "markdown",
   "metadata": {},
   "source": [
    "In total, there were 9,099 games in the dataset across the libraries of all the users."
   ]
  },
  {
   "cell_type": "code",
   "execution_count": 135,
   "metadata": {},
   "outputs": [
    {
     "data": {
      "text/plain": [
       "3311"
      ]
     },
     "execution_count": 135,
     "metadata": {},
     "output_type": "execute_result"
    }
   ],
   "source": [
    "len(owned_dict)"
   ]
  },
  {
   "cell_type": "markdown",
   "metadata": {},
   "source": [
    "owned_dict contains all users and all games in their libraries, regardless of playtime. This dictionary was used to check recommendation results against user libraries to see if a recommended game was already owned."
   ]
  },
  {
   "cell_type": "code",
   "execution_count": 136,
   "metadata": {},
   "outputs": [
    {
     "data": {
      "text/plain": [
       "24"
      ]
     },
     "execution_count": 136,
     "metadata": {},
     "output_type": "execute_result"
    }
   ],
   "source": [
    "len(owned_dict[first_user])"
   ]
  },
  {
   "cell_type": "code",
   "execution_count": 137,
   "metadata": {},
   "outputs": [
    {
     "data": {
      "text/plain": [
       "21"
      ]
     },
     "execution_count": 137,
     "metadata": {},
     "output_type": "execute_result"
    }
   ],
   "source": [
    "len(users_dict[first_user])"
   ]
  },
  {
   "cell_type": "code",
   "execution_count": 138,
   "metadata": {},
   "outputs": [
    {
     "data": {
      "text/plain": [
       "{'name': 'Among Us',\n",
       " 'playtimes': [1982,\n",
       "  52,\n",
       "  1777,\n",
       "  1982,\n",
       "  1260,\n",
       "  1710,\n",
       "  734,\n",
       "  2930,\n",
       "  3435,\n",
       "  1996,\n",
       "  843,\n",
       "  707,\n",
       "  67,\n",
       "  113,\n",
       "  3,\n",
       "  2903,\n",
       "  154,\n",
       "  117,\n",
       "  5479,\n",
       "  2908,\n",
       "  792,\n",
       "  1743,\n",
       "  784,\n",
       "  919,\n",
       "  2713,\n",
       "  312,\n",
       "  570,\n",
       "  3598,\n",
       "  600,\n",
       "  236,\n",
       "  186,\n",
       "  2327,\n",
       "  506,\n",
       "  118,\n",
       "  1966,\n",
       "  253,\n",
       "  223,\n",
       "  1231,\n",
       "  4608,\n",
       "  87,\n",
       "  1013,\n",
       "  364,\n",
       "  2415,\n",
       "  4,\n",
       "  16,\n",
       "  1171,\n",
       "  134,\n",
       "  746,\n",
       "  137,\n",
       "  584,\n",
       "  137,\n",
       "  3110,\n",
       "  1767,\n",
       "  1457,\n",
       "  115,\n",
       "  6004,\n",
       "  543,\n",
       "  497,\n",
       "  117,\n",
       "  1915,\n",
       "  4431,\n",
       "  427,\n",
       "  760,\n",
       "  1898,\n",
       "  50,\n",
       "  1066,\n",
       "  1120,\n",
       "  4685,\n",
       "  615,\n",
       "  2832,\n",
       "  8347,\n",
       "  1201,\n",
       "  3549,\n",
       "  869,\n",
       "  4587,\n",
       "  1653,\n",
       "  1051,\n",
       "  2010,\n",
       "  3121,\n",
       "  58,\n",
       "  758,\n",
       "  1369,\n",
       "  1847,\n",
       "  86,\n",
       "  1865,\n",
       "  556,\n",
       "  2117,\n",
       "  563,\n",
       "  475,\n",
       "  99,\n",
       "  970,\n",
       "  1132,\n",
       "  269,\n",
       "  2365,\n",
       "  863,\n",
       "  377,\n",
       "  244,\n",
       "  38,\n",
       "  27010,\n",
       "  2828,\n",
       "  916,\n",
       "  340,\n",
       "  610,\n",
       "  25,\n",
       "  754,\n",
       "  1773,\n",
       "  1063,\n",
       "  982,\n",
       "  4881,\n",
       "  185,\n",
       "  1852,\n",
       "  52,\n",
       "  577,\n",
       "  3618,\n",
       "  874,\n",
       "  481,\n",
       "  1590,\n",
       "  3240,\n",
       "  833,\n",
       "  289,\n",
       "  13399,\n",
       "  656,\n",
       "  3425,\n",
       "  84,\n",
       "  142,\n",
       "  767,\n",
       "  712,\n",
       "  390,\n",
       "  406,\n",
       "  1946,\n",
       "  766,\n",
       "  446,\n",
       "  286,\n",
       "  1886,\n",
       "  1942,\n",
       "  618,\n",
       "  3212,\n",
       "  74,\n",
       "  1439,\n",
       "  161,\n",
       "  437,\n",
       "  109,\n",
       "  167,\n",
       "  1833,\n",
       "  354,\n",
       "  116,\n",
       "  131,\n",
       "  1591,\n",
       "  453,\n",
       "  1227,\n",
       "  64,\n",
       "  720,\n",
       "  57,\n",
       "  715,\n",
       "  3403,\n",
       "  9103,\n",
       "  28,\n",
       "  66,\n",
       "  3151,\n",
       "  36,\n",
       "  4751,\n",
       "  294,\n",
       "  19,\n",
       "  1,\n",
       "  372,\n",
       "  411,\n",
       "  38,\n",
       "  397,\n",
       "  705,\n",
       "  530,\n",
       "  654,\n",
       "  1237,\n",
       "  331,\n",
       "  1174,\n",
       "  214,\n",
       "  14296,\n",
       "  363,\n",
       "  154,\n",
       "  30,\n",
       "  1345,\n",
       "  1584,\n",
       "  4961,\n",
       "  658,\n",
       "  6345,\n",
       "  300,\n",
       "  6549,\n",
       "  408,\n",
       "  2492,\n",
       "  2298,\n",
       "  3922,\n",
       "  332,\n",
       "  264,\n",
       "  594,\n",
       "  1142,\n",
       "  287,\n",
       "  903,\n",
       "  524,\n",
       "  1932,\n",
       "  550,\n",
       "  1006,\n",
       "  833,\n",
       "  1588,\n",
       "  802,\n",
       "  11863,\n",
       "  145,\n",
       "  1308,\n",
       "  1041,\n",
       "  218,\n",
       "  504,\n",
       "  2207,\n",
       "  1279,\n",
       "  1029,\n",
       "  5,\n",
       "  1180,\n",
       "  146,\n",
       "  1428,\n",
       "  1320,\n",
       "  21,\n",
       "  2531,\n",
       "  1073,\n",
       "  706,\n",
       "  860,\n",
       "  706,\n",
       "  45,\n",
       "  718,\n",
       "  159,\n",
       "  176,\n",
       "  277,\n",
       "  111,\n",
       "  3734,\n",
       "  1583,\n",
       "  2000,\n",
       "  755,\n",
       "  22,\n",
       "  1830,\n",
       "  396,\n",
       "  3365,\n",
       "  114,\n",
       "  3147,\n",
       "  492,\n",
       "  3548,\n",
       "  1303,\n",
       "  291,\n",
       "  99,\n",
       "  812,\n",
       "  804,\n",
       "  195,\n",
       "  2117,\n",
       "  1340,\n",
       "  2019,\n",
       "  1,\n",
       "  1001,\n",
       "  607,\n",
       "  19,\n",
       "  381,\n",
       "  75,\n",
       "  1608,\n",
       "  2720,\n",
       "  1050,\n",
       "  986,\n",
       "  2563,\n",
       "  62,\n",
       "  274,\n",
       "  98,\n",
       "  729,\n",
       "  389,\n",
       "  88,\n",
       "  147,\n",
       "  4067,\n",
       "  394,\n",
       "  1695,\n",
       "  816,\n",
       "  345,\n",
       "  178,\n",
       "  8186,\n",
       "  461,\n",
       "  2842,\n",
       "  6,\n",
       "  102,\n",
       "  4879,\n",
       "  1049,\n",
       "  1847,\n",
       "  91,\n",
       "  192,\n",
       "  294,\n",
       "  786,\n",
       "  1147,\n",
       "  1355,\n",
       "  459,\n",
       "  2281,\n",
       "  582,\n",
       "  951,\n",
       "  472,\n",
       "  269,\n",
       "  122,\n",
       "  419,\n",
       "  5676,\n",
       "  187,\n",
       "  285,\n",
       "  1816,\n",
       "  2324,\n",
       "  680,\n",
       "  2802,\n",
       "  1742,\n",
       "  439,\n",
       "  278,\n",
       "  68,\n",
       "  239,\n",
       "  935,\n",
       "  15,\n",
       "  1261,\n",
       "  3695,\n",
       "  718,\n",
       "  1300,\n",
       "  1697,\n",
       "  320,\n",
       "  1583,\n",
       "  307,\n",
       "  815,\n",
       "  1796,\n",
       "  28,\n",
       "  807,\n",
       "  4355,\n",
       "  184,\n",
       "  1292,\n",
       "  444,\n",
       "  1779,\n",
       "  11,\n",
       "  263,\n",
       "  41,\n",
       "  1704,\n",
       "  873,\n",
       "  3441,\n",
       "  752,\n",
       "  970,\n",
       "  1409,\n",
       "  5,\n",
       "  391,\n",
       "  695,\n",
       "  5982,\n",
       "  750,\n",
       "  178,\n",
       "  6763,\n",
       "  122,\n",
       "  825,\n",
       "  2362,\n",
       "  2614,\n",
       "  705,\n",
       "  67,\n",
       "  294,\n",
       "  154,\n",
       "  926,\n",
       "  296,\n",
       "  337,\n",
       "  331,\n",
       "  1654,\n",
       "  2304,\n",
       "  5451,\n",
       "  1947,\n",
       "  5117,\n",
       "  484,\n",
       "  217,\n",
       "  1964,\n",
       "  497,\n",
       "  522,\n",
       "  189,\n",
       "  1804,\n",
       "  12458,\n",
       "  170,\n",
       "  1086,\n",
       "  521,\n",
       "  324,\n",
       "  2227,\n",
       "  9815,\n",
       "  100,\n",
       "  9,\n",
       "  1717,\n",
       "  50,\n",
       "  3817,\n",
       "  127,\n",
       "  354,\n",
       "  144,\n",
       "  73,\n",
       "  2179,\n",
       "  351,\n",
       "  1207,\n",
       "  39,\n",
       "  21,\n",
       "  1489,\n",
       "  1147,\n",
       "  426,\n",
       "  425,\n",
       "  19,\n",
       "  834,\n",
       "  2708,\n",
       "  168,\n",
       "  1231,\n",
       "  4054,\n",
       "  1677,\n",
       "  578,\n",
       "  1032,\n",
       "  1828,\n",
       "  2524,\n",
       "  869]}"
      ]
     },
     "execution_count": 138,
     "metadata": {},
     "output_type": "execute_result"
    }
   ],
   "source": [
    "#example of games_dict structure\n",
    "games_dict[945360]"
   ]
  },
  {
   "cell_type": "code",
   "execution_count": 139,
   "metadata": {},
   "outputs": [
    {
     "data": {
      "text/plain": [
       "6130"
      ]
     },
     "execution_count": 139,
     "metadata": {},
     "output_type": "execute_result"
    }
   ],
   "source": [
    "len(games_few_users)"
   ]
  },
  {
   "cell_type": "markdown",
   "metadata": {},
   "source": [
    "There were 6,130 games in the dataset that have been played by fewer than 5 users. "
   ]
  },
  {
   "cell_type": "code",
   "execution_count": 140,
   "metadata": {},
   "outputs": [
    {
     "data": {
      "text/plain": [
       "{'name': 'Stolen Realm', 'playtimes': [870, 995]}"
      ]
     },
     "execution_count": 140,
     "metadata": {},
     "output_type": "execute_result"
    }
   ],
   "source": [
    "#example of a game with <5 users\n",
    "games_dict[games_few_users[10]]"
   ]
  },
  {
   "cell_type": "code",
   "execution_count": 141,
   "metadata": {},
   "outputs": [],
   "source": [
    "#rebuild users_dict to remove games with few users \n",
    "users_dict = {}\n",
    "for user, stats in saved_players.items():\n",
    "    library_dict = {}\n",
    "    #user_library is a list of dictionaries with each dictionary corresponding to a game played\n",
    "    user_library = stats['games']\n",
    "    #each dictionary in this list contains data on a game played for the user\n",
    "    for game in user_library:\n",
    "        #ignore games with 0 playtime and games with fewer than 5 total users\n",
    "        if game['playtime_forever'] > 0 and game['appid'] not in games_few_users:\n",
    "            #store the playtime (minutes) for each game into the library dict for a user\n",
    "            library_dict[game['appid']] = game['playtime_forever']\n",
    "    #exclude users who have fewer than 5 games played\n",
    "    if len(library_dict) >= 5:\n",
    "        users_dict[user] = library_dict"
   ]
  },
  {
   "cell_type": "code",
   "execution_count": 142,
   "metadata": {
    "scrolled": true
   },
   "outputs": [
    {
     "data": {
      "text/plain": [
       "1651"
      ]
     },
     "execution_count": 142,
     "metadata": {},
     "output_type": "execute_result"
    }
   ],
   "source": [
    "len(users_dict)"
   ]
  },
  {
   "cell_type": "markdown",
   "metadata": {},
   "source": [
    "There were 1,651 players who had played 5 or more games where each game being played by 5 or more users across the dataset."
   ]
  },
  {
   "cell_type": "code",
   "execution_count": 143,
   "metadata": {},
   "outputs": [
    {
     "name": "stdout",
     "output_type": "stream",
     "text": [
      "76561198199900595\n",
      "{4000: 2648, 200210: 67, 252490: 307823, 252950: 57178, 282660: 156, 301520: 304, 291480: 1173, 227940: 220, 730: 98149, 397900: 1748, 299360: 93, 447020: 3734, 550650: 5, 506540: 20, 359550: 1579, 787860: 13266, 582010: 41, 1080110: 166, 1248130: 9443, 823130: 199, 1517290: 3880}\n"
     ]
    }
   ],
   "source": [
    "#examine the first user in the users_dict\n",
    "first_user = list(users_dict.keys())[0]\n",
    "print(first_user)\n",
    "print(users_dict[first_user])"
   ]
  },
  {
   "cell_type": "code",
   "execution_count": 144,
   "metadata": {},
   "outputs": [],
   "source": [
    "for game in games_few_users:\n",
    "    games_dict.pop(game)"
   ]
  },
  {
   "cell_type": "code",
   "execution_count": 145,
   "metadata": {},
   "outputs": [
    {
     "data": {
      "text/plain": [
       "2969"
      ]
     },
     "execution_count": 145,
     "metadata": {},
     "output_type": "execute_result"
    }
   ],
   "source": [
    "len(games_dict)"
   ]
  },
  {
   "cell_type": "markdown",
   "metadata": {},
   "source": [
    "After I removed infrequently played games, there were 2,969 games left."
   ]
  },
  {
   "cell_type": "markdown",
   "metadata": {},
   "source": [
    "I identified the game with the most players and plotted a histogram to explore the distribution of playtimes."
   ]
  },
  {
   "cell_type": "code",
   "execution_count": 146,
   "metadata": {},
   "outputs": [
    {
     "name": "stdout",
     "output_type": "stream",
     "text": [
      "Game with most players: Counter-Strike: Global Offensive\n",
      "Number of players: 1918\n"
     ]
    }
   ],
   "source": [
    "#identify the game with the most players\n",
    "game_most_players = 0\n",
    "highest_num_players = 0 \n",
    "for game, value in games_dict.items():\n",
    "    if len(value['playtimes']) > highest_num_players:\n",
    "        highest_num_players = len(value['playtimes'])\n",
    "        game_most_players = game\n",
    "print(f'Game with most players: {games_dict[game_most_players][\"name\"]}')\n",
    "print(f'Number of players: {highest_num_players}')\n"
   ]
  },
  {
   "cell_type": "code",
   "execution_count": 147,
   "metadata": {},
   "outputs": [
    {
     "data": {
      "text/plain": [
       "'847,587'"
      ]
     },
     "execution_count": 147,
     "metadata": {},
     "output_type": "execute_result"
    }
   ],
   "source": [
    "max_playtime = np.max(games_dict[game_most_players]['playtimes'])\n",
    "max_playtime_str = '{:,}'.format(max_playtime)\n",
    "max_playtime_str"
   ]
  },
  {
   "cell_type": "code",
   "execution_count": 148,
   "metadata": {},
   "outputs": [
    {
     "data": {
      "text/plain": [
       "Text(0.5, 0, 'Playtime (minutes)')"
      ]
     },
     "execution_count": 148,
     "metadata": {},
     "output_type": "execute_result"
    },
    {
     "data": {
      "image/png": "[encoded data removed]",
      "text/plain": [
       "<Figure size 432x288 with 1 Axes>"
      ]
     },
     "metadata": {
      "needs_background": "light"
     },
     "output_type": "display_data"
    }
   ],
   "source": [
    "#exploratory histogram of user playtime for CS:GO (the most popular game in the dataset)\n",
    "fig, ax = plt.subplots()\n",
    "\n",
    "max_playtime = np.max(games_dict[game_most_players]['playtimes'])\n",
    "max_playtime_str = '{:,}'.format(max_playtime)\n",
    "ax.vlines(max_playtime, ymin=0, ymax=1200, color='r', linewidth=1)\n",
    "ax.annotate('Highest User Playtime', (530_000, 800))\n",
    "ax.annotate(max_playtime_str + ' minutes', (560_000, 700))\n",
    "\n",
    "ax.hist(games_dict[game_most_players]['playtimes'], bins = 50)\n",
    "\n",
    "ax.get_xaxis().set_major_formatter(matplotlib.ticker.FuncFormatter(\n",
    "                                   lambda x, p : format(int(x), ',')))\n",
    "\n",
    "ax.set_title('Distribution of User Playtime for CS:GO')\n",
    "ax.set_ylabel('Number of Users')\n",
    "ax.set_xlabel('Playtime (minutes)')\n",
    "#plt.savefig('hist_most_popular_game.png', bbox_inches=\"tight\", dpi=300);"
   ]
  },
  {
   "cell_type": "markdown",
   "metadata": {},
   "source": [
    "There was a significant right skew in the histogram. The highest user playtime was 847,587 minutes. Since the maximum playtime for this game dwarfs the vast majority of user playtimes, the scaled user 'ratings' for this game could get extremely small and could hinder the model's performance."
   ]
  },
  {
   "cell_type": "markdown",
   "metadata": {},
   "source": [
    "I calculated the max, mean, and median playtimes for every game to identify and plot playtimes for games with the highest measures of central tendency."
   ]
  },
  {
   "cell_type": "code",
   "execution_count": 149,
   "metadata": {},
   "outputs": [],
   "source": [
    "median_dict = {}\n",
    "mean_dict = {}\n",
    "max_dict = {}\n",
    "for game in games_dict:\n",
    "    #calculate average and median playtimes for each game\n",
    "    max_dict[game] = np.max(games_dict[game]['playtimes'])\n",
    "    median_dict[game] = np.median(games_dict[game]['playtimes'])\n",
    "    mean_dict[game] = np.mean(games_dict[game]['playtimes'])"
   ]
  },
  {
   "cell_type": "code",
   "execution_count": 150,
   "metadata": {},
   "outputs": [
    {
     "data": {
      "text/plain": [
       "[(304930, 1532077),\n",
       " (218620, 1314045),\n",
       " (730, 847587),\n",
       " (10, 829283),\n",
       " (4000, 412729),\n",
       " (578080, 385122),\n",
       " (346110, 380247),\n",
       " (252490, 374297),\n",
       " (238960, 335280),\n",
       " (252950, 334377)]"
      ]
     },
     "execution_count": 150,
     "metadata": {},
     "output_type": "execute_result"
    }
   ],
   "source": [
    "#sorting by max playtime descending\n",
    "sorted_max = sorted(max_dict.items(), key=operator.itemgetter(1), reverse=True)\n",
    "top_10_max = sorted_max[:10]\n",
    "top_10_max"
   ]
  },
  {
   "cell_type": "code",
   "execution_count": 151,
   "metadata": {},
   "outputs": [
    {
     "data": {
      "text/plain": [
       "[(231670, 23150.0),\n",
       " (482730, 18522.0),\n",
       " (872790, 12836.0),\n",
       " (1569040, 12821.0),\n",
       " (624090, 12313.0),\n",
       " (1263850, 9831.0),\n",
       " (385760, 9578.0),\n",
       " (1100600, 9523.0),\n",
       " (1454400, 7278.0),\n",
       " (578080, 6650.0)]"
      ]
     },
     "execution_count": 151,
     "metadata": {},
     "output_type": "execute_result"
    }
   ],
   "source": [
    "#sorting by median playtime descending\n",
    "sorted_medians = sorted(median_dict.items(), key=operator.itemgetter(1), reverse=True)\n",
    "top_10_medians = sorted_medians[:10]\n",
    "top_10_medians"
   ]
  },
  {
   "cell_type": "code",
   "execution_count": 152,
   "metadata": {},
   "outputs": [
    {
     "data": {
      "text/plain": [
       "[(1267910, 46862.0),\n",
       " (1263850, 39556.333333333336),\n",
       " (1623660, 33328.142857142855),\n",
       " (325180, 28745.636363636364),\n",
       " (730, 27628.961939520334),\n",
       " (39210, 25959.6875),\n",
       " (551170, 24337.4),\n",
       " (231670, 23457.666666666668),\n",
       " (1100600, 22867.416666666668),\n",
       " (1454400, 22787.53846153846)]"
      ]
     },
     "execution_count": 152,
     "metadata": {},
     "output_type": "execute_result"
    }
   ],
   "source": [
    "#sorting by mean playtime descending\n",
    "sorted_means = sorted(mean_dict.items(), key=operator.itemgetter(1), reverse=True)\n",
    "top_10_means = sorted_means[:10]\n",
    "top_10_means"
   ]
  },
  {
   "cell_type": "code",
   "execution_count": 153,
   "metadata": {},
   "outputs": [
    {
     "data": {
      "image/png": "[encoded data removed]",
      "text/plain": [
       "<Figure size 432x288 with 1 Axes>"
      ]
     },
     "metadata": {
      "needs_background": "light"
     },
     "output_type": "display_data"
    }
   ],
   "source": [
    "#games with highest max playtime\n",
    "fig, ax = plt.subplots()\n",
    "\n",
    "x = [games_dict[game[0]]['name'] for game in top_10_max]\n",
    "y = [game[1] for game in top_10_max]\n",
    "\n",
    "ax.barh(x, y)\n",
    "\n",
    "for label in ax.get_xticklabels():\n",
    "    label.set_rotation(30)\n",
    "    label.set_ha('right')\n",
    "\n",
    "#format x-axis to improve readability\n",
    "ax.get_xaxis().set_major_formatter(matplotlib.ticker.FuncFormatter(\n",
    "                                   lambda x, p : format(int(x), ',')))\n",
    "ax.set_xlabel('Playtime (Minutes)')\n",
    "ax.set_title('Top 10 Games with Highest Maximum Playtime');"
   ]
  },
  {
   "cell_type": "code",
   "execution_count": 154,
   "metadata": {},
   "outputs": [
    {
     "data": {
      "image/png": "[encoded data removed]",
      "text/plain": [
       "<Figure size 432x288 with 1 Axes>"
      ]
     },
     "metadata": {
      "needs_background": "light"
     },
     "output_type": "display_data"
    }
   ],
   "source": [
    "#games with the highest median playtime\n",
    "fig, ax = plt.subplots()\n",
    "\n",
    "x = [games_dict[game[0]]['name'] for game in top_10_medians]\n",
    "y = [game[1] for game in top_10_medians]\n",
    "\n",
    "ax.barh(x, y)\n",
    "\n",
    "#format x-axis to improve readability\n",
    "ax.get_xaxis().set_major_formatter(matplotlib.ticker.FuncFormatter(\n",
    "                                   lambda x, p : format(int(x), ',')))\n",
    "ax.set_xlabel('Playtime (Minutes)')\n",
    "ax.set_title('Top 10 Games with Highest Median Playtime');"
   ]
  },
  {
   "cell_type": "code",
   "execution_count": 155,
   "metadata": {},
   "outputs": [
    {
     "data": {
      "image/png": "[encoded data removed]",
      "text/plain": [
       "<Figure size 432x288 with 1 Axes>"
      ]
     },
     "metadata": {
      "needs_background": "light"
     },
     "output_type": "display_data"
    }
   ],
   "source": [
    "#games with the highest mean playtime\n",
    "fig, ax = plt.subplots()\n",
    "\n",
    "x = [games_dict[game[0]]['name'] for game in top_10_means]\n",
    "y = [game[1] for game in top_10_means]\n",
    "\n",
    "ax.barh(x, y)\n",
    "\n",
    "#format x-axis to improve readability\n",
    "ax.get_xaxis().set_major_formatter(matplotlib.ticker.FuncFormatter(\n",
    "                                   lambda x, p : format(int(x), ',')))\n",
    "ax.set_xlabel('Playtime (Minutes)')\n",
    "ax.set_title('Top 10 Games with Highest Average Playtime');"
   ]
  },
  {
   "cell_type": "markdown",
   "metadata": {},
   "source": [
    "I created a dictionary containing standardized playtimes for each user. The keys of these dictionaries was user IDs; the value mapped to each user ID was a dictionary with app IDs as keys and standardized playtimes as values."
   ]
  },
  {
   "cell_type": "code",
   "execution_count": 156,
   "metadata": {},
   "outputs": [],
   "source": [
    "#standardize playtime by max\n",
    "users_max_dict = {}\n",
    "for user, library in users_dict.items():\n",
    "    standardized_library = {}\n",
    "    for game in library:\n",
    "        standardized_time = library[game] / max_dict[game]\n",
    "        standardized_library[game] = standardized_time\n",
    "    users_max_dict[user] = standardized_library"
   ]
  },
  {
   "cell_type": "code",
   "execution_count": 157,
   "metadata": {},
   "outputs": [
    {
     "data": {
      "text/plain": [
       "{4000: 0.0064158321804380115,\n",
       " 200210: 0.00038277621302924527,\n",
       " 252490: 0.8224030649457517,\n",
       " 252950: 0.17099860337283965,\n",
       " 282660: 0.02199041443473358,\n",
       " 301520: 0.017369443492172322,\n",
       " 291480: 0.08189053337056688,\n",
       " 227940: 0.0061318914097775795,\n",
       " 730: 0.11579814225560325,\n",
       " 397900: 0.20463591664715522,\n",
       " 299360: 0.011210221793635487,\n",
       " 447020: 0.03797841719301458,\n",
       " 550650: 0.00012769108971575962,\n",
       " 506540: 0.004725897920604915,\n",
       " 359550: 0.00687361515590787,\n",
       " 787860: 0.15288341861429955,\n",
       " 582010: 0.0006867901772253677,\n",
       " 1080110: 0.006759508103265738,\n",
       " 1248130: 0.23441068414258762,\n",
       " 823130: 0.07433694434067986,\n",
       " 1517290: 0.4416116549055315}"
      ]
     },
     "execution_count": 157,
     "metadata": {},
     "output_type": "execute_result"
    }
   ],
   "source": [
    "#check a user to see the scaling\n",
    "users_max_dict['76561198199900595']"
   ]
  },
  {
   "cell_type": "markdown",
   "metadata": {},
   "source": [
    "Now that I had standardized playtimes, I could prepare the data to create a collaborative filtering recommender using surprise."
   ]
  },
  {
   "cell_type": "markdown",
   "metadata": {},
   "source": [
    "The surprise package requires data in a specific format before modeling. If the data is provided as a dataframe, the dataframe must have 3 columns: the user identifier, the product identifier, and the rating. Each row in the dataframe is a rating for a user and a product. "
   ]
  },
  {
   "cell_type": "markdown",
   "metadata": {},
   "source": [
    "I made yet another dictionary to format my data for modeling with surprise."
   ]
  },
  {
   "cell_type": "code",
   "execution_count": 158,
   "metadata": {},
   "outputs": [
    {
     "name": "stdout",
     "output_type": "stream",
     "text": [
      "75410\n",
      "75410\n",
      "75410\n"
     ]
    }
   ],
   "source": [
    "#creating dictionary to format data for surprise modeling\n",
    "surprise_dict = {}\n",
    "surprise_dict['appid'] = []\n",
    "surprise_dict['userid'] = []\n",
    "surprise_dict['max_playtime'] = []\n",
    "for key, value in users_max_dict.items(): \n",
    "    for game in value:\n",
    "        surprise_dict['userid'].append(key)\n",
    "        surprise_dict['appid'].append(game)\n",
    "        surprise_dict['max_playtime'].append(value[game])\n",
    "\n",
    "print(len(surprise_dict['appid']))\n",
    "print(len(surprise_dict['userid']))\n",
    "print(len(surprise_dict['max_playtime']))"
   ]
  },
  {
   "cell_type": "code",
   "execution_count": 159,
   "metadata": {},
   "outputs": [
    {
     "data": {
      "text/html": [
       "<div>\n",
       "<style scoped>\n",
       "    .dataframe tbody tr th:only-of-type {\n",
       "        vertical-align: middle;\n",
       "    }\n",
       "\n",
       "    .dataframe tbody tr th {\n",
       "        vertical-align: top;\n",
       "    }\n",
       "\n",
       "    .dataframe thead th {\n",
       "        text-align: right;\n",
       "    }\n",
       "</style>\n",
       "<table border=\"1\" class=\"dataframe\">\n",
       "  <thead>\n",
       "    <tr style=\"text-align: right;\">\n",
       "      <th></th>\n",
       "      <th>userid</th>\n",
       "      <th>appid</th>\n",
       "      <th>max_playtime</th>\n",
       "    </tr>\n",
       "  </thead>\n",
       "  <tbody>\n",
       "    <tr>\n",
       "      <th>0</th>\n",
       "      <td>76561198199900595</td>\n",
       "      <td>4000</td>\n",
       "      <td>0.006416</td>\n",
       "    </tr>\n",
       "    <tr>\n",
       "      <th>1</th>\n",
       "      <td>76561198199900595</td>\n",
       "      <td>200210</td>\n",
       "      <td>0.000383</td>\n",
       "    </tr>\n",
       "    <tr>\n",
       "      <th>2</th>\n",
       "      <td>76561198199900595</td>\n",
       "      <td>252490</td>\n",
       "      <td>0.822403</td>\n",
       "    </tr>\n",
       "    <tr>\n",
       "      <th>3</th>\n",
       "      <td>76561198199900595</td>\n",
       "      <td>252950</td>\n",
       "      <td>0.170999</td>\n",
       "    </tr>\n",
       "    <tr>\n",
       "      <th>4</th>\n",
       "      <td>76561198199900595</td>\n",
       "      <td>282660</td>\n",
       "      <td>0.021990</td>\n",
       "    </tr>\n",
       "    <tr>\n",
       "      <th>...</th>\n",
       "      <td>...</td>\n",
       "      <td>...</td>\n",
       "      <td>...</td>\n",
       "    </tr>\n",
       "    <tr>\n",
       "      <th>75405</th>\n",
       "      <td>76561199032907135</td>\n",
       "      <td>1281930</td>\n",
       "      <td>0.121169</td>\n",
       "    </tr>\n",
       "    <tr>\n",
       "      <th>75406</th>\n",
       "      <td>76561199032907135</td>\n",
       "      <td>1286830</td>\n",
       "      <td>0.210297</td>\n",
       "    </tr>\n",
       "    <tr>\n",
       "      <th>75407</th>\n",
       "      <td>76561199032907135</td>\n",
       "      <td>1289310</td>\n",
       "      <td>0.051417</td>\n",
       "    </tr>\n",
       "    <tr>\n",
       "      <th>75408</th>\n",
       "      <td>76561199032907135</td>\n",
       "      <td>1414850</td>\n",
       "      <td>0.315682</td>\n",
       "    </tr>\n",
       "    <tr>\n",
       "      <th>75409</th>\n",
       "      <td>76561199032907135</td>\n",
       "      <td>1599340</td>\n",
       "      <td>0.005767</td>\n",
       "    </tr>\n",
       "  </tbody>\n",
       "</table>\n",
       "<p>75410 rows × 3 columns</p>\n",
       "</div>"
      ],
      "text/plain": [
       "                  userid    appid  max_playtime\n",
       "0      76561198199900595     4000      0.006416\n",
       "1      76561198199900595   200210      0.000383\n",
       "2      76561198199900595   252490      0.822403\n",
       "3      76561198199900595   252950      0.170999\n",
       "4      76561198199900595   282660      0.021990\n",
       "...                  ...      ...           ...\n",
       "75405  76561199032907135  1281930      0.121169\n",
       "75406  76561199032907135  1286830      0.210297\n",
       "75407  76561199032907135  1289310      0.051417\n",
       "75408  76561199032907135  1414850      0.315682\n",
       "75409  76561199032907135  1599340      0.005767\n",
       "\n",
       "[75410 rows x 3 columns]"
      ]
     },
     "execution_count": 159,
     "metadata": {},
     "output_type": "execute_result"
    }
   ],
   "source": [
    "#convert max standardized dictionary to dataframe\n",
    "max_df = pd.DataFrame(surprise_dict, columns=['userid', 'appid', 'max_playtime'])\n",
    "max_df"
   ]
  },
  {
   "cell_type": "markdown",
   "metadata": {},
   "source": [
    "With the data organized, I could begin modeling with surprise."
   ]
  },
  {
   "cell_type": "markdown",
   "metadata": {},
   "source": [
    "## Collaborative Recommender Modeling"
   ]
  },
  {
   "cell_type": "markdown",
   "metadata": {},
   "source": [
    "I instantiated a reader object with the rating scale set from 0 to 1. Using the load_from_df function, I loaded the dataframe of users, games, and playtimes using the reader object. "
   ]
  },
  {
   "cell_type": "code",
   "execution_count": 160,
   "metadata": {},
   "outputs": [],
   "source": [
    "#instansiate a reader object \n",
    "reader = Reader(rating_scale=(0,1))\n",
    "surprise_max = Dataset.load_from_df(max_df, reader)"
   ]
  },
  {
   "cell_type": "markdown",
   "metadata": {},
   "source": [
    "surprise has its own train_test_split. I set aside 20% of the data to use as the test set with a random state set for reproducibility."
   ]
  },
  {
   "cell_type": "code",
   "execution_count": 161,
   "metadata": {},
   "outputs": [],
   "source": [
    "#perform train test split with 20% of data in the test split\n",
    "trainset, testset= train_test_split(surprise_max, test_size=0.20, random_state=42)"
   ]
  },
  {
   "cell_type": "code",
   "execution_count": 162,
   "metadata": {},
   "outputs": [
    {
     "name": "stdout",
     "output_type": "stream",
     "text": [
      "Number of users: 1651\n",
      "Number of games: 2969\n"
     ]
    }
   ],
   "source": [
    "print('Number of users:', trainset.n_users)\n",
    "print('Number of games:', trainset.n_items)"
   ]
  },
  {
   "cell_type": "markdown",
   "metadata": {},
   "source": [
    "### NormalPredictor"
   ]
  },
  {
   "cell_type": "markdown",
   "metadata": {},
   "source": [
    "The normal predictor assumes that the distribution of the training set is normal and predicts a random rating. This is akin to a dummy model from sklearn."
   ]
  },
  {
   "cell_type": "code",
   "execution_count": 163,
   "metadata": {},
   "outputs": [],
   "source": [
    "#instantiate model\n",
    "norm = NormalPredictor()"
   ]
  },
  {
   "cell_type": "code",
   "execution_count": 164,
   "metadata": {},
   "outputs": [
    {
     "data": {
      "text/plain": [
       "<surprise.prediction_algorithms.random_pred.NormalPredictor at 0x2b60a410a90>"
      ]
     },
     "execution_count": 164,
     "metadata": {},
     "output_type": "execute_result"
    }
   ],
   "source": [
    "#fit to trainset\n",
    "norm.fit(trainset)"
   ]
  },
  {
   "cell_type": "code",
   "execution_count": 165,
   "metadata": {},
   "outputs": [],
   "source": [
    "#return predictions on testset\n",
    "preds_norm = norm.test(testset)"
   ]
  },
  {
   "cell_type": "code",
   "execution_count": 166,
   "metadata": {
    "scrolled": true
   },
   "outputs": [
    {
     "name": "stdout",
     "output_type": "stream",
     "text": [
      "RMSE: 0.3484\n"
     ]
    },
    {
     "data": {
      "text/plain": [
       "0.34839661832445035"
      ]
     },
     "execution_count": 166,
     "metadata": {},
     "output_type": "execute_result"
    }
   ],
   "source": [
    "#evaluate RMSE of predictions\n",
    "rmse_norm = accuracy.rmse(preds_norm)\n",
    "rmse_norm"
   ]
  },
  {
   "cell_type": "markdown",
   "metadata": {},
   "source": [
    "The NormalPredictor had a RMSE of 0.347, meaning its predicted scores (on a scale of 0 to 1) were on average off by 0.347."
   ]
  },
  {
   "cell_type": "markdown",
   "metadata": {},
   "source": [
    "### Baseline"
   ]
  },
  {
   "cell_type": "markdown",
   "metadata": {},
   "source": [
    "The baseline algorithm predicts the baseline estimate for a given user and item."
   ]
  },
  {
   "cell_type": "code",
   "execution_count": 167,
   "metadata": {},
   "outputs": [],
   "source": [
    "#instantiate model\n",
    "baseline = BaselineOnly()"
   ]
  },
  {
   "cell_type": "code",
   "execution_count": 168,
   "metadata": {},
   "outputs": [
    {
     "name": "stdout",
     "output_type": "stream",
     "text": [
      "Estimating biases using als...\n"
     ]
    },
    {
     "data": {
      "text/plain": [
       "<surprise.prediction_algorithms.baseline_only.BaselineOnly at 0x2b60a410eb0>"
      ]
     },
     "execution_count": 168,
     "metadata": {},
     "output_type": "execute_result"
    }
   ],
   "source": [
    "#fit to trainset\n",
    "baseline.fit(trainset)"
   ]
  },
  {
   "cell_type": "code",
   "execution_count": 169,
   "metadata": {},
   "outputs": [],
   "source": [
    "#return predictions on testset\n",
    "preds_bl = baseline.test(testset)"
   ]
  },
  {
   "cell_type": "code",
   "execution_count": 170,
   "metadata": {},
   "outputs": [
    {
     "name": "stdout",
     "output_type": "stream",
     "text": [
      "RMSE: 0.2203\n"
     ]
    },
    {
     "data": {
      "text/plain": [
       "0.22033247944145348"
      ]
     },
     "execution_count": 170,
     "metadata": {},
     "output_type": "execute_result"
    }
   ],
   "source": [
    "#evaluate RMSE of predictions\n",
    "rmse_bl = accuracy.rmse(preds_bl)\n",
    "rmse_bl"
   ]
  },
  {
   "cell_type": "markdown",
   "metadata": {},
   "source": [
    "The Baseline performs better than the NormalPredictor with a RMSE of 0.220."
   ]
  },
  {
   "cell_type": "markdown",
   "metadata": {},
   "source": [
    "### k-NN"
   ]
  },
  {
   "cell_type": "markdown",
   "metadata": {},
   "source": [
    "KNNBasic uses a basic nearest neighbors approach. The default k is set to 40."
   ]
  },
  {
   "cell_type": "code",
   "execution_count": 171,
   "metadata": {},
   "outputs": [],
   "source": [
    "#instantiate model\n",
    "knn = KNNBasic()"
   ]
  },
  {
   "cell_type": "code",
   "execution_count": 172,
   "metadata": {},
   "outputs": [
    {
     "name": "stdout",
     "output_type": "stream",
     "text": [
      "Computing the msd similarity matrix...\n",
      "Done computing similarity matrix.\n"
     ]
    },
    {
     "data": {
      "text/plain": [
       "<surprise.prediction_algorithms.knns.KNNBasic at 0x2b60a410ca0>"
      ]
     },
     "execution_count": 172,
     "metadata": {},
     "output_type": "execute_result"
    }
   ],
   "source": [
    "#fit to trainset\n",
    "knn.fit(trainset)"
   ]
  },
  {
   "cell_type": "code",
   "execution_count": 173,
   "metadata": {},
   "outputs": [],
   "source": [
    "#return predictions on testset\n",
    "preds_knn = knn.test(testset)"
   ]
  },
  {
   "cell_type": "code",
   "execution_count": 174,
   "metadata": {
    "scrolled": true
   },
   "outputs": [
    {
     "name": "stdout",
     "output_type": "stream",
     "text": [
      "RMSE: 0.2290\n"
     ]
    },
    {
     "data": {
      "text/plain": [
       "0.22901344766727744"
      ]
     },
     "execution_count": 174,
     "metadata": {},
     "output_type": "execute_result"
    }
   ],
   "source": [
    "#evaluate RMSE of predictions\n",
    "rmse_knn = accuracy.rmse(preds_knn)\n",
    "rmse_knn"
   ]
  },
  {
   "cell_type": "markdown",
   "metadata": {},
   "source": [
    "KNNBasic had slightly higher RMSE than the baseline."
   ]
  },
  {
   "cell_type": "markdown",
   "metadata": {},
   "source": [
    "### SVD"
   ]
  },
  {
   "cell_type": "markdown",
   "metadata": {},
   "source": [
    "SVD is an algorithm popularized by Simon Funk and his work on the Netflix Prize. This is a matrix faactorization-based algorithm that performs a stochastic gradient descent to minimize regularized squared error. SVD has a variety of hyperparameters, such as regularization and learning rate, that can be optimized via grid search."
   ]
  },
  {
   "cell_type": "code",
   "execution_count": 175,
   "metadata": {},
   "outputs": [],
   "source": [
    "#instantiate SVD model with default hyperparameters\n",
    "svd_basic = SVD(random_state=42)"
   ]
  },
  {
   "cell_type": "code",
   "execution_count": 176,
   "metadata": {},
   "outputs": [
    {
     "data": {
      "text/plain": [
       "<surprise.prediction_algorithms.matrix_factorization.SVD at 0x2b609023850>"
      ]
     },
     "execution_count": 176,
     "metadata": {},
     "output_type": "execute_result"
    }
   ],
   "source": [
    "#fit to trainset\n",
    "svd_basic.fit(trainset)"
   ]
  },
  {
   "cell_type": "code",
   "execution_count": 177,
   "metadata": {},
   "outputs": [],
   "source": [
    "#return predictions on testset\n",
    "preds_svd_basic = svd_basic.test(testset)"
   ]
  },
  {
   "cell_type": "code",
   "execution_count": 178,
   "metadata": {},
   "outputs": [
    {
     "name": "stdout",
     "output_type": "stream",
     "text": [
      "RMSE: 0.2296\n"
     ]
    },
    {
     "data": {
      "text/plain": [
       "0.22958601280473118"
      ]
     },
     "execution_count": 178,
     "metadata": {},
     "output_type": "execute_result"
    }
   ],
   "source": [
    "#evaluate RMSE of predictions\n",
    "rmse_svd_basic = accuracy.rmse(preds_svd_basic)\n",
    "rmse_svd_basic"
   ]
  },
  {
   "cell_type": "markdown",
   "metadata": {},
   "source": [
    "Using default hyperparamaters, the basic SVD performed worse than both the baseline and KNN models."
   ]
  },
  {
   "cell_type": "markdown",
   "metadata": {},
   "source": [
    "### Grid Search with SVD"
   ]
  },
  {
   "cell_type": "markdown",
   "metadata": {},
   "source": [
    "I performed a grid search with the SVD algorithm to see if I could find a better model by tuning some hyperparameters. I tested different number of latent factors, different number of training epochs, different levels of regularization, and the inclusion/exclusion of biases."
   ]
  },
  {
   "cell_type": "code",
   "execution_count": 180,
   "metadata": {},
   "outputs": [],
   "source": [
    "#set up hyperparameter dictionary\n",
    "param_grid = {'n_factors':[5, 10, 20],\n",
    "             'n_epochs':[10, 20, 50],\n",
    "             'biased': [True, False],\n",
    "             'lr_all':[0.00001, 0.0001],\n",
    "             'reg_all':[0.002, 0.02, 0.2]}"
   ]
  },
  {
   "cell_type": "code",
   "execution_count": 181,
   "metadata": {},
   "outputs": [],
   "source": [
    "#instantiate grid search with SVD algorithm\n",
    "gs_svd = GridSearchCV(SVD, param_grid, n_jobs=-1, joblib_verbose=3)"
   ]
  },
  {
   "cell_type": "code",
   "execution_count": 182,
   "metadata": {},
   "outputs": [
    {
     "name": "stderr",
     "output_type": "stream",
     "text": [
      "[Parallel(n_jobs=-1)]: Using backend LokyBackend with 16 concurrent workers.\n",
      "[Parallel(n_jobs=-1)]: Done  96 tasks      | elapsed:    9.2s\n",
      "[Parallel(n_jobs=-1)]: Done 256 tasks      | elapsed:   32.3s\n",
      "[Parallel(n_jobs=-1)]: Done 480 tasks      | elapsed:  1.2min\n",
      "[Parallel(n_jobs=-1)]: Done 540 out of 540 | elapsed:  1.5min finished\n"
     ]
    }
   ],
   "source": [
    "gs_svd.fit(surprise_max)"
   ]
  },
  {
   "cell_type": "code",
   "execution_count": 183,
   "metadata": {},
   "outputs": [
    {
     "data": {
      "text/plain": [
       "0.24314295864157742"
      ]
     },
     "execution_count": 183,
     "metadata": {},
     "output_type": "execute_result"
    }
   ],
   "source": [
    "#look up best_score of different cross validation folds\n",
    "gs_svd.best_score['rmse']"
   ]
  },
  {
   "cell_type": "code",
   "execution_count": 184,
   "metadata": {},
   "outputs": [
    {
     "data": {
      "text/plain": [
       "{'n_factors': 5,\n",
       " 'n_epochs': 50,\n",
       " 'biased': True,\n",
       " 'lr_all': 0.0001,\n",
       " 'reg_all': 0.002}"
      ]
     },
     "execution_count": 184,
     "metadata": {},
     "output_type": "execute_result"
    }
   ],
   "source": [
    "#look up best_params based on RMSE\n",
    "gs_svd.best_params['rmse']"
   ]
  },
  {
   "cell_type": "code",
   "execution_count": 179,
   "metadata": {},
   "outputs": [
    {
     "name": "stdout",
     "output_type": "stream",
     "text": [
      "RMSE: 0.2421\n"
     ]
    },
    {
     "data": {
      "text/plain": [
       "0.24212055339981617"
      ]
     },
     "execution_count": 179,
     "metadata": {},
     "output_type": "execute_result"
    }
   ],
   "source": [
    "#instantiate SVD with best_params\n",
    "svd_gs = SVD(n_factors=5, n_epochs=50, lr_all=0.0001, \n",
    "             reg_all=0.002, random_state=42)\n",
    "\n",
    "#fit to trainset\n",
    "svd_gs.fit(trainset)\n",
    "\n",
    "#return predictions on testset\n",
    "preds_svd_gs = svd_gs.test(testset)\n",
    "\n",
    "#evaluate RMSE of predictions\n",
    "rmse_svd_gs = accuracy.rmse(preds_svd_gs)\n",
    "rmse_svd_gs"
   ]
  },
  {
   "cell_type": "markdown",
   "metadata": {},
   "source": [
    "The first grid search on SVD produced an even lower scoring model. I adjusted my hyperparameters to try and improve the model's training on the train set. I increased the number of epochs, lowered the number of factors, and experimented with different ranges of the regularization and learning rates. "
   ]
  },
  {
   "cell_type": "code",
   "execution_count": 186,
   "metadata": {},
   "outputs": [],
   "source": [
    "#set up another hyperparameter dictionary\n",
    "param_grid2 = {'n_factors':[3, 5, 10],\n",
    "             'n_epochs':[40, 50, 100],\n",
    "             'lr_all':[0.001, 0.0001],\n",
    "             'reg_all':[0.01, 0.02, 0.05]}"
   ]
  },
  {
   "cell_type": "code",
   "execution_count": 187,
   "metadata": {},
   "outputs": [],
   "source": [
    "#instantiate grid search with SVD algorithm\n",
    "gs_svd2 = GridSearchCV(SVD, param_grid2, n_jobs=-1, joblib_verbose=3)"
   ]
  },
  {
   "cell_type": "code",
   "execution_count": 188,
   "metadata": {},
   "outputs": [
    {
     "name": "stderr",
     "output_type": "stream",
     "text": [
      "[Parallel(n_jobs=-1)]: Using backend LokyBackend with 16 concurrent workers.\n",
      "[Parallel(n_jobs=-1)]: Done  96 tasks      | elapsed:   28.5s\n",
      "[Parallel(n_jobs=-1)]: Done 270 out of 270 | elapsed:  1.5min finished\n"
     ]
    }
   ],
   "source": [
    "gs_svd2.fit(surprise_max)"
   ]
  },
  {
   "cell_type": "code",
   "execution_count": 189,
   "metadata": {},
   "outputs": [
    {
     "data": {
      "text/plain": [
       "0.22033169400200223"
      ]
     },
     "execution_count": 189,
     "metadata": {},
     "output_type": "execute_result"
    }
   ],
   "source": [
    "#look up best_score of different cross validation folds\n",
    "gs_svd2.best_score['rmse']"
   ]
  },
  {
   "cell_type": "code",
   "execution_count": 190,
   "metadata": {},
   "outputs": [
    {
     "data": {
      "text/plain": [
       "{'n_factors': 3, 'n_epochs': 100, 'lr_all': 0.001, 'reg_all': 0.01}"
      ]
     },
     "execution_count": 190,
     "metadata": {},
     "output_type": "execute_result"
    }
   ],
   "source": [
    "#look up best_params based on RMSE\n",
    "gs_svd2.best_params['rmse']"
   ]
  },
  {
   "cell_type": "code",
   "execution_count": 180,
   "metadata": {},
   "outputs": [
    {
     "name": "stdout",
     "output_type": "stream",
     "text": [
      "RMSE: 0.2193\n"
     ]
    },
    {
     "data": {
      "text/plain": [
       "0.21926512249534177"
      ]
     },
     "execution_count": 180,
     "metadata": {},
     "output_type": "execute_result"
    }
   ],
   "source": [
    "#instantiate SVD with best_params\n",
    "svd_gs2 = SVD(n_factors=3, n_epochs=100, lr_all=0.001, \n",
    "             reg_all=0.02, random_state=42)\n",
    "\n",
    "#fit to trainset\n",
    "svd_gs2.fit(trainset)\n",
    "\n",
    "#return predictions on testset\n",
    "preds_svd_gs2 = svd_gs2.test(testset)\n",
    "\n",
    "#evaluate RMSE of predictions\n",
    "rmse_svd_gs2 = accuracy.rmse(preds_svd_gs2)\n",
    "rmse_svd_gs2"
   ]
  },
  {
   "cell_type": "markdown",
   "metadata": {},
   "source": [
    "This second grid search yielded the best performing model yet with an error of 0.219, slightly less than the baseline model's rmse of 0.220."
   ]
  },
  {
   "cell_type": "markdown",
   "metadata": {},
   "source": [
    "I tried one more grid search on the SVD algorithm. Increasing the epochs seemed to have improved the model's training so I continued to try more epochs. I tested a smaller number of factors and tuned the learning rate and regularization again."
   ]
  },
  {
   "cell_type": "code",
   "execution_count": 192,
   "metadata": {},
   "outputs": [],
   "source": [
    "#set up another hyperparameter dictionary\n",
    "param_grid3 = {'n_factors':[1, 2, 3],\n",
    "             'n_epochs':[100, 150, 200],\n",
    "             'lr_all':[0.01, 0.005, 0.001],\n",
    "             'reg_all':[0.01, 0.02, 0.03]}"
   ]
  },
  {
   "cell_type": "code",
   "execution_count": 193,
   "metadata": {},
   "outputs": [],
   "source": [
    "#instantiate grid search with SVD algorithm\n",
    "gs_svd3 = GridSearchCV(SVD, param_grid3, n_jobs=-1, joblib_verbose=3)"
   ]
  },
  {
   "cell_type": "code",
   "execution_count": 194,
   "metadata": {},
   "outputs": [
    {
     "name": "stderr",
     "output_type": "stream",
     "text": [
      "[Parallel(n_jobs=-1)]: Using backend LokyBackend with 16 concurrent workers.\n",
      "[Parallel(n_jobs=-1)]: Done  96 tasks      | elapsed:  1.0min\n",
      "[Parallel(n_jobs=-1)]: Done 256 tasks      | elapsed:  2.9min\n",
      "[Parallel(n_jobs=-1)]: Done 405 out of 405 | elapsed:  4.8min finished\n"
     ]
    }
   ],
   "source": [
    "gs_svd3.fit(surprise_max)"
   ]
  },
  {
   "cell_type": "code",
   "execution_count": 195,
   "metadata": {},
   "outputs": [
    {
     "data": {
      "text/plain": [
       "0.219379354769376"
      ]
     },
     "execution_count": 195,
     "metadata": {},
     "output_type": "execute_result"
    }
   ],
   "source": [
    "#look up best_score of different cross validation folds\n",
    "gs_svd3.best_score['rmse']"
   ]
  },
  {
   "cell_type": "code",
   "execution_count": 196,
   "metadata": {},
   "outputs": [
    {
     "data": {
      "text/plain": [
       "{'n_factors': 1, 'n_epochs': 200, 'lr_all': 0.001, 'reg_all': 0.02}"
      ]
     },
     "execution_count": 196,
     "metadata": {},
     "output_type": "execute_result"
    }
   ],
   "source": [
    "#look up best_params based on RMSE\n",
    "gs_svd3.best_params['rmse']"
   ]
  },
  {
   "cell_type": "code",
   "execution_count": 181,
   "metadata": {},
   "outputs": [
    {
     "name": "stdout",
     "output_type": "stream",
     "text": [
      "RMSE: 0.2183\n"
     ]
    },
    {
     "data": {
      "text/plain": [
       "0.21828312737652583"
      ]
     },
     "execution_count": 181,
     "metadata": {},
     "output_type": "execute_result"
    }
   ],
   "source": [
    "#instantiate SVD with best_params\n",
    "svd_gs3 = SVD(n_factors=1, n_epochs=150, lr_all=0.001, \n",
    "             reg_all=0.01, random_state=42)\n",
    "\n",
    "#fit to trainset\n",
    "svd_gs3.fit(trainset)\n",
    "\n",
    "#return predictions on testset\n",
    "preds_svd_gs3 = svd_gs3.test(testset)\n",
    "\n",
    "#evaluate RMSE of predictions\n",
    "rmse_svd_gs3 = accuracy.rmse(preds_svd_gs3)\n",
    "rmse_svd_gs3"
   ]
  },
  {
   "cell_type": "markdown",
   "metadata": {},
   "source": [
    "This third SVD model produced a very slight increase in performance. Due to the small returns on grid searching SVD, I decided to use my time and computational power on testing a similar algorithm, SVD++."
   ]
  },
  {
   "cell_type": "markdown",
   "metadata": {},
   "source": [
    "### Grid Search with SVD++"
   ]
  },
  {
   "cell_type": "markdown",
   "metadata": {},
   "source": [
    "SVD++ is an extension of the SVD algorithm that incorporates an additional set of item factors to capture implicit ratings. It captures not only item rating for a user, but also the fact that the user rated that item. In this case, it would incorporate the fact that a user was interested enough to purchase and try a game. I decided to run GridSearches to see if SVD++ could produce a better performance. I based my initial GridSearch settings on those from the best-performing SVD model. "
   ]
  },
  {
   "cell_type": "code",
   "execution_count": 198,
   "metadata": {},
   "outputs": [],
   "source": [
    "#set up another hyperparameter dictionary\n",
    "param_grid_pp = {'n_factors':[1, 2, 3],\n",
    "                 'n_epochs':[100, 150, 200],\n",
    "                 'lr_all':[0.001, 0.005, 0.01],\n",
    "                 'reg_all':[0.03, 0.05, 0.1]}"
   ]
  },
  {
   "cell_type": "code",
   "execution_count": 199,
   "metadata": {},
   "outputs": [],
   "source": [
    "#instantiate grid search with SVD++ algorithm\n",
    "gs_svdpp = GridSearchCV(SVDpp, param_grid_pp, n_jobs=-1, joblib_verbose=3)"
   ]
  },
  {
   "cell_type": "code",
   "execution_count": 265,
   "metadata": {},
   "outputs": [
    {
     "name": "stderr",
     "output_type": "stream",
     "text": [
      "[Parallel(n_jobs=-1)]: Using backend LokyBackend with 16 concurrent workers.\n",
      "[Parallel(n_jobs=-1)]: Done  96 tasks      | elapsed: 47.2min\n",
      "[Parallel(n_jobs=-1)]: Done 256 tasks      | elapsed: 138.3min\n",
      "[Parallel(n_jobs=-1)]: Done 405 out of 405 | elapsed: 225.5min finished\n"
     ]
    }
   ],
   "source": [
    "gs_svdpp.fit(surprise_max)"
   ]
  },
  {
   "cell_type": "code",
   "execution_count": null,
   "metadata": {},
   "outputs": [],
   "source": [
    "#look up best_score of different cross validation folds\n",
    "gs_svdpp.best_score['rmse']"
   ]
  },
  {
   "cell_type": "code",
   "execution_count": 268,
   "metadata": {},
   "outputs": [
    {
     "data": {
      "text/plain": [
       "{'n_factors': 1, 'n_epochs': 200, 'lr_all': 0.001, 'reg_all': 0.03}"
      ]
     },
     "execution_count": 268,
     "metadata": {},
     "output_type": "execute_result"
    }
   ],
   "source": [
    "#look up best_params based on RMSE\n",
    "gs_svdpp.best_params['rmse']"
   ]
  },
  {
   "cell_type": "code",
   "execution_count": 201,
   "metadata": {},
   "outputs": [
    {
     "name": "stdout",
     "output_type": "stream",
     "text": [
      "RMSE: 0.2183\n"
     ]
    },
    {
     "data": {
      "text/plain": [
       "0.21827950989504874"
      ]
     },
     "execution_count": 201,
     "metadata": {},
     "output_type": "execute_result"
    }
   ],
   "source": [
    "#instantiate SVD++ with best_params\n",
    "svd_pp = SVDpp(n_factors=1, n_epochs=200, lr_all=0.001, \n",
    "             reg_all=0.03, random_state=42)\n",
    "\n",
    "#fit to trainset\n",
    "svd_pp.fit(trainset)\n",
    "\n",
    "#return predictions on testset\n",
    "preds_svd_pp = svd_pp.test(testset)\n",
    "\n",
    "#evaluate RMSE of predictions\n",
    "rmse_svd_pp = accuracy.rmse(preds_svd_pp)\n",
    "rmse_svd_pp"
   ]
  },
  {
   "cell_type": "markdown",
   "metadata": {},
   "source": [
    "The SVD++ model with optimized hyperparameters produced very similar results to the third SVD model. However, the SVD++ model took a much longer time to run. The grid search for SVD++ took almost 47 times longer than the grid search for the third SVD model with a similar number of hyperparameters and number of epochs."
   ]
  },
  {
   "cell_type": "markdown",
   "metadata": {},
   "source": [
    "### Model Evaluation"
   ]
  },
  {
   "cell_type": "code",
   "execution_count": 261,
   "metadata": {},
   "outputs": [
    {
     "data": {
      "image/png": "[encoded data removed]",
      "text/plain": [
       "<Figure size 720x432 with 1 Axes>"
      ]
     },
     "metadata": {},
     "output_type": "display_data"
    }
   ],
   "source": [
    "plt.style.use('fivethirtyeight')\n",
    "\n",
    "fig, ax = plt.subplots(figsize = (10,6))\n",
    "\n",
    "models = ['Normal', 'Baseline', 'KNN', 'SVD', 'SVD GS1', 'SVD GS2', 'SVD GS3', 'SVD++ GS']\n",
    "errors = [rmse_norm, rmse_bl, rmse_knn, rmse_svd_basic, rmse_svd_gs, rmse_svd_gs2, rmse_svd_gs3, rmse_svd_pp]\n",
    "\n",
    "colors = ['blue', 'blue', 'blue', 'blue', 'blue', 'blue', 'green', 'blue']\n",
    "\n",
    "ax.bar(models, errors, color=colors)\n",
    "\n",
    "ax.set_ylabel('Error (RMSE)', fontsize=15)\n",
    "ax.set_xlabel('Models', fontsize=14)\n",
    "ax.set_title('Surprise Model Errors', fontsize=14);\n"
   ]
  },
  {
   "cell_type": "code",
   "execution_count": 260,
   "metadata": {
    "scrolled": false
   },
   "outputs": [
    {
     "data": {
      "image/png": "[encoded data removed]",
      "text/plain": [
       "<Figure size 720x432 with 1 Axes>"
      ]
     },
     "metadata": {},
     "output_type": "display_data"
    }
   ],
   "source": [
    "fig, ax = plt.subplots(figsize = (10,6))\n",
    "\n",
    "plt.style.use('fivethirtyeight')\n",
    "\n",
    "models = ['Normal', 'Baseline', 'KNN', 'SVD', 'SVD GS3', 'SVD++ GS']\n",
    "errors = [rmse_norm, rmse_bl, rmse_knn, rmse_svd_basic, rmse_svd_gs3, rmse_svd_pp]\n",
    "\n",
    "colors = ['blue', 'blue', 'blue', 'blue', 'green', 'blue']\n",
    "\n",
    "ax.bar(models, errors, color=colors)\n",
    "\n",
    "ax.set_ylabel('Error (RMSE)', fontsize=15)\n",
    "ax.set_xlabel('Models', fontsize=16)\n",
    "ax.set_title('Surprise Model Errors', fontsize=16);\n"
   ]
  },
  {
   "cell_type": "markdown",
   "metadata": {},
   "source": [
    "The third SVD model performed the best, based on the selected metric of RMSE. While the SVD++ model scored just as well as the SVD model, the long runtime of SVD++ made it a worse candidate for best performing model. "
   ]
  },
  {
   "cell_type": "markdown",
   "metadata": {},
   "source": [
    "## Making Predictions with Surprise"
   ]
  },
  {
   "cell_type": "markdown",
   "metadata": {},
   "source": [
    "After picking a final model, I made a full trainset from the full user dataset using build_full_trainset from surprise."
   ]
  },
  {
   "cell_type": "code",
   "execution_count": 182,
   "metadata": {},
   "outputs": [],
   "source": [
    "full_trainset = surprise_max.build_full_trainset()"
   ]
  },
  {
   "cell_type": "markdown",
   "metadata": {},
   "source": [
    "The best performing model was the third SVD model."
   ]
  },
  {
   "cell_type": "markdown",
   "metadata": {},
   "source": [
    "The model was fit to the whole dataset/full trainset."
   ]
  },
  {
   "cell_type": "code",
   "execution_count": 183,
   "metadata": {},
   "outputs": [],
   "source": [
    "algo = svd_gs3"
   ]
  },
  {
   "cell_type": "code",
   "execution_count": 184,
   "metadata": {},
   "outputs": [
    {
     "data": {
      "text/plain": [
       "<surprise.prediction_algorithms.matrix_factorization.SVD at 0x2b6091af400>"
      ]
     },
     "execution_count": 184,
     "metadata": {},
     "output_type": "execute_result"
    }
   ],
   "source": [
    "#fit to the whole dataset\n",
    "algo.fit(full_trainset)"
   ]
  },
  {
   "cell_type": "markdown",
   "metadata": {},
   "source": [
    "The model was saved and stored under the models folder in the local repository."
   ]
  },
  {
   "cell_type": "code",
   "execution_count": 185,
   "metadata": {},
   "outputs": [],
   "source": [
    "pickle.dump(algo, open('models/collab_rec.sav', 'wb'))"
   ]
  },
  {
   "cell_type": "markdown",
   "metadata": {},
   "source": [
    "The object that the model made predictions on is an anti_testset object from surprise. This contains all pairs of users and items that are not in the training set; for each user, this is the games that the user has not played before."
   ]
  },
  {
   "cell_type": "code",
   "execution_count": 186,
   "metadata": {},
   "outputs": [],
   "source": [
    "anti_testset = full_trainset.build_anti_testset()"
   ]
  },
  {
   "cell_type": "code",
   "execution_count": 187,
   "metadata": {},
   "outputs": [],
   "source": [
    "#get predicted ratings on the anti testset\n",
    "predicted_ratings = algo.test(anti_testset)"
   ]
  },
  {
   "cell_type": "code",
   "execution_count": 188,
   "metadata": {},
   "outputs": [
    {
     "data": {
      "text/plain": [
       "[Prediction(uid='76561198199900595', iid=34330, r_ui=0.17239818247225747, est=0.08054019880615025, details={'was_impossible': False}),\n",
       " Prediction(uid='76561198199900595', iid=34030, r_ui=0.17239818247225747, est=0.2381481617539076, details={'was_impossible': False}),\n",
       " Prediction(uid='76561198199900595', iid=236390, r_ui=0.17239818247225747, est=0.04707478819989764, details={'was_impossible': False}),\n",
       " Prediction(uid='76561198199900595', iid=223750, r_ui=0.17239818247225747, est=0.044546189901604465, details={'was_impossible': False}),\n",
       " Prediction(uid='76561198199900595', iid=214950, r_ui=0.17239818247225747, est=0.17164564113501846, details={'was_impossible': False})]"
      ]
     },
     "execution_count": 188,
     "metadata": {},
     "output_type": "execute_result"
    }
   ],
   "source": [
    "predicted_ratings[:5]"
   ]
  },
  {
   "cell_type": "code",
   "execution_count": 189,
   "metadata": {},
   "outputs": [],
   "source": [
    "#store the ratings in a dictionary with user Steam ID as the key \n",
    "#values are tuples of (app id, predicted rating)\n",
    "def collab_recommendation_dict(predictions):\n",
    "    ratings_dict = {}\n",
    "    for uid, iid, true_r, est, _ in predictions:\n",
    "        if uid not in ratings_dict:\n",
    "            ratings_dict[uid] = []\n",
    "        ratings_dict[uid].append((iid, est))\n",
    "    return ratings_dict"
   ]
  },
  {
   "cell_type": "code",
   "execution_count": 190,
   "metadata": {},
   "outputs": [
    {
     "data": {
      "text/plain": [
       "1651"
      ]
     },
     "execution_count": 190,
     "metadata": {},
     "output_type": "execute_result"
    }
   ],
   "source": [
    "#sanity check: there should be 1,651 users\n",
    "rec_dict = collab_recommendation_dict(predicted_ratings)\n",
    "len(rec_dict)"
   ]
  },
  {
   "cell_type": "code",
   "execution_count": 191,
   "metadata": {},
   "outputs": [],
   "source": [
    "def user_input(ratings_dict):\n",
    "    '''\n",
    "    Asks user for Steam ID to get recommendations for, will continue to prompt user until valid ID is given\n",
    "    Arguments:\n",
    "        ratings_dict: dictioanry containing rating predictions\n",
    "    Returns: user's Steam ID \n",
    "    '''\n",
    "    user = input('Type the Steam ID of the user you would like recommendations for: ')\n",
    "    if user in ratings_dict:\n",
    "        return user\n",
    "    else:\n",
    "        print('Sorry, this user is not in the recommendation system.')\n",
    "        user = user_input(ratings_dict)"
   ]
  },
  {
   "cell_type": "code",
   "execution_count": 192,
   "metadata": {},
   "outputs": [
    {
     "name": "stdout",
     "output_type": "stream",
     "text": [
      "Type the Steam ID of the user you would like recommendations for: 76561199032907135\n"
     ]
    },
    {
     "data": {
      "text/plain": [
       "'76561199032907135'"
      ]
     },
     "execution_count": 192,
     "metadata": {},
     "output_type": "execute_result"
    }
   ],
   "source": [
    "#testing the ID input\n",
    "user_id = user_input(rec_dict)\n",
    "user_id"
   ]
  },
  {
   "cell_type": "code",
   "execution_count": 193,
   "metadata": {},
   "outputs": [],
   "source": [
    "def get_recommendations(user, ratings_dict, games_dict, n):\n",
    "    '''\n",
    "    Retrieves and sorts predictions based on rating in descending order\n",
    "    Arguments:\n",
    "        user: Steam ID of user\n",
    "        ratings_dict: dictionary containing rating predictions\n",
    "        games_dict: dictionary containing games and all playtimes for each game\n",
    "        n: number of ratings to return\n",
    "    Returns a list of tuples (app ID, rating)\n",
    "    '''\n",
    "    predictions = ratings_dict[user]\n",
    "    sorted_preds = sorted(predictions, key=lambda x:x[1], reverse=True)\n",
    "    n_preds = sorted_preds[:n]\n",
    "    return(n_preds)"
   ]
  },
  {
   "cell_type": "code",
   "execution_count": 194,
   "metadata": {},
   "outputs": [
    {
     "data": {
      "text/plain": [
       "[(254080, 0.790556284783498),\n",
       " (253960, 0.7665347989428306),\n",
       " (444490, 0.7500540380732066),\n",
       " (7530, 0.7492332339653583),\n",
       " (311860, 0.7437518989114004)]"
      ]
     },
     "execution_count": 194,
     "metadata": {},
     "output_type": "execute_result"
    }
   ],
   "source": [
    "#testing to see sorted ratings\n",
    "get_recommendations('76561199032907135', rec_dict, games_dict, 5)"
   ]
  },
  {
   "cell_type": "code",
   "execution_count": 195,
   "metadata": {},
   "outputs": [],
   "source": [
    "def collab_recommender(ratings_dict, owned_dict, games_dict, clean_df):\n",
    "    '''\n",
    "    Calls all collaborativer filtering recommender functions, organizes top recommendations into a dataframe\n",
    "    Arguments:\n",
    "        ratings_dict: dictionary containing rating predictions\n",
    "        owned_dict: dictionary with keys for each user and values is a dictionary containing playtimes for every game\n",
    "                    in that user's library\n",
    "        games_dict: dictionary containing game IDs as keys and all playtimes as values\n",
    "        clean_df: dataframe containing content labels, used in my content recommender\n",
    "    Returns:\n",
    "        a dataframe containing the name, ID, rating, owned status, and content labels(if available) for the top n \n",
    "        recommendations \n",
    "    '''\n",
    "    n = number_recs()\n",
    "    user = user_input(ratings_dict)\n",
    "    recommended = get_recommendations(user, ratings_dict, games_dict, n)\n",
    "    #set dataframe column names\n",
    "    cols = ['Name', 'App ID', 'Est. Rating', 'Owned', 'Content Labels']\n",
    "    #create empty dataframe\n",
    "    rec_df = pd.DataFrame(columns = cols)\n",
    "    print(f'Here are {n} recommendations for Steam ID {user}: \\n')\n",
    "    #set index for dataframe\n",
    "    i=1\n",
    "    for game in recommended:\n",
    "        #assign variables for the game's name, app ID, estimated rating, and owned status\n",
    "        game_name = games_dict[game[0]]['name']\n",
    "        rating = round(game[1],3)\n",
    "        owned = \"No\"\n",
    "        app_id = game[0]\n",
    "        #check appid to see if the game is already in the user library\n",
    "        if app_id in owned_dict[user]:\n",
    "            owned = \"Yes\"\n",
    "        #if the game is in the content based recommender dataset\n",
    "        if app_id in clean_df['App ID'].values:\n",
    "            #obtain content labels\n",
    "            game_labels = clean_df[clean_df['App ID']==app_id]['Content Labels'].values\n",
    "            labels_str = ''\n",
    "            #convert labels from a list to a single string\n",
    "            for idx in range(len(game_labels)):\n",
    "                if idx < len(game_labels) - 1:\n",
    "                    labels_str+=(game_labels[idx] + ', ')\n",
    "                else:\n",
    "                    labels_str+=(game_labels[idx])\n",
    "        #create a single row using saved variables\n",
    "        game_row = pd.DataFrame(data=[[game_name, app_id, rating, owned, labels_str]], index=[i], columns=cols)\n",
    "        #add the row to the recommendations dataframe\n",
    "        rec_df = rec_df.append(game_row)\n",
    "        #increment dataframe index\n",
    "        i+=1\n",
    "    return(rec_df)"
   ]
  },
  {
   "cell_type": "code",
   "execution_count": 196,
   "metadata": {
    "scrolled": false
   },
   "outputs": [
    {
     "name": "stdout",
     "output_type": "stream",
     "text": [
      "Number of recommendations? 5\n",
      "Type the Steam ID of the user you would like recommendations for: 76561199032907135\n",
      "Here are 5 recommendations for Steam ID 76561199032907135: \n",
      "\n"
     ]
    },
    {
     "data": {
      "text/html": [
       "<div>\n",
       "<style scoped>\n",
       "    .dataframe tbody tr th:only-of-type {\n",
       "        vertical-align: middle;\n",
       "    }\n",
       "\n",
       "    .dataframe tbody tr th {\n",
       "        vertical-align: top;\n",
       "    }\n",
       "\n",
       "    .dataframe thead th {\n",
       "        text-align: right;\n",
       "    }\n",
       "</style>\n",
       "<table border=\"1\" class=\"dataframe\">\n",
       "  <thead>\n",
       "    <tr style=\"text-align: right;\">\n",
       "      <th></th>\n",
       "      <th>Name</th>\n",
       "      <th>App ID</th>\n",
       "      <th>Est. Rating</th>\n",
       "      <th>Owned</th>\n",
       "      <th>Content Labels</th>\n",
       "    </tr>\n",
       "  </thead>\n",
       "  <tbody>\n",
       "    <tr>\n",
       "      <th>1</th>\n",
       "      <td>World War III: Black Gold</td>\n",
       "      <td>254080</td>\n",
       "      <td>0.791</td>\n",
       "      <td>No</td>\n",
       "      <td>Cross-Platform Multiplayer, Includes level editor, Multi-player, Online Co-op, Online Multi-Player, RTS, Single-player, Steam Cloud, Strategy, War</td>\n",
       "    </tr>\n",
       "    <tr>\n",
       "      <th>2</th>\n",
       "      <td>Jack Orlando Director's Cut</td>\n",
       "      <td>253960</td>\n",
       "      <td>0.767</td>\n",
       "      <td>No</td>\n",
       "      <td>Adventure, Noir, Point &amp; Click, Single-player</td>\n",
       "    </tr>\n",
       "    <tr>\n",
       "      <th>3</th>\n",
       "      <td>POLYWAR</td>\n",
       "      <td>444490</td>\n",
       "      <td>0.750</td>\n",
       "      <td>No</td>\n",
       "      <td>Action, Indie, Massively Multiplayer, Online Multi-Player</td>\n",
       "    </tr>\n",
       "    <tr>\n",
       "      <th>4</th>\n",
       "      <td>Two Worlds II Castle Defense</td>\n",
       "      <td>7530</td>\n",
       "      <td>0.749</td>\n",
       "      <td>No</td>\n",
       "      <td>Fantasy, Single-player, Steam Cloud, Strategy, Tower Defense</td>\n",
       "    </tr>\n",
       "    <tr>\n",
       "      <th>5</th>\n",
       "      <td>Data Hacker: Initiation</td>\n",
       "      <td>311860</td>\n",
       "      <td>0.744</td>\n",
       "      <td>No</td>\n",
       "      <td>Adventure, Indie, RPG, Simulation, Single-player</td>\n",
       "    </tr>\n",
       "  </tbody>\n",
       "</table>\n",
       "</div>"
      ],
      "text/plain": [
       "                           Name  App ID  Est. Rating Owned  \\\n",
       "1     World War III: Black Gold  254080        0.791    No   \n",
       "2   Jack Orlando Director's Cut  253960        0.767    No   \n",
       "3                       POLYWAR  444490        0.750    No   \n",
       "4  Two Worlds II Castle Defense    7530        0.749    No   \n",
       "5       Data Hacker: Initiation  311860        0.744    No   \n",
       "\n",
       "                                                                                                                                       Content Labels  \n",
       "1  Cross-Platform Multiplayer, Includes level editor, Multi-player, Online Co-op, Online Multi-Player, RTS, Single-player, Steam Cloud, Strategy, War  \n",
       "2                                                                                                       Adventure, Noir, Point & Click, Single-player  \n",
       "3                                                                                           Action, Indie, Massively Multiplayer, Online Multi-Player  \n",
       "4                                                                                        Fantasy, Single-player, Steam Cloud, Strategy, Tower Defense  \n",
       "5                                                                                                    Adventure, Indie, RPG, Simulation, Single-player  "
      ]
     },
     "execution_count": 196,
     "metadata": {},
     "output_type": "execute_result"
    }
   ],
   "source": [
    "collab_recommender(rec_dict, owned_dict, games_dict, clean_df)"
   ]
  },
  {
   "cell_type": "code",
   "execution_count": 197,
   "metadata": {},
   "outputs": [
    {
     "data": {
      "text/plain": [
       "'76561198199900595'"
      ]
     },
     "execution_count": 197,
     "metadata": {},
     "output_type": "execute_result"
    }
   ],
   "source": [
    "first_user"
   ]
  },
  {
   "cell_type": "code",
   "execution_count": 198,
   "metadata": {},
   "outputs": [
    {
     "name": "stdout",
     "output_type": "stream",
     "text": [
      "Number of recommendations? 5\n",
      "Type the Steam ID of the user you would like recommendations for: 76561198199900595\n",
      "Here are 5 recommendations for Steam ID 76561198199900595: \n",
      "\n"
     ]
    },
    {
     "data": {
      "text/html": [
       "<div>\n",
       "<style scoped>\n",
       "    .dataframe tbody tr th:only-of-type {\n",
       "        vertical-align: middle;\n",
       "    }\n",
       "\n",
       "    .dataframe tbody tr th {\n",
       "        vertical-align: top;\n",
       "    }\n",
       "\n",
       "    .dataframe thead th {\n",
       "        text-align: right;\n",
       "    }\n",
       "</style>\n",
       "<table border=\"1\" class=\"dataframe\">\n",
       "  <thead>\n",
       "    <tr style=\"text-align: right;\">\n",
       "      <th></th>\n",
       "      <th>Name</th>\n",
       "      <th>App ID</th>\n",
       "      <th>Est. Rating</th>\n",
       "      <th>Owned</th>\n",
       "      <th>Content Labels</th>\n",
       "    </tr>\n",
       "  </thead>\n",
       "  <tbody>\n",
       "    <tr>\n",
       "      <th>1</th>\n",
       "      <td>World War III: Black Gold</td>\n",
       "      <td>254080</td>\n",
       "      <td>0.685</td>\n",
       "      <td>No</td>\n",
       "      <td>Cross-Platform Multiplayer, Includes level editor, Multi-player, Online Co-op, Online Multi-Player, RTS, Single-player, Steam Cloud, Strategy, War</td>\n",
       "    </tr>\n",
       "    <tr>\n",
       "      <th>2</th>\n",
       "      <td>Jack Orlando Director's Cut</td>\n",
       "      <td>253960</td>\n",
       "      <td>0.660</td>\n",
       "      <td>No</td>\n",
       "      <td>Adventure, Noir, Point &amp; Click, Single-player</td>\n",
       "    </tr>\n",
       "    <tr>\n",
       "      <th>3</th>\n",
       "      <td>POLYWAR</td>\n",
       "      <td>444490</td>\n",
       "      <td>0.643</td>\n",
       "      <td>No</td>\n",
       "      <td>Action, Indie, Massively Multiplayer, Online Multi-Player</td>\n",
       "    </tr>\n",
       "    <tr>\n",
       "      <th>4</th>\n",
       "      <td>Two Worlds II Castle Defense</td>\n",
       "      <td>7530</td>\n",
       "      <td>0.643</td>\n",
       "      <td>No</td>\n",
       "      <td>Fantasy, Single-player, Steam Cloud, Strategy, Tower Defense</td>\n",
       "    </tr>\n",
       "    <tr>\n",
       "      <th>5</th>\n",
       "      <td>Data Hacker: Initiation</td>\n",
       "      <td>311860</td>\n",
       "      <td>0.638</td>\n",
       "      <td>No</td>\n",
       "      <td>Adventure, Indie, RPG, Simulation, Single-player</td>\n",
       "    </tr>\n",
       "  </tbody>\n",
       "</table>\n",
       "</div>"
      ],
      "text/plain": [
       "                           Name  App ID  Est. Rating Owned  \\\n",
       "1     World War III: Black Gold  254080        0.685    No   \n",
       "2   Jack Orlando Director's Cut  253960        0.660    No   \n",
       "3                       POLYWAR  444490        0.643    No   \n",
       "4  Two Worlds II Castle Defense    7530        0.643    No   \n",
       "5       Data Hacker: Initiation  311860        0.638    No   \n",
       "\n",
       "                                                                                                                                       Content Labels  \n",
       "1  Cross-Platform Multiplayer, Includes level editor, Multi-player, Online Co-op, Online Multi-Player, RTS, Single-player, Steam Cloud, Strategy, War  \n",
       "2                                                                                                       Adventure, Noir, Point & Click, Single-player  \n",
       "3                                                                                           Action, Indie, Massively Multiplayer, Online Multi-Player  \n",
       "4                                                                                        Fantasy, Single-player, Steam Cloud, Strategy, Tower Defense  \n",
       "5                                                                                                    Adventure, Indie, RPG, Simulation, Single-player  "
      ]
     },
     "execution_count": 198,
     "metadata": {},
     "output_type": "execute_result"
    }
   ],
   "source": [
    "collab_recommender(rec_dict, owned_dict, games_dict, clean_df)"
   ]
  },
  {
   "cell_type": "markdown",
   "metadata": {},
   "source": [
    "### Evaluation: Collaborative Filtering Model"
   ]
  },
  {
   "cell_type": "markdown",
   "metadata": {},
   "source": [
    "The final SVD model predicted ratings for every game that a user has not played. Those ratings could be translated into minutes by multiplying each rating by the maximum playtime for a given game. Based on these standardized playimes, the recommender returned the top recommended games. The model had a RMSE of 0.22, meaning its predictions were off by an average of 0.22 on the scale from 0 to 1.\n",
    "\n",
    "This model relies on the assumption that more playtime by a user (relative to other users) is indicative of the player's engagement with that game. One scenario where this intepretation is problematic is when a user has started a new game. For a user who is enjoying a new game but hasn't logged many minutes on it, the model will assume their low playtime is indicative of low engagement and account for that low rating in the recommendations. Since user playtimes are always changing, this model would need to be trained frequently to provide up-to-date recommendations.\n",
    "\n",
    "One glaring issue with this model was that the same games were being recommended even for different users. This occurred too frequently to be a matter of chance. The playtime weighting implemented seemed to be biasing the recommender towards these games. A step to improve recommendations would be to test models using a different scaling for playtime. "
   ]
  },
  {
   "cell_type": "markdown",
   "metadata": {},
   "source": [
    "# Conclusion"
   ]
  },
  {
   "cell_type": "markdown",
   "metadata": {},
   "source": [
    "I created recommenders for Steam using two approaches. The first was a content-based approach, comparing games to one another and using content labels to recommend the most similar games. The second was a collaborative filtering approach, comparing user profiles to identify users with similar playtimes and recommending games with the highest predicted rating. \n",
    "\n",
    "**Content-based Recommender**\n",
    "\n",
    "The content-based recommender defined a game's content by its labels - an agglomeration of categories, genres, and tags from its Steam Store listing. The system was highly dependent on user-voted tags which greatly outnumbered the categories and genres. These labels were encoded into binary features to translate games into a multi-dimensional vectors. Cosine similarity was used to compare vectors against a user-suggested game and return the closest games as recommendations.  \n",
    "\n",
    "In general, the recommender was limited by the labels available in the data. More data about game content would help improve recommendations by extracting the details of how a game plays and what topics it covers. One method of engineering more of these descriptive features is to use natural language processing (NLP) to skim game descriptions or reviews. By pulling out key phrases that players and developers use to describe the game, NLP could provide additional features to better categorize games. Extracting information from game descriptions could provide additional information on how developers or Steam describe a game's contents. Review language would be an additional source of player definition of what a game is about. \n",
    "\n",
    "A content-based recommendation system allows anybody to look for recommendations. The person does not have to be a Steam user. This approach can be used to help new Steam users who have not yet purchased many PC games. The binary encoding of labels can accomodate the influx of additional data to refine the way the recommender determines game content. \n",
    "\n",
    "It is difficult to assess a content-based recommendation system without user feedback. The recommender has no target and cannot judge by itself if its recommendations are a good fit. Deployment of this model on an app such as Streamlit is one method for me to get feedback from users. \n",
    "\n",
    "\n",
    "**Collaborative-filtering Recommender**\n",
    "\n",
    "Collaborative-filtering recommenders can utilize player's explicit ratings to compare users and return recommendations based on player similarity. However, Steam's review system does not have a robust scale due to its binary Recommended/Not Recommended ratings. Additionally, a collaborative recommender that uses reviews would only work for users who have rated items before. As a Steam user who does not leave product reviews, I wanted to use playtime as a stand-in for ratings in order to create a collaborative-filtering model. \n",
    "\n",
    "The amount of time that player spends on a game could be a reflection of how much enjoyment they derive from playing. Therefore, higher playtimes can reflect a positive rating for a game. Since games are not designed to be equally played for the same length of time, my model scaked playtime by the maximum playtime of a game to prevent inflation of ratings for longer games. The trained SVD model compared user playtime profiles and produced estimated playtimes based on latent features in the data. Unfortunately, the approach used to scale playtime seemed to bias the model's recommendations towards a particular set of games. More investigation would have to be done to see user and playtime information about those games to address the issue.\n",
    "\n",
    "Playtime is a dynamic measure. As such, collaborative-filtering recommendations based on playtime need to be updated and re-trained frequently in order to maintain recommendation quality. The size of the user base and the algorithm used can lead to a computational problem. This was seen with the long training and fit times of the SVD++ model. \n",
    "\n",
    "A user must have playtime logged on Steam in order to use this collaborative-filtering model. My model cannot make any predictions for users that were not in the dataset. However, this 'cold-start' problem can be addressed with the use of my content-based approach where new users can build up their library with content-based recommendations until they have accrued enough playtime. Since players have to log in through Steam to access their games, Steam can readily gather playtime data to maintain a robust collaborative recommender. \n",
    "\n",
    "**Final Thoughts**\n",
    "\n",
    "The PC game market continues to expand with more platforms offering competition to the Steam storefront. Quality PC game recommendations encourage Steam users to discover new products and provide increase sales for both Steam and game developers. While a single recommender approach will have drawbacks, a content-based system and collaborative-filtering system can work together to provide options that are sure to keep users playing."
   ]
  }
 ],
 "metadata": {
  "kernelspec": {
   "display_name": "Python (learn-env)",
   "language": "python",
   "name": "learn-env"
  },
  "language_info": {
   "codemirror_mode": {
    "name": "ipython",
    "version": 3
   },
   "file_extension": ".py",
   "mimetype": "text/x-python",
   "name": "python",
   "nbconvert_exporter": "python",
   "pygments_lexer": "ipython3",
   "version": "3.8.5"
  }
 },
 "nbformat": 4,
 "nbformat_minor": 4
}
