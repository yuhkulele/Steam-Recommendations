{
 "cells": [
  {
   "cell_type": "markdown",
   "metadata": {},
   "source": [
    "# Steam Recommendations"
   ]
  },
  {
   "cell_type": "markdown",
   "metadata": {},
   "source": [
    "## Overview"
   ]
  },
  {
   "cell_type": "markdown",
   "metadata": {},
   "source": [
    "## Business Understanding"
   ]
  },
  {
   "cell_type": "markdown",
   "metadata": {},
   "source": [
    "Steam is a video game storefront and distribution platform. Steam is the largest and most popular digital store for PC games. "
   ]
  },
  {
   "cell_type": "markdown",
   "metadata": {},
   "source": [
    "## Data Understanding"
   ]
  },
  {
   "cell_type": "markdown",
   "metadata": {},
   "source": [
    "### Steam Store Games  - Kaggle Dataset"
   ]
  },
  {
   "cell_type": "markdown",
   "metadata": {},
   "source": [
    "I used a dataset from Kaggle containing information on video game categories and genres. The dataset can be found [here](https://www.kaggle.com/datasets/nikdavis/steam-store-games?select=steamspy_tag_data.csv).\n",
    "\n",
    "The author documented their process of data collection via Steam Web API calls and SteamSpy API calls. This [link](https://nik-davis.github.io/posts/2019/steam-data-collection/) goes into how the data was collected and cleaned.\n",
    "\n",
    "I stored the data under a separate folder within my local repository. "
   ]
  },
  {
   "cell_type": "code",
   "execution_count": 3,
   "metadata": {},
   "outputs": [],
   "source": [
    "#import statements\n",
    "import numpy as np\n",
    "import pandas as pd\n",
    "import json\n",
    "import requests\n",
    "\n",
    "from sklearn.compose import ColumnTransformer\n",
    "from sklearn.metrics.pairwise import cosine_similarity\n",
    "from sklearn.preprocessing import OneHotEncoder, MultiLabelBinarizer"
   ]
  },
  {
   "cell_type": "code",
   "execution_count": 4,
   "metadata": {},
   "outputs": [],
   "source": [
    "steam_df = pd.read_csv('./data/Steam_store_data/steam.csv')"
   ]
  },
  {
   "cell_type": "code",
   "execution_count": 5,
   "metadata": {},
   "outputs": [
    {
     "name": "stdout",
     "output_type": "stream",
     "text": [
      "<class 'pandas.core.frame.DataFrame'>\n",
      "RangeIndex: 27075 entries, 0 to 27074\n",
      "Data columns (total 18 columns):\n",
      " #   Column            Non-Null Count  Dtype  \n",
      "---  ------            --------------  -----  \n",
      " 0   appid             27075 non-null  int64  \n",
      " 1   name              27075 non-null  object \n",
      " 2   release_date      27075 non-null  object \n",
      " 3   english           27075 non-null  int64  \n",
      " 4   developer         27075 non-null  object \n",
      " 5   publisher         27075 non-null  object \n",
      " 6   platforms         27075 non-null  object \n",
      " 7   required_age      27075 non-null  int64  \n",
      " 8   categories        27075 non-null  object \n",
      " 9   genres            27075 non-null  object \n",
      " 10  steamspy_tags     27075 non-null  object \n",
      " 11  achievements      27075 non-null  int64  \n",
      " 12  positive_ratings  27075 non-null  int64  \n",
      " 13  negative_ratings  27075 non-null  int64  \n",
      " 14  average_playtime  27075 non-null  int64  \n",
      " 15  median_playtime   27075 non-null  int64  \n",
      " 16  owners            27075 non-null  object \n",
      " 17  price             27075 non-null  float64\n",
      "dtypes: float64(1), int64(8), object(9)\n",
      "memory usage: 3.7+ MB\n"
     ]
    }
   ],
   "source": [
    "steam_df.info()"
   ]
  },
  {
   "cell_type": "markdown",
   "metadata": {},
   "source": [
    "Here are brief descriptions for each column:\n",
    "* appid : Unique identifier for each game on Steam\n",
    "* name : title of app(game)\n",
    "* release_date : release date in YYYY-MM-DD formate\n",
    "* english : 1 if game is in English, otherwise 0\n",
    "* developer : name(s) of developer(s), delimited by semicolon if multiple devs\n",
    "* publisher : name(s) of publisher(s), delimited by semicolon if multiple publishers\n",
    "* platforms : supported platforms (includes Windows, Mac, and Linux), delimited by semicolon\n",
    "* required_age : minimum required age based on PEGI UK ratings, 0 denotes unrated or unsupplied\n",
    "* categories : game categories, delimited by semicolon\n",
    "* genres: game genres, delimited by semicolon\n",
    "* steamspy_tags: community voted tags, delimited by semicolon\n",
    "* achievements : number of in-game achievements\n",
    "* positive_ratings : number of positive ratings (from SteamSpy)\n",
    "* negative_ratings : number of negative ratings (from SteamSpy)\n",
    "* average_playtime : average user playtime in minutes (from SteamSpy)\n",
    "* median_playtime : median user playtime in minutes (from SteamSpy)\n",
    "* owners: estimated number of owners given as a range\n",
    "* price : full price of title in GBP"
   ]
  },
  {
   "cell_type": "markdown",
   "metadata": {},
   "source": [
    "There was some overlap between categories, genres, and steamspy_tags. For example, 'Action' showed up in both genre and as a tag while 'Multi-player' showed up with different spelling in categories and tags."
   ]
  },
  {
   "cell_type": "markdown",
   "metadata": {},
   "source": [
    "### Steam User Libraries - Steam Web API"
   ]
  },
  {
   "cell_type": "markdown",
   "metadata": {},
   "source": [
    "I used Steam's Web API service to collect information on users and their personal libraries of games. You need to have a Steam Account in order to request a Web API key. "
   ]
  },
  {
   "cell_type": "markdown",
   "metadata": {},
   "source": [
    "[Here](https://steamcommunity.com/dev) is a general overview of how to access Steam's Web API. This [link](https://developer.valvesoftware.com/wiki/Steam_Web_API) has more documentation on different types of API calls and what kinds of information is available."
   ]
  },
  {
   "cell_type": "markdown",
   "metadata": {},
   "source": [
    "I saved my API key under a text file in my local repository."
   ]
  },
  {
   "cell_type": "markdown",
   "metadata": {},
   "source": [
    "## Modeling"
   ]
  },
  {
   "cell_type": "markdown",
   "metadata": {},
   "source": [
    "I made a content-based recommendation system using categories, genres, and tags as the main indicators of game content."
   ]
  },
  {
   "cell_type": "markdown",
   "metadata": {},
   "source": [
    "In this notebook, I'll use the term 'label' as a collective term for category, genre, and tag. "
   ]
  },
  {
   "cell_type": "markdown",
   "metadata": {},
   "source": [
    "I assigned each game a value of 0 or 1 for each label: 0 if that label was not present for that game, and 1 if that label was present. This created a matrix containing encoded features for each game based on their content labels. "
   ]
  },
  {
   "cell_type": "markdown",
   "metadata": {},
   "source": [
    "### Simple Content-based Recommender"
   ]
  },
  {
   "cell_type": "code",
   "execution_count": 6,
   "metadata": {},
   "outputs": [],
   "source": [
    "def simple_recommender(game, content_matrix, df, n):\n",
    "    '''\n",
    "    '''\n",
    "    #get the index of the game from the games info dataframe\n",
    "    game_idx = df[df['name'] == game].index\n",
    "    #get the features for the game from the content matrix\n",
    "    game_features = content_matrix.loc[game_idx]\n",
    "    #drop the game from the content matrix\n",
    "    other_games_df = content_matrix.drop(game_idx, axis=0)\n",
    "    #compute cosine similarity with sklearn\n",
    "    cos_sim = cosine_similarity(game_features, other_games_df)\n",
    "    #transform array of cos_sims into dataframe\n",
    "    cos_sim_df = pd.DataFrame(cos_sim, index=game_idx, \n",
    "                              columns=other_games_df.index).T\n",
    "    cos_sim_df.sort_values(by=[game_idx[0]], ascending=False, inplace=True)\n",
    "    top_matches = cos_sim_df.iloc[:n]\n",
    "    print(top_matches)\n",
    "    #get the index for each recommended game\n",
    "    top_idx = top_matches.index\n",
    "    #refer to full games info matrix to return info for recommended games\n",
    "    rec_df = df.loc[top_idx]\n",
    "    return rec_df"
   ]
  },
  {
   "cell_type": "markdown",
   "metadata": {},
   "source": [
    "My next steps for this content-based recommender were to:\n",
    "\n",
    "* Prompt the user for input (e.g. game name, number of recommendations, any filters)\n",
    "* Organize the output and return key information in a user-friendly format"
   ]
  },
  {
   "cell_type": "markdown",
   "metadata": {},
   "source": [
    "### Content-based Recommender with User Input"
   ]
  },
  {
   "cell_type": "code",
   "execution_count": 9,
   "metadata": {},
   "outputs": [],
   "source": [
    "def game_input(df):\n",
    "    game = input('Please type the name of the game you would like recommendations for: ')\n",
    "    if type(game) is str:\n",
    "        game_idx = df[df['name'] == game].index\n",
    "    if len(game_idx) == 0:\n",
    "        return('Sorry, recommendations are not available for this game!')\n",
    "    game_name = df.loc[game_idx]['name'].values[0]\n",
    "    game_id = df.loc[game_idx]['appid'].values[0]\n",
    "    print(f'Looking for recommendations for {game_name} (app id {game_id}):')\n",
    "    return game_idx"
   ]
  },
  {
   "cell_type": "code",
   "execution_count": null,
   "metadata": {},
   "outputs": [],
   "source": []
  },
  {
   "cell_type": "code",
   "execution_count": null,
   "metadata": {},
   "outputs": [],
   "source": [
    "def content_recommender(game, content_matrix, df):\n",
    "    '''\n",
    "    '''\n",
    "    #get the index of the game from the games info dataframe\n",
    "    game_idx = df[df['name'] == game].index\n",
    "    #get the features for the game from the content matrix\n",
    "    game_features = content_matrix.loc[game_idx]\n",
    "    #drop the game from the content matrix\n",
    "    other_games_df = content_matrix.drop(game_idx, axis=0)\n",
    "    #compute cosine similarity with sklearn\n",
    "    cos_sim = cosine_similarity(game_features, other_games_df)\n",
    "    #transform array of cos_sims into dataframe\n",
    "    cos_sim_df = pd.DataFrame(cos_sim, index=game_idx, \n",
    "                              columns=other_games_df.index).T\n",
    "    cos_sim_df.sort_values(by=[game_idx[0]], ascending=False, inplace=True)\n",
    "    top_matches = cos_sim_df.iloc[:n]\n",
    "    print(top_matches)\n",
    "    #get the index for each recommended game\n",
    "    top_idx = top_matches.index\n",
    "    #refer to full games info matrix to return info for recommended games\n",
    "    rec_df = df.loc[top_idx]\n",
    "    return rec_df"
   ]
  },
  {
   "cell_type": "markdown",
   "metadata": {},
   "source": [
    "## Results"
   ]
  },
  {
   "cell_type": "markdown",
   "metadata": {},
   "source": [
    "## Conclusions"
   ]
  },
  {
   "cell_type": "code",
   "execution_count": null,
   "metadata": {},
   "outputs": [],
   "source": []
  }
 ],
 "metadata": {
  "kernelspec": {
   "display_name": "Python (learn-env)",
   "language": "python",
   "name": "learn-env"
  },
  "language_info": {
   "codemirror_mode": {
    "name": "ipython",
    "version": 3
   },
   "file_extension": ".py",
   "mimetype": "text/x-python",
   "name": "python",
   "nbconvert_exporter": "python",
   "pygments_lexer": "ipython3",
   "version": "3.8.5"
  }
 },
 "nbformat": 4,
 "nbformat_minor": 4
}
